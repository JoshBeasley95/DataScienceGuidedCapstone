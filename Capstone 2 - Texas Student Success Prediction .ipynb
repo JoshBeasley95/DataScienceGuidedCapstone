{
 "cells": [
  {
   "cell_type": "markdown",
   "id": "9ec5750a",
   "metadata": {},
   "source": [
    "## Table of Contents  "
   ]
  },
  {
   "cell_type": "markdown",
   "id": "a8ed12f5",
   "metadata": {},
   "source": [
    "## Introduction<a id='2.2_Introduction'></a>"
   ]
  },
  {
   "cell_type": "markdown",
   "id": "d5fc9d5b",
   "metadata": {},
   "source": [
    "### Problem: <a id='2.2.1_Recap_Of_Data_Science_Problem'></a>"
   ]
  },
  {
   "cell_type": "markdown",
   "id": "590b6bf4",
   "metadata": {},
   "source": [
    "Educational inequities persist across various school districts in Texas, potentially impacting student academic performance and long-term success. Despite the state's efforts to allocate funding based on Average Daily Attendance (ADA), disparities in student attendance and the consequent variation in funding raise concerns about the adequacy of resources available to each student. The core issue is whether the differences in funding, when adjusted for actual attendance versus enrollment, correlate with academic outcomes and whether this could be a contributing factor to the educational inequities lurking beneath the surface of Texas' complex system. "
   ]
  },
  {
   "cell_type": "markdown",
   "id": "9839ae5d",
   "metadata": {},
   "source": [
    "### Project: <a id='2.2.1_Recap_Of_Data_Science_Problem'></a>"
   ]
  },
  {
   "cell_type": "markdown",
   "id": "340bc291",
   "metadata": {},
   "source": [
    "This data science project aims to examine the relationship between various educational variables -- school district funding in particular -- and student academic performance in Texas. By leveraging detailed financial, attendance, and academic data from the Texas Education Agency (TEA), the project seeks to identify patterns and correlations that could inform policy decisions and interventions aimed at reducing educational disparities. The hypothesis under investigation posits that higher levels of funding, particularly when accounting for attendance discrepancies, are associated with enhanced student performance."
   ]
  },
  {
   "cell_type": "markdown",
   "id": "0b3de937",
   "metadata": {},
   "source": [
    "### Clients: <a id='2.2.1_Recap_Of_Data_Science_Problem'></a>"
   ]
  },
  {
   "cell_type": "markdown",
   "id": "6d16b2b2",
   "metadata": {},
   "source": [
    "The findings of this study will be of interest to a broad range of stakeholders, including educational policymakers, school district administrators, teachers, parents, and students. It will particularly benefit decision-makers within the TEA and local educational authorities who are responsible for allocating resources and designing strategies to improve educational equity and outcomes across Texas."
   ]
  },
  {
   "cell_type": "markdown",
   "id": "c233c126",
   "metadata": {},
   "source": [
    "### Data: <a id='2.2.1_Recap_Of_Data_Science_Problem'></a>"
   ]
  },
  {
   "cell_type": "markdown",
   "id": "25ead583",
   "metadata": {},
   "source": [
    "The datasets for this project are drawn from a few sources such as the U.S. Census Bureau and WalletHub, but they're primarily sourced from the TEA. The TEA provides comprehensive records on school district funding, student attendance rates, and various academic performance indicators. The data will be gathered and analyzed on a per-school district basis. The analysis will incorporate several features, including but not limited to, the level of funding per student, attendance rates, curriculum quality, and student-to-teacher ratios. Each feature will be carefully selected and processed to ensure the integrity and validity of the analysis. The primary goal is to develop a predictive model that accurately reflects the complex dynamics between school district funding and student success while highlighting any significant disparities that warrant attention.\n",
    "\n",
    "\n",
    "**Texas Education Agency (TEA):** \n",
    "* 4-Yr HS Graduation Rates: https://tea.texas.gov/reports-and-data/school-performance/accountability-research/completion-graduation-and-dropout/four-year-graduation-and-dropout-data-class-of-2022 \n",
    "* SAT-ACT Data: https://tea.texas.gov/reports-and-data/school-performance/accountability-research/satact/sat-and-act-data-class-of-2022 \n",
    "* District Funding Totals: https://tea.texas.gov/finance-and-grants/state-funding/state-funding-reports-and-data/peims-financial-data-downloads \n",
    "* District Property Values: https://tea.texas.gov/finance-and-grants/state-funding/state-funding-reports-and-data/peims-financial-standard-reports \n",
    "* AP-IB Scores & Participation: https://tea.texas.gov/reports-and-data/school-performance/accountability-research/apib/advanced-placement-and-international-baccalaureate-data-2021-22 \n",
    "* Teacher Count and Avg Salary: https://rptsvr1.tea.texas.gov/adhocrpt/adpeb.html \n",
    "* Average Daily Attendance (ADA): https://rptsvr1.tea.texas.gov/adhocrpt/adpeb.html \n",
    "\n",
    "\n",
    "**U.S. Census Bureau:**\n",
    "* Kids in Poverty by District: https://www.census.gov/data/datasets/2022/demo/saipe/2022-school-districts.html \n",
    "\n",
    "\n",
    "**WalletHub:**\n",
    "* Median Incomes per District: https://wallethub.com/edu/e/most-least-equitable-school-districts-in-texas/77134 \n"
   ]
  },
  {
   "cell_type": "markdown",
   "id": "459cc1a8",
   "metadata": {},
   "source": [
    "## 1. Data Wrangling"
   ]
  },
  {
   "cell_type": "markdown",
   "id": "995fd3b9",
   "metadata": {},
   "source": [
    "### Imports: <a id='2.2.1_Recap_Of_Data_Science_Problem'></a>"
   ]
  },
  {
   "cell_type": "code",
   "execution_count": 201,
   "id": "4fea6a09",
   "metadata": {},
   "outputs": [],
   "source": [
    "import pandas as pd\n",
    "import numpy as np\n",
    "import os\n",
    "import pickle\n",
    "import matplotlib.pyplot as plt\n",
    "import matplotlib.ticker as ticker\n",
    "import seaborn as sns\n",
    "from sklearn import __version__ as sklearn_version\n",
    "from sklearn.decomposition import PCA\n",
    "from sklearn.preprocessing import scale\n",
    "from sklearn.model_selection import train_test_split, cross_validate, GridSearchCV, learning_curve\n",
    "from sklearn.preprocessing import StandardScaler, MinMaxScaler\n",
    "from sklearn.dummy import DummyRegressor\n",
    "from sklearn.linear_model import LinearRegression\n",
    "from sklearn.ensemble import RandomForestRegressor\n",
    "from sklearn.metrics import r2_score, mean_squared_error, mean_absolute_error\n",
    "from sklearn.pipeline import make_pipeline\n",
    "from sklearn.impute import SimpleImputer\n",
    "from sklearn.feature_selection import SelectKBest, f_regression\n",
    "import datetime"
   ]
  },
  {
   "cell_type": "markdown",
   "id": "735b2df9",
   "metadata": {},
   "source": [
    "### Objectives: <a id='2.2.1_Recap_Of_Data_Science_Problem'></a>"
   ]
  },
  {
   "cell_type": "markdown",
   "id": "ad7eaec8",
   "metadata": {},
   "source": [
    "There are some fundamental questions to resolve: \n",
    "\n",
    "* What data is required to tackle this project? \n",
    "    * Required target value\n",
    "    * Potentially useful features\n",
    "* Do we have any fundamental issues with the data?"
   ]
  },
  {
   "cell_type": "markdown",
   "id": "109342c6",
   "metadata": {},
   "source": [
    "### Load the Data: <a id='2.2.1_Recap_Of_Data_Science_Problem'></a>"
   ]
  },
  {
   "cell_type": "markdown",
   "id": "d53eefa4",
   "metadata": {},
   "source": [
    "To begin, we import all nine Excel files using the read_excel function from the pandas package. We then conduct a preliminary scan of the data. Each dataset varies considerably in their number of columns and rows. We're interested in a current snapshot of the educational landscape, so we'll analyze one-year data for 2022 since this is the most recent data available across datasets. "
   ]
  },
  {
   "cell_type": "code",
   "execution_count": 202,
   "id": "ef2a850e",
   "metadata": {},
   "outputs": [
    {
     "data": {
      "text/html": [
       "<div>\n",
       "<style scoped>\n",
       "    .dataframe tbody tr th:only-of-type {\n",
       "        vertical-align: middle;\n",
       "    }\n",
       "\n",
       "    .dataframe tbody tr th {\n",
       "        vertical-align: top;\n",
       "    }\n",
       "\n",
       "    .dataframe thead th {\n",
       "        text-align: right;\n",
       "    }\n",
       "</style>\n",
       "<table border=\"1\" class=\"dataframe\">\n",
       "  <thead>\n",
       "    <tr style=\"text-align: right;\">\n",
       "      <th></th>\n",
       "      <th>CALC_FOR_STATE_ACCT</th>\n",
       "      <th>District ID</th>\n",
       "      <th>District Name</th>\n",
       "      <th>COUNTY</th>\n",
       "      <th>CNTYNAME</th>\n",
       "      <th>REGION</th>\n",
       "      <th>REGNNAME</th>\n",
       "      <th>DIST_ALLD</th>\n",
       "      <th>DIST_ALLN_CMP2</th>\n",
       "      <th>DIST_ALLN_GRAD</th>\n",
       "      <th>...</th>\n",
       "      <th>DIST_TTLN_CONT</th>\n",
       "      <th>DIST_TTLN_TXCHSE</th>\n",
       "      <th>DIST_TTLN_DROP</th>\n",
       "      <th>DIST_TTLR_CMP2</th>\n",
       "      <th>DIST_TTLR_GRAD</th>\n",
       "      <th>DIST_TTLR_CONT</th>\n",
       "      <th>DIST_TTLR_TXCHSE</th>\n",
       "      <th>DIST_TTLR_DROP</th>\n",
       "      <th>DIST_TTLR_RAED</th>\n",
       "      <th>DIST_EXCL</th>\n",
       "    </tr>\n",
       "  </thead>\n",
       "  <tbody>\n",
       "    <tr>\n",
       "      <th>0</th>\n",
       "      <td>No</td>\n",
       "      <td>1902</td>\n",
       "      <td>Cayuga ISD</td>\n",
       "      <td>1</td>\n",
       "      <td>Anderson County</td>\n",
       "      <td>7</td>\n",
       "      <td>Kilgore</td>\n",
       "      <td>46</td>\n",
       "      <td>45</td>\n",
       "      <td>45</td>\n",
       "      <td>...</td>\n",
       "      <td>0</td>\n",
       "      <td>0</td>\n",
       "      <td>1</td>\n",
       "      <td>97.8</td>\n",
       "      <td>97.8</td>\n",
       "      <td>0.0</td>\n",
       "      <td>0.0</td>\n",
       "      <td>2.2</td>\n",
       "      <td>97.8</td>\n",
       "      <td>0</td>\n",
       "    </tr>\n",
       "    <tr>\n",
       "      <th>1</th>\n",
       "      <td>Yes</td>\n",
       "      <td>1902</td>\n",
       "      <td>Cayuga ISD</td>\n",
       "      <td>1</td>\n",
       "      <td>Anderson County</td>\n",
       "      <td>7</td>\n",
       "      <td>Kilgore</td>\n",
       "      <td>46</td>\n",
       "      <td>45</td>\n",
       "      <td>45</td>\n",
       "      <td>...</td>\n",
       "      <td>0</td>\n",
       "      <td>0</td>\n",
       "      <td>1</td>\n",
       "      <td>97.8</td>\n",
       "      <td>97.8</td>\n",
       "      <td>0.0</td>\n",
       "      <td>0.0</td>\n",
       "      <td>2.2</td>\n",
       "      <td>97.8</td>\n",
       "      <td>0</td>\n",
       "    </tr>\n",
       "    <tr>\n",
       "      <th>2</th>\n",
       "      <td>No</td>\n",
       "      <td>1903</td>\n",
       "      <td>Elkhart ISD</td>\n",
       "      <td>1</td>\n",
       "      <td>Anderson County</td>\n",
       "      <td>7</td>\n",
       "      <td>Kilgore</td>\n",
       "      <td>70</td>\n",
       "      <td>70</td>\n",
       "      <td>70</td>\n",
       "      <td>...</td>\n",
       "      <td>0</td>\n",
       "      <td>0</td>\n",
       "      <td>0</td>\n",
       "      <td>100.0</td>\n",
       "      <td>100.0</td>\n",
       "      <td>0.0</td>\n",
       "      <td>0.0</td>\n",
       "      <td>0.0</td>\n",
       "      <td>100.0</td>\n",
       "      <td>0</td>\n",
       "    </tr>\n",
       "  </tbody>\n",
       "</table>\n",
       "<p>3 rows × 404 columns</p>\n",
       "</div>"
      ],
      "text/plain": [
       "  CALC_FOR_STATE_ACCT  District ID District Name  COUNTY         CNTYNAME  \\\n",
       "0                  No         1902    Cayuga ISD       1  Anderson County   \n",
       "1                 Yes         1902    Cayuga ISD       1  Anderson County   \n",
       "2                  No         1903   Elkhart ISD       1  Anderson County   \n",
       "\n",
       "   REGION REGNNAME DIST_ALLD DIST_ALLN_CMP2 DIST_ALLN_GRAD  ...  \\\n",
       "0       7  Kilgore        46             45             45  ...   \n",
       "1       7  Kilgore        46             45             45  ...   \n",
       "2       7  Kilgore        70             70             70  ...   \n",
       "\n",
       "   DIST_TTLN_CONT  DIST_TTLN_TXCHSE DIST_TTLN_DROP  DIST_TTLR_CMP2  \\\n",
       "0               0                 0              1            97.8   \n",
       "1               0                 0              1            97.8   \n",
       "2               0                 0              0           100.0   \n",
       "\n",
       "   DIST_TTLR_GRAD  DIST_TTLR_CONT DIST_TTLR_TXCHSE  DIST_TTLR_DROP  \\\n",
       "0            97.8             0.0              0.0             2.2   \n",
       "1            97.8             0.0              0.0             2.2   \n",
       "2           100.0             0.0              0.0             0.0   \n",
       "\n",
       "  DIST_TTLR_RAED DIST_EXCL  \n",
       "0           97.8         0  \n",
       "1           97.8         0  \n",
       "2          100.0         0  \n",
       "\n",
       "[3 rows x 404 columns]"
      ]
     },
     "execution_count": 202,
     "metadata": {},
     "output_type": "execute_result"
    }
   ],
   "source": [
    "# 4-Yr HS Graduation Rates\n",
    "hs_graduation_filepath = 'HS Graduation Rates -- TEA Data 4yr-2022.xlsx'\n",
    "hs_graduation_data_sheet = 'Data'  \n",
    "hs_graduation_data_df = pd.read_excel(hs_graduation_filepath, sheet_name=hs_graduation_data_sheet)\n",
    "hs_graduation_data_df.head(3)"
   ]
  },
  {
   "cell_type": "code",
   "execution_count": 203,
   "id": "1e2cb4c2",
   "metadata": {},
   "outputs": [
    {
     "data": {
      "text/html": [
       "<div>\n",
       "<style scoped>\n",
       "    .dataframe tbody tr th:only-of-type {\n",
       "        vertical-align: middle;\n",
       "    }\n",
       "\n",
       "    .dataframe tbody tr th {\n",
       "        vertical-align: top;\n",
       "    }\n",
       "\n",
       "    .dataframe thead th {\n",
       "        text-align: right;\n",
       "    }\n",
       "</style>\n",
       "<table border=\"1\" class=\"dataframe\">\n",
       "  <thead>\n",
       "    <tr style=\"text-align: right;\">\n",
       "      <th></th>\n",
       "      <th>Group</th>\n",
       "      <th>District ID</th>\n",
       "      <th>District Name</th>\n",
       "      <th>County</th>\n",
       "      <th>County Name</th>\n",
       "      <th>Region</th>\n",
       "      <th>RegnName</th>\n",
       "      <th>Grads_Mskd</th>\n",
       "      <th>Exnees_Mskd</th>\n",
       "      <th>Part_Rate</th>\n",
       "      <th>Crit_Mskd</th>\n",
       "      <th>Above_Crit_Rate</th>\n",
       "      <th>TSI_Both_Mskd</th>\n",
       "      <th>Above_TSI_Both_Rate</th>\n",
       "    </tr>\n",
       "  </thead>\n",
       "  <tbody>\n",
       "    <tr>\n",
       "      <th>0</th>\n",
       "      <td>All Students</td>\n",
       "      <td>1902</td>\n",
       "      <td>Cayuga ISD</td>\n",
       "      <td>1</td>\n",
       "      <td>Anderson County</td>\n",
       "      <td>7</td>\n",
       "      <td>Kilgore</td>\n",
       "      <td>&lt;50</td>\n",
       "      <td>&lt;50</td>\n",
       "      <td>63.0</td>\n",
       "      <td>&lt;25</td>\n",
       "      <td>10.3</td>\n",
       "      <td>&lt;25</td>\n",
       "      <td>27.6</td>\n",
       "    </tr>\n",
       "    <tr>\n",
       "      <th>1</th>\n",
       "      <td>African American</td>\n",
       "      <td>1902</td>\n",
       "      <td>Cayuga ISD</td>\n",
       "      <td>1</td>\n",
       "      <td>Anderson County</td>\n",
       "      <td>7</td>\n",
       "      <td>Kilgore</td>\n",
       "      <td>&lt;25</td>\n",
       "      <td>&lt;25</td>\n",
       "      <td>100.0</td>\n",
       "      <td>&lt;25</td>\n",
       "      <td>NaN</td>\n",
       "      <td>&lt;25</td>\n",
       "      <td>100.0</td>\n",
       "    </tr>\n",
       "    <tr>\n",
       "      <th>2</th>\n",
       "      <td>American Indian</td>\n",
       "      <td>1902</td>\n",
       "      <td>Cayuga ISD</td>\n",
       "      <td>1</td>\n",
       "      <td>Anderson County</td>\n",
       "      <td>7</td>\n",
       "      <td>Kilgore</td>\n",
       "      <td>&lt;25</td>\n",
       "      <td>&lt;25</td>\n",
       "      <td>NaN</td>\n",
       "      <td>&lt;25</td>\n",
       "      <td>NaN</td>\n",
       "      <td>&lt;25</td>\n",
       "      <td>NaN</td>\n",
       "    </tr>\n",
       "  </tbody>\n",
       "</table>\n",
       "</div>"
      ],
      "text/plain": [
       "              Group  District ID District Name  County      County Name  \\\n",
       "0      All Students         1902    Cayuga ISD       1  Anderson County   \n",
       "1  African American         1902    Cayuga ISD       1  Anderson County   \n",
       "2   American Indian         1902    Cayuga ISD       1  Anderson County   \n",
       "\n",
       "   Region RegnName Grads_Mskd Exnees_Mskd  Part_Rate Crit_Mskd  \\\n",
       "0       7  Kilgore        <50         <50       63.0       <25   \n",
       "1       7  Kilgore        <25         <25      100.0       <25   \n",
       "2       7  Kilgore        <25         <25        NaN       <25   \n",
       "\n",
       "   Above_Crit_Rate TSI_Both_Mskd  Above_TSI_Both_Rate  \n",
       "0             10.3           <25                 27.6  \n",
       "1              NaN           <25                100.0  \n",
       "2              NaN           <25                  NaN  "
      ]
     },
     "execution_count": 203,
     "metadata": {},
     "output_type": "execute_result"
    }
   ],
   "source": [
    "# SAT-ACT Scores\n",
    "sat_act_filepath = 'SAT-ACT Scores by District (2022) -- TEA Data.xlsx' \n",
    "sat_act_data_sheet = 'Data' \n",
    "sat_act_data_df = pd.read_excel(sat_act_filepath, sheet_name=sat_act_data_sheet)\n",
    "sat_act_data_df.head(3)"
   ]
  },
  {
   "cell_type": "code",
   "execution_count": 204,
   "id": "67c77b40",
   "metadata": {},
   "outputs": [
    {
     "data": {
      "text/html": [
       "<div>\n",
       "<style scoped>\n",
       "    .dataframe tbody tr th:only-of-type {\n",
       "        vertical-align: middle;\n",
       "    }\n",
       "\n",
       "    .dataframe tbody tr th {\n",
       "        vertical-align: top;\n",
       "    }\n",
       "\n",
       "    .dataframe thead th {\n",
       "        text-align: right;\n",
       "    }\n",
       "</style>\n",
       "<table border=\"1\" class=\"dataframe\">\n",
       "  <thead>\n",
       "    <tr style=\"text-align: right;\">\n",
       "      <th></th>\n",
       "      <th>District ID</th>\n",
       "      <th>District Name</th>\n",
       "      <th>YEAR</th>\n",
       "      <th>GEN FUNDS-LOCAL TAX REVENUE FROM M&amp;O</th>\n",
       "      <th>ALL FUNDS-LOCAL TAX REVENUE FROM M&amp;O</th>\n",
       "      <th>GEN FUNDS-STATE REVENUE</th>\n",
       "      <th>ALL FUNDS-STATE REVENUE</th>\n",
       "      <th>GEN FUNDS-FEDERAL REVENUE</th>\n",
       "      <th>ALL FUNDS-FEDERAL REVENUE</th>\n",
       "      <th>GEN FUNDS-OTHER LOCAL &amp; INTERMEDIATE REVENUE</th>\n",
       "      <th>...</th>\n",
       "      <th>ALL FUNDS-TOTAL OTHER USES</th>\n",
       "      <th>GEN FUNDS-INTERGOVERN CHARGES EXPEND</th>\n",
       "      <th>ALL FUNDS-INTERGOVERN CHARGES EXPEND</th>\n",
       "      <th>GEN FUNDS-DEBT SERVICE (OBJECT 6500) FOR TD</th>\n",
       "      <th>ALL FUNDS-DEBT SERVICE (OBJECT 6500) FOR TD</th>\n",
       "      <th>GEN FUNDS-CAPITAL PROJECTS(OBJECT 6600) FOR TD</th>\n",
       "      <th>ALL FUNDS-CAPITAL PROJECTS(OBJECT 6600) FOR TD</th>\n",
       "      <th>GEN FUNDS-TOTAL DISBURSEMENTS</th>\n",
       "      <th>ALL FUNDS-TOTAL DISBURSEMENTS</th>\n",
       "      <th>FALL SURVEY ENROLLMENT</th>\n",
       "    </tr>\n",
       "  </thead>\n",
       "  <tbody>\n",
       "    <tr>\n",
       "      <th>0</th>\n",
       "      <td>1902</td>\n",
       "      <td>CAYUGA ISD</td>\n",
       "      <td>2007</td>\n",
       "      <td>4122552</td>\n",
       "      <td>4122552</td>\n",
       "      <td>1114179</td>\n",
       "      <td>1176283</td>\n",
       "      <td>0</td>\n",
       "      <td>250168</td>\n",
       "      <td>215239</td>\n",
       "      <td>...</td>\n",
       "      <td>5829</td>\n",
       "      <td>70703</td>\n",
       "      <td>70703</td>\n",
       "      <td>421865</td>\n",
       "      <td>421865</td>\n",
       "      <td>145130</td>\n",
       "      <td>156886</td>\n",
       "      <td>4907206</td>\n",
       "      <td>5348377</td>\n",
       "      <td>569</td>\n",
       "    </tr>\n",
       "    <tr>\n",
       "      <th>1</th>\n",
       "      <td>1902</td>\n",
       "      <td>CAYUGA ISD</td>\n",
       "      <td>2008</td>\n",
       "      <td>3641351</td>\n",
       "      <td>3641351</td>\n",
       "      <td>1845232</td>\n",
       "      <td>2350131</td>\n",
       "      <td>0</td>\n",
       "      <td>1852221</td>\n",
       "      <td>183293</td>\n",
       "      <td>...</td>\n",
       "      <td>15000</td>\n",
       "      <td>75304</td>\n",
       "      <td>210304</td>\n",
       "      <td>0</td>\n",
       "      <td>0</td>\n",
       "      <td>647852</td>\n",
       "      <td>632398</td>\n",
       "      <td>5391975</td>\n",
       "      <td>8274772</td>\n",
       "      <td>580</td>\n",
       "    </tr>\n",
       "    <tr>\n",
       "      <th>2</th>\n",
       "      <td>1902</td>\n",
       "      <td>CAYUGA ISD</td>\n",
       "      <td>2009</td>\n",
       "      <td>3319164</td>\n",
       "      <td>3319164</td>\n",
       "      <td>1950169</td>\n",
       "      <td>2473373</td>\n",
       "      <td>0</td>\n",
       "      <td>1714988</td>\n",
       "      <td>123568</td>\n",
       "      <td>...</td>\n",
       "      <td>0</td>\n",
       "      <td>166251</td>\n",
       "      <td>166251</td>\n",
       "      <td>0</td>\n",
       "      <td>0</td>\n",
       "      <td>722766</td>\n",
       "      <td>803313</td>\n",
       "      <td>6006273</td>\n",
       "      <td>8819439</td>\n",
       "      <td>594</td>\n",
       "    </tr>\n",
       "  </tbody>\n",
       "</table>\n",
       "<p>3 rows × 142 columns</p>\n",
       "</div>"
      ],
      "text/plain": [
       "   District ID District Name  YEAR  GEN FUNDS-LOCAL TAX REVENUE FROM M&O  \\\n",
       "0         1902    CAYUGA ISD  2007                               4122552   \n",
       "1         1902    CAYUGA ISD  2008                               3641351   \n",
       "2         1902    CAYUGA ISD  2009                               3319164   \n",
       "\n",
       "   ALL FUNDS-LOCAL TAX REVENUE FROM M&O  GEN FUNDS-STATE REVENUE  \\\n",
       "0                               4122552                  1114179   \n",
       "1                               3641351                  1845232   \n",
       "2                               3319164                  1950169   \n",
       "\n",
       "   ALL FUNDS-STATE REVENUE  GEN FUNDS-FEDERAL REVENUE  \\\n",
       "0                  1176283                          0   \n",
       "1                  2350131                          0   \n",
       "2                  2473373                          0   \n",
       "\n",
       "   ALL FUNDS-FEDERAL REVENUE  GEN FUNDS-OTHER LOCAL & INTERMEDIATE REVENUE  \\\n",
       "0                     250168                                        215239   \n",
       "1                    1852221                                        183293   \n",
       "2                    1714988                                        123568   \n",
       "\n",
       "   ...  ALL FUNDS-TOTAL OTHER USES  GEN FUNDS-INTERGOVERN CHARGES EXPEND  \\\n",
       "0  ...                        5829                                 70703   \n",
       "1  ...                       15000                                 75304   \n",
       "2  ...                           0                                166251   \n",
       "\n",
       "   ALL FUNDS-INTERGOVERN CHARGES EXPEND  \\\n",
       "0                                 70703   \n",
       "1                                210304   \n",
       "2                                166251   \n",
       "\n",
       "   GEN FUNDS-DEBT SERVICE (OBJECT 6500) FOR TD  \\\n",
       "0                                       421865   \n",
       "1                                            0   \n",
       "2                                            0   \n",
       "\n",
       "   ALL FUNDS-DEBT SERVICE (OBJECT 6500) FOR TD  \\\n",
       "0                                       421865   \n",
       "1                                            0   \n",
       "2                                            0   \n",
       "\n",
       "   GEN FUNDS-CAPITAL PROJECTS(OBJECT 6600) FOR TD  \\\n",
       "0                                          145130   \n",
       "1                                          647852   \n",
       "2                                          722766   \n",
       "\n",
       "   ALL FUNDS-CAPITAL PROJECTS(OBJECT 6600) FOR TD  \\\n",
       "0                                          156886   \n",
       "1                                          632398   \n",
       "2                                          803313   \n",
       "\n",
       "   GEN FUNDS-TOTAL DISBURSEMENTS  ALL FUNDS-TOTAL DISBURSEMENTS  \\\n",
       "0                        4907206                        5348377   \n",
       "1                        5391975                        8274772   \n",
       "2                        6006273                        8819439   \n",
       "\n",
       "   FALL SURVEY ENROLLMENT  \n",
       "0                     569  \n",
       "1                     580  \n",
       "2                     594  \n",
       "\n",
       "[3 rows x 142 columns]"
      ]
     },
     "execution_count": 204,
     "metadata": {},
     "output_type": "execute_result"
    }
   ],
   "source": [
    "# District Funding Totals\n",
    "peims_funding_filepath = 'PEIMS District Funding Totals 2007-2022.xlsx'\n",
    "peims_funding_data_sheet = 'Data'  \n",
    "peims_funding_data_df = pd.read_excel(peims_funding_filepath, sheet_name=peims_funding_data_sheet)\n",
    "peims_funding_data_df.head(3)"
   ]
  },
  {
   "cell_type": "code",
   "execution_count": 205,
   "id": "a9c592d1",
   "metadata": {},
   "outputs": [
    {
     "data": {
      "text/html": [
       "<div>\n",
       "<style scoped>\n",
       "    .dataframe tbody tr th:only-of-type {\n",
       "        vertical-align: middle;\n",
       "    }\n",
       "\n",
       "    .dataframe tbody tr th {\n",
       "        vertical-align: top;\n",
       "    }\n",
       "\n",
       "    .dataframe thead th {\n",
       "        text-align: right;\n",
       "    }\n",
       "</style>\n",
       "<table border=\"1\" class=\"dataframe\">\n",
       "  <thead>\n",
       "    <tr style=\"text-align: right;\">\n",
       "      <th></th>\n",
       "      <th>District ID</th>\n",
       "      <th>District Name</th>\n",
       "      <th>M&amp;O Tax Rate</th>\n",
       "      <th>I&amp;S Tax Rate</th>\n",
       "      <th>Total Tax Rate</th>\n",
       "      <th>Total Property Value</th>\n",
       "      <th>Total Property Value per pupil</th>\n",
       "      <th>Local Funding per Pupil</th>\n",
       "      <th>Business Property Value</th>\n",
       "      <th>Residential Property Value</th>\n",
       "      <th>Land Property Value</th>\n",
       "      <th>Oil and Gas Property Value</th>\n",
       "      <th>Other Property Value</th>\n",
       "    </tr>\n",
       "  </thead>\n",
       "  <tbody>\n",
       "    <tr>\n",
       "      <th>0</th>\n",
       "      <td>109901</td>\n",
       "      <td>Abbott ISD</td>\n",
       "      <td>0.9321</td>\n",
       "      <td>0.2824</td>\n",
       "      <td>1.2145</td>\n",
       "      <td>115843601</td>\n",
       "      <td>410792.911348</td>\n",
       "      <td>4989.079908</td>\n",
       "      <td>46146930</td>\n",
       "      <td>31334380</td>\n",
       "      <td>14204919</td>\n",
       "      <td>0</td>\n",
       "      <td>564800</td>\n",
       "    </tr>\n",
       "    <tr>\n",
       "      <th>1</th>\n",
       "      <td>95901</td>\n",
       "      <td>Abernathy ISD</td>\n",
       "      <td>1.0517</td>\n",
       "      <td>0.3300</td>\n",
       "      <td>1.3817</td>\n",
       "      <td>465947826</td>\n",
       "      <td>568229.056098</td>\n",
       "      <td>7851.220868</td>\n",
       "      <td>311422590</td>\n",
       "      <td>104120735</td>\n",
       "      <td>23994789</td>\n",
       "      <td>55075540</td>\n",
       "      <td>2879446</td>\n",
       "    </tr>\n",
       "    <tr>\n",
       "      <th>2</th>\n",
       "      <td>221901</td>\n",
       "      <td>Abilene ISD</td>\n",
       "      <td>0.9249</td>\n",
       "      <td>0.3535</td>\n",
       "      <td>1.2784</td>\n",
       "      <td>5394710556</td>\n",
       "      <td>353195.662957</td>\n",
       "      <td>4515.253355</td>\n",
       "      <td>2359455936</td>\n",
       "      <td>3840796038</td>\n",
       "      <td>57215187</td>\n",
       "      <td>12503395</td>\n",
       "      <td>64347904</td>\n",
       "    </tr>\n",
       "  </tbody>\n",
       "</table>\n",
       "</div>"
      ],
      "text/plain": [
       "   District ID  District Name  M&O Tax Rate  I&S Tax Rate   Total Tax Rate   \\\n",
       "0       109901     Abbott ISD        0.9321         0.2824           1.2145   \n",
       "1        95901  Abernathy ISD        1.0517         0.3300           1.3817   \n",
       "2       221901    Abilene ISD        0.9249         0.3535           1.2784   \n",
       "\n",
       "   Total Property Value  Total Property Value per pupil  \\\n",
       "0             115843601                   410792.911348   \n",
       "1             465947826                   568229.056098   \n",
       "2            5394710556                   353195.662957   \n",
       "\n",
       "   Local Funding per Pupil  Business Property Value  \\\n",
       "0              4989.079908                 46146930   \n",
       "1              7851.220868                311422590   \n",
       "2              4515.253355               2359455936   \n",
       "\n",
       "   Residential Property Value  Land Property Value  \\\n",
       "0                    31334380             14204919   \n",
       "1                   104120735             23994789   \n",
       "2                  3840796038             57215187   \n",
       "\n",
       "   Oil and Gas Property Value  Other Property Value  \n",
       "0                           0                564800  \n",
       "1                    55075540               2879446  \n",
       "2                    12503395              64347904  "
      ]
     },
     "execution_count": 205,
     "metadata": {},
     "output_type": "execute_result"
    }
   ],
   "source": [
    "# District Property Values\n",
    "property_values_filepath = 'PEIMS Tax Rates, Property Values, Property Values Per Pupil (2022) -- TEA Data.xlsx'\n",
    "property_values_data_sheet = 'Data'  \n",
    "property_values_data_df = pd.read_excel(property_values_filepath, sheet_name=property_values_data_sheet)\n",
    "property_values_data_df.head(3)"
   ]
  },
  {
   "cell_type": "code",
   "execution_count": 206,
   "id": "3cf040c2",
   "metadata": {},
   "outputs": [
    {
     "data": {
      "text/html": [
       "<div>\n",
       "<style scoped>\n",
       "    .dataframe tbody tr th:only-of-type {\n",
       "        vertical-align: middle;\n",
       "    }\n",
       "\n",
       "    .dataframe tbody tr th {\n",
       "        vertical-align: top;\n",
       "    }\n",
       "\n",
       "    .dataframe thead th {\n",
       "        text-align: right;\n",
       "    }\n",
       "</style>\n",
       "<table border=\"1\" class=\"dataframe\">\n",
       "  <thead>\n",
       "    <tr style=\"text-align: right;\">\n",
       "      <th></th>\n",
       "      <th>Group</th>\n",
       "      <th>District ID</th>\n",
       "      <th>District Name</th>\n",
       "      <th>County</th>\n",
       "      <th>CntyName</th>\n",
       "      <th>Region</th>\n",
       "      <th>RegnName</th>\n",
       "      <th>Students_Mskd</th>\n",
       "      <th>Exnees_Mskd</th>\n",
       "      <th>Part_Rate</th>\n",
       "      <th>Exnees_Crit_Mskd</th>\n",
       "      <th>Exnees_Above_Crit_Rate</th>\n",
       "      <th>Exams_Mskd</th>\n",
       "      <th>Exams_Crit_Mskd</th>\n",
       "      <th>Exams_Above_Crit_Rate</th>\n",
       "    </tr>\n",
       "  </thead>\n",
       "  <tbody>\n",
       "    <tr>\n",
       "      <th>0</th>\n",
       "      <td>All Students</td>\n",
       "      <td>14909</td>\n",
       "      <td>Temple ISD</td>\n",
       "      <td>14</td>\n",
       "      <td>Bell County</td>\n",
       "      <td>12</td>\n",
       "      <td>Waco</td>\n",
       "      <td>1,100</td>\n",
       "      <td>200</td>\n",
       "      <td>18.2</td>\n",
       "      <td>101</td>\n",
       "      <td>50.5</td>\n",
       "      <td>452</td>\n",
       "      <td>193</td>\n",
       "      <td>42.7</td>\n",
       "    </tr>\n",
       "    <tr>\n",
       "      <th>1</th>\n",
       "      <td>African American</td>\n",
       "      <td>14909</td>\n",
       "      <td>Temple ISD</td>\n",
       "      <td>14</td>\n",
       "      <td>Bell County</td>\n",
       "      <td>12</td>\n",
       "      <td>Waco</td>\n",
       "      <td>&lt;300</td>\n",
       "      <td>&lt;50</td>\n",
       "      <td>9.2</td>\n",
       "      <td>&lt;25</td>\n",
       "      <td>25.9</td>\n",
       "      <td>49</td>\n",
       "      <td>12</td>\n",
       "      <td>24.5</td>\n",
       "    </tr>\n",
       "    <tr>\n",
       "      <th>2</th>\n",
       "      <td>American Indian</td>\n",
       "      <td>14909</td>\n",
       "      <td>Temple ISD</td>\n",
       "      <td>14</td>\n",
       "      <td>Bell County</td>\n",
       "      <td>12</td>\n",
       "      <td>Waco</td>\n",
       "      <td>&lt;25</td>\n",
       "      <td>&lt;25</td>\n",
       "      <td>NaN</td>\n",
       "      <td>&lt;25</td>\n",
       "      <td>NaN</td>\n",
       "      <td>&lt;25</td>\n",
       "      <td>&lt;25</td>\n",
       "      <td>NaN</td>\n",
       "    </tr>\n",
       "  </tbody>\n",
       "</table>\n",
       "</div>"
      ],
      "text/plain": [
       "              Group  District ID District Name  County     CntyName  Region  \\\n",
       "0      All Students        14909    Temple ISD      14  Bell County      12   \n",
       "1  African American        14909    Temple ISD      14  Bell County      12   \n",
       "2   American Indian        14909    Temple ISD      14  Bell County      12   \n",
       "\n",
       "  RegnName Students_Mskd Exnees_Mskd  Part_Rate Exnees_Crit_Mskd  \\\n",
       "0     Waco         1,100         200       18.2              101   \n",
       "1     Waco          <300         <50        9.2              <25   \n",
       "2     Waco           <25         <25        NaN              <25   \n",
       "\n",
       "   Exnees_Above_Crit_Rate Exams_Mskd Exams_Crit_Mskd  Exams_Above_Crit_Rate  \n",
       "0                    50.5        452             193                   42.7  \n",
       "1                    25.9         49              12                   24.5  \n",
       "2                     NaN        <25             <25                    NaN  "
      ]
     },
     "execution_count": 206,
     "metadata": {},
     "output_type": "execute_result"
    }
   ],
   "source": [
    "# AP-IB Scores & Participation\n",
    "ap_ib_scores_filepath = 'AP-IB Scores & Participation Data 2021-22 | Texas Education Agency.xlsx'\n",
    "ap_ib_scores_data_sheet = 'Data'  \n",
    "ap_ib_scores_data_df = pd.read_excel(ap_ib_scores_filepath, sheet_name=ap_ib_scores_data_sheet)\n",
    "ap_ib_scores_data_df.head(3)"
   ]
  },
  {
   "cell_type": "code",
   "execution_count": 207,
   "id": "9cbd243b",
   "metadata": {},
   "outputs": [
    {
     "data": {
      "text/html": [
       "<div>\n",
       "<style scoped>\n",
       "    .dataframe tbody tr th:only-of-type {\n",
       "        vertical-align: middle;\n",
       "    }\n",
       "\n",
       "    .dataframe tbody tr th {\n",
       "        vertical-align: top;\n",
       "    }\n",
       "\n",
       "    .dataframe thead th {\n",
       "        text-align: right;\n",
       "    }\n",
       "</style>\n",
       "<table border=\"1\" class=\"dataframe\">\n",
       "  <thead>\n",
       "    <tr style=\"text-align: right;\">\n",
       "      <th></th>\n",
       "      <th>Region</th>\n",
       "      <th>County</th>\n",
       "      <th>District ID</th>\n",
       "      <th>District Name</th>\n",
       "      <th>Charter Status</th>\n",
       "      <th>Staff_Category</th>\n",
       "      <th>Staff</th>\n",
       "      <th>FTE Count</th>\n",
       "      <th>Total Base Pay</th>\n",
       "      <th>Average Base Pay</th>\n",
       "    </tr>\n",
       "  </thead>\n",
       "  <tbody>\n",
       "    <tr>\n",
       "      <th>0</th>\n",
       "      <td>10</td>\n",
       "      <td>DALLAS COUNTY</td>\n",
       "      <td>57816</td>\n",
       "      <td>A W BROWN LEADERSHIP ACADEMY</td>\n",
       "      <td>OPEN ENROLLMENT CHARTER</td>\n",
       "      <td>TEACHING STAFF</td>\n",
       "      <td>PRE-KINDERGARTEN</td>\n",
       "      <td>12.48</td>\n",
       "      <td>652611.0</td>\n",
       "      <td>52282.0</td>\n",
       "    </tr>\n",
       "    <tr>\n",
       "      <th>1</th>\n",
       "      <td>10</td>\n",
       "      <td>DALLAS COUNTY</td>\n",
       "      <td>57816</td>\n",
       "      <td>A W BROWN LEADERSHIP ACADEMY</td>\n",
       "      <td>OPEN ENROLLMENT CHARTER</td>\n",
       "      <td>TEACHING STAFF</td>\n",
       "      <td>KINDERGARTEN</td>\n",
       "      <td>10.64</td>\n",
       "      <td>536025.0</td>\n",
       "      <td>50372.0</td>\n",
       "    </tr>\n",
       "    <tr>\n",
       "      <th>2</th>\n",
       "      <td>10</td>\n",
       "      <td>DALLAS COUNTY</td>\n",
       "      <td>57816</td>\n",
       "      <td>A W BROWN LEADERSHIP ACADEMY</td>\n",
       "      <td>OPEN ENROLLMENT CHARTER</td>\n",
       "      <td>TEACHING STAFF</td>\n",
       "      <td>KINDERGARTEN/ELEMENTARY (K-6)</td>\n",
       "      <td>2.96</td>\n",
       "      <td>197545.0</td>\n",
       "      <td>66718.0</td>\n",
       "    </tr>\n",
       "  </tbody>\n",
       "</table>\n",
       "</div>"
      ],
      "text/plain": [
       "  Region         County  District ID                 District Name  \\\n",
       "0     10  DALLAS COUNTY        57816  A W BROWN LEADERSHIP ACADEMY   \n",
       "1     10  DALLAS COUNTY        57816  A W BROWN LEADERSHIP ACADEMY   \n",
       "2     10  DALLAS COUNTY        57816  A W BROWN LEADERSHIP ACADEMY   \n",
       "\n",
       "            Charter Status  Staff_Category                          Staff  \\\n",
       "0  OPEN ENROLLMENT CHARTER  TEACHING STAFF               PRE-KINDERGARTEN   \n",
       "1  OPEN ENROLLMENT CHARTER  TEACHING STAFF                   KINDERGARTEN   \n",
       "2  OPEN ENROLLMENT CHARTER  TEACHING STAFF  KINDERGARTEN/ELEMENTARY (K-6)   \n",
       "\n",
       "   FTE Count  Total Base Pay  Average Base Pay  \n",
       "0      12.48        652611.0           52282.0  \n",
       "1      10.64        536025.0           50372.0  \n",
       "2       2.96        197545.0           66718.0  "
      ]
     },
     "execution_count": 207,
     "metadata": {},
     "output_type": "execute_result"
    }
   ],
   "source": [
    "# Teacher Count and Avg Salary\n",
    "peims_teacher_filepath = 'PEIMS Teacher Count & Avg Salary (2022)-- TEA Data.xlsx'\n",
    "peims_teacher_data_sheet = 'Data'  \n",
    "peims_teacher_data_df = pd.read_excel(peims_teacher_filepath, sheet_name=peims_teacher_data_sheet)\n",
    "peims_teacher_data_df.head(3)"
   ]
  },
  {
   "cell_type": "code",
   "execution_count": 208,
   "id": "6e4309bc",
   "metadata": {},
   "outputs": [
    {
     "data": {
      "text/html": [
       "<div>\n",
       "<style scoped>\n",
       "    .dataframe tbody tr th:only-of-type {\n",
       "        vertical-align: middle;\n",
       "    }\n",
       "\n",
       "    .dataframe tbody tr th {\n",
       "        vertical-align: top;\n",
       "    }\n",
       "\n",
       "    .dataframe thead th {\n",
       "        text-align: right;\n",
       "    }\n",
       "</style>\n",
       "<table border=\"1\" class=\"dataframe\">\n",
       "  <thead>\n",
       "    <tr style=\"text-align: right;\">\n",
       "      <th></th>\n",
       "      <th>County</th>\n",
       "      <th>County Name</th>\n",
       "      <th>District ID</th>\n",
       "      <th>District Name</th>\n",
       "      <th>2004-2005 ADA</th>\n",
       "      <th>2005-2006 ADA</th>\n",
       "      <th>2006-2007 ADA</th>\n",
       "      <th>2007-2008 ADA</th>\n",
       "      <th>2008-2009 ADA</th>\n",
       "      <th>2009-2010 ADA</th>\n",
       "      <th>...</th>\n",
       "      <th>2013-2014 ADA</th>\n",
       "      <th>2014-2015 ADA</th>\n",
       "      <th>2015-2016 ADA</th>\n",
       "      <th>2016-2017 ADA</th>\n",
       "      <th>2017-2018 ADA</th>\n",
       "      <th>2018-2019 ADA</th>\n",
       "      <th>2019-2020 ADA</th>\n",
       "      <th>2020-2021 ADA</th>\n",
       "      <th>2021-2022 ADA</th>\n",
       "      <th>2022-2023 ADA</th>\n",
       "    </tr>\n",
       "  </thead>\n",
       "  <tbody>\n",
       "    <tr>\n",
       "      <th>0</th>\n",
       "      <td>178</td>\n",
       "      <td>NUECES COUNTY</td>\n",
       "      <td>178806</td>\n",
       "      <td>21ST CENTURY ACADEMY OF SCIENCE AN</td>\n",
       "      <td>0.000</td>\n",
       "      <td>0.000</td>\n",
       "      <td>0.000</td>\n",
       "      <td>0.000</td>\n",
       "      <td>0.000</td>\n",
       "      <td>0.000</td>\n",
       "      <td>...</td>\n",
       "      <td>0.000</td>\n",
       "      <td>0.000</td>\n",
       "      <td>0.000</td>\n",
       "      <td>0.000</td>\n",
       "      <td>0.000</td>\n",
       "      <td>0.000</td>\n",
       "      <td>0.000</td>\n",
       "      <td>0.000</td>\n",
       "      <td>0.000</td>\n",
       "      <td>0.00</td>\n",
       "    </tr>\n",
       "    <tr>\n",
       "      <th>1</th>\n",
       "      <td>57</td>\n",
       "      <td>DALLAS COUNTY</td>\n",
       "      <td>57816</td>\n",
       "      <td>A W BROWN LEADERSHIP ACADEMY</td>\n",
       "      <td>711.384</td>\n",
       "      <td>849.091</td>\n",
       "      <td>923.753</td>\n",
       "      <td>991.948</td>\n",
       "      <td>1047.546</td>\n",
       "      <td>1131.454</td>\n",
       "      <td>...</td>\n",
       "      <td>1657.226</td>\n",
       "      <td>1799.313</td>\n",
       "      <td>1818.267</td>\n",
       "      <td>1918.032</td>\n",
       "      <td>1731.535</td>\n",
       "      <td>1585.182</td>\n",
       "      <td>1324.525</td>\n",
       "      <td>1026.444</td>\n",
       "      <td>880.776</td>\n",
       "      <td>763.44</td>\n",
       "    </tr>\n",
       "    <tr>\n",
       "      <th>2</th>\n",
       "      <td>57</td>\n",
       "      <td>DALLAS COUNTY</td>\n",
       "      <td>57829</td>\n",
       "      <td>A+ ACADEMY</td>\n",
       "      <td>830.974</td>\n",
       "      <td>878.711</td>\n",
       "      <td>896.752</td>\n",
       "      <td>865.948</td>\n",
       "      <td>896.359</td>\n",
       "      <td>1038.276</td>\n",
       "      <td>...</td>\n",
       "      <td>933.890</td>\n",
       "      <td>910.002</td>\n",
       "      <td>904.325</td>\n",
       "      <td>995.942</td>\n",
       "      <td>1245.197</td>\n",
       "      <td>1300.150</td>\n",
       "      <td>1222.064</td>\n",
       "      <td>1285.841</td>\n",
       "      <td>1388.241</td>\n",
       "      <td>1400.47</td>\n",
       "    </tr>\n",
       "  </tbody>\n",
       "</table>\n",
       "<p>3 rows × 23 columns</p>\n",
       "</div>"
      ],
      "text/plain": [
       "   County    County Name  District ID                       District Name  \\\n",
       "0     178  NUECES COUNTY       178806  21ST CENTURY ACADEMY OF SCIENCE AN   \n",
       "1      57  DALLAS COUNTY        57816        A W BROWN LEADERSHIP ACADEMY   \n",
       "2      57  DALLAS COUNTY        57829                          A+ ACADEMY   \n",
       "\n",
       "    2004-2005 ADA   2005-2006 ADA   2006-2007 ADA  2007-2008 ADA  \\\n",
       "0           0.000           0.000           0.000          0.000   \n",
       "1         711.384         849.091         923.753        991.948   \n",
       "2         830.974         878.711         896.752        865.948   \n",
       "\n",
       "   2008-2009 ADA   2009-2010 ADA  ...   2013-2014 ADA   2014-2015 ADA  \\\n",
       "0          0.000           0.000  ...           0.000           0.000   \n",
       "1       1047.546        1131.454  ...        1657.226        1799.313   \n",
       "2        896.359        1038.276  ...         933.890         910.002   \n",
       "\n",
       "    2015-2016 ADA   2016-2017 ADA   2017-2018 ADA   2018-2019 ADA  \\\n",
       "0           0.000           0.000           0.000           0.000   \n",
       "1        1818.267        1918.032        1731.535        1585.182   \n",
       "2         904.325         995.942        1245.197        1300.150   \n",
       "\n",
       "    2019-2020 ADA   2020-2021 ADA  2021-2022 ADA  2022-2023 ADA  \n",
       "0           0.000           0.000          0.000           0.00  \n",
       "1        1324.525        1026.444        880.776         763.44  \n",
       "2        1222.064        1285.841       1388.241        1400.47  \n",
       "\n",
       "[3 rows x 23 columns]"
      ]
     },
     "execution_count": 208,
     "metadata": {},
     "output_type": "execute_result"
    }
   ],
   "source": [
    "# Average Daily Attendance (ADA)\n",
    "ada_filepath = 'ADA (Avg Daily Attendance) 2005-2023 -- TEA data.xlsx'\n",
    "ada_data_sheet = 'Data'  \n",
    "ada_data_df = pd.read_excel(ada_filepath, sheet_name=ada_data_sheet)\n",
    "ada_data_df.head(3)"
   ]
  },
  {
   "cell_type": "code",
   "execution_count": 209,
   "id": "2c64db66",
   "metadata": {},
   "outputs": [
    {
     "data": {
      "text/html": [
       "<div>\n",
       "<style scoped>\n",
       "    .dataframe tbody tr th:only-of-type {\n",
       "        vertical-align: middle;\n",
       "    }\n",
       "\n",
       "    .dataframe tbody tr th {\n",
       "        vertical-align: top;\n",
       "    }\n",
       "\n",
       "    .dataframe thead th {\n",
       "        text-align: right;\n",
       "    }\n",
       "</style>\n",
       "<table border=\"1\" class=\"dataframe\">\n",
       "  <thead>\n",
       "    <tr style=\"text-align: right;\">\n",
       "      <th></th>\n",
       "      <th>State Postal Code</th>\n",
       "      <th>State FIPS Code</th>\n",
       "      <th>District ID</th>\n",
       "      <th>District Name</th>\n",
       "      <th>Estimated Total Population</th>\n",
       "      <th>Estimated Population 5-17</th>\n",
       "      <th>Estimated number of relevant children 5 to 17 years old in poverty who are related to the householder</th>\n",
       "    </tr>\n",
       "  </thead>\n",
       "  <tbody>\n",
       "    <tr>\n",
       "      <th>0</th>\n",
       "      <td>TX</td>\n",
       "      <td>48</td>\n",
       "      <td>109901</td>\n",
       "      <td>Abbott ISD</td>\n",
       "      <td>1082</td>\n",
       "      <td>185</td>\n",
       "      <td>18</td>\n",
       "    </tr>\n",
       "    <tr>\n",
       "      <th>1</th>\n",
       "      <td>TX</td>\n",
       "      <td>48</td>\n",
       "      <td>95901</td>\n",
       "      <td>Abernathy ISD</td>\n",
       "      <td>3476</td>\n",
       "      <td>774</td>\n",
       "      <td>147</td>\n",
       "    </tr>\n",
       "    <tr>\n",
       "      <th>2</th>\n",
       "      <td>TX</td>\n",
       "      <td>48</td>\n",
       "      <td>221901</td>\n",
       "      <td>Abilene ISD</td>\n",
       "      <td>105506</td>\n",
       "      <td>17290</td>\n",
       "      <td>3505</td>\n",
       "    </tr>\n",
       "  </tbody>\n",
       "</table>\n",
       "</div>"
      ],
      "text/plain": [
       "  State Postal Code  State FIPS Code  District ID  District Name  \\\n",
       "0                TX               48       109901     Abbott ISD   \n",
       "1                TX               48        95901  Abernathy ISD   \n",
       "2                TX               48       221901    Abilene ISD   \n",
       "\n",
       "   Estimated Total Population  Estimated Population 5-17  \\\n",
       "0                        1082                        185   \n",
       "1                        3476                        774   \n",
       "2                      105506                      17290   \n",
       "\n",
       "   Estimated number of relevant children 5 to 17 years old in poverty who are related to the householder  \n",
       "0                                                 18                                                      \n",
       "1                                                147                                                      \n",
       "2                                               3505                                                      "
      ]
     },
     "execution_count": 209,
     "metadata": {},
     "output_type": "execute_result"
    }
   ],
   "source": [
    "# Kids in Poverty by District\n",
    "kids_poverty_filepath = 'Kids in Poverty Per School District 2022 – U.S. Census Bureau.xlsx'\n",
    "kids_poverty_data_sheet = 'Data'  \n",
    "kids_poverty_data_df = pd.read_excel(kids_poverty_filepath, sheet_name=kids_poverty_data_sheet)\n",
    "kids_poverty_data_df.head(3)"
   ]
  },
  {
   "cell_type": "code",
   "execution_count": 210,
   "id": "88e7f2dd",
   "metadata": {},
   "outputs": [
    {
     "data": {
      "text/html": [
       "<div>\n",
       "<style scoped>\n",
       "    .dataframe tbody tr th:only-of-type {\n",
       "        vertical-align: middle;\n",
       "    }\n",
       "\n",
       "    .dataframe tbody tr th {\n",
       "        vertical-align: top;\n",
       "    }\n",
       "\n",
       "    .dataframe thead th {\n",
       "        text-align: right;\n",
       "    }\n",
       "</style>\n",
       "<table border=\"1\" class=\"dataframe\">\n",
       "  <thead>\n",
       "    <tr style=\"text-align: right;\">\n",
       "      <th></th>\n",
       "      <th>Rank</th>\n",
       "      <th>District ID</th>\n",
       "      <th>District Name</th>\n",
       "      <th>Score</th>\n",
       "      <th>Expenditures for Public Elementary and Secondary Schools per Pupil</th>\n",
       "      <th>Income by School District</th>\n",
       "      <th>Unnamed: 6</th>\n",
       "      <th>Unnamed: 7</th>\n",
       "    </tr>\n",
       "  </thead>\n",
       "  <tbody>\n",
       "    <tr>\n",
       "      <th>0</th>\n",
       "      <td>1</td>\n",
       "      <td>207901</td>\n",
       "      <td>Schleicher ISD</td>\n",
       "      <td>0.06</td>\n",
       "      <td>13317</td>\n",
       "      <td>61094</td>\n",
       "      <td>NaN</td>\n",
       "      <td>NaN</td>\n",
       "    </tr>\n",
       "    <tr>\n",
       "      <th>1</th>\n",
       "      <td>2</td>\n",
       "      <td>143906</td>\n",
       "      <td>Ezzell ISD</td>\n",
       "      <td>0.07</td>\n",
       "      <td>12961</td>\n",
       "      <td>62833</td>\n",
       "      <td>NaN</td>\n",
       "      <td>NaN</td>\n",
       "    </tr>\n",
       "    <tr>\n",
       "      <th>2</th>\n",
       "      <td>3</td>\n",
       "      <td>91901</td>\n",
       "      <td>Bells ISD</td>\n",
       "      <td>0.08</td>\n",
       "      <td>10796</td>\n",
       "      <td>73388</td>\n",
       "      <td>NaN</td>\n",
       "      <td>NaN</td>\n",
       "    </tr>\n",
       "  </tbody>\n",
       "</table>\n",
       "</div>"
      ],
      "text/plain": [
       "   Rank  District ID   District Name  Score  \\\n",
       "0     1       207901  Schleicher ISD   0.06   \n",
       "1     2       143906      Ezzell ISD   0.07   \n",
       "2     3        91901       Bells ISD   0.08   \n",
       "\n",
       "   Expenditures for Public Elementary and Secondary Schools per Pupil  \\\n",
       "0                                              13317                    \n",
       "1                                              12961                    \n",
       "2                                              10796                    \n",
       "\n",
       "   Income by School District  Unnamed: 6 Unnamed: 7  \n",
       "0                      61094         NaN        NaN  \n",
       "1                      62833         NaN        NaN  \n",
       "2                      73388         NaN        NaN  "
      ]
     },
     "execution_count": 210,
     "metadata": {},
     "output_type": "execute_result"
    }
   ],
   "source": [
    "# Median Incomes per District\n",
    "income_filepath = 'Median Incomes & Total Expenses Per Pupil by District -- WalletHub.xlsx'\n",
    "income_data_sheet = 'Data'  \n",
    "income_data_df = pd.read_excel(income_expenses_filepath, sheet_name=income_expenses_data_sheet)\n",
    "income_data_df.head(3)"
   ]
  },
  {
   "cell_type": "markdown",
   "id": "1b9a9e4d",
   "metadata": {},
   "source": [
    "### Clean Each Dataset: <a id='2.2.1_Recap_Of_Data_Science_Problem'></a>"
   ]
  },
  {
   "cell_type": "markdown",
   "id": "8952bfc7",
   "metadata": {},
   "source": [
    "The next step is to clean each dataset individually before joining them on District ID (all datasets must have six-digit District IDs). We'll inspect consistency of formats, handle missing values, rename columns for clarity, convert datatypes, check duplications, drop columns, and perform other requisite tasks. Before dropping columns, we want to assess their relevance to the analysis. If a column is clearly irrelevant for any future analysis, it's safe to drop, but we want to be cautious about prematurely dropping columns that may be useful. "
   ]
  },
  {
   "cell_type": "markdown",
   "id": "d473cd48",
   "metadata": {},
   "source": [
    "**Individual Dataset Cleaning:**"
   ]
  },
  {
   "cell_type": "markdown",
   "id": "b8ca6240",
   "metadata": {},
   "source": [
    "**(1) 4-Yr HS Graduation Rates**:"
   ]
  },
  {
   "cell_type": "markdown",
   "id": "9d8ff2c0",
   "metadata": {},
   "source": [
    "TEA calculates two sets of rates: one for state accountability purposes, and one for federal accountability/reporting purposes. This is reflected in the 'CALC_FOR_STATE_ACCT' column. \n",
    "\n",
    "Since our analysis focuses on the state of Texas, using the high school graduation rate calculated for state accountability purposes would be the most appropriate choice to ensure alignment with the state's educational context and policies. Thus, we'll keep the graduation rates where CALC_FOR_STATE_ACCT = 'Yes', and drop the rows where this is marked 'No'. \n",
    "\n",
    "We'll also want to keep the dropout rate ('DIST_ALLR_DROP'), as well as a few additional columns, such as county and region, in case they prove useful later. \n",
    "\n",
    "'COUNTY': County number. \n",
    "\n",
    "'CNTYNAME': County name. \n",
    "\n",
    "'REGION': Region number. \n",
    "\n",
    "'REGNNAME': Region name. \n",
    "\n",
    "'DIST_ALLR_GRAD': District all students graduation rate. \n",
    "\n",
    "'DIST_ALLR_CONT': District all students continuation rate. \n",
    "\n",
    "'DIST_ALLR_TXCHSE': District all students TxCHSE rate. \n",
    "\n",
    "'DIST_ALLR_DROP': District all students dropout rate. "
   ]
  },
  {
   "cell_type": "code",
   "execution_count": 247,
   "id": "c98a9199",
   "metadata": {},
   "outputs": [
    {
     "name": "stdout",
     "output_type": "stream",
     "text": [
      "  calc_for_state_acct  district_id  district_name  county      county_name  \\\n",
      "1                 Yes         1902     Cayuga ISD       1  Anderson County   \n",
      "3                 Yes         1903    Elkhart ISD       1  Anderson County   \n",
      "5                 Yes         1904  Frankston ISD       1  Anderson County   \n",
      "7                 Yes         1906     Neches ISD       1  Anderson County   \n",
      "9                 Yes         1907  Palestine ISD       1  Anderson County   \n",
      "\n",
      "   region region_name  dist_allr_grad  dist_allr_cont dist_allr_txchse  \\\n",
      "1       7     Kilgore            97.8             0.0              0.0   \n",
      "3       7     Kilgore           100.0             0.0              0.0   \n",
      "5       7     Kilgore            97.8             0.0              2.2   \n",
      "7       7     Kilgore           100.0             0.0              0.0   \n",
      "9       7     Kilgore            95.9             4.1              0.0   \n",
      "\n",
      "   dist_allr_drop  \n",
      "1             2.2  \n",
      "3             0.0  \n",
      "5             0.0  \n",
      "7             0.0  \n",
      "9             0.0  \n"
     ]
    }
   ],
   "source": [
    "# 4-Yr HS Graduation Rates Clean-Up\n",
    "\n",
    "grad_df = hs_graduation_data_df\n",
    "\n",
    "\n",
    "# (1) Drop Columns: \n",
    "# Specify the columns to keep:\n",
    "columns_to_keep = ['CALC_FOR_STATE_ACCT', 'District ID', 'District Name', \n",
    "                   'COUNTY', 'CNTYNAME', 'REGION', 'REGNNAME', \n",
    "                   'DIST_ALLR_GRAD', 'DIST_ALLR_CONT', 'DIST_ALLR_TXCHSE', 'DIST_ALLR_DROP']\n",
    "# Drop all other columns\n",
    "grad_df = grad_df[columns_to_keep]\n",
    "# Drop rows where CALC_FOR_STATE_ACCT is 'No'\n",
    "grad_df = grad_df[grad_df['CALC_FOR_STATE_ACCT'] != 'No']\n",
    "\n",
    "\n",
    "\n",
    "# (2) Rename Columns for Clarity and Consistency\n",
    "# Create a dictionary of old column names to new standardized ones\n",
    "rename_dict = {\n",
    "    'District ID': 'district_id',  \n",
    "    'District Name': 'district_name', \n",
    "    'CALC_FOR_STATE_ACCT': 'calc_for_state_acct',\n",
    "    'COUNTY': 'county',\n",
    "    'CNTYNAME': 'county_name',\n",
    "    'REGION': 'region',\n",
    "    'REGNNAME': 'region_name',\n",
    "    'DIST_ALLR_GRAD': 'dist_allr_grad',\n",
    "    'DIST_ALLR_CONT': 'dist_allr_cont',\n",
    "    'DIST_ALLR_TXCHSE': 'dist_allr_txchse',\n",
    "    'DIST_ALLR_DROP': 'dist_allr_drop'\n",
    "}\n",
    "# Rename the columns using the dictionary\n",
    "grad_df = grad_df.rename(columns=rename_dict)\n",
    "\n",
    "\n",
    "# (3) Data Type Conversion\n",
    "# Convert columns to appropriate data types\n",
    "grad_df['district_id'] = grad_df['district_id'].astype(int)  # Convert to integer\n",
    "\n",
    "# Display the first few rows of the modified dataframe\n",
    "print(grad_df.head())\n"
   ]
  },
  {
   "cell_type": "code",
   "execution_count": 212,
   "id": "deb0b746",
   "metadata": {},
   "outputs": [
    {
     "data": {
      "image/png": "[encoded data removed]",
      "text/plain": [
       "<Figure size 1000x600 with 1 Axes>"
      ]
     },
     "metadata": {},
     "output_type": "display_data"
    }
   ],
   "source": [
    "# (4) Outliers: Plotting the histogram\n",
    "plt.figure(figsize=(10, 6))\n",
    "plt.hist(grad_df['dist_allr_grad'], bins=20, color='blue', edgecolor='black')\n",
    "plt.title('Histogram of dist_allr_grad')\n",
    "plt.xlabel('Graduation Rate')\n",
    "plt.ylabel('Frequency')\n",
    "plt.grid(True)\n",
    "plt.show()"
   ]
  },
  {
   "cell_type": "markdown",
   "id": "ce73af24",
   "metadata": {},
   "source": [
    "Looks like we have a few outlier graduation rates between 0 and 20. We're confident the outliers are not due to data entry errors or data corruption, but the result of actual variation in the data (i.e., some districts genuinely have very low graduation rates), and thus, they contain valuable information. Though we'll want to take note of this during the modeling stage due to the sensitivity of some models to outliers, we'll want to keep these for now to understand the factors contributing to extremely low graduation rates. "
   ]
  },
  {
   "cell_type": "code",
   "execution_count": 213,
   "id": "8d96b0a7",
   "metadata": {},
   "outputs": [
    {
     "data": {
      "text/plain": [
       "calc_for_state_acct    0\n",
       "district_id            0\n",
       "district_name          0\n",
       "county                 0\n",
       "county_name            0\n",
       "region                 0\n",
       "region_name            0\n",
       "dist_allr_grad         0\n",
       "dist_allr_cont         0\n",
       "dist_allr_txchse       0\n",
       "dist_allr_drop         0\n",
       "dtype: int64"
      ]
     },
     "execution_count": 213,
     "metadata": {},
     "output_type": "execute_result"
    }
   ],
   "source": [
    "# (5) Check for missing values\n",
    "grad_df.isna().sum()"
   ]
  },
  {
   "cell_type": "markdown",
   "id": "a5b81d22",
   "metadata": {},
   "source": [
    "There are no missing values, which is likely the case with most of the features in our other datasets. We'll then check the datatypes and counts of each feature. "
   ]
  },
  {
   "cell_type": "code",
   "execution_count": 214,
   "id": "deaf6642",
   "metadata": {},
   "outputs": [
    {
     "name": "stdout",
     "output_type": "stream",
     "text": [
      "<class 'pandas.core.frame.DataFrame'>\n",
      "Index: 1077 entries, 1 to 2153\n",
      "Data columns (total 11 columns):\n",
      " #   Column               Non-Null Count  Dtype  \n",
      "---  ------               --------------  -----  \n",
      " 0   calc_for_state_acct  1077 non-null   object \n",
      " 1   district_id          1077 non-null   int64  \n",
      " 2   district_name        1077 non-null   object \n",
      " 3   county               1077 non-null   int64  \n",
      " 4   county_name          1077 non-null   object \n",
      " 5   region               1077 non-null   int64  \n",
      " 6   region_name          1077 non-null   object \n",
      " 7   dist_allr_grad       1077 non-null   float64\n",
      " 8   dist_allr_cont       1077 non-null   float64\n",
      " 9   dist_allr_txchse     1077 non-null   object \n",
      " 10  dist_allr_drop       1077 non-null   float64\n",
      "dtypes: float64(3), int64(3), object(5)\n",
      "memory usage: 101.0+ KB\n"
     ]
    }
   ],
   "source": [
    "grad_df.info()"
   ]
  },
  {
   "cell_type": "markdown",
   "id": "fb0e28c4",
   "metadata": {},
   "source": [
    "**(2) SAT-ACT Scores**"
   ]
  },
  {
   "cell_type": "markdown",
   "id": "97265911",
   "metadata": {},
   "source": [
    "We don't have data on exact SAT-ACT scores, but we do have two different rates that show a percentage of students meeting certain cutoffs. Here are the column definitions: \n",
    "\n",
    "Part_Rate: Percent of graduates taking the SAT and/or ACT. \n",
    "\n",
    "Above_Crit_Rate: Percent of graduating examinees scoring at or above 1180 (SAT total) or 24 (ACT composite). Both these scores are above the national averages. \n",
    "\n",
    "Above_TSI_Both_Rate: Percent of graduating examinees meeting the college-ready graduates TSI benchmarks for the SAT or the ACT on both reading/language arts and mathematics. \n",
    "\n",
    "We'll examine the difference between the two score rates (Above_Crit_Rate and Above_TSI_Both_Rate) to determine which is optimal for gauging student performance. \n",
    "\n",
    "We'll need to combine the participation rates w/ the test score rates to best reflect each district's educational outcomes. "
   ]
  },
  {
   "cell_type": "code",
   "execution_count": 215,
   "id": "84aa8a4d",
   "metadata": {},
   "outputs": [
    {
     "name": "stdout",
     "output_type": "stream",
     "text": [
      "     district_id  district_name  part_rate  above_crit_rate  \\\n",
      "0           1902     Cayuga ISD       63.0             10.3   \n",
      "57          1903    Elkhart ISD       44.9             12.9   \n",
      "114         1904  Frankston ISD       95.6             11.6   \n",
      "171         1906     Neches ISD       54.2             30.8   \n",
      "228         1907  Palestine ISD       36.5             29.4   \n",
      "\n",
      "     above_tsi_both_rate  \n",
      "0                   27.6  \n",
      "57                  41.9  \n",
      "114                 32.6  \n",
      "171                 61.5  \n",
      "228                 56.5  \n"
     ]
    }
   ],
   "source": [
    "# SAT-ACT Scores Clean-Up\n",
    "\n",
    "sat_act_df = sat_act_data_df\n",
    "\n",
    "# (1) Drop Columns\n",
    "# Drop rows where Group is not 'All Students'\n",
    "sat_act_df = sat_act_df[sat_act_df['Group'] == 'All Students']\n",
    "# Specify the columns to keep:\n",
    "columns_to_keep = ['District ID', 'District Name',\n",
    "                   'Part_Rate', 'Above_Crit_Rate', 'Above_TSI_Both_Rate']\n",
    "# Drop all other columns\n",
    "sat_act_df = sat_act_df[columns_to_keep]\n",
    "\n",
    "\n",
    "# (2) Rename Columns for Clarity and Consistency\n",
    "# Create a dictionary of old column names to new standardized ones\n",
    "rename_dict = {\n",
    "    'District ID': 'district_id',  \n",
    "    'District Name': 'district_name', \n",
    "    'Part_Rate': 'part_rate',\n",
    "    'Above_Crit_Rate': 'above_crit_rate',\n",
    "    'Above_TSI_Both_Rate': 'above_tsi_both_rate'\n",
    "}\n",
    "# Rename the columns using the dictionary\n",
    "sat_act_df = sat_act_df.rename(columns=rename_dict)\n",
    "\n",
    "\n",
    "# (3) Data Type Conversion\n",
    "# Convert columns to appropriate data types\n",
    "sat_act_df['district_id'] = sat_act_df['district_id'].astype(int)  # Convert to integer\n",
    "\n",
    "\n",
    "\n",
    "# Display the first few rows of the modified dataframe\n",
    "print(sat_act_df.head())"
   ]
  },
  {
   "cell_type": "markdown",
   "id": "7f03742b",
   "metadata": {},
   "source": [
    "Let's examine the two different score rates, and the outliers among both. "
   ]
  },
  {
   "cell_type": "code",
   "execution_count": 216,
   "id": "1afa5684",
   "metadata": {},
   "outputs": [
    {
     "data": {
      "image/png": "[encoded data removed]",
      "text/plain": [
       "<Figure size 1400x600 with 2 Axes>"
      ]
     },
     "metadata": {},
     "output_type": "display_data"
    }
   ],
   "source": [
    "# (4) Outliers: Plotting the histogram\n",
    "\n",
    "# Create a figure with two subplots side by side\n",
    "fig, axes = plt.subplots(nrows=1, ncols=2, figsize=(14, 6))\n",
    "\n",
    "# Plot the histogram for 'above_crit_rate' on the first subplot\n",
    "axes[0].hist(sat_act_df['above_crit_rate'], bins=20, color='red', edgecolor='black')\n",
    "axes[0].set_title('Histogram of above_crit_rate')\n",
    "axes[0].set_xlabel('SAT-ACT Scores Critical Rate')\n",
    "axes[0].set_ylabel('Frequency')\n",
    "\n",
    "# Plot the histogram for 'above_tsi_both_rate' on the second subplot\n",
    "axes[1].hist(sat_act_df['above_tsi_both_rate'], bins=20, color='grey', edgecolor='black')\n",
    "axes[1].set_title('Histogram of above_tsi_both_rate')\n",
    "axes[1].set_xlabel('SAT-ACT Scores TSI Rate')\n",
    "axes[1].set_ylabel('Frequency')\n",
    "\n",
    "# Adjust the layout\n",
    "plt.tight_layout()\n",
    "plt.show()"
   ]
  },
  {
   "cell_type": "markdown",
   "id": "03af4109",
   "metadata": {},
   "source": [
    "The histogram for Above_Crit_Rate shows a bimodal distribution with a significant number of districts at the lower end of the scale and a smaller peak at the higher end near 100. This could indicate a split in the performance of districts, with some performing significantly better than others. This variable might be more straightforward for comparison and could be suitable since we're interested in factors that lead to higher-than-average SAT-ACT performance."
   ]
  },
  {
   "cell_type": "markdown",
   "id": "4a0b6589",
   "metadata": {},
   "source": [
    "The histogram for Above_TSI_Both_Rate is more normally distributed with a single peak, showing that performance on the TSI benchmarks is more evenly spread across districts. This target variable includes requirements for both reading/language arts and mathematics, which could provide a more complete view of college readiness. \n",
    "\n",
    "However, from comparing both distributions, the TSI benchmarks appear to be less stringent than the Above_Crit_Rate scores. This indicates they may not be as high as the national average scores used in the Above_Crit_Rate, so it may be less indicative of student success, which is ultimately what we're trying to discern. "
   ]
  },
  {
   "cell_type": "code",
   "execution_count": 217,
   "id": "83f9882a",
   "metadata": {},
   "outputs": [
    {
     "data": {
      "text/plain": [
       "district_id              0\n",
       "district_name            0\n",
       "part_rate                9\n",
       "above_crit_rate        141\n",
       "above_tsi_both_rate     73\n",
       "dtype: int64"
      ]
     },
     "execution_count": 217,
     "metadata": {},
     "output_type": "execute_result"
    }
   ],
   "source": [
    "# (5) Check for missing values\n",
    "sat_act_df.isna().sum()"
   ]
  },
  {
   "cell_type": "code",
   "execution_count": 248,
   "id": "2ec222f4",
   "metadata": {},
   "outputs": [
    {
     "name": "stdout",
     "output_type": "stream",
     "text": [
      "<class 'pandas.core.frame.DataFrame'>\n",
      "Index: 1078 entries, 0 to 61389\n",
      "Data columns (total 5 columns):\n",
      " #   Column               Non-Null Count  Dtype  \n",
      "---  ------               --------------  -----  \n",
      " 0   district_id          1078 non-null   int64  \n",
      " 1   district_name        1078 non-null   object \n",
      " 2   part_rate            1069 non-null   float64\n",
      " 3   above_crit_rate      937 non-null    float64\n",
      " 4   above_tsi_both_rate  1005 non-null   float64\n",
      "dtypes: float64(3), int64(1), object(1)\n",
      "memory usage: 50.5+ KB\n"
     ]
    }
   ],
   "source": [
    "# Check for datatypes\n",
    "sat_act_df.info()"
   ]
  },
  {
   "cell_type": "markdown",
   "id": "6ca70d91",
   "metadata": {},
   "source": [
    "**Choice of score rate:** Though there are a bit more missing values, we're going to choose the Above_Crit_Rate since our focus is on high achievement in standardized testing, rather than a less clearly defined college readiness indicator. "
   ]
  },
  {
   "cell_type": "markdown",
   "id": "ec3f6c3e",
   "metadata": {},
   "source": [
    "**(3) District Funding Totals**"
   ]
  },
  {
   "cell_type": "markdown",
   "id": "c7253fde",
   "metadata": {},
   "source": [
    "We'll focus on state, local, and federal funding amounts, as this gives a clear and direct measure of the funds that are most likely to impact day-to-day school operations and educational programs, which are central to student success. These categories are also more standardized in financial reporting compared to other types of disbursements, which is key for comparing across districts."
   ]
  },
  {
   "cell_type": "code",
   "execution_count": 219,
   "id": "f4f10cd6",
   "metadata": {},
   "outputs": [
    {
     "name": "stdout",
     "output_type": "stream",
     "text": [
      "    district_id  district_name  year  fall_enrollment  gen_funds_local_tax_mo  \\\n",
      "15         1902     CAYUGA ISD  2022              574                 3094212   \n",
      "31         1903    ELKHART ISD  2022             1150                 3224720   \n",
      "47         1904  FRANKSTON ISD  2022              808                 2870023   \n",
      "63         1906     NECHES ISD  2022              342                 1199703   \n",
      "79         1907  PALESTINE ISD  2022             3360                12493095   \n",
      "\n",
      "    all_funds_local_tax_mo  gen_funds_other_local_revenue  \\\n",
      "15                 3094212                         221819   \n",
      "31                 3224720                         173822   \n",
      "47                 2870023                          78103   \n",
      "63                 1199703                          26941   \n",
      "79                12493095                        1360597   \n",
      "\n",
      "    all_funds_other_local_revenue  gen_funds_local_tax_is  \\\n",
      "15                        1776451                       0   \n",
      "31                         614755                       0   \n",
      "47                         208546                       0   \n",
      "63                          76134                       0   \n",
      "79                        2247633                       0   \n",
      "\n",
      "    all_funds_local_tax_is  gen_funds_state_revenue  all_funds_state_revenue  \\\n",
      "15                       0                  4197261                  4204460   \n",
      "31                  745177                  9529732                  9840988   \n",
      "47                  854378                  6885445                  6903713   \n",
      "63                  349702                  2938953                  2971286   \n",
      "79                 3893447                 21888639                 22548859   \n",
      "\n",
      "    gen_funds_state_debt  all_funds_state_debt  gen_funds_state_trs_contrib  \\\n",
      "15                     0                     0                       324439   \n",
      "31                     0                200495                       647890   \n",
      "47                     0                 23322                       386800   \n",
      "63                     0                  8746                       216591   \n",
      "79                     0                149609                      1714277   \n",
      "\n",
      "    all_funds_state_trs_contrib  gen_funds_state_comp_ed_expend  \\\n",
      "15                       376364                          275376   \n",
      "31                       647890                          596254   \n",
      "47                       390575                          498095   \n",
      "63                       225853                          282104   \n",
      "79                      1736537                         1453718   \n",
      "\n",
      "    all_funds_state_comp_ed_expend  gen_funds_federal_revenue  \\\n",
      "15                          893512                      91436   \n",
      "31                          952592                     164299   \n",
      "47                         1766516                          0   \n",
      "63                          567998                      43644   \n",
      "79                         3223488                     839081   \n",
      "\n",
      "    all_funds_federal_revenue  \n",
      "15                    2647825  \n",
      "31                    2411332  \n",
      "47                    2734519  \n",
      "63                     901938  \n",
      "79                   10213015  \n"
     ]
    }
   ],
   "source": [
    "# District Funding Totals Clean-Up\n",
    "\n",
    "funding_df = peims_funding_data_df\n",
    "\n",
    "# (1) Drop Columns\n",
    "# Drop rows where YEAR is not 2022\n",
    "funding_df = funding_df[funding_df['YEAR'] == 2022]\n",
    "# Specify the columns to keep:\n",
    "columns_to_keep = ['District ID', 'District Name', 'YEAR',\n",
    "                   # Enrollment Numbers: \n",
    "                   'FALL SURVEY ENROLLMENT',\n",
    "                   # Local Funding Amount Columns: \n",
    "                   'GEN FUNDS-LOCAL TAX REVENUE FROM M&O', 'ALL FUNDS-LOCAL TAX REVENUE FROM M&O',\n",
    "                   'GEN FUNDS-OTHER LOCAL & INTERMEDIATE REVENUE', 'ALL FUNDS-OTHER LOCAL & INTERMEDIATE REVENUE',\n",
    "                   'GEN FUNDS-LOCAL PROPERTY TAXES FROM I&S', 'ALL FUNDS-LOCAL PROPERTY TAXES FROM I&S',\n",
    "                   # State Funding Amount Columns: \n",
    "                   'GEN FUNDS-STATE REVENUE', 'ALL FUNDS-STATE REVENUE', 'GEN FUNDS-STATE DEBT FUNDS', \n",
    "                   'ALL FUNDS-STATE DEBT FUNDS', 'GEN FUNDS-ESTIMATED STATE TRS CONTRIBUTIONS', \n",
    "                   'ALL FUNDS-ESTIMATED STATE TRS CONTRIBUTIONS',\n",
    "                   'GEN FUNDS-STATE COMPENSATORY ED EXPEND--24, 26, 28, 29, 30, 34',\n",
    "                   'ALL FUNDS-STATE COMPENSATORY ED EXPEND--24, 26, 28, 29, 30, 34',\n",
    "                   # Federal Funding Amount Columns:\n",
    "                   'GEN FUNDS-FEDERAL REVENUE', 'ALL FUNDS-FEDERAL REVENUE']\n",
    "# Drop all other columns\n",
    "funding_df = funding_df[columns_to_keep]\n",
    "\n",
    "\n",
    "# (2) Rename Columns for Clarity and Consistency\n",
    "# Create a dictionary of old column names to new standardized ones\n",
    "rename_dict = {\n",
    "    'District ID': 'district_id',  \n",
    "    'District Name': 'district_name', \n",
    "    'YEAR': 'year',\n",
    "    'FALL SURVEY ENROLLMENT': 'fall_enrollment',\n",
    "    'GEN FUNDS-LOCAL TAX REVENUE FROM M&O': 'gen_funds_local_tax_mo',\n",
    "    'ALL FUNDS-LOCAL TAX REVENUE FROM M&O': 'all_funds_local_tax_mo',\n",
    "    'GEN FUNDS-OTHER LOCAL & INTERMEDIATE REVENUE': 'gen_funds_other_local_revenue',\n",
    "    'ALL FUNDS-OTHER LOCAL & INTERMEDIATE REVENUE': 'all_funds_other_local_revenue',\n",
    "    'GEN FUNDS-LOCAL PROPERTY TAXES FROM I&S': 'gen_funds_local_tax_is',\n",
    "    'ALL FUNDS-LOCAL PROPERTY TAXES FROM I&S': 'all_funds_local_tax_is',\n",
    "    'GEN FUNDS-STATE REVENUE': 'gen_funds_state_revenue',\n",
    "    'ALL FUNDS-STATE REVENUE': 'all_funds_state_revenue',\n",
    "    'GEN FUNDS-STATE DEBT FUNDS': 'gen_funds_state_debt',\n",
    "    'ALL FUNDS-STATE DEBT FUNDS': 'all_funds_state_debt',\n",
    "    'GEN FUNDS-ESTIMATED STATE TRS CONTRIBUTIONS': 'gen_funds_state_trs_contrib',\n",
    "    'ALL FUNDS-ESTIMATED STATE TRS CONTRIBUTIONS': 'all_funds_state_trs_contrib',\n",
    "    'GEN FUNDS-STATE COMPENSATORY ED EXPEND--24, 26, 28, 29, 30, 34': 'gen_funds_state_comp_ed_expend',\n",
    "    'ALL FUNDS-STATE COMPENSATORY ED EXPEND--24, 26, 28, 29, 30, 34': 'all_funds_state_comp_ed_expend',\n",
    "    'GEN FUNDS-FEDERAL REVENUE': 'gen_funds_federal_revenue',\n",
    "    'ALL FUNDS-FEDERAL REVENUE': 'all_funds_federal_revenue'\n",
    "}\n",
    "# Rename the columns using the dictionary\n",
    "funding_df = funding_df.rename(columns=rename_dict)\n",
    "\n",
    "\n",
    "# (3) Data Type Conversion\n",
    "# Convert columns to appropriate data types\n",
    "funding_df['district_id'] = funding_df['district_id'].astype(int)  # Convert to integer\n",
    "\n",
    "\n",
    "# Display the first few rows of the modified dataframe\n",
    "print(funding_df.head())"
   ]
  },
  {
   "cell_type": "markdown",
   "id": "acbb611c",
   "metadata": {},
   "source": [
    "We'll leave funding amounts alone for now, but revisit them later during feature engineering. We can check the distribution of students enrolled to see where the outliers lie. "
   ]
  },
  {
   "cell_type": "code",
   "execution_count": 220,
   "id": "a4b6effd",
   "metadata": {},
   "outputs": [
    {
     "data": {
      "image/png": "[encoded data removed]",
      "text/plain": [
       "<Figure size 1000x600 with 1 Axes>"
      ]
     },
     "metadata": {},
     "output_type": "display_data"
    }
   ],
   "source": [
    "# (4) Outliers: Plotting the histogram\n",
    "plt.figure(figsize=(10, 6))\n",
    "plt.hist(funding_df['fall_enrollment'], bins=20, color='yellow', edgecolor='black')\n",
    "plt.title('Histogram of fall_enrollment')\n",
    "plt.xlabel('Enrolled Students')\n",
    "plt.ylabel('Frequency')\n",
    "plt.grid(True)\n",
    "plt.show()"
   ]
  },
  {
   "cell_type": "markdown",
   "id": "09805a16",
   "metadata": {},
   "source": [
    "Looks like enrollment numbers are extremely right skewed, so we'll examine these outliers. "
   ]
  },
  {
   "cell_type": "code",
   "execution_count": 221,
   "id": "f067e6ac",
   "metadata": {},
   "outputs": [
    {
     "name": "stdout",
     "output_type": "stream",
     "text": [
      "              district_name  fall_enrollment\n",
      "1443          NORTHSIDE ISD           101584\n",
      "4589             DALLAS ISD           143430\n",
      "8527  CYPRESS-FAIRBANKS ISD           116913\n",
      "8598            HOUSTON ISD           193727\n"
     ]
    }
   ],
   "source": [
    "selected_districts = funding_df.loc[funding_df['fall_enrollment'] > 100000, ['district_name', 'fall_enrollment']]\n",
    "print(selected_districts)"
   ]
  },
  {
   "cell_type": "markdown",
   "id": "3cb68475",
   "metadata": {},
   "source": [
    "Though these districts have much higher enrollment than other districts, these are correct amounts and will be used for multiple engineered features in a later stage, so we don't need to remove them. "
   ]
  },
  {
   "cell_type": "code",
   "execution_count": 222,
   "id": "5dc55e98",
   "metadata": {},
   "outputs": [
    {
     "data": {
      "text/plain": [
       "district_id                       0\n",
       "district_name                     0\n",
       "year                              0\n",
       "fall_enrollment                   0\n",
       "gen_funds_local_tax_mo            0\n",
       "all_funds_local_tax_mo            0\n",
       "gen_funds_other_local_revenue     0\n",
       "all_funds_other_local_revenue     0\n",
       "gen_funds_local_tax_is            0\n",
       "all_funds_local_tax_is            0\n",
       "gen_funds_state_revenue           0\n",
       "all_funds_state_revenue           0\n",
       "gen_funds_state_debt              0\n",
       "all_funds_state_debt              0\n",
       "gen_funds_state_trs_contrib       0\n",
       "all_funds_state_trs_contrib       0\n",
       "gen_funds_state_comp_ed_expend    0\n",
       "all_funds_state_comp_ed_expend    0\n",
       "gen_funds_federal_revenue         0\n",
       "all_funds_federal_revenue         0\n",
       "dtype: int64"
      ]
     },
     "execution_count": 222,
     "metadata": {},
     "output_type": "execute_result"
    }
   ],
   "source": [
    "# (5) Check for missing values\n",
    "funding_df.isna().sum()"
   ]
  },
  {
   "cell_type": "markdown",
   "id": "495c67de",
   "metadata": {},
   "source": [
    "**(4) District Property Values**:"
   ]
  },
  {
   "cell_type": "markdown",
   "id": "a8d8ed4a",
   "metadata": {},
   "source": [
    "We'll focus on total property values per district, and keep the total tax rate just in case.  "
   ]
  },
  {
   "cell_type": "code",
   "execution_count": 223,
   "id": "31e37cd7",
   "metadata": {},
   "outputs": [
    {
     "name": "stdout",
     "output_type": "stream",
     "text": [
      "   district_id  district_name  total_tax_rate  total_property_value\n",
      "0       109901     Abbott ISD          1.2145             115843601\n",
      "1        95901  Abernathy ISD          1.3817             465947826\n",
      "2       221901    Abilene ISD          1.2784            5394710556\n",
      "3        14901    Academy ISD          1.3671             631794068\n",
      "4       180903     Adrian ISD          1.2318              65809401\n"
     ]
    }
   ],
   "source": [
    "# District Property Values Clean-Up\n",
    "\n",
    "property_values_df = property_values_data_df\n",
    "\n",
    "# (1) Drop Columns\n",
    "# Specify the columns to keep:\n",
    "columns_to_keep = ['District ID', 'District Name',\n",
    "                   'Total Tax Rate ', 'Total Property Value']\n",
    "# Drop all other columns\n",
    "property_values_df = property_values_df[columns_to_keep]\n",
    "\n",
    "\n",
    "# (2) Rename Columns for Clarity and Consistency\n",
    "# Create a dictionary of old column names to new standardized ones\n",
    "rename_dict = {\n",
    "    'District ID': 'district_id',  \n",
    "    'District Name': 'district_name',\n",
    "    'Total Tax Rate ': 'total_tax_rate',\n",
    "    'Total Property Value': 'total_property_value'\n",
    "}\n",
    "# Rename the columns using the dictionary\n",
    "property_values_df = property_values_df.rename(columns=rename_dict)\n",
    "\n",
    "\n",
    "# (3) Data Type Conversion\n",
    "# Convert columns to appropriate data types\n",
    "property_values_df['district_id'] = property_values_df['district_id'].astype(int)  # Convert to integer\n",
    "\n",
    "\n",
    "# Display the first few rows of the modified dataframe\n",
    "print(property_values_df.head())"
   ]
  },
  {
   "cell_type": "code",
   "execution_count": 224,
   "id": "52b308a7",
   "metadata": {},
   "outputs": [
    {
     "data": {
      "image/png": "[encoded data removed]",
      "text/plain": [
       "<Figure size 1000x600 with 1 Axes>"
      ]
     },
     "metadata": {},
     "output_type": "display_data"
    }
   ],
   "source": [
    "# (4) Outliers: Plotting the histogram\n",
    "plt.figure(figsize=(10, 6))\n",
    "plt.hist(property_values_df['total_property_value'], bins=20, color='orange', edgecolor='black')\n",
    "plt.title('Histogram of total_property_value')\n",
    "plt.xlabel('Property Values (B for Billion)')\n",
    "plt.ylabel('Frequency')\n",
    "\n",
    "# Function to format the x-axis labels as billions with a 'B' suffix\n",
    "def billions_formatter(x, pos):\n",
    "    return '%1.1fB' % (x * 1e-9)\n",
    "\n",
    "# Set the formatter for the x-axis\n",
    "plt.gca().xaxis.set_major_formatter(ticker.FuncFormatter(billions_formatter))\n",
    "\n",
    "# Enable grid\n",
    "plt.grid(True)\n",
    "\n",
    "# Show the plot\n",
    "plt.show()"
   ]
  },
  {
   "cell_type": "markdown",
   "id": "707c47f2",
   "metadata": {},
   "source": [
    "Once again, we don't want to remove these outliers yet as they are legitimate property values, but it's helpful to see how extreme some property values become in certain districts. It will be interesting to see if this has any impact on student performance later. "
   ]
  },
  {
   "cell_type": "code",
   "execution_count": 225,
   "id": "f3f2f461",
   "metadata": {},
   "outputs": [
    {
     "data": {
      "text/plain": [
       "district_id             0\n",
       "district_name           0\n",
       "total_tax_rate          0\n",
       "total_property_value    0\n",
       "dtype: int64"
      ]
     },
     "execution_count": 225,
     "metadata": {},
     "output_type": "execute_result"
    }
   ],
   "source": [
    "# (5) Check for missing values\n",
    "property_values_df.isna().sum()"
   ]
  },
  {
   "cell_type": "markdown",
   "id": "e8450b47",
   "metadata": {},
   "source": [
    "**(5) AP-IB Scores & Participation**"
   ]
  },
  {
   "cell_type": "markdown",
   "id": "bfaee622",
   "metadata": {},
   "source": [
    "We'll need both the percentages of students scoring well on AP/IB exams, and the corresponding participation rates. \n",
    "\n",
    "Exnees_Above_Crit_Rate: \"Percent of examinees in Grades 11 and 12 scoring at or above 3 (AP) or 4 (IB) on at least one exam.\" \n",
    "\n",
    "Part_Rate: \"Percent of students in Grades 11 and 12 taking at least one AP or IB exam.\" \n",
    "\n",
    "We'll want to keep the two variables as separate features in our analysis, since our hypothesis is not just that students scoring well on these exams are more likely to succeed, but also simply having the option to participate leads to better educational outcomes. "
   ]
  },
  {
   "cell_type": "code",
   "execution_count": 226,
   "id": "0b39fffe",
   "metadata": {},
   "outputs": [
    {
     "name": "stdout",
     "output_type": "stream",
     "text": [
      "     district_id    district_name  part_rate  exnees_above_crit_rate\n",
      "0          14909       Temple ISD       18.2                    50.5\n",
      "57         15907  San Antonio ISD       24.2                    29.8\n",
      "114        15916       Judson ISD       10.3                    51.3\n",
      "171        21902        Bryan ISD       19.5                    48.1\n",
      "228        31916  South Texas ISD       73.1                    44.2\n"
     ]
    }
   ],
   "source": [
    "# AP-IB Scores & Participation Clean-Up\n",
    "\n",
    "ap_ib_scores_df = ap_ib_scores_data_df\n",
    "\n",
    "# (1) Drop Columns\n",
    "# Drop rows where Group is not 'All Students'\n",
    "ap_ib_scores_df = ap_ib_scores_df[ap_ib_scores_df['Group'] == 'All Students']\n",
    "# Specify the columns to keep:\n",
    "columns_to_keep = ['District ID', 'District Name',\n",
    "                   'Part_Rate', 'Exnees_Above_Crit_Rate']\n",
    "# Drop all other columns\n",
    "ap_ib_scores_df = ap_ib_scores_df[columns_to_keep]\n",
    "\n",
    "\n",
    "# (2) Rename Columns for Clarity and Consistency\n",
    "# Create a dictionary of old column names to new standardized ones\n",
    "rename_dict = {\n",
    "    'District ID': 'district_id',  \n",
    "    'District Name': 'district_name', \n",
    "    'Part_Rate': 'part_rate',\n",
    "    'Exnees_Above_Crit_Rate': 'exnees_above_crit_rate'\n",
    "}\n",
    "# Rename the columns using the dictionary\n",
    "ap_ib_scores_df = ap_ib_scores_df.rename(columns=rename_dict)\n",
    "\n",
    "\n",
    "# (3) Data Type Conversion\n",
    "# Convert columns to appropriate data types\n",
    "ap_ib_scores_df['district_id'] = ap_ib_scores_df['district_id'].astype(int)  # Convert to integer\n",
    "\n",
    "\n",
    "\n",
    "# Display the first few rows of the modified dataframe\n",
    "print(ap_ib_scores_df.head())"
   ]
  },
  {
   "cell_type": "code",
   "execution_count": 227,
   "id": "d152db05",
   "metadata": {},
   "outputs": [
    {
     "data": {
      "image/png": "[encoded data removed]",
      "text/plain": [
       "<Figure size 1400x600 with 2 Axes>"
      ]
     },
     "metadata": {},
     "output_type": "display_data"
    }
   ],
   "source": [
    "# (4) Outliers: Plotting the histograms\n",
    "# Create a figure with two subplots side by side\n",
    "fig, axes = plt.subplots(nrows=1, ncols=2, figsize=(14, 6))\n",
    "\n",
    "# Plot the histogram for 'part_rate' on the first subplot\n",
    "axes[0].hist(ap_ib_scores_df['part_rate'], bins=20, color='skyblue', edgecolor='black')\n",
    "axes[0].set_title('Histogram of Part Rate')\n",
    "axes[0].set_xlabel('Participation Rate')\n",
    "axes[0].set_ylabel('Frequency')\n",
    "\n",
    "# Plot the histogram for 'exnees_above_crit_rate' on the second subplot\n",
    "axes[1].hist(ap_ib_scores_df['exnees_above_crit_rate'], bins=20, color='salmon', edgecolor='black')\n",
    "axes[1].set_title('Histogram of Examinees Above Crit Rate')\n",
    "axes[1].set_xlabel('Examinees Above Critical Rate')\n",
    "axes[1].set_ylabel('Frequency')\n",
    "\n",
    "# Adjust the layout\n",
    "plt.tight_layout()\n",
    "plt.show()"
   ]
  },
  {
   "cell_type": "markdown",
   "id": "7e7cf99f",
   "metadata": {},
   "source": [
    "The multimodal nature of both distributions implies that there is no single typical value for either participation rate or critical score rate across districts; instead, there are a spread of districts across different rate intervals. \n",
    "Both histograms suggest that higher rates of participation and examinees scoring above the critical threshold are less frequent."
   ]
  },
  {
   "cell_type": "code",
   "execution_count": 228,
   "id": "5fc7f630",
   "metadata": {},
   "outputs": [
    {
     "data": {
      "text/plain": [
       "district_id               0\n",
       "district_name             0\n",
       "part_rate                 0\n",
       "exnees_above_crit_rate    0\n",
       "dtype: int64"
      ]
     },
     "execution_count": 228,
     "metadata": {},
     "output_type": "execute_result"
    }
   ],
   "source": [
    "# (5) Check for missing values\n",
    "ap_ib_scores_df.isna().sum()"
   ]
  },
  {
   "cell_type": "markdown",
   "id": "6399d477",
   "metadata": {},
   "source": [
    "**(6) Teacher Count and Avg Salary:**"
   ]
  },
  {
   "cell_type": "markdown",
   "id": "a516b088",
   "metadata": {},
   "source": [
    "This has data on all staff types aside from teaching, such as admin, support, and others. We're focused on number of teachers and student-teacher ratios, so we'll exclude all but the teaching staff. "
   ]
  },
  {
   "cell_type": "code",
   "execution_count": 229,
   "id": "59e038a3",
   "metadata": {},
   "outputs": [
    {
     "name": "stdout",
     "output_type": "stream",
     "text": [
      "     district_id                 district_name  fte_count  total_base_pay  \\\n",
      "15         57816  A W BROWN LEADERSHIP ACADEMY      70.87       3678934.0   \n",
      "60         57829                    A+ ACADEMY      82.37       5146393.0   \n",
      "109       101871        A+ UNLIMITED POTENTIAL       8.88        568678.0   \n",
      "137       109901                    ABBOTT ISD      23.56       1275795.0   \n",
      "169        95901                 ABERNATHY ISD      71.96       3703323.0   \n",
      "\n",
      "     avg_base_pay  \n",
      "15        51912.0  \n",
      "60        62482.0  \n",
      "109       64047.0  \n",
      "137       54155.0  \n",
      "169       51462.0  \n"
     ]
    }
   ],
   "source": [
    "# Teacher Count and Avg Salary Clean-Up\n",
    "\n",
    "teacher_df = peims_teacher_data_df\n",
    "\n",
    "# Drop rows where Staff is not 'TOTAL TEACHING STAFF'\n",
    "teacher_df = teacher_df[teacher_df['Staff'] == 'TOTAL TEACHING STAFF']\n",
    "\n",
    "# Specify the columns to keep:\n",
    "columns_to_keep = ['District ID', 'District Name',\n",
    "                   'FTE Count', 'Total Base Pay', 'Average Base Pay']\n",
    "\n",
    "# Drop all other columns\n",
    "teacher_df = teacher_df[columns_to_keep]\n",
    "\n",
    "\n",
    "# (2) Rename Columns for Clarity and Consistency\n",
    "# Create a dictionary of old column names to new standardized ones\n",
    "rename_dict = {\n",
    "    'District ID': 'district_id',  \n",
    "    'District Name': 'district_name', \n",
    "    'FTE Count': 'fte_count',\n",
    "    'Total Base Pay': 'total_base_pay', \n",
    "    'Average Base Pay': 'avg_base_pay'\n",
    "}\n",
    "# Rename the columns using the dictionary\n",
    "teacher_df = teacher_df.rename(columns=rename_dict)\n",
    "\n",
    "\n",
    "# (3) Data Type Conversion\n",
    "# Convert columns to appropriate data types\n",
    "teacher_df['district_id'] = teacher_df['district_id'].astype(int)  # Convert to integer\n",
    "\n",
    "\n",
    "\n",
    "# Display the first few rows of the modified dataframe\n",
    "print(teacher_df.head())"
   ]
  },
  {
   "cell_type": "code",
   "execution_count": 230,
   "id": "39ac7daa",
   "metadata": {},
   "outputs": [
    {
     "data": {
      "image/png": "[encoded data removed]",
      "text/plain": [
       "<Figure size 1800x500 with 3 Axes>"
      ]
     },
     "metadata": {},
     "output_type": "display_data"
    }
   ],
   "source": [
    "# (4) Outliers: Plotting the histograms\n",
    "\n",
    "fig, axes = plt.subplots(1, 3, figsize=(18, 5), sharey=True)\n",
    "\n",
    "# Histogram for 'fte_count'\n",
    "axes[0].hist(teacher_df['fte_count'], bins=20, color='skyblue', edgecolor='black')\n",
    "axes[0].set_title('Histogram of FTE Count', fontweight='bold')\n",
    "axes[0].set_xlabel('Full-Time Employed Teachers Count', fontweight='bold')\n",
    "axes[0].set_ylabel('Frequency', fontweight='bold')\n",
    "\n",
    "# Histogram for 'total_base_pay'\n",
    "axes[1].hist(teacher_df['total_base_pay'], bins=20, color='salmon', edgecolor='black')\n",
    "axes[1].set_title('Histogram of Total Base Pay', fontweight='bold')\n",
    "axes[1].set_xlabel('Total Base Pay (M for Million)', fontweight='bold')\n",
    "# Function to format the x-axis labels as millions with an 'M' suffix\n",
    "def millions_formatter(x, pos):\n",
    "    return '%1.1fM' % (x * 1e-6)\n",
    "# Set the formatter for the x-axis\n",
    "plt.gca().xaxis.set_major_formatter(ticker.FuncFormatter(millions_formatter))\n",
    "\n",
    "# Histogram for 'avg_base_pay'\n",
    "axes[2].hist(teacher_df['avg_base_pay'], bins=20, color='lightgreen', edgecolor='black')\n",
    "axes[2].set_title('Histogram of Avg Base Pay', fontweight='bold')\n",
    "axes[2].set_xlabel('Average Base Pay (in Tens of Thousands)', fontweight='bold')\n",
    "# Function to format the x-axis labels as tens of thousands\n",
    "def tens_of_thousands(x, pos):\n",
    "    'The two args are the value and tick position'\n",
    "    return '%1.0fK' % (x * 1e-3)\n",
    "# Set the formatter for the x-axis\n",
    "plt.gca().xaxis.set_major_formatter(ticker.FuncFormatter(tens_of_thousands))\n",
    "\n",
    "# Set the fontweight of the axis labels to bold\n",
    "plt.tick_params(axis='both', which='major', labelsize=10)\n",
    "\n",
    "\n",
    "# Display the histograms\n",
    "plt.tight_layout()\n",
    "plt.show()"
   ]
  },
  {
   "cell_type": "markdown",
   "id": "44fffa94",
   "metadata": {},
   "source": [
    "The first two histograms are nearly identical, showing the vast majority of districts have a small number of full-time employed teachers and low total base pay. The Average Base Pay is more normally distributed with much less variance. We'll want to use total teachers count in feature engineering later to get a more meaningful stat per student count. "
   ]
  },
  {
   "cell_type": "code",
   "execution_count": 231,
   "id": "7c8d029f",
   "metadata": {},
   "outputs": [
    {
     "data": {
      "text/plain": [
       "district_id       0\n",
       "district_name     0\n",
       "fte_count         0\n",
       "total_base_pay    0\n",
       "avg_base_pay      0\n",
       "dtype: int64"
      ]
     },
     "execution_count": 231,
     "metadata": {},
     "output_type": "execute_result"
    }
   ],
   "source": [
    "# (5) Check for missing values\n",
    "teacher_df.isna().sum()"
   ]
  },
  {
   "cell_type": "markdown",
   "id": "48314f37",
   "metadata": {},
   "source": [
    "**(7) Average Daily Attendance (ADA):**"
   ]
  },
  {
   "cell_type": "markdown",
   "id": "9e448b2f",
   "metadata": {},
   "source": [
    "We'll keep ADA for 2021-2022. "
   ]
  },
  {
   "cell_type": "code",
   "execution_count": 232,
   "id": "610de54a",
   "metadata": {},
   "outputs": [
    {
     "name": "stdout",
     "output_type": "stream",
     "text": [
      "   district_id                       district_name  2021-2022_ada\n",
      "0       178806  21ST CENTURY ACADEMY OF SCIENCE AN          0.000\n",
      "1        57816        A W BROWN LEADERSHIP ACADEMY        880.776\n",
      "2        57829                          A+ ACADEMY       1388.241\n",
      "3       101871              A+ UNLIMITED POTENTIAL        132.817\n",
      "4       109901                          ABBOTT ISD        263.757\n"
     ]
    }
   ],
   "source": [
    "# Average Daily Attendance (ADA) Clean-Up\n",
    "\n",
    "ada_df = ada_data_df\n",
    "\n",
    "# Specify the columns to keep:\n",
    "columns_to_keep = ['District ID', 'District Name',\n",
    "                   '2021-2022 ADA']\n",
    "\n",
    "# Drop all other columns\n",
    "ada_df = ada_df[columns_to_keep]\n",
    "\n",
    "\n",
    "# (2) Rename Columns for Clarity and Consistency\n",
    "# Create a dictionary of old column names to new standardized ones\n",
    "rename_dict = {\n",
    "    'District ID': 'district_id',  \n",
    "    'District Name': 'district_name', \n",
    "    '2021-2022 ADA': '2021-2022_ada'\n",
    "}\n",
    "# Rename the columns using the dictionary\n",
    "ada_df = ada_df.rename(columns=rename_dict)\n",
    "\n",
    "\n",
    "# (3) Data Type Conversion\n",
    "# Convert columns to appropriate data types\n",
    "ada_df['district_id'] = ada_df['district_id'].astype(int)  # Convert to integer\n",
    "\n",
    "\n",
    "\n",
    "# Display the first few rows of the modified dataframe\n",
    "print(ada_df.head())"
   ]
  },
  {
   "cell_type": "code",
   "execution_count": 233,
   "id": "013e898b",
   "metadata": {},
   "outputs": [
    {
     "data": {
      "image/png": "[encoded data removed]",
      "text/plain": [
       "<Figure size 1000x600 with 1 Axes>"
      ]
     },
     "metadata": {},
     "output_type": "display_data"
    }
   ],
   "source": [
    "# (4) Outliers: Plotting the histogram\n",
    "plt.figure(figsize=(10, 6))\n",
    "plt.hist(ada_df['2021-2022_ada'], bins=20, color='purple', edgecolor='black')\n",
    "plt.title('Histogram of 2021-2022_ada')\n",
    "plt.xlabel('Average Daily Attendance')\n",
    "plt.ylabel('Frequency')\n",
    "plt.grid(True)\n",
    "plt.show()"
   ]
  },
  {
   "cell_type": "markdown",
   "id": "7106b14e",
   "metadata": {},
   "source": [
    "Just like many of the other features, ADA is heavily skewed to the right, indicating there are huge districts with many more students than the other districts (as we've analyzed with the total enrolled metric). "
   ]
  },
  {
   "cell_type": "code",
   "execution_count": 234,
   "id": "fa2a8443",
   "metadata": {},
   "outputs": [
    {
     "data": {
      "text/plain": [
       "district_id      0\n",
       "district_name    0\n",
       "2021-2022_ada    0\n",
       "dtype: int64"
      ]
     },
     "execution_count": 234,
     "metadata": {},
     "output_type": "execute_result"
    }
   ],
   "source": [
    "# (5) Check for missing values\n",
    "ada_df.isna().sum()"
   ]
  },
  {
   "cell_type": "markdown",
   "id": "e43fb556",
   "metadata": {},
   "source": [
    "**(8) Kids in Poverty:**"
   ]
  },
  {
   "cell_type": "markdown",
   "id": "45b5c321",
   "metadata": {},
   "source": [
    "We'll need all but two columns in this dataset. Potential for feature engineering later. "
   ]
  },
  {
   "cell_type": "code",
   "execution_count": 235,
   "id": "293f4e63",
   "metadata": {},
   "outputs": [
    {
     "name": "stdout",
     "output_type": "stream",
     "text": [
      "   district_id  district_name  estimated_total_population  \\\n",
      "0       109901     Abbott ISD                        1082   \n",
      "1        95901  Abernathy ISD                        3476   \n",
      "2       221901    Abilene ISD                      105506   \n",
      "3        14901    Academy ISD                        9120   \n",
      "4       180903     Adrian ISD                         251   \n",
      "\n",
      "   estimated_population_5_17  estimated_children_in_poverty_5_17  \n",
      "0                        185                                  18  \n",
      "1                        774                                 147  \n",
      "2                      17290                                3505  \n",
      "3                       2076                                 216  \n",
      "4                         31                                   9  \n"
     ]
    }
   ],
   "source": [
    "# Kids in Poverty Clean-Up\n",
    "\n",
    "poverty_df = kids_poverty_data_df\n",
    "\n",
    "# Specify the columns to keep:\n",
    "columns_to_keep = ['District ID', 'District Name',\n",
    "                   'Estimated Total Population', 'Estimated Population 5-17', \n",
    "'Estimated number of relevant children 5 to 17 years old in poverty who are related to the householder']\n",
    "\n",
    "# Drop all other columns\n",
    "poverty_df = poverty_df[columns_to_keep]\n",
    "\n",
    "\n",
    "# (2) Rename Columns for Clarity and Consistency\n",
    "# Create a dictionary of old column names to new standardized ones\n",
    "rename_dict = {\n",
    "    'District ID': 'district_id',  \n",
    "    'District Name': 'district_name', \n",
    "    'Estimated Total Population': 'estimated_total_population',\n",
    "    'Estimated Population 5-17': 'estimated_population_5_17',\n",
    "    'Estimated number of relevant children 5 to 17 years old in poverty who are related to the householder': \n",
    "    'estimated_children_in_poverty_5_17'\n",
    "}\n",
    "# Rename the columns using the dictionary\n",
    "poverty_df = poverty_df.rename(columns=rename_dict)\n",
    "\n",
    "\n",
    "# (3) Data Type Conversion\n",
    "# Convert columns to appropriate data types\n",
    "poverty_df['district_id'] = poverty_df['district_id'].astype(int)  # Convert to integer\n",
    "\n",
    "\n",
    "\n",
    "# Display the first few rows of the modified dataframe\n",
    "print(poverty_df.head())"
   ]
  },
  {
   "cell_type": "code",
   "execution_count": 236,
   "id": "83430f9d",
   "metadata": {},
   "outputs": [
    {
     "data": {
      "image/png": "[encoded data removed]",
      "text/plain": [
       "<Figure size 1000x600 with 1 Axes>"
      ]
     },
     "metadata": {},
     "output_type": "display_data"
    }
   ],
   "source": [
    "# (4) Outliers: Plotting the histogram\n",
    "plt.figure(figsize=(10, 6))\n",
    "plt.hist(poverty_df['estimated_children_in_poverty_5_17'], bins=20, color='green', edgecolor='black')\n",
    "plt.title('Histogram of estimated_children_in_poverty_5_17')\n",
    "plt.xlabel('Estimated Children in Poverty Ages 5-17')\n",
    "plt.ylabel('Frequency')\n",
    "plt.grid(True)\n",
    "plt.show()"
   ]
  },
  {
   "cell_type": "markdown",
   "id": "6f60b13d",
   "metadata": {},
   "source": [
    "The histogram is heavily right skewed, indicating there are a small minority of districts with disproportionate amounts of children experiencing poverty. We'll want to explore the effects of this on student performance later. "
   ]
  },
  {
   "cell_type": "code",
   "execution_count": 237,
   "id": "735837c9",
   "metadata": {},
   "outputs": [
    {
     "data": {
      "text/plain": [
       "district_id                           0\n",
       "district_name                         0\n",
       "estimated_total_population            0\n",
       "estimated_population_5_17             0\n",
       "estimated_children_in_poverty_5_17    0\n",
       "dtype: int64"
      ]
     },
     "execution_count": 237,
     "metadata": {},
     "output_type": "execute_result"
    }
   ],
   "source": [
    "# (5) Check for missing values\n",
    "poverty_df.isna().sum()"
   ]
  },
  {
   "cell_type": "markdown",
   "id": "3fc029dd",
   "metadata": {},
   "source": [
    "**(9) Median Incomes:**"
   ]
  },
  {
   "cell_type": "markdown",
   "id": "62ec56a0",
   "metadata": {},
   "source": [
    "All we need are median Incomes by District, but the Score column could be interesting as it ranks the most equitable to least equitable school districts, so we'll include this as well. \n",
    "\n",
    "The dataset has a column for 'Expenditures for Public Elementary and Secondary Schools per Pupil', but we'll exclude this since we don't know how exactly it has been calculated, and we'll feature engineer this with our other data later. "
   ]
  },
  {
   "cell_type": "code",
   "execution_count": 238,
   "id": "36985297",
   "metadata": {},
   "outputs": [
    {
     "name": "stdout",
     "output_type": "stream",
     "text": [
      "zsh:1: no matches found: fuzzywuzzy[speedup]\n",
      "Note: you may need to restart the kernel to use updated packages.\n"
     ]
    }
   ],
   "source": [
    "pip install fuzzywuzzy[speedup]"
   ]
  },
  {
   "cell_type": "code",
   "execution_count": 239,
   "id": "46702670",
   "metadata": {},
   "outputs": [
    {
     "name": "stdout",
     "output_type": "stream",
     "text": [
      "   district_id   district_name  inequality_score  income_by_district\n",
      "0       207901  Schleicher ISD              0.06               61094\n",
      "1       143906      Ezzell ISD              0.07               62833\n",
      "2        91901       Bells ISD              0.08               73388\n",
      "3        70901      Avalon ISD              0.10               67250\n",
      "4       184908     Peaster ISD              0.17               72349\n"
     ]
    }
   ],
   "source": [
    "# Median Incomes Clean-Up\n",
    "\n",
    "income_df = income_data_df\n",
    "\n",
    "# Specify the columns to keep:\n",
    "columns_to_keep = ['District ID', 'District Name',\n",
    "                  'Score', 'Income by School District']\n",
    "\n",
    "# Drop all other columns\n",
    "income_df = income_df[columns_to_keep]\n",
    "\n",
    "\n",
    "# (2) Rename Columns for Clarity and Consistency\n",
    "# Create a dictionary of old column names to new standardized ones\n",
    "rename_dict = {\n",
    "    'District ID': 'district_id',  \n",
    "    'District Name': 'district_name', \n",
    "    'Score': 'inequality_score', \n",
    "    'Income by School District': 'income_by_district'\n",
    "}\n",
    "# Rename the columns using the dictionary\n",
    "income_df = income_df.rename(columns=rename_dict)\n",
    "\n",
    "\n",
    "# (3) Data Type Conversion\n",
    "# Convert columns to appropriate data types\n",
    "income_df['district_id'] = income_df['district_id'].astype(int)  # Convert to integer\n",
    "\n",
    "\n",
    "\n",
    "# Display the first few rows of the modified dataframe\n",
    "print(income_df.head())\n",
    "\n"
   ]
  },
  {
   "cell_type": "markdown",
   "id": "973c3d07",
   "metadata": {},
   "source": [
    "We likely won't use their inequality score since the methodology for calculating is unclear, but we'll keep this feature for now to use as a potential new feature to be engineered later. "
   ]
  },
  {
   "cell_type": "code",
   "execution_count": 240,
   "id": "4ab29753",
   "metadata": {},
   "outputs": [
    {
     "data": {
      "image/png": "[encoded data removed]",
      "text/plain": [
       "<Figure size 1000x600 with 1 Axes>"
      ]
     },
     "metadata": {},
     "output_type": "display_data"
    }
   ],
   "source": [
    "# (4) Outliers: Plotting the histogram\n",
    "plt.figure(figsize=(10, 6))\n",
    "plt.hist(income_df['income_by_district'], bins=20, color='lime', edgecolor='black')\n",
    "plt.title('Histogram of income_by_district')\n",
    "plt.xlabel('Median District Incomes')\n",
    "plt.ylabel('Frequency')\n",
    "plt.grid(True)\n",
    "plt.show()"
   ]
  },
  {
   "cell_type": "markdown",
   "id": "756202ac",
   "metadata": {},
   "source": [
    "This shows a more normal distribution than most of the other features, with some outliers on the right. We'll explore whether kids in poverty or income "
   ]
  },
  {
   "cell_type": "code",
   "execution_count": 241,
   "id": "1217455a",
   "metadata": {},
   "outputs": [
    {
     "data": {
      "text/plain": [
       "district_id           0\n",
       "district_name         0\n",
       "inequality_score      0\n",
       "income_by_district    0\n",
       "dtype: int64"
      ]
     },
     "execution_count": 241,
     "metadata": {},
     "output_type": "execute_result"
    }
   ],
   "source": [
    "# (5) Check for missing values\n",
    "income_df.isna().sum()"
   ]
  },
  {
   "cell_type": "markdown",
   "id": "87e5acff",
   "metadata": {},
   "source": [
    "We'll count the distinct district_id values for each dataset to gauge how many observations we'll end up with after joining the datasets. "
   ]
  },
  {
   "cell_type": "code",
   "execution_count": 242,
   "id": "b766066a",
   "metadata": {},
   "outputs": [
    {
     "name": "stdout",
     "output_type": "stream",
     "text": [
      "Distinct 'district_id' count in grad_df: 1077\n",
      "Distinct 'district_id' count in sat_act_df: 1078\n",
      "Distinct 'district_id' count in funding_df: 1206\n",
      "Distinct 'district_id' count in property_values_df: 1007\n",
      "Distinct 'district_id' count in ap_ib_scores_df: 41\n",
      "Distinct 'district_id' count in teacher_df: 1203\n",
      "Distinct 'district_id' count in ada_df: 1416\n",
      "Distinct 'district_id' count in poverty_df: 1018\n",
      "Distinct 'district_id' count in income_df: 1013\n"
     ]
    }
   ],
   "source": [
    "# Function to count distinct 'district_id' values in each dataframe\n",
    "def count_distinct_ids(dataframes_info):\n",
    "    counts = {}\n",
    "    for df, name in dataframes_info:\n",
    "        # Count distinct 'district_id' values\n",
    "        unique_count = df['district_id'].nunique()\n",
    "        counts[name] = unique_count\n",
    "    return counts\n",
    "\n",
    "# List of tuples (dataframe, name)\n",
    "dataframes_info = [\n",
    "    (grad_df, 'grad_df'),\n",
    "    (sat_act_df, 'sat_act_df'),\n",
    "    (funding_df, 'funding_df'),\n",
    "    (property_values_df, 'property_values_df'),\n",
    "    (ap_ib_scores_df, 'ap_ib_scores_df'),\n",
    "    (teacher_df, 'teacher_df'),\n",
    "    (ada_df, 'ada_df'),\n",
    "    (poverty_df, 'poverty_df'),\n",
    "    (income_df, 'income_df')\n",
    "]\n",
    "\n",
    "# Call the function and print the results\n",
    "distinct_id_counts = count_distinct_ids(dataframes_info)\n",
    "for name, count in distinct_id_counts.items():\n",
    "    print(f\"Distinct 'district_id' count in {name}: {count}\")"
   ]
  },
  {
   "cell_type": "markdown",
   "id": "13198736",
   "metadata": {},
   "source": [
    "The ap_ib_scores_df dataset appears to have an extremely low number of districts, let's see which districts are present. "
   ]
  },
  {
   "cell_type": "code",
   "execution_count": 243,
   "id": "118c977d",
   "metadata": {},
   "outputs": [
    {
     "data": {
      "text/plain": [
       "0                            Temple ISD\n",
       "57                      San Antonio ISD\n",
       "114                          Judson ISD\n",
       "171                           Bryan ISD\n",
       "228                     South Texas ISD\n",
       "285                           Allen ISD\n",
       "342                          Frisco ISD\n",
       "399                           Plano ISD\n",
       "456                    Uplift Education\n",
       "513       Carrollton-Farmers Branch ISD\n",
       "570                          Dallas ISD\n",
       "627                         Garland ISD\n",
       "684                         Coppell ISD\n",
       "741                          Denton ISD\n",
       "798                    Ector County ISD\n",
       "855                         El Paso ISD\n",
       "912                         Socorro ISD\n",
       "969                        Longview ISD\n",
       "1026          Schertz-Cibolo-U City ISD\n",
       "1083                         Aldine ISD\n",
       "1140                        Houston ISD\n",
       "1197                         Humble ISD\n",
       "1254                          Klein ISD\n",
       "1311                  Spring Branch ISD\n",
       "1368                IDEA Public Schools\n",
       "1425                        McAllen ISD\n",
       "1482                        Lubbock ISD\n",
       "1539                       Magnolia ISD\n",
       "1596                 Corpus Christi ISD\n",
       "1653                       Amarillo ISD\n",
       "1710                       Rockwall ISD\n",
       "1767    Westlake Academy Charter School\n",
       "1824                      Arlington ISD\n",
       "1881                     Fort Worth ISD\n",
       "1938           Hurst-Euless-Bedford ISD\n",
       "1995          KIPP Texas Public Schools\n",
       "2052                         Austin ISD\n",
       "2109                  Wichita Falls ISD\n",
       "2166          Meridian World School LLC\n",
       "2223                     Round Rock ISD\n",
       "2280                        Leander ISD\n",
       "Name: district_name, dtype: object"
      ]
     },
     "execution_count": 243,
     "metadata": {},
     "output_type": "execute_result"
    }
   ],
   "source": [
    "ap_ib_scores_df['district_name']"
   ]
  },
  {
   "cell_type": "markdown",
   "id": "b6744479",
   "metadata": {},
   "source": [
    "Though it would be beneficial to see how participation in advanced courses and testing correlates to student success, the number of observations are far too low for our analysis, so we'll exclude this dataset in our join. "
   ]
  },
  {
   "cell_type": "markdown",
   "id": "f4f166ba",
   "metadata": {},
   "source": [
    "**Ensure consistency within district_id column values:**"
   ]
  },
  {
   "cell_type": "markdown",
   "id": "9dc01ede",
   "metadata": {},
   "source": [
    "We've also verified that each dataset contains the necessary key column for joining (district_id), and we've converted these to integers, but let's ensure consistency among the column values across datasets. "
   ]
  },
  {
   "cell_type": "code",
   "execution_count": 250,
   "id": "32c80902",
   "metadata": {},
   "outputs": [
    {
     "name": "stdout",
     "output_type": "stream",
     "text": [
      "Total consistent district_id values: 952\n",
      "Total inconsistent district_id values: 450\n"
     ]
    }
   ],
   "source": [
    "def find_id_consistency(*dataframes):\n",
    "    # Create a set with all unique district_ids from the first dataframe\n",
    "    common_ids = set(dataframes[0]['district_id'].unique())\n",
    "    \n",
    "    # Intersect this set with sets of unique district_ids from all other dataframes\n",
    "    for df in dataframes[1:]:\n",
    "        common_ids &= set(df['district_id'].unique())\n",
    "    \n",
    "    # Now common_ids contains only the district_ids that are present in every dataframe\n",
    "    # The inconsistent ids are those that are not in the intersection\n",
    "    total_consistent = len(common_ids)\n",
    "    total_inconsistent = sum(len(set(df['district_id'].unique())) for df in dataframes) - total_consistent * 9\n",
    "    \n",
    "    return total_consistent, total_inconsistent\n",
    "\n",
    "# List of your dataframes\n",
    "dataframes = [grad_df, sat_act_df, funding_df, property_values_df, \n",
    "              teacher_df, ada_df, poverty_df, income_df]\n",
    "\n",
    "# Calculate the consistent and inconsistent district_id values\n",
    "total_consistent, total_inconsistent = find_id_consistency(*dataframes)\n",
    "\n",
    "print(f\"Total consistent district_id values: {total_consistent}\")\n",
    "print(f\"Total inconsistent district_id values: {total_inconsistent}\")"
   ]
  },
  {
   "cell_type": "markdown",
   "id": "bc1a879c",
   "metadata": {},
   "source": [
    "We have over 950 unique observations consistent across all datasets, which isn't too far removed from the roughly 1,200 total districts. However, we'll want to see how this performs in the modeling stage, as the data quantity may be insufficient for predictive purposes. A bulk of the 450 inconsistent district_id values come from 1-2 datasets with a few hundred more districts than are actually present in TX, which aren't useful for our analysis anyway. "
   ]
  },
  {
   "cell_type": "markdown",
   "id": "8eb1c3c5",
   "metadata": {},
   "source": [
    "### Join Datasets: <a id='2.2.1_Recap_Of_Data_Science_Problem'></a>"
   ]
  },
  {
   "cell_type": "markdown",
   "id": "9520562c",
   "metadata": {},
   "source": [
    "Now we'll merge all nine datasets together on district_id column (again we're excluding ap_ib_scores_df due to too few observations). "
   ]
  },
  {
   "cell_type": "code",
   "execution_count": 245,
   "id": "74b70483",
   "metadata": {},
   "outputs": [
    {
     "name": "stdout",
     "output_type": "stream",
     "text": [
      "  calc_for_state_acct  district_id  district_name  county      county_name  \\\n",
      "0                 Yes         1902     Cayuga ISD       1  Anderson County   \n",
      "1                 Yes         1903    Elkhart ISD       1  Anderson County   \n",
      "2                 Yes         1904  Frankston ISD       1  Anderson County   \n",
      "3                 Yes         1906     Neches ISD       1  Anderson County   \n",
      "4                 Yes         1907  Palestine ISD       1  Anderson County   \n",
      "\n",
      "   region region_name  dist_allr_grad  dist_allr_cont dist_allr_txchse  ...  \\\n",
      "0       7     Kilgore            97.8             0.0              0.0  ...   \n",
      "1       7     Kilgore           100.0             0.0              0.0  ...   \n",
      "2       7     Kilgore            97.8             0.0              2.2  ...   \n",
      "3       7     Kilgore           100.0             0.0              0.0  ...   \n",
      "4       7     Kilgore            95.9             4.1              0.0  ...   \n",
      "\n",
      "   avg_base_pay district_name_5  2021-2022_ada  district_name_6  \\\n",
      "0       55570.0      CAYUGA ISD        543.274       Cayuga ISD   \n",
      "1       47916.0     ELKHART ISD       1076.294      Elkhart ISD   \n",
      "2       50382.0   FRANKSTON ISD        793.261    Frankston ISD   \n",
      "3       55347.0      NECHES ISD        304.921       Neches ISD   \n",
      "4       48825.0   PALESTINE ISD       3053.283    Palestine ISD   \n",
      "\n",
      "   estimated_total_population estimated_population_5_17  \\\n",
      "0                        9728                       467   \n",
      "1                        6078                      1210   \n",
      "2                        4325                       681   \n",
      "3                        1511                       290   \n",
      "4                       21002                      3646   \n",
      "\n",
      "   estimated_children_in_poverty_5_17  district_name_7  inequality_score  \\\n",
      "0                                  79       Cayuga ISD             22.62   \n",
      "1                                 226      Elkhart ISD             10.73   \n",
      "2                                 128    Frankston ISD              7.16   \n",
      "3                                  68       Neches ISD              4.58   \n",
      "4                                 747    Palestine ISD             33.90   \n",
      "\n",
      "   income_by_district  \n",
      "0               61493  \n",
      "1               65253  \n",
      "2               60404  \n",
      "3               63214  \n",
      "4               46328  \n",
      "\n",
      "[5 rows x 50 columns]\n"
     ]
    }
   ],
   "source": [
    "from functools import reduce\n",
    "import pandas as pd\n",
    "\n",
    "# Function to join dataframes on 'district_id'\n",
    "def merge_dfs_on_column(dataframes, column_name, join_type='inner'):\n",
    "    # Use functools.reduce to iteratively merge dataframes\n",
    "    # Define custom suffixes to avoid conflicts\n",
    "    suffixes = [f\"_{i}\" for i in range(len(dataframes))]\n",
    "    first_df = dataframes[0]\n",
    "    remaining_dfs = dataframes[1:]\n",
    "    \n",
    "    merged_df = first_df\n",
    "    for i, df in enumerate(remaining_dfs):\n",
    "        # Generate unique suffixes for this merge to prevent name conflicts\n",
    "        merge_suffixes = ('', suffixes[i + 1])\n",
    "        merged_df = pd.merge(merged_df, df, on=column_name, how=join_type, suffixes=merge_suffixes)\n",
    "    return merged_df\n",
    "\n",
    "# List of your dataframes\n",
    "dfs = [grad_df, sat_act_df, funding_df, property_values_df, \n",
    "       teacher_df, ada_df, poverty_df, income_df]\n",
    "\n",
    "# Perform the merge\n",
    "all_data_merged = merge_dfs_on_column(dfs, 'district_id')\n",
    "\n",
    "# Display the head of the merged dataframe to check\n",
    "print(all_data_merged.head())"
   ]
  },
  {
   "cell_type": "code",
   "execution_count": 246,
   "id": "d40e76b5",
   "metadata": {},
   "outputs": [],
   "source": [
    "# Placeholder for future use: \n",
    "# Detect and Handle Outliers\n",
    "# Placeholder function to detect outliers - replace with actual logic\n",
    "# def detect_outliers(series):\n",
    "    # Implement outlier detection, e.g., using IQR\n",
    "    # Q1 = series.quantile(0.25)\n",
    "    # Q3 = series.quantile(0.75)\n",
    "    # IQR = Q3 - Q1\n",
    "    # return ~((series < (Q1 - 1.5 * IQR)) | (series > (Q3 + 1.5 * IQR)))\n",
    "\n",
    "# Apply outlier detection function to the relevant columns\n",
    "# Drop rows with outliers in the specified column\n",
    "# income_df = income_df[detect_outliers(income_df['your_numerical_column'])]"
   ]
  }
 ],
 "metadata": {
  "kernelspec": {
   "display_name": "Python 3 (ipykernel)",
   "language": "python",
   "name": "python3"
  },
  "language_info": {
   "codemirror_mode": {
    "name": "ipython",
    "version": 3
   },
   "file_extension": ".py",
   "mimetype": "text/x-python",
   "name": "python",
   "nbconvert_exporter": "python",
   "pygments_lexer": "ipython3",
   "version": "3.11.5"
  }
 },
 "nbformat": 4,
 "nbformat_minor": 5
}
