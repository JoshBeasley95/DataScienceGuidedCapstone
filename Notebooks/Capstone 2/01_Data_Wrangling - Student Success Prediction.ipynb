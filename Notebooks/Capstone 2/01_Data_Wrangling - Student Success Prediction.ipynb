{
 "cells": [
  {
   "cell_type": "markdown",
   "id": "efdf0f40",
   "metadata": {},
   "source": [
    "# 1 Data Wrangling <a id=\"data_wrangling\"></a>"
   ]
  },
  {
   "cell_type": "markdown",
   "id": "9ec5750a",
   "metadata": {},
   "source": [
    "## Table of Contents  <a id=\"contents\"></a>"
   ]
  },
  {
   "cell_type": "markdown",
   "id": "7c1f86e5",
   "metadata": {},
   "source": [
    "<a id=\"contents\"></a>\n",
    "## 1.1 Table of Contents"
   ]
  },
  {
   "cell_type": "markdown",
   "id": "01c2e270",
   "metadata": {},
   "source": [
    "- [1 Data Wrangling](#data_wrangling)\n",
    "  - [1.1 Contents](#contents)\n",
    "  - [1.2 Introduction](#introduction)\n",
    "  - [1.3 Imports](#imports)\n",
    "  - [1.4 Load the Data](#dataload)\n",
    "  - [1.5 Concatenate Individual Years Datasets](#join_individual_years)\n",
    "  - [1.6 Dataset Cleaning](#dataset_cleaning)\n",
    "      - [1.6.1 4-Yr Graduation Rates](#4yr_grad_rate)\n",
    "      - [1.6.2 SAT-ACT Scores](#sat_act_scores)\n",
    "      - [1.6.3 District Funding Totals](#district_funding_totals)\n",
    "      - [1.6.4 District Property Values](#district_property_values)\n",
    "      - [1.6.5 AP-IB Scores & Participation](#ap_ib_scores_and_participation)\n",
    "      - [1.6.6 Teacher Count & Avg Salary](#teacher_count_avg_salary)\n",
    "      - [1.6.7 Average Daily Attendance (ADA)](#ada)\n",
    "      - [1.6.8 Teacher Expertise](#teacher_expertise)\n",
    "      - [1.6.9 Kids in Poverty](#kids_in_poverty)\n",
    "      - [1.6.10 Median Incomes](#median_incomes)\n",
    "  - [1.7 Ensure Consistency of district_id Column Values](#ensure_consistency)\n",
    "  - [1.8 Join All Datasets](#join_all_datasets)\n",
    "  - [1.9 Save Data](#save_data)"
   ]
  },
  {
   "cell_type": "markdown",
   "id": "a8ed12f5",
   "metadata": {},
   "source": [
    "\n",
    "## 1.2 Introduction<a id=\"introduction\"></a>"
   ]
  },
  {
   "cell_type": "markdown",
   "id": "d5fc9d5b",
   "metadata": {},
   "source": [
    "### Problem: <a id='2.2.1_Recap_Of_Data_Science_Problem'></a>"
   ]
  },
  {
   "cell_type": "markdown",
   "id": "590b6bf4",
   "metadata": {},
   "source": [
    "Educational inequities persist across various school districts in Texas, potentially impacting student academic performance and long-term success. Despite the state's efforts to allocate funding based on Average Daily Attendance (ADA), disparities in funding raise concerns about the adequacy of resources available to each student. The core issue is whether the differences in funding correlate with academic outcomes and whether this could be a contributing factor to the educational inequities lurking beneath the surface of Texas' complex system. "
   ]
  },
  {
   "cell_type": "markdown",
   "id": "9839ae5d",
   "metadata": {},
   "source": [
    "### Project: <a id='2.2.1_Recap_Of_Data_Science_Problem'></a>"
   ]
  },
  {
   "cell_type": "markdown",
   "id": "340bc291",
   "metadata": {},
   "source": [
    "This data science project aims to examine the relationship between various educational variables -- school district funding in particular -- and student academic performance in Texas as measured by standardized test scores. By leveraging detailed financial, attendance, and academic data from the Texas Education Agency (TEA), the project seeks to identify patterns and correlations that could inform policy decisions and interventions aimed at reducing educational disparities. The hypothesis under investigation posits that higher levels of funding, particularly when accounting for attendance discrepancies, are associated with enhanced student performance."
   ]
  },
  {
   "cell_type": "markdown",
   "id": "0b3de937",
   "metadata": {},
   "source": [
    "### Clients: <a id='2.2.1_Recap_Of_Data_Science_Problem'></a>"
   ]
  },
  {
   "cell_type": "markdown",
   "id": "6d16b2b2",
   "metadata": {},
   "source": [
    "The findings of this study will be of interest to a broad range of stakeholders, including educational policymakers, college admissions offices, school district administrators, teachers, parents, and students. It will particularly benefit decision-makers within the TEA and local educational authorities who are responsible for allocating resources and designing strategies to improve educational equity and outcomes across Texas."
   ]
  },
  {
   "cell_type": "markdown",
   "id": "c233c126",
   "metadata": {},
   "source": [
    "### Data: <a id='2.2.1_Recap_Of_Data_Science_Problem'></a>"
   ]
  },
  {
   "cell_type": "markdown",
   "id": "25ead583",
   "metadata": {},
   "source": [
    "The datasets for this project are drawn from a few sources such as the U.S. Census Bureau and WalletHub, but they're primarily sourced from the TEA. The TEA provides comprehensive records on school district funding, student attendance rates, and various academic performance indicators. The data will be gathered and analyzed on a per-school district basis. The analysis will incorporate several features, including but not limited to, funding per student, attendance rates, socioeconomic levels, teacher expertise, and student-to-teacher ratios. Each feature will be carefully selected and processed to ensure the integrity and validity of the analysis. The primary goal is to develop a predictive model that accurately reflects the complex dynamics between educational variables and student success while highlighting any significant disparities that warrant attention.\n",
    "\n",
    "\n",
    "**Texas Education Agency (TEA):** \n",
    "* 4-Yr HS Graduation Rates: https://tea.texas.gov/reports-and-data/school-performance/accountability-research/completion-graduation-and-dropout/four-year-graduation-and-dropout-data-class-of-2022 \n",
    "* SAT-ACT Data: https://tea.texas.gov/reports-and-data/school-performance/accountability-research/satact/sat-and-act-data-class-of-2022 \n",
    "* District Funding Totals: https://tea.texas.gov/finance-and-grants/state-funding/state-funding-reports-and-data/peims-financial-data-downloads \n",
    "* District Property Values: https://tea.texas.gov/finance-and-grants/state-funding/state-funding-reports-and-data/peims-financial-standard-reports \n",
    "* AP-IB Scores & Participation: https://tea.texas.gov/reports-and-data/school-performance/accountability-research/apib/advanced-placement-and-international-baccalaureate-data-2021-22 \n",
    "* Teacher Count and Avg Salary: https://rptsvr1.tea.texas.gov/adhocrpt/adpeb.html \n",
    "* Average Daily Attendance (ADA): https://rptsvr1.tea.texas.gov/adhocrpt/adpeb.html \n",
    "\n",
    "\n",
    "**U.S. Census Bureau:**\n",
    "* Kids in Poverty by District: https://www.census.gov/data/datasets/2022/demo/saipe/2022-school-districts.html \n",
    "\n",
    "\n",
    "**WalletHub:**\n",
    "* Median Incomes per District: https://wallethub.com/edu/e/most-least-equitable-school-districts-in-texas/77134 \n"
   ]
  },
  {
   "cell_type": "markdown",
   "id": "459cc1a8",
   "metadata": {},
   "source": [
    "## 1.3 Imports <a id=\"imports\"></a>"
   ]
  },
  {
   "cell_type": "code",
   "execution_count": 83,
   "id": "4fea6a09",
   "metadata": {},
   "outputs": [],
   "source": [
    "import pandas as pd\n",
    "import numpy as np\n",
    "import os\n",
    "import pickle\n",
    "import matplotlib.pyplot as plt\n",
    "import matplotlib.ticker as ticker\n",
    "import seaborn as sns\n",
    "from sklearn import __version__ as sklearn_version\n",
    "from sklearn.decomposition import PCA\n",
    "from sklearn.preprocessing import scale\n",
    "from sklearn.model_selection import train_test_split, cross_validate, GridSearchCV, learning_curve\n",
    "from sklearn.preprocessing import StandardScaler, MinMaxScaler\n",
    "from sklearn.dummy import DummyRegressor\n",
    "from sklearn.linear_model import LinearRegression\n",
    "from sklearn.ensemble import RandomForestRegressor\n",
    "from sklearn.metrics import r2_score, mean_squared_error, mean_absolute_error\n",
    "from sklearn.pipeline import make_pipeline\n",
    "from sklearn.impute import SimpleImputer\n",
    "from sklearn.feature_selection import SelectKBest, f_regression\n",
    "import datetime"
   ]
  },
  {
   "cell_type": "markdown",
   "id": "109342c6",
   "metadata": {},
   "source": [
    "## 1.4 Load the Data <a id='dataload'></a>"
   ]
  },
  {
   "cell_type": "markdown",
   "id": "d53eefa4",
   "metadata": {},
   "source": [
    "To begin, we import all Excel files using the read_excel function from the pandas package. We then conduct a preliminary scan of the data. Each dataset varies considerably in their number of columns and rows. We'll analyze the last five years of available data, which represents 2018-2022 school years. "
   ]
  },
  {
   "cell_type": "code",
   "execution_count": 84,
   "id": "ef2a850e",
   "metadata": {},
   "outputs": [
    {
     "data": {
      "text/html": [
       "<div>\n",
       "<style scoped>\n",
       "    .dataframe tbody tr th:only-of-type {\n",
       "        vertical-align: middle;\n",
       "    }\n",
       "\n",
       "    .dataframe tbody tr th {\n",
       "        vertical-align: top;\n",
       "    }\n",
       "\n",
       "    .dataframe thead th {\n",
       "        text-align: right;\n",
       "    }\n",
       "</style>\n",
       "<table border=\"1\" class=\"dataframe\">\n",
       "  <thead>\n",
       "    <tr style=\"text-align: right;\">\n",
       "      <th></th>\n",
       "      <th>CALC_FOR_STATE_ACCT</th>\n",
       "      <th>DISTRICT</th>\n",
       "      <th>DISTNAME</th>\n",
       "      <th>COUNTY</th>\n",
       "      <th>CNTYNAME</th>\n",
       "      <th>REGION</th>\n",
       "      <th>REGNNAME</th>\n",
       "      <th>DIST_ALLD</th>\n",
       "      <th>DIST_ALLN_CMP2</th>\n",
       "      <th>DIST_ALLN_GRAD</th>\n",
       "      <th>...</th>\n",
       "      <th>DIST_TTLN_CONT</th>\n",
       "      <th>DIST_TTLN_TXCHSE</th>\n",
       "      <th>DIST_TTLN_DROP</th>\n",
       "      <th>DIST_TTLR_CMP2</th>\n",
       "      <th>DIST_TTLR_GRAD</th>\n",
       "      <th>DIST_TTLR_CONT</th>\n",
       "      <th>DIST_TTLR_TXCHSE</th>\n",
       "      <th>DIST_TTLR_DROP</th>\n",
       "      <th>DIST_TTLR_RAED</th>\n",
       "      <th>DIST_EXCL</th>\n",
       "    </tr>\n",
       "  </thead>\n",
       "  <tbody>\n",
       "    <tr>\n",
       "      <th>0</th>\n",
       "      <td>No</td>\n",
       "      <td>22902</td>\n",
       "      <td>Marathon ISD</td>\n",
       "      <td>22</td>\n",
       "      <td>Brewster County</td>\n",
       "      <td>18</td>\n",
       "      <td>Midland</td>\n",
       "      <td>-1</td>\n",
       "      <td>-1</td>\n",
       "      <td>-1</td>\n",
       "      <td>...</td>\n",
       "      <td>-1</td>\n",
       "      <td>-1</td>\n",
       "      <td>-1</td>\n",
       "      <td>-1</td>\n",
       "      <td>-1</td>\n",
       "      <td>-1</td>\n",
       "      <td>-1</td>\n",
       "      <td>-1</td>\n",
       "      <td>-1</td>\n",
       "      <td>0</td>\n",
       "    </tr>\n",
       "    <tr>\n",
       "      <th>1</th>\n",
       "      <td>Yes</td>\n",
       "      <td>22902</td>\n",
       "      <td>Marathon ISD</td>\n",
       "      <td>22</td>\n",
       "      <td>Brewster County</td>\n",
       "      <td>18</td>\n",
       "      <td>Midland</td>\n",
       "      <td>-1</td>\n",
       "      <td>-1</td>\n",
       "      <td>-1</td>\n",
       "      <td>...</td>\n",
       "      <td>-1</td>\n",
       "      <td>-1</td>\n",
       "      <td>-1</td>\n",
       "      <td>-1</td>\n",
       "      <td>-1</td>\n",
       "      <td>-1</td>\n",
       "      <td>-1</td>\n",
       "      <td>-1</td>\n",
       "      <td>-1</td>\n",
       "      <td>0</td>\n",
       "    </tr>\n",
       "    <tr>\n",
       "      <th>2</th>\n",
       "      <td>No</td>\n",
       "      <td>46802</td>\n",
       "      <td>Trinity Charter School</td>\n",
       "      <td>46</td>\n",
       "      <td>Comal County</td>\n",
       "      <td>20</td>\n",
       "      <td>San Antonio</td>\n",
       "      <td>-1</td>\n",
       "      <td>-1</td>\n",
       "      <td>-1</td>\n",
       "      <td>...</td>\n",
       "      <td>-1</td>\n",
       "      <td>-1</td>\n",
       "      <td>-1</td>\n",
       "      <td>-1</td>\n",
       "      <td>-1</td>\n",
       "      <td>-1</td>\n",
       "      <td>-1</td>\n",
       "      <td>-1</td>\n",
       "      <td>-1</td>\n",
       "      <td>48</td>\n",
       "    </tr>\n",
       "  </tbody>\n",
       "</table>\n",
       "<p>3 rows × 404 columns</p>\n",
       "</div>"
      ],
      "text/plain": [
       "  CALC_FOR_STATE_ACCT  DISTRICT                DISTNAME  COUNTY  \\\n",
       "0                  No     22902            Marathon ISD      22   \n",
       "1                 Yes     22902            Marathon ISD      22   \n",
       "2                  No     46802  Trinity Charter School      46   \n",
       "\n",
       "          CNTYNAME  REGION     REGNNAME DIST_ALLD DIST_ALLN_CMP2  \\\n",
       "0  Brewster County      18      Midland        -1             -1   \n",
       "1  Brewster County      18      Midland        -1             -1   \n",
       "2     Comal County      20  San Antonio        -1             -1   \n",
       "\n",
       "  DIST_ALLN_GRAD  ...  DIST_TTLN_CONT  DIST_TTLN_TXCHSE DIST_TTLN_DROP  \\\n",
       "0             -1  ...              -1                -1             -1   \n",
       "1             -1  ...              -1                -1             -1   \n",
       "2             -1  ...              -1                -1             -1   \n",
       "\n",
       "   DIST_TTLR_CMP2  DIST_TTLR_GRAD  DIST_TTLR_CONT DIST_TTLR_TXCHSE  \\\n",
       "0              -1              -1              -1               -1   \n",
       "1              -1              -1              -1               -1   \n",
       "2              -1              -1              -1               -1   \n",
       "\n",
       "   DIST_TTLR_DROP DIST_TTLR_RAED DIST_EXCL  \n",
       "0              -1             -1         0  \n",
       "1              -1             -1         0  \n",
       "2              -1             -1        48  \n",
       "\n",
       "[3 rows x 404 columns]"
      ]
     },
     "execution_count": 84,
     "metadata": {},
     "output_type": "execute_result"
    }
   ],
   "source": [
    "# 4-Yr HS Graduation Rates -- 2022\n",
    "hs_graduation_filepath = 'HS Graduation Rates -- TEA Data 4yr-2022.xlsx'\n",
    "hs_graduation_data_sheet = 'Data'  \n",
    "hs_graduation_data_2022_df = pd.read_excel(hs_graduation_filepath, sheet_name=hs_graduation_data_sheet)\n",
    "hs_graduation_data_2022_df.head(3)"
   ]
  },
  {
   "cell_type": "code",
   "execution_count": 85,
   "id": "5a8afcf1",
   "metadata": {},
   "outputs": [],
   "source": [
    "# 4-Yr HS Graduation Rates -- 2021\n",
    "hs_graduation_filepath = 'HS Graduation Rates -- TEA Data 4yr-2021.xlsx'\n",
    "hs_graduation_data_sheet = 'Data'  \n",
    "hs_graduation_data_2021_df = pd.read_excel(hs_graduation_filepath, sheet_name=hs_graduation_data_sheet)"
   ]
  },
  {
   "cell_type": "code",
   "execution_count": 86,
   "id": "d57a3b0a",
   "metadata": {},
   "outputs": [],
   "source": [
    "# 4-Yr HS Graduation Rates -- 2020\n",
    "hs_graduation_filepath = 'HS Graduation Rates -- TEA Data 4yr-2020.xlsx'\n",
    "hs_graduation_data_sheet = 'Data'  \n",
    "hs_graduation_data_2020_df = pd.read_excel(hs_graduation_filepath, sheet_name=hs_graduation_data_sheet)"
   ]
  },
  {
   "cell_type": "code",
   "execution_count": 87,
   "id": "835eb3b9",
   "metadata": {},
   "outputs": [],
   "source": [
    "# 4-Yr HS Graduation Rates -- 2019\n",
    "hs_graduation_filepath = 'HS Graduation Rates -- TEA Data 4yr-2019.xlsx'\n",
    "hs_graduation_data_sheet = 'Data'  \n",
    "hs_graduation_data_2019_df = pd.read_excel(hs_graduation_filepath, sheet_name=hs_graduation_data_sheet)"
   ]
  },
  {
   "cell_type": "code",
   "execution_count": 88,
   "id": "7e145887",
   "metadata": {},
   "outputs": [],
   "source": [
    "# 4-Yr HS Graduation Rates -- 2018\n",
    "hs_graduation_filepath = 'HS Graduation Rates -- TEA Data 4yr-2018.xlsx'\n",
    "hs_graduation_data_sheet = 'Data'  \n",
    "hs_graduation_data_2018_df = pd.read_excel(hs_graduation_filepath, sheet_name=hs_graduation_data_sheet)"
   ]
  },
  {
   "cell_type": "code",
   "execution_count": 89,
   "id": "1e2cb4c2",
   "metadata": {},
   "outputs": [
    {
     "data": {
      "text/html": [
       "<div>\n",
       "<style scoped>\n",
       "    .dataframe tbody tr th:only-of-type {\n",
       "        vertical-align: middle;\n",
       "    }\n",
       "\n",
       "    .dataframe tbody tr th {\n",
       "        vertical-align: top;\n",
       "    }\n",
       "\n",
       "    .dataframe thead th {\n",
       "        text-align: right;\n",
       "    }\n",
       "</style>\n",
       "<table border=\"1\" class=\"dataframe\">\n",
       "  <thead>\n",
       "    <tr style=\"text-align: right;\">\n",
       "      <th></th>\n",
       "      <th>Group</th>\n",
       "      <th>District</th>\n",
       "      <th>DistName</th>\n",
       "      <th>County</th>\n",
       "      <th>CntyName</th>\n",
       "      <th>Region</th>\n",
       "      <th>RegnName</th>\n",
       "      <th>Grads_Mskd</th>\n",
       "      <th>Exnees_Mskd</th>\n",
       "      <th>Part_Rate</th>\n",
       "      <th>Crit_Mskd</th>\n",
       "      <th>Above_Crit_Rate</th>\n",
       "      <th>TSI_Both_Mskd</th>\n",
       "      <th>Above_TSI_Both_Rate</th>\n",
       "    </tr>\n",
       "  </thead>\n",
       "  <tbody>\n",
       "    <tr>\n",
       "      <th>0</th>\n",
       "      <td>All Students</td>\n",
       "      <td>1902</td>\n",
       "      <td>Cayuga ISD</td>\n",
       "      <td>1</td>\n",
       "      <td>Anderson County</td>\n",
       "      <td>7</td>\n",
       "      <td>Kilgore</td>\n",
       "      <td>&lt;50</td>\n",
       "      <td>&lt;50</td>\n",
       "      <td>63.0</td>\n",
       "      <td>&lt;25</td>\n",
       "      <td>10.3</td>\n",
       "      <td>&lt;25</td>\n",
       "      <td>27.6</td>\n",
       "    </tr>\n",
       "    <tr>\n",
       "      <th>1</th>\n",
       "      <td>African American</td>\n",
       "      <td>1902</td>\n",
       "      <td>Cayuga ISD</td>\n",
       "      <td>1</td>\n",
       "      <td>Anderson County</td>\n",
       "      <td>7</td>\n",
       "      <td>Kilgore</td>\n",
       "      <td>&lt;25</td>\n",
       "      <td>&lt;25</td>\n",
       "      <td>100.0</td>\n",
       "      <td>&lt;25</td>\n",
       "      <td>NaN</td>\n",
       "      <td>&lt;25</td>\n",
       "      <td>100.0</td>\n",
       "    </tr>\n",
       "    <tr>\n",
       "      <th>2</th>\n",
       "      <td>American Indian</td>\n",
       "      <td>1902</td>\n",
       "      <td>Cayuga ISD</td>\n",
       "      <td>1</td>\n",
       "      <td>Anderson County</td>\n",
       "      <td>7</td>\n",
       "      <td>Kilgore</td>\n",
       "      <td>&lt;25</td>\n",
       "      <td>&lt;25</td>\n",
       "      <td>NaN</td>\n",
       "      <td>&lt;25</td>\n",
       "      <td>NaN</td>\n",
       "      <td>&lt;25</td>\n",
       "      <td>NaN</td>\n",
       "    </tr>\n",
       "  </tbody>\n",
       "</table>\n",
       "</div>"
      ],
      "text/plain": [
       "              Group  District    DistName  County         CntyName  Region  \\\n",
       "0      All Students      1902  Cayuga ISD       1  Anderson County       7   \n",
       "1  African American      1902  Cayuga ISD       1  Anderson County       7   \n",
       "2   American Indian      1902  Cayuga ISD       1  Anderson County       7   \n",
       "\n",
       "  RegnName Grads_Mskd Exnees_Mskd  Part_Rate Crit_Mskd  Above_Crit_Rate  \\\n",
       "0  Kilgore        <50         <50       63.0       <25             10.3   \n",
       "1  Kilgore        <25         <25      100.0       <25              NaN   \n",
       "2  Kilgore        <25         <25        NaN       <25              NaN   \n",
       "\n",
       "  TSI_Both_Mskd  Above_TSI_Both_Rate  \n",
       "0           <25                 27.6  \n",
       "1           <25                100.0  \n",
       "2           <25                  NaN  "
      ]
     },
     "execution_count": 89,
     "metadata": {},
     "output_type": "execute_result"
    }
   ],
   "source": [
    "# SAT-ACT Scores -- 2022\n",
    "sat_act_filepath = 'SAT-ACT Scores by District (2022) -- TEA Data.xlsx' \n",
    "sat_act_data_sheet = 'Data' \n",
    "sat_act_data_2022_df = pd.read_excel(sat_act_filepath, sheet_name=sat_act_data_sheet)\n",
    "sat_act_data_2022_df.head(3)"
   ]
  },
  {
   "cell_type": "code",
   "execution_count": 90,
   "id": "551a56fd",
   "metadata": {},
   "outputs": [],
   "source": [
    "# SAT-ACT Scores -- 2021\n",
    "sat_act_filepath = 'SAT-ACT Scores by District (2021) -- TEA Data.xlsx' \n",
    "sat_act_data_sheet = 'Data' \n",
    "sat_act_data_2021_df = pd.read_excel(sat_act_filepath, sheet_name=sat_act_data_sheet)"
   ]
  },
  {
   "cell_type": "code",
   "execution_count": 91,
   "id": "2541bd33",
   "metadata": {},
   "outputs": [],
   "source": [
    "# SAT-ACT Scores -- 2020\n",
    "sat_act_filepath = 'SAT-ACT Scores by District (2020) -- TEA Data.xlsx' \n",
    "sat_act_data_sheet = 'Data' \n",
    "sat_act_data_2020_df = pd.read_excel(sat_act_filepath, sheet_name=sat_act_data_sheet)"
   ]
  },
  {
   "cell_type": "code",
   "execution_count": 92,
   "id": "c4fb3c6e",
   "metadata": {},
   "outputs": [],
   "source": [
    "# SAT-ACT Scores -- 2019\n",
    "sat_act_filepath = 'SAT-ACT Scores by District (2019) -- TEA Data.xlsx' \n",
    "sat_act_data_sheet = 'Data' \n",
    "sat_act_data_2019_df = pd.read_excel(sat_act_filepath, sheet_name=sat_act_data_sheet)"
   ]
  },
  {
   "cell_type": "code",
   "execution_count": 93,
   "id": "158bfb12",
   "metadata": {},
   "outputs": [],
   "source": [
    "# SAT-ACT Scores -- 2018\n",
    "sat_act_filepath = 'SAT-ACT Scores by District (2018) -- TEA Data.xlsx' \n",
    "sat_act_data_sheet = 'Data' \n",
    "sat_act_data_2018_df = pd.read_excel(sat_act_filepath, sheet_name=sat_act_data_sheet)"
   ]
  },
  {
   "cell_type": "code",
   "execution_count": 94,
   "id": "67c77b40",
   "metadata": {},
   "outputs": [
    {
     "data": {
      "text/html": [
       "<div>\n",
       "<style scoped>\n",
       "    .dataframe tbody tr th:only-of-type {\n",
       "        vertical-align: middle;\n",
       "    }\n",
       "\n",
       "    .dataframe tbody tr th {\n",
       "        vertical-align: top;\n",
       "    }\n",
       "\n",
       "    .dataframe thead th {\n",
       "        text-align: right;\n",
       "    }\n",
       "</style>\n",
       "<table border=\"1\" class=\"dataframe\">\n",
       "  <thead>\n",
       "    <tr style=\"text-align: right;\">\n",
       "      <th></th>\n",
       "      <th>District ID</th>\n",
       "      <th>District Name</th>\n",
       "      <th>YEAR</th>\n",
       "      <th>GEN FUNDS-LOCAL TAX REVENUE FROM M&amp;O</th>\n",
       "      <th>ALL FUNDS-LOCAL TAX REVENUE FROM M&amp;O</th>\n",
       "      <th>GEN FUNDS-STATE REVENUE</th>\n",
       "      <th>ALL FUNDS-STATE REVENUE</th>\n",
       "      <th>GEN FUNDS-FEDERAL REVENUE</th>\n",
       "      <th>ALL FUNDS-FEDERAL REVENUE</th>\n",
       "      <th>GEN FUNDS-OTHER LOCAL &amp; INTERMEDIATE REVENUE</th>\n",
       "      <th>...</th>\n",
       "      <th>ALL FUNDS-TOTAL OTHER USES</th>\n",
       "      <th>GEN FUNDS-INTERGOVERN CHARGES EXPEND</th>\n",
       "      <th>ALL FUNDS-INTERGOVERN CHARGES EXPEND</th>\n",
       "      <th>GEN FUNDS-DEBT SERVICE (OBJECT 6500) FOR TD</th>\n",
       "      <th>ALL FUNDS-DEBT SERVICE (OBJECT 6500) FOR TD</th>\n",
       "      <th>GEN FUNDS-CAPITAL PROJECTS(OBJECT 6600) FOR TD</th>\n",
       "      <th>ALL FUNDS-CAPITAL PROJECTS(OBJECT 6600) FOR TD</th>\n",
       "      <th>GEN FUNDS-TOTAL DISBURSEMENTS</th>\n",
       "      <th>ALL FUNDS-TOTAL DISBURSEMENTS</th>\n",
       "      <th>FALL SURVEY ENROLLMENT</th>\n",
       "    </tr>\n",
       "  </thead>\n",
       "  <tbody>\n",
       "    <tr>\n",
       "      <th>0</th>\n",
       "      <td>1902</td>\n",
       "      <td>CAYUGA ISD</td>\n",
       "      <td>2007</td>\n",
       "      <td>4122552</td>\n",
       "      <td>4122552</td>\n",
       "      <td>1114179</td>\n",
       "      <td>1176283</td>\n",
       "      <td>0</td>\n",
       "      <td>250168</td>\n",
       "      <td>215239</td>\n",
       "      <td>...</td>\n",
       "      <td>5829</td>\n",
       "      <td>70703</td>\n",
       "      <td>70703</td>\n",
       "      <td>421865</td>\n",
       "      <td>421865</td>\n",
       "      <td>145130</td>\n",
       "      <td>156886</td>\n",
       "      <td>4907206</td>\n",
       "      <td>5348377</td>\n",
       "      <td>569</td>\n",
       "    </tr>\n",
       "    <tr>\n",
       "      <th>1</th>\n",
       "      <td>1902</td>\n",
       "      <td>CAYUGA ISD</td>\n",
       "      <td>2008</td>\n",
       "      <td>3641351</td>\n",
       "      <td>3641351</td>\n",
       "      <td>1845232</td>\n",
       "      <td>2350131</td>\n",
       "      <td>0</td>\n",
       "      <td>1852221</td>\n",
       "      <td>183293</td>\n",
       "      <td>...</td>\n",
       "      <td>15000</td>\n",
       "      <td>75304</td>\n",
       "      <td>210304</td>\n",
       "      <td>0</td>\n",
       "      <td>0</td>\n",
       "      <td>647852</td>\n",
       "      <td>632398</td>\n",
       "      <td>5391975</td>\n",
       "      <td>8274772</td>\n",
       "      <td>580</td>\n",
       "    </tr>\n",
       "    <tr>\n",
       "      <th>2</th>\n",
       "      <td>1902</td>\n",
       "      <td>CAYUGA ISD</td>\n",
       "      <td>2009</td>\n",
       "      <td>3319164</td>\n",
       "      <td>3319164</td>\n",
       "      <td>1950169</td>\n",
       "      <td>2473373</td>\n",
       "      <td>0</td>\n",
       "      <td>1714988</td>\n",
       "      <td>123568</td>\n",
       "      <td>...</td>\n",
       "      <td>0</td>\n",
       "      <td>166251</td>\n",
       "      <td>166251</td>\n",
       "      <td>0</td>\n",
       "      <td>0</td>\n",
       "      <td>722766</td>\n",
       "      <td>803313</td>\n",
       "      <td>6006273</td>\n",
       "      <td>8819439</td>\n",
       "      <td>594</td>\n",
       "    </tr>\n",
       "  </tbody>\n",
       "</table>\n",
       "<p>3 rows × 142 columns</p>\n",
       "</div>"
      ],
      "text/plain": [
       "   District ID District Name  YEAR  GEN FUNDS-LOCAL TAX REVENUE FROM M&O  \\\n",
       "0         1902    CAYUGA ISD  2007                               4122552   \n",
       "1         1902    CAYUGA ISD  2008                               3641351   \n",
       "2         1902    CAYUGA ISD  2009                               3319164   \n",
       "\n",
       "   ALL FUNDS-LOCAL TAX REVENUE FROM M&O  GEN FUNDS-STATE REVENUE  \\\n",
       "0                               4122552                  1114179   \n",
       "1                               3641351                  1845232   \n",
       "2                               3319164                  1950169   \n",
       "\n",
       "   ALL FUNDS-STATE REVENUE  GEN FUNDS-FEDERAL REVENUE  \\\n",
       "0                  1176283                          0   \n",
       "1                  2350131                          0   \n",
       "2                  2473373                          0   \n",
       "\n",
       "   ALL FUNDS-FEDERAL REVENUE  GEN FUNDS-OTHER LOCAL & INTERMEDIATE REVENUE  \\\n",
       "0                     250168                                        215239   \n",
       "1                    1852221                                        183293   \n",
       "2                    1714988                                        123568   \n",
       "\n",
       "   ...  ALL FUNDS-TOTAL OTHER USES  GEN FUNDS-INTERGOVERN CHARGES EXPEND  \\\n",
       "0  ...                        5829                                 70703   \n",
       "1  ...                       15000                                 75304   \n",
       "2  ...                           0                                166251   \n",
       "\n",
       "   ALL FUNDS-INTERGOVERN CHARGES EXPEND  \\\n",
       "0                                 70703   \n",
       "1                                210304   \n",
       "2                                166251   \n",
       "\n",
       "   GEN FUNDS-DEBT SERVICE (OBJECT 6500) FOR TD  \\\n",
       "0                                       421865   \n",
       "1                                            0   \n",
       "2                                            0   \n",
       "\n",
       "   ALL FUNDS-DEBT SERVICE (OBJECT 6500) FOR TD  \\\n",
       "0                                       421865   \n",
       "1                                            0   \n",
       "2                                            0   \n",
       "\n",
       "   GEN FUNDS-CAPITAL PROJECTS(OBJECT 6600) FOR TD  \\\n",
       "0                                          145130   \n",
       "1                                          647852   \n",
       "2                                          722766   \n",
       "\n",
       "   ALL FUNDS-CAPITAL PROJECTS(OBJECT 6600) FOR TD  \\\n",
       "0                                          156886   \n",
       "1                                          632398   \n",
       "2                                          803313   \n",
       "\n",
       "   GEN FUNDS-TOTAL DISBURSEMENTS  ALL FUNDS-TOTAL DISBURSEMENTS  \\\n",
       "0                        4907206                        5348377   \n",
       "1                        5391975                        8274772   \n",
       "2                        6006273                        8819439   \n",
       "\n",
       "   FALL SURVEY ENROLLMENT  \n",
       "0                     569  \n",
       "1                     580  \n",
       "2                     594  \n",
       "\n",
       "[3 rows x 142 columns]"
      ]
     },
     "execution_count": 94,
     "metadata": {},
     "output_type": "execute_result"
    }
   ],
   "source": [
    "# District Funding Totals\n",
    "peims_funding_filepath = 'PEIMS District Funding Totals 2007-2022.xlsx'\n",
    "peims_funding_data_sheet = 'Data'  \n",
    "peims_funding_data_df = pd.read_excel(peims_funding_filepath, sheet_name=peims_funding_data_sheet)\n",
    "peims_funding_data_df.head(3)"
   ]
  },
  {
   "cell_type": "code",
   "execution_count": 95,
   "id": "a9c592d1",
   "metadata": {},
   "outputs": [
    {
     "data": {
      "text/html": [
       "<div>\n",
       "<style scoped>\n",
       "    .dataframe tbody tr th:only-of-type {\n",
       "        vertical-align: middle;\n",
       "    }\n",
       "\n",
       "    .dataframe tbody tr th {\n",
       "        vertical-align: top;\n",
       "    }\n",
       "\n",
       "    .dataframe thead th {\n",
       "        text-align: right;\n",
       "    }\n",
       "</style>\n",
       "<table border=\"1\" class=\"dataframe\">\n",
       "  <thead>\n",
       "    <tr style=\"text-align: right;\">\n",
       "      <th></th>\n",
       "      <th>District ID</th>\n",
       "      <th>District Name</th>\n",
       "      <th>M&amp;O Tax Rate</th>\n",
       "      <th>I&amp;S Tax Rate</th>\n",
       "      <th>Total Tax Rate</th>\n",
       "      <th>Total Property Value</th>\n",
       "      <th>Total Property Value per pupil</th>\n",
       "      <th>Local Funding per Pupil</th>\n",
       "      <th>Business Property Value</th>\n",
       "      <th>Residential Property Value</th>\n",
       "      <th>Land Property Value</th>\n",
       "      <th>Oil and Gas Property Value</th>\n",
       "      <th>Other Property Value</th>\n",
       "    </tr>\n",
       "  </thead>\n",
       "  <tbody>\n",
       "    <tr>\n",
       "      <th>0</th>\n",
       "      <td>109901</td>\n",
       "      <td>Abbott ISD</td>\n",
       "      <td>0.9321</td>\n",
       "      <td>0.2824</td>\n",
       "      <td>1.2145</td>\n",
       "      <td>115843601</td>\n",
       "      <td>410792.911348</td>\n",
       "      <td>4989.079908</td>\n",
       "      <td>46146930</td>\n",
       "      <td>31334380</td>\n",
       "      <td>14204919</td>\n",
       "      <td>0</td>\n",
       "      <td>564800</td>\n",
       "    </tr>\n",
       "    <tr>\n",
       "      <th>1</th>\n",
       "      <td>95901</td>\n",
       "      <td>Abernathy ISD</td>\n",
       "      <td>1.0517</td>\n",
       "      <td>0.3300</td>\n",
       "      <td>1.3817</td>\n",
       "      <td>465947826</td>\n",
       "      <td>568229.056098</td>\n",
       "      <td>7851.220868</td>\n",
       "      <td>311422590</td>\n",
       "      <td>104120735</td>\n",
       "      <td>23994789</td>\n",
       "      <td>55075540</td>\n",
       "      <td>2879446</td>\n",
       "    </tr>\n",
       "    <tr>\n",
       "      <th>2</th>\n",
       "      <td>221901</td>\n",
       "      <td>Abilene ISD</td>\n",
       "      <td>0.9249</td>\n",
       "      <td>0.3535</td>\n",
       "      <td>1.2784</td>\n",
       "      <td>5394710556</td>\n",
       "      <td>353195.662957</td>\n",
       "      <td>4515.253355</td>\n",
       "      <td>2359455936</td>\n",
       "      <td>3840796038</td>\n",
       "      <td>57215187</td>\n",
       "      <td>12503395</td>\n",
       "      <td>64347904</td>\n",
       "    </tr>\n",
       "  </tbody>\n",
       "</table>\n",
       "</div>"
      ],
      "text/plain": [
       "   District ID  District Name  M&O Tax Rate  I&S Tax Rate   Total Tax Rate   \\\n",
       "0       109901     Abbott ISD        0.9321         0.2824           1.2145   \n",
       "1        95901  Abernathy ISD        1.0517         0.3300           1.3817   \n",
       "2       221901    Abilene ISD        0.9249         0.3535           1.2784   \n",
       "\n",
       "   Total Property Value  Total Property Value per pupil  \\\n",
       "0             115843601                   410792.911348   \n",
       "1             465947826                   568229.056098   \n",
       "2            5394710556                   353195.662957   \n",
       "\n",
       "   Local Funding per Pupil  Business Property Value  \\\n",
       "0              4989.079908                 46146930   \n",
       "1              7851.220868                311422590   \n",
       "2              4515.253355               2359455936   \n",
       "\n",
       "   Residential Property Value  Land Property Value  \\\n",
       "0                    31334380             14204919   \n",
       "1                   104120735             23994789   \n",
       "2                  3840796038             57215187   \n",
       "\n",
       "   Oil and Gas Property Value  Other Property Value  \n",
       "0                           0                564800  \n",
       "1                    55075540               2879446  \n",
       "2                    12503395              64347904  "
      ]
     },
     "execution_count": 95,
     "metadata": {},
     "output_type": "execute_result"
    }
   ],
   "source": [
    "# District Property Values -- 2022\n",
    "property_values_filepath = 'PEIMS Tax Rates, Property Values, Property Values Per Pupil (2022) -- TEA Data.xlsx'\n",
    "property_values_data_sheet = 'Data'  \n",
    "property_values_data_2022_df = pd.read_excel(property_values_filepath, sheet_name=property_values_data_sheet)\n",
    "property_values_data_2022_df.head(3)"
   ]
  },
  {
   "cell_type": "code",
   "execution_count": 96,
   "id": "c9046780",
   "metadata": {},
   "outputs": [],
   "source": [
    "# District Property Values -- 2021\n",
    "property_values_filepath = 'PEIMS Tax Rates, Property Values, Property Values Per Pupil (2021) -- TEA Data.xlsx'\n",
    "property_values_data_sheet = 'Data'  \n",
    "property_values_data_2021_df = pd.read_excel(property_values_filepath, sheet_name=property_values_data_sheet)"
   ]
  },
  {
   "cell_type": "code",
   "execution_count": 97,
   "id": "89927c61",
   "metadata": {},
   "outputs": [],
   "source": [
    "# District Property Values -- 2020\n",
    "property_values_filepath = 'PEIMS Tax Rates, Property Values, Property Values Per Pupil (2020) -- TEA Data.xlsx'\n",
    "property_values_data_sheet = 'Data'  \n",
    "property_values_data_2020_df = pd.read_excel(property_values_filepath, sheet_name=property_values_data_sheet)"
   ]
  },
  {
   "cell_type": "code",
   "execution_count": 98,
   "id": "424c0cb4",
   "metadata": {},
   "outputs": [],
   "source": [
    "# District Property Values -- 2019\n",
    "property_values_filepath = 'PEIMS Tax Rates, Property Values, Property Values Per Pupil (2019) -- TEA Data.xlsx'\n",
    "property_values_data_sheet = 'Data'  \n",
    "property_values_data_2019_df = pd.read_excel(property_values_filepath, sheet_name=property_values_data_sheet)"
   ]
  },
  {
   "cell_type": "code",
   "execution_count": 99,
   "id": "90b05dc4",
   "metadata": {},
   "outputs": [],
   "source": [
    "# District Property Values -- 2018\n",
    "property_values_filepath = 'PEIMS Tax Rates, Property Values, Property Values Per Pupil (2018) -- TEA Data.xlsx'\n",
    "property_values_data_sheet = 'Data'  \n",
    "property_values_data_2018_df = pd.read_excel(property_values_filepath, sheet_name=property_values_data_sheet)"
   ]
  },
  {
   "cell_type": "code",
   "execution_count": 100,
   "id": "3cf040c2",
   "metadata": {},
   "outputs": [
    {
     "data": {
      "text/html": [
       "<div>\n",
       "<style scoped>\n",
       "    .dataframe tbody tr th:only-of-type {\n",
       "        vertical-align: middle;\n",
       "    }\n",
       "\n",
       "    .dataframe tbody tr th {\n",
       "        vertical-align: top;\n",
       "    }\n",
       "\n",
       "    .dataframe thead th {\n",
       "        text-align: right;\n",
       "    }\n",
       "</style>\n",
       "<table border=\"1\" class=\"dataframe\">\n",
       "  <thead>\n",
       "    <tr style=\"text-align: right;\">\n",
       "      <th></th>\n",
       "      <th>Group</th>\n",
       "      <th>District ID</th>\n",
       "      <th>District Name</th>\n",
       "      <th>County</th>\n",
       "      <th>CntyName</th>\n",
       "      <th>Region</th>\n",
       "      <th>RegnName</th>\n",
       "      <th>Students_Mskd</th>\n",
       "      <th>Exnees_Mskd</th>\n",
       "      <th>Part_Rate</th>\n",
       "      <th>Exnees_Crit_Mskd</th>\n",
       "      <th>Exnees_Above_Crit_Rate</th>\n",
       "      <th>Exams_Mskd</th>\n",
       "      <th>Exams_Crit_Mskd</th>\n",
       "      <th>Exams_Above_Crit_Rate</th>\n",
       "    </tr>\n",
       "  </thead>\n",
       "  <tbody>\n",
       "    <tr>\n",
       "      <th>0</th>\n",
       "      <td>All Students</td>\n",
       "      <td>14909</td>\n",
       "      <td>Temple ISD</td>\n",
       "      <td>14</td>\n",
       "      <td>Bell County</td>\n",
       "      <td>12</td>\n",
       "      <td>Waco</td>\n",
       "      <td>1,100</td>\n",
       "      <td>200</td>\n",
       "      <td>18.2</td>\n",
       "      <td>101</td>\n",
       "      <td>50.5</td>\n",
       "      <td>452</td>\n",
       "      <td>193</td>\n",
       "      <td>42.7</td>\n",
       "    </tr>\n",
       "    <tr>\n",
       "      <th>1</th>\n",
       "      <td>African American</td>\n",
       "      <td>14909</td>\n",
       "      <td>Temple ISD</td>\n",
       "      <td>14</td>\n",
       "      <td>Bell County</td>\n",
       "      <td>12</td>\n",
       "      <td>Waco</td>\n",
       "      <td>&lt;300</td>\n",
       "      <td>&lt;50</td>\n",
       "      <td>9.2</td>\n",
       "      <td>&lt;25</td>\n",
       "      <td>25.9</td>\n",
       "      <td>49</td>\n",
       "      <td>12</td>\n",
       "      <td>24.5</td>\n",
       "    </tr>\n",
       "    <tr>\n",
       "      <th>2</th>\n",
       "      <td>American Indian</td>\n",
       "      <td>14909</td>\n",
       "      <td>Temple ISD</td>\n",
       "      <td>14</td>\n",
       "      <td>Bell County</td>\n",
       "      <td>12</td>\n",
       "      <td>Waco</td>\n",
       "      <td>&lt;25</td>\n",
       "      <td>&lt;25</td>\n",
       "      <td>NaN</td>\n",
       "      <td>&lt;25</td>\n",
       "      <td>NaN</td>\n",
       "      <td>&lt;25</td>\n",
       "      <td>&lt;25</td>\n",
       "      <td>NaN</td>\n",
       "    </tr>\n",
       "  </tbody>\n",
       "</table>\n",
       "</div>"
      ],
      "text/plain": [
       "              Group  District ID District Name  County     CntyName  Region  \\\n",
       "0      All Students        14909    Temple ISD      14  Bell County      12   \n",
       "1  African American        14909    Temple ISD      14  Bell County      12   \n",
       "2   American Indian        14909    Temple ISD      14  Bell County      12   \n",
       "\n",
       "  RegnName Students_Mskd Exnees_Mskd  Part_Rate Exnees_Crit_Mskd  \\\n",
       "0     Waco         1,100         200       18.2              101   \n",
       "1     Waco          <300         <50        9.2              <25   \n",
       "2     Waco           <25         <25        NaN              <25   \n",
       "\n",
       "   Exnees_Above_Crit_Rate Exams_Mskd Exams_Crit_Mskd  Exams_Above_Crit_Rate  \n",
       "0                    50.5        452             193                   42.7  \n",
       "1                    25.9         49              12                   24.5  \n",
       "2                     NaN        <25             <25                    NaN  "
      ]
     },
     "execution_count": 100,
     "metadata": {},
     "output_type": "execute_result"
    }
   ],
   "source": [
    "# AP-IB Scores & Participation -- 2022\n",
    "ap_ib_scores_filepath = 'AP-IB Scores & Participation Data 2021-22 | Texas Education Agency.xlsx'\n",
    "ap_ib_scores_data_sheet = 'Data'  \n",
    "ap_ib_scores_data_2022_df = pd.read_excel(ap_ib_scores_filepath, sheet_name=ap_ib_scores_data_sheet)\n",
    "ap_ib_scores_data_2022_df.head(3)"
   ]
  },
  {
   "cell_type": "code",
   "execution_count": 101,
   "id": "6ec8d2a1",
   "metadata": {},
   "outputs": [],
   "source": [
    "# AP-IB Scores & Participation -- 2021\n",
    "ap_ib_scores_filepath = 'AP-IB Scores & Participation Data 2020-21 | Texas Education Agency.xlsx'\n",
    "ap_ib_scores_data_sheet = 'Data'  \n",
    "ap_ib_scores_data_2021_df = pd.read_excel(ap_ib_scores_filepath, sheet_name=ap_ib_scores_data_sheet)"
   ]
  },
  {
   "cell_type": "code",
   "execution_count": 102,
   "id": "5dcb0f7a",
   "metadata": {},
   "outputs": [],
   "source": [
    "# AP-IB Scores & Participation -- 2020\n",
    "ap_ib_scores_filepath = 'AP-IB Scores & Participation Data 2019-20 | Texas Education Agency.xlsx'\n",
    "ap_ib_scores_data_sheet = 'Data'  \n",
    "ap_ib_scores_data_2020_df = pd.read_excel(ap_ib_scores_filepath, sheet_name=ap_ib_scores_data_sheet)"
   ]
  },
  {
   "cell_type": "code",
   "execution_count": 103,
   "id": "a7de81e4",
   "metadata": {},
   "outputs": [],
   "source": [
    "# AP-IB Scores & Participation -- 2019\n",
    "ap_ib_scores_filepath = 'AP-IB Scores & Participation Data 2018-19 | Texas Education Agency.xlsx'\n",
    "ap_ib_scores_data_sheet = 'Data'  \n",
    "ap_ib_scores_data_2019_df = pd.read_excel(ap_ib_scores_filepath, sheet_name=ap_ib_scores_data_sheet)"
   ]
  },
  {
   "cell_type": "code",
   "execution_count": 104,
   "id": "64101f49",
   "metadata": {},
   "outputs": [],
   "source": [
    "# AP-IB Scores & Participation -- 2018\n",
    "ap_ib_scores_filepath = 'AP-IB Scores & Participation Data 2017-18 | Texas Education Agency.xlsx'\n",
    "ap_ib_scores_data_sheet = 'Data'  \n",
    "ap_ib_scores_data_2018_df = pd.read_excel(ap_ib_scores_filepath, sheet_name=ap_ib_scores_data_sheet)"
   ]
  },
  {
   "cell_type": "code",
   "execution_count": 105,
   "id": "9cbd243b",
   "metadata": {},
   "outputs": [
    {
     "data": {
      "text/html": [
       "<div>\n",
       "<style scoped>\n",
       "    .dataframe tbody tr th:only-of-type {\n",
       "        vertical-align: middle;\n",
       "    }\n",
       "\n",
       "    .dataframe tbody tr th {\n",
       "        vertical-align: top;\n",
       "    }\n",
       "\n",
       "    .dataframe thead th {\n",
       "        text-align: right;\n",
       "    }\n",
       "</style>\n",
       "<table border=\"1\" class=\"dataframe\">\n",
       "  <thead>\n",
       "    <tr style=\"text-align: right;\">\n",
       "      <th></th>\n",
       "      <th>Region</th>\n",
       "      <th>County</th>\n",
       "      <th>District ID</th>\n",
       "      <th>District Name</th>\n",
       "      <th>Charter Status</th>\n",
       "      <th>Staff_Category</th>\n",
       "      <th>Staff</th>\n",
       "      <th>FTE Count</th>\n",
       "      <th>Total Base Pay</th>\n",
       "      <th>Average Base Pay</th>\n",
       "    </tr>\n",
       "  </thead>\n",
       "  <tbody>\n",
       "    <tr>\n",
       "      <th>0</th>\n",
       "      <td>10</td>\n",
       "      <td>DALLAS COUNTY</td>\n",
       "      <td>57816</td>\n",
       "      <td>A W BROWN LEADERSHIP ACADEMY</td>\n",
       "      <td>OPEN ENROLLMENT CHARTER</td>\n",
       "      <td>TEACHING STAFF</td>\n",
       "      <td>PRE-KINDERGARTEN</td>\n",
       "      <td>12.48</td>\n",
       "      <td>652611.0</td>\n",
       "      <td>52282.0</td>\n",
       "    </tr>\n",
       "    <tr>\n",
       "      <th>1</th>\n",
       "      <td>10</td>\n",
       "      <td>DALLAS COUNTY</td>\n",
       "      <td>57816</td>\n",
       "      <td>A W BROWN LEADERSHIP ACADEMY</td>\n",
       "      <td>OPEN ENROLLMENT CHARTER</td>\n",
       "      <td>TEACHING STAFF</td>\n",
       "      <td>KINDERGARTEN</td>\n",
       "      <td>10.64</td>\n",
       "      <td>536025.0</td>\n",
       "      <td>50372.0</td>\n",
       "    </tr>\n",
       "    <tr>\n",
       "      <th>2</th>\n",
       "      <td>10</td>\n",
       "      <td>DALLAS COUNTY</td>\n",
       "      <td>57816</td>\n",
       "      <td>A W BROWN LEADERSHIP ACADEMY</td>\n",
       "      <td>OPEN ENROLLMENT CHARTER</td>\n",
       "      <td>TEACHING STAFF</td>\n",
       "      <td>KINDERGARTEN/ELEMENTARY (K-6)</td>\n",
       "      <td>2.96</td>\n",
       "      <td>197545.0</td>\n",
       "      <td>66718.0</td>\n",
       "    </tr>\n",
       "  </tbody>\n",
       "</table>\n",
       "</div>"
      ],
      "text/plain": [
       "  Region         County  District ID                 District Name  \\\n",
       "0     10  DALLAS COUNTY        57816  A W BROWN LEADERSHIP ACADEMY   \n",
       "1     10  DALLAS COUNTY        57816  A W BROWN LEADERSHIP ACADEMY   \n",
       "2     10  DALLAS COUNTY        57816  A W BROWN LEADERSHIP ACADEMY   \n",
       "\n",
       "            Charter Status  Staff_Category                          Staff  \\\n",
       "0  OPEN ENROLLMENT CHARTER  TEACHING STAFF               PRE-KINDERGARTEN   \n",
       "1  OPEN ENROLLMENT CHARTER  TEACHING STAFF                   KINDERGARTEN   \n",
       "2  OPEN ENROLLMENT CHARTER  TEACHING STAFF  KINDERGARTEN/ELEMENTARY (K-6)   \n",
       "\n",
       "   FTE Count  Total Base Pay  Average Base Pay  \n",
       "0      12.48        652611.0           52282.0  \n",
       "1      10.64        536025.0           50372.0  \n",
       "2       2.96        197545.0           66718.0  "
      ]
     },
     "execution_count": 105,
     "metadata": {},
     "output_type": "execute_result"
    }
   ],
   "source": [
    "# Teacher Count and Avg Salary -- 2022\n",
    "peims_teacher_filepath = 'PEIMS Teacher Count & Avg Salary (2022)-- TEA Data.xlsx'\n",
    "peims_teacher_data_sheet = 'Data'  \n",
    "peims_teacher_data_2022_df = pd.read_excel(peims_teacher_filepath, sheet_name=peims_teacher_data_sheet)\n",
    "peims_teacher_data_2022_df.head(3)"
   ]
  },
  {
   "cell_type": "code",
   "execution_count": 106,
   "id": "3fd56876",
   "metadata": {},
   "outputs": [],
   "source": [
    "# Teacher Count and Avg Salary - 2021\n",
    "peims_teacher_filepath = 'PEIMS Teacher Count & Avg Salary (2021)-- TEA Data.xlsx'\n",
    "peims_teacher_data_sheet = 'Data'  \n",
    "peims_teacher_data_2021_df = pd.read_excel(peims_teacher_filepath, sheet_name=peims_teacher_data_sheet)"
   ]
  },
  {
   "cell_type": "code",
   "execution_count": 107,
   "id": "7941204a",
   "metadata": {},
   "outputs": [],
   "source": [
    "# Teacher Count and Avg Salary - 2020\n",
    "peims_teacher_filepath = 'PEIMS Teacher Count & Avg Salary (2020)-- TEA Data.xlsx'\n",
    "peims_teacher_data_sheet = 'Data'  \n",
    "peims_teacher_data_2020_df = pd.read_excel(peims_teacher_filepath, sheet_name=peims_teacher_data_sheet)"
   ]
  },
  {
   "cell_type": "code",
   "execution_count": 108,
   "id": "9063c54c",
   "metadata": {},
   "outputs": [],
   "source": [
    "# Teacher Count and Avg Salary - 2019\n",
    "peims_teacher_filepath = 'PEIMS Teacher Count & Avg Salary (2019)-- TEA Data.xlsx'\n",
    "peims_teacher_data_sheet = 'Data'  \n",
    "peims_teacher_data_2019_df = pd.read_excel(peims_teacher_filepath, sheet_name=peims_teacher_data_sheet)"
   ]
  },
  {
   "cell_type": "code",
   "execution_count": 109,
   "id": "2e7ec072",
   "metadata": {},
   "outputs": [],
   "source": [
    "# Teacher Count and Avg Salary - 2018\n",
    "peims_teacher_filepath = 'PEIMS Teacher Count & Avg Salary (2018)-- TEA Data.xlsx'\n",
    "peims_teacher_data_sheet = 'Data'  \n",
    "peims_teacher_data_2018_df = pd.read_excel(peims_teacher_filepath, sheet_name=peims_teacher_data_sheet)"
   ]
  },
  {
   "cell_type": "code",
   "execution_count": 110,
   "id": "6e4309bc",
   "metadata": {},
   "outputs": [
    {
     "data": {
      "text/html": [
       "<div>\n",
       "<style scoped>\n",
       "    .dataframe tbody tr th:only-of-type {\n",
       "        vertical-align: middle;\n",
       "    }\n",
       "\n",
       "    .dataframe tbody tr th {\n",
       "        vertical-align: top;\n",
       "    }\n",
       "\n",
       "    .dataframe thead th {\n",
       "        text-align: right;\n",
       "    }\n",
       "</style>\n",
       "<table border=\"1\" class=\"dataframe\">\n",
       "  <thead>\n",
       "    <tr style=\"text-align: right;\">\n",
       "      <th></th>\n",
       "      <th>County</th>\n",
       "      <th>County Name</th>\n",
       "      <th>District ID</th>\n",
       "      <th>District Name</th>\n",
       "      <th>2004-2005 ADA</th>\n",
       "      <th>2005-2006 ADA</th>\n",
       "      <th>2006-2007 ADA</th>\n",
       "      <th>2007-2008 ADA</th>\n",
       "      <th>2008-2009 ADA</th>\n",
       "      <th>2009-2010 ADA</th>\n",
       "      <th>...</th>\n",
       "      <th>2013-2014 ADA</th>\n",
       "      <th>2014-2015 ADA</th>\n",
       "      <th>2015-2016 ADA</th>\n",
       "      <th>2016-2017 ADA</th>\n",
       "      <th>2017-2018 ADA</th>\n",
       "      <th>2018-2019 ADA</th>\n",
       "      <th>2019-2020 ADA</th>\n",
       "      <th>2020-2021 ADA</th>\n",
       "      <th>2021-2022 ADA</th>\n",
       "      <th>2022-2023 ADA</th>\n",
       "    </tr>\n",
       "  </thead>\n",
       "  <tbody>\n",
       "    <tr>\n",
       "      <th>0</th>\n",
       "      <td>178</td>\n",
       "      <td>NUECES COUNTY</td>\n",
       "      <td>178806</td>\n",
       "      <td>21ST CENTURY ACADEMY OF SCIENCE AN</td>\n",
       "      <td>0.000</td>\n",
       "      <td>0.000</td>\n",
       "      <td>0.000</td>\n",
       "      <td>0.000</td>\n",
       "      <td>0.000</td>\n",
       "      <td>0.000</td>\n",
       "      <td>...</td>\n",
       "      <td>0.000</td>\n",
       "      <td>0.000</td>\n",
       "      <td>0.000</td>\n",
       "      <td>0.000</td>\n",
       "      <td>0.000</td>\n",
       "      <td>0.000</td>\n",
       "      <td>0.000</td>\n",
       "      <td>0.000</td>\n",
       "      <td>0.000</td>\n",
       "      <td>0.00</td>\n",
       "    </tr>\n",
       "    <tr>\n",
       "      <th>1</th>\n",
       "      <td>57</td>\n",
       "      <td>DALLAS COUNTY</td>\n",
       "      <td>57816</td>\n",
       "      <td>A W BROWN LEADERSHIP ACADEMY</td>\n",
       "      <td>711.384</td>\n",
       "      <td>849.091</td>\n",
       "      <td>923.753</td>\n",
       "      <td>991.948</td>\n",
       "      <td>1047.546</td>\n",
       "      <td>1131.454</td>\n",
       "      <td>...</td>\n",
       "      <td>1657.226</td>\n",
       "      <td>1799.313</td>\n",
       "      <td>1818.267</td>\n",
       "      <td>1918.032</td>\n",
       "      <td>1731.535</td>\n",
       "      <td>1585.182</td>\n",
       "      <td>1324.525</td>\n",
       "      <td>1026.444</td>\n",
       "      <td>880.776</td>\n",
       "      <td>763.44</td>\n",
       "    </tr>\n",
       "    <tr>\n",
       "      <th>2</th>\n",
       "      <td>57</td>\n",
       "      <td>DALLAS COUNTY</td>\n",
       "      <td>57829</td>\n",
       "      <td>A+ ACADEMY</td>\n",
       "      <td>830.974</td>\n",
       "      <td>878.711</td>\n",
       "      <td>896.752</td>\n",
       "      <td>865.948</td>\n",
       "      <td>896.359</td>\n",
       "      <td>1038.276</td>\n",
       "      <td>...</td>\n",
       "      <td>933.890</td>\n",
       "      <td>910.002</td>\n",
       "      <td>904.325</td>\n",
       "      <td>995.942</td>\n",
       "      <td>1245.197</td>\n",
       "      <td>1300.150</td>\n",
       "      <td>1222.064</td>\n",
       "      <td>1285.841</td>\n",
       "      <td>1388.241</td>\n",
       "      <td>1400.47</td>\n",
       "    </tr>\n",
       "  </tbody>\n",
       "</table>\n",
       "<p>3 rows × 23 columns</p>\n",
       "</div>"
      ],
      "text/plain": [
       "   County    County Name  District ID                       District Name  \\\n",
       "0     178  NUECES COUNTY       178806  21ST CENTURY ACADEMY OF SCIENCE AN   \n",
       "1      57  DALLAS COUNTY        57816        A W BROWN LEADERSHIP ACADEMY   \n",
       "2      57  DALLAS COUNTY        57829                          A+ ACADEMY   \n",
       "\n",
       "    2004-2005 ADA   2005-2006 ADA   2006-2007 ADA  2007-2008 ADA  \\\n",
       "0           0.000           0.000           0.000          0.000   \n",
       "1         711.384         849.091         923.753        991.948   \n",
       "2         830.974         878.711         896.752        865.948   \n",
       "\n",
       "   2008-2009 ADA   2009-2010 ADA  ...   2013-2014 ADA   2014-2015 ADA  \\\n",
       "0          0.000           0.000  ...           0.000           0.000   \n",
       "1       1047.546        1131.454  ...        1657.226        1799.313   \n",
       "2        896.359        1038.276  ...         933.890         910.002   \n",
       "\n",
       "    2015-2016 ADA   2016-2017 ADA   2017-2018 ADA   2018-2019 ADA  \\\n",
       "0           0.000           0.000           0.000           0.000   \n",
       "1        1818.267        1918.032        1731.535        1585.182   \n",
       "2         904.325         995.942        1245.197        1300.150   \n",
       "\n",
       "    2019-2020 ADA   2020-2021 ADA  2021-2022 ADA  2022-2023 ADA  \n",
       "0           0.000           0.000          0.000           0.00  \n",
       "1        1324.525        1026.444        880.776         763.44  \n",
       "2        1222.064        1285.841       1388.241        1400.47  \n",
       "\n",
       "[3 rows x 23 columns]"
      ]
     },
     "execution_count": 110,
     "metadata": {},
     "output_type": "execute_result"
    }
   ],
   "source": [
    "# Average Daily Attendance (ADA)\n",
    "ada_filepath = 'ADA (Avg Daily Attendance) 2005-2023 -- TEA data.xlsx'\n",
    "ada_data_sheet = 'Data'  \n",
    "ada_data_df = pd.read_excel(ada_filepath, sheet_name=ada_data_sheet)\n",
    "ada_data_df.head(3)"
   ]
  },
  {
   "cell_type": "code",
   "execution_count": 146,
   "id": "dfce7164",
   "metadata": {},
   "outputs": [
    {
     "data": {
      "text/html": [
       "<div>\n",
       "<style scoped>\n",
       "    .dataframe tbody tr th:only-of-type {\n",
       "        vertical-align: middle;\n",
       "    }\n",
       "\n",
       "    .dataframe tbody tr th {\n",
       "        vertical-align: top;\n",
       "    }\n",
       "\n",
       "    .dataframe thead th {\n",
       "        text-align: right;\n",
       "    }\n",
       "</style>\n",
       "<table border=\"1\" class=\"dataframe\">\n",
       "  <thead>\n",
       "    <tr style=\"text-align: right;\">\n",
       "      <th></th>\n",
       "      <th>DISTRICT</th>\n",
       "      <th>DISTNAME</th>\n",
       "      <th>DPST00FC</th>\n",
       "      <th>DPST00FP</th>\n",
       "      <th>DPST01FC</th>\n",
       "      <th>DPST01FP</th>\n",
       "      <th>DPST06FC</th>\n",
       "      <th>DPST06FP</th>\n",
       "      <th>DPST11FC</th>\n",
       "      <th>DPST11FP</th>\n",
       "      <th>...</th>\n",
       "      <th>DPSTEXPA</th>\n",
       "      <th>DPSTKIDR</th>\n",
       "      <th>DPSTMSFC</th>\n",
       "      <th>DPSTMSFP</th>\n",
       "      <th>DPSTNOFC</th>\n",
       "      <th>DPSTNOFP</th>\n",
       "      <th>DPSTPHFC</th>\n",
       "      <th>DPSTPHFP</th>\n",
       "      <th>DPSTTENA</th>\n",
       "      <th>DPSTURNR</th>\n",
       "    </tr>\n",
       "  </thead>\n",
       "  <tbody>\n",
       "    <tr>\n",
       "      <th>0</th>\n",
       "      <td>1902</td>\n",
       "      <td>CAYUGA ISD</td>\n",
       "      <td>0</td>\n",
       "      <td>0</td>\n",
       "      <td>4.8</td>\n",
       "      <td>10.4</td>\n",
       "      <td>7.8</td>\n",
       "      <td>16.6</td>\n",
       "      <td>14.6</td>\n",
       "      <td>31.2</td>\n",
       "      <td>...</td>\n",
       "      <td>16.7</td>\n",
       "      <td>12.3</td>\n",
       "      <td>6.9</td>\n",
       "      <td>14.8</td>\n",
       "      <td>0</td>\n",
       "      <td>0</td>\n",
       "      <td>0</td>\n",
       "      <td>0</td>\n",
       "      <td>9.9</td>\n",
       "      <td>19.1</td>\n",
       "    </tr>\n",
       "    <tr>\n",
       "      <th>1</th>\n",
       "      <td>1903</td>\n",
       "      <td>ELKHART ISD</td>\n",
       "      <td>3</td>\n",
       "      <td>2.9</td>\n",
       "      <td>22</td>\n",
       "      <td>21</td>\n",
       "      <td>17</td>\n",
       "      <td>16.2</td>\n",
       "      <td>39.9</td>\n",
       "      <td>38</td>\n",
       "      <td>...</td>\n",
       "      <td>13.5</td>\n",
       "      <td>11</td>\n",
       "      <td>19.9</td>\n",
       "      <td>19</td>\n",
       "      <td>2</td>\n",
       "      <td>1.9</td>\n",
       "      <td>0</td>\n",
       "      <td>0</td>\n",
       "      <td>7.6</td>\n",
       "      <td>13.9</td>\n",
       "    </tr>\n",
       "    <tr>\n",
       "      <th>2</th>\n",
       "      <td>1904</td>\n",
       "      <td>FRANKSTON ISD</td>\n",
       "      <td>2.3</td>\n",
       "      <td>3.1</td>\n",
       "      <td>22</td>\n",
       "      <td>29.5</td>\n",
       "      <td>14</td>\n",
       "      <td>18.8</td>\n",
       "      <td>17.9</td>\n",
       "      <td>24</td>\n",
       "      <td>...</td>\n",
       "      <td>12.8</td>\n",
       "      <td>10.8</td>\n",
       "      <td>22.8</td>\n",
       "      <td>30.7</td>\n",
       "      <td>1</td>\n",
       "      <td>1.3</td>\n",
       "      <td>0</td>\n",
       "      <td>0</td>\n",
       "      <td>5.1</td>\n",
       "      <td>21.6</td>\n",
       "    </tr>\n",
       "  </tbody>\n",
       "</table>\n",
       "<p>3 rows × 26 columns</p>\n",
       "</div>"
      ],
      "text/plain": [
       "   DISTRICT       DISTNAME DPST00FC DPST00FP DPST01FC DPST01FP DPST06FC  \\\n",
       "0      1902     CAYUGA ISD        0        0      4.8     10.4      7.8   \n",
       "1      1903    ELKHART ISD        3      2.9       22       21       17   \n",
       "2      1904  FRANKSTON ISD      2.3      3.1       22     29.5       14   \n",
       "\n",
       "  DPST06FP DPST11FC DPST11FP  ... DPSTEXPA DPSTKIDR DPSTMSFC DPSTMSFP  \\\n",
       "0     16.6     14.6     31.2  ...     16.7     12.3      6.9     14.8   \n",
       "1     16.2     39.9       38  ...     13.5       11     19.9       19   \n",
       "2     18.8     17.9       24  ...     12.8     10.8     22.8     30.7   \n",
       "\n",
       "  DPSTNOFC DPSTNOFP DPSTPHFC DPSTPHFP DPSTTENA DPSTURNR  \n",
       "0        0        0        0        0      9.9     19.1  \n",
       "1        2      1.9        0        0      7.6     13.9  \n",
       "2        1      1.3        0        0      5.1     21.6  \n",
       "\n",
       "[3 rows x 26 columns]"
      ]
     },
     "execution_count": 146,
     "metadata": {},
     "output_type": "execute_result"
    }
   ],
   "source": [
    "# Teacher Expertise Data -- 2022\n",
    "teacher_expertise_filepath_2022 = 'Teacher Expertise (2022) -- TEA Data.xlsx'\n",
    "teacher_expertise_data_sheet = 'Data' \n",
    "teacher_expertise_data_2022_df = pd.read_excel(teacher_expertise_filepath_2022, sheet_name=teacher_expertise_data_sheet)\n",
    "teacher_expertise_data_2022_df.head(3)"
   ]
  },
  {
   "cell_type": "code",
   "execution_count": 147,
   "id": "0e9b301b",
   "metadata": {},
   "outputs": [],
   "source": [
    "# Teacher Expertise Data -- 2021\n",
    "teacher_expertise_filepath_2021 = 'Teacher Expertise (2021) -- TEA Data.xlsx'\n",
    "teacher_expertise_data_sheet = 'Data' \n",
    "teacher_expertise_data_2021_df = pd.read_excel(teacher_expertise_filepath_2021, sheet_name=teacher_expertise_data_sheet)"
   ]
  },
  {
   "cell_type": "code",
   "execution_count": 148,
   "id": "b38f0ba0",
   "metadata": {},
   "outputs": [],
   "source": [
    "# Teacher Expertise Data -- 2020\n",
    "teacher_expertise_filepath_2020 = 'Teacher Expertise (2020) -- TEA Data.xlsx'\n",
    "teacher_expertise_data_sheet = 'Data' \n",
    "teacher_expertise_data_2020_df = pd.read_excel(teacher_expertise_filepath_2020, sheet_name=teacher_expertise_data_sheet)"
   ]
  },
  {
   "cell_type": "code",
   "execution_count": 149,
   "id": "44b59285",
   "metadata": {},
   "outputs": [],
   "source": [
    "# Teacher Expertise Data -- 2019\n",
    "teacher_expertise_filepath_2019 = 'Teacher Expertise (2019) -- TEA Data.xlsx'\n",
    "teacher_expertise_data_sheet = 'Data' \n",
    "teacher_expertise_data_2019_df = pd.read_excel(teacher_expertise_filepath_2019, sheet_name=teacher_expertise_data_sheet)"
   ]
  },
  {
   "cell_type": "code",
   "execution_count": 150,
   "id": "4cfb8468",
   "metadata": {},
   "outputs": [],
   "source": [
    "# Teacher Expertise Data -- 2018\n",
    "teacher_expertise_filepath_2018 = 'Teacher Expertise (2018) -- TEA Data.xlsx'\n",
    "teacher_expertise_data_sheet = 'Data'  \n",
    "teacher_expertise_data_2018_df = pd.read_excel(teacher_expertise_filepath_2018, sheet_name=teacher_expertise_data_sheet)"
   ]
  },
  {
   "cell_type": "code",
   "execution_count": 151,
   "id": "2c64db66",
   "metadata": {},
   "outputs": [
    {
     "data": {
      "text/html": [
       "<div>\n",
       "<style scoped>\n",
       "    .dataframe tbody tr th:only-of-type {\n",
       "        vertical-align: middle;\n",
       "    }\n",
       "\n",
       "    .dataframe tbody tr th {\n",
       "        vertical-align: top;\n",
       "    }\n",
       "\n",
       "    .dataframe thead th {\n",
       "        text-align: right;\n",
       "    }\n",
       "</style>\n",
       "<table border=\"1\" class=\"dataframe\">\n",
       "  <thead>\n",
       "    <tr style=\"text-align: right;\">\n",
       "      <th></th>\n",
       "      <th>State Postal Code</th>\n",
       "      <th>State FIPS Code</th>\n",
       "      <th>District ID</th>\n",
       "      <th>District Name</th>\n",
       "      <th>Estimated Total Population</th>\n",
       "      <th>Estimated Population 5-17</th>\n",
       "      <th>Estimated number of relevant children 5 to 17 years old in poverty who are related to the householder</th>\n",
       "    </tr>\n",
       "  </thead>\n",
       "  <tbody>\n",
       "    <tr>\n",
       "      <th>0</th>\n",
       "      <td>TX</td>\n",
       "      <td>48</td>\n",
       "      <td>109901</td>\n",
       "      <td>Abbott ISD</td>\n",
       "      <td>1082</td>\n",
       "      <td>185</td>\n",
       "      <td>18</td>\n",
       "    </tr>\n",
       "    <tr>\n",
       "      <th>1</th>\n",
       "      <td>TX</td>\n",
       "      <td>48</td>\n",
       "      <td>95901</td>\n",
       "      <td>Abernathy ISD</td>\n",
       "      <td>3476</td>\n",
       "      <td>774</td>\n",
       "      <td>147</td>\n",
       "    </tr>\n",
       "    <tr>\n",
       "      <th>2</th>\n",
       "      <td>TX</td>\n",
       "      <td>48</td>\n",
       "      <td>221901</td>\n",
       "      <td>Abilene ISD</td>\n",
       "      <td>105506</td>\n",
       "      <td>17290</td>\n",
       "      <td>3505</td>\n",
       "    </tr>\n",
       "  </tbody>\n",
       "</table>\n",
       "</div>"
      ],
      "text/plain": [
       "  State Postal Code  State FIPS Code  District ID  District Name  \\\n",
       "0                TX               48       109901     Abbott ISD   \n",
       "1                TX               48        95901  Abernathy ISD   \n",
       "2                TX               48       221901    Abilene ISD   \n",
       "\n",
       "   Estimated Total Population  Estimated Population 5-17  \\\n",
       "0                        1082                        185   \n",
       "1                        3476                        774   \n",
       "2                      105506                      17290   \n",
       "\n",
       "   Estimated number of relevant children 5 to 17 years old in poverty who are related to the householder  \n",
       "0                                                 18                                                      \n",
       "1                                                147                                                      \n",
       "2                                               3505                                                      "
      ]
     },
     "execution_count": 151,
     "metadata": {},
     "output_type": "execute_result"
    }
   ],
   "source": [
    "# Kids in Poverty by District -- 2022\n",
    "kids_poverty_filepath = 'Kids in Poverty Per School District 2022 – U.S. Census Bureau.xlsx'\n",
    "kids_poverty_data_sheet = 'Data'  \n",
    "kids_poverty_data_2022_df = pd.read_excel(kids_poverty_filepath, sheet_name=kids_poverty_data_sheet)\n",
    "kids_poverty_data_2022_df.head(3)"
   ]
  },
  {
   "cell_type": "code",
   "execution_count": 152,
   "id": "24e7cde4",
   "metadata": {},
   "outputs": [],
   "source": [
    "# Kids in Poverty by District -- 2021\n",
    "kids_poverty_filepath = 'Kids in Poverty Per School District 2021 – U.S. Census Bureau.xlsx'\n",
    "kids_poverty_data_sheet = 'Data'  \n",
    "kids_poverty_data_2021_df = pd.read_excel(kids_poverty_filepath, sheet_name=kids_poverty_data_sheet)"
   ]
  },
  {
   "cell_type": "code",
   "execution_count": 153,
   "id": "fc07ba6d",
   "metadata": {},
   "outputs": [],
   "source": [
    "# Kids in Poverty by District -- 2020\n",
    "kids_poverty_filepath = 'Kids in Poverty Per School District 2020 – U.S. Census Bureau.xlsx'\n",
    "kids_poverty_data_sheet = 'Data'  \n",
    "kids_poverty_data_2020_df = pd.read_excel(kids_poverty_filepath, sheet_name=kids_poverty_data_sheet)"
   ]
  },
  {
   "cell_type": "code",
   "execution_count": 154,
   "id": "6ec36421",
   "metadata": {},
   "outputs": [],
   "source": [
    "# Kids in Poverty by District -- 2019\n",
    "kids_poverty_filepath = 'Kids in Poverty Per School District 2019 – U.S. Census Bureau.xlsx'\n",
    "kids_poverty_data_sheet = 'Data'  \n",
    "kids_poverty_data_2019_df = pd.read_excel(kids_poverty_filepath, sheet_name=kids_poverty_data_sheet)"
   ]
  },
  {
   "cell_type": "code",
   "execution_count": 155,
   "id": "f81acb99",
   "metadata": {},
   "outputs": [],
   "source": [
    "# Kids in Poverty by District -- 2018\n",
    "kids_poverty_filepath = 'Kids in Poverty Per School District 2018 – U.S. Census Bureau.xlsx'\n",
    "kids_poverty_data_sheet = 'Data'  \n",
    "kids_poverty_data_2018_df = pd.read_excel(kids_poverty_filepath, sheet_name=kids_poverty_data_sheet)"
   ]
  },
  {
   "cell_type": "code",
   "execution_count": 156,
   "id": "88e7f2dd",
   "metadata": {},
   "outputs": [
    {
     "data": {
      "text/html": [
       "<div>\n",
       "<style scoped>\n",
       "    .dataframe tbody tr th:only-of-type {\n",
       "        vertical-align: middle;\n",
       "    }\n",
       "\n",
       "    .dataframe tbody tr th {\n",
       "        vertical-align: top;\n",
       "    }\n",
       "\n",
       "    .dataframe thead th {\n",
       "        text-align: right;\n",
       "    }\n",
       "</style>\n",
       "<table border=\"1\" class=\"dataframe\">\n",
       "  <thead>\n",
       "    <tr style=\"text-align: right;\">\n",
       "      <th></th>\n",
       "      <th>Rank</th>\n",
       "      <th>District ID</th>\n",
       "      <th>District Name</th>\n",
       "      <th>Score</th>\n",
       "      <th>Expenditures for Public Elementary and Secondary Schools per Pupil</th>\n",
       "      <th>Income by School District</th>\n",
       "      <th>Unnamed: 6</th>\n",
       "      <th>Unnamed: 7</th>\n",
       "    </tr>\n",
       "  </thead>\n",
       "  <tbody>\n",
       "    <tr>\n",
       "      <th>0</th>\n",
       "      <td>1</td>\n",
       "      <td>207901</td>\n",
       "      <td>Schleicher ISD</td>\n",
       "      <td>0.06</td>\n",
       "      <td>13317</td>\n",
       "      <td>61094</td>\n",
       "      <td>NaN</td>\n",
       "      <td>NaN</td>\n",
       "    </tr>\n",
       "    <tr>\n",
       "      <th>1</th>\n",
       "      <td>2</td>\n",
       "      <td>143906</td>\n",
       "      <td>Ezzell ISD</td>\n",
       "      <td>0.07</td>\n",
       "      <td>12961</td>\n",
       "      <td>62833</td>\n",
       "      <td>NaN</td>\n",
       "      <td>NaN</td>\n",
       "    </tr>\n",
       "    <tr>\n",
       "      <th>2</th>\n",
       "      <td>3</td>\n",
       "      <td>91901</td>\n",
       "      <td>Bells ISD</td>\n",
       "      <td>0.08</td>\n",
       "      <td>10796</td>\n",
       "      <td>73388</td>\n",
       "      <td>NaN</td>\n",
       "      <td>NaN</td>\n",
       "    </tr>\n",
       "  </tbody>\n",
       "</table>\n",
       "</div>"
      ],
      "text/plain": [
       "   Rank  District ID   District Name  Score  \\\n",
       "0     1       207901  Schleicher ISD   0.06   \n",
       "1     2       143906      Ezzell ISD   0.07   \n",
       "2     3        91901       Bells ISD   0.08   \n",
       "\n",
       "   Expenditures for Public Elementary and Secondary Schools per Pupil  \\\n",
       "0                                              13317                    \n",
       "1                                              12961                    \n",
       "2                                              10796                    \n",
       "\n",
       "   Income by School District  Unnamed: 6 Unnamed: 7  \n",
       "0                      61094         NaN        NaN  \n",
       "1                      62833         NaN        NaN  \n",
       "2                      73388         NaN        NaN  "
      ]
     },
     "execution_count": 156,
     "metadata": {},
     "output_type": "execute_result"
    }
   ],
   "source": [
    "# Median Incomes per District\n",
    "income_filepath = 'Median Incomes & Total Expenses Per Pupil by District -- WalletHub.xlsx'\n",
    "income_data_sheet = 'Data'  \n",
    "income_data_df = pd.read_excel(income_filepath, sheet_name=income_data_sheet)\n",
    "income_data_df.head(3)"
   ]
  },
  {
   "cell_type": "markdown",
   "id": "45398056",
   "metadata": {},
   "source": [
    "## 1.5 Concatenate Individual Years Datasets <a id='join_individual_years'></a>"
   ]
  },
  {
   "cell_type": "markdown",
   "id": "d40b1e7c",
   "metadata": {},
   "source": [
    "We'll now need to concatenate all the different years of individual datasets together. Before doing so though, we'll add a column \"Year\" where appropriate for future use. "
   ]
  },
  {
   "cell_type": "code",
   "execution_count": 157,
   "id": "820d81ce",
   "metadata": {},
   "outputs": [],
   "source": [
    "# Add Year columns to specific datasets \n",
    "\n",
    "\n",
    "hs_graduation_data_2022_df['Year'] = 2022\n",
    "hs_graduation_data_2021_df['Year'] = 2021\n",
    "hs_graduation_data_2020_df['Year'] = 2020\n",
    "hs_graduation_data_2019_df['Year'] = 2019\n",
    "hs_graduation_data_2018_df['Year'] = 2018\n",
    "\n",
    "sat_act_data_2022_df['Year'] = 2022\n",
    "sat_act_data_2021_df['Year'] = 2021\n",
    "sat_act_data_2020_df['Year'] = 2020\n",
    "sat_act_data_2019_df['Year'] = 2019\n",
    "sat_act_data_2018_df['Year'] = 2018\n",
    "\n",
    "property_values_data_2022_df['Year'] = 2022\n",
    "property_values_data_2021_df['Year'] = 2021\n",
    "property_values_data_2020_df['Year'] = 2020\n",
    "property_values_data_2019_df['Year'] = 2019\n",
    "property_values_data_2018_df['Year'] = 2018\n",
    "\n",
    "ap_ib_scores_data_2022_df['Year'] = 2022\n",
    "ap_ib_scores_data_2021_df['Year'] = 2021\n",
    "ap_ib_scores_data_2020_df['Year'] = 2020\n",
    "ap_ib_scores_data_2019_df['Year'] = 2019\n",
    "ap_ib_scores_data_2018_df['Year'] = 2018\n",
    "\n",
    "peims_teacher_data_2022_df['Year'] = 2022\n",
    "peims_teacher_data_2021_df['Year'] = 2021\n",
    "peims_teacher_data_2020_df['Year'] = 2020\n",
    "peims_teacher_data_2019_df['Year'] = 2019\n",
    "peims_teacher_data_2018_df['Year'] = 2018\n",
    "\n",
    "teacher_expertise_data_2022_df['Year'] = 2022\n",
    "teacher_expertise_data_2021_df['Year'] = 2021\n",
    "teacher_expertise_data_2020_df['Year'] = 2020\n",
    "teacher_expertise_data_2019_df['Year'] = 2019\n",
    "teacher_expertise_data_2018_df['Year'] = 2018\n",
    "\n",
    "kids_poverty_data_2022_df['Year'] = 2022\n",
    "kids_poverty_data_2021_df['Year'] = 2021\n",
    "kids_poverty_data_2020_df['Year'] = 2020\n",
    "kids_poverty_data_2019_df['Year'] = 2019\n",
    "kids_poverty_data_2018_df['Year'] = 2018\n",
    "\n",
    "income_data_df['Year'] = 2023"
   ]
  },
  {
   "cell_type": "code",
   "execution_count": 158,
   "id": "42201c74",
   "metadata": {},
   "outputs": [],
   "source": [
    "# Concatenate individual datasets \n",
    "\n",
    "grad_df = pd.concat([\n",
    "    hs_graduation_data_2022_df,\n",
    "    hs_graduation_data_2021_df,\n",
    "    hs_graduation_data_2020_df,\n",
    "    hs_graduation_data_2019_df,\n",
    "    hs_graduation_data_2018_df\n",
    "])\n",
    "\n",
    "sat_act_df = pd.concat([\n",
    "    sat_act_data_2022_df,\n",
    "    sat_act_data_2021_df,\n",
    "    sat_act_data_2020_df,\n",
    "    sat_act_data_2019_df,\n",
    "    sat_act_data_2018_df\n",
    "])\n",
    "\n",
    "property_values_df = pd.concat([\n",
    "    property_values_data_2022_df,\n",
    "    property_values_data_2021_df,\n",
    "    property_values_data_2020_df,\n",
    "    property_values_data_2019_df,\n",
    "    property_values_data_2018_df\n",
    "])\n",
    "\n",
    "ap_ib_scores_df = pd.concat([\n",
    "    ap_ib_scores_data_2022_df,\n",
    "    ap_ib_scores_data_2021_df,\n",
    "    ap_ib_scores_data_2020_df,\n",
    "    ap_ib_scores_data_2019_df,\n",
    "    ap_ib_scores_data_2018_df\n",
    "])\n",
    "\n",
    "teacher_df = pd.concat([\n",
    "    peims_teacher_data_2022_df,\n",
    "    peims_teacher_data_2021_df,\n",
    "    peims_teacher_data_2020_df,\n",
    "    peims_teacher_data_2019_df,\n",
    "    peims_teacher_data_2018_df\n",
    "])\n",
    "\n",
    "teacher_expertise_df = pd.concat([\n",
    "    teacher_expertise_data_2022_df,\n",
    "    teacher_expertise_data_2021_df,\n",
    "    teacher_expertise_data_2020_df,\n",
    "    teacher_expertise_data_2019_df,\n",
    "    teacher_expertise_data_2018_df\n",
    "])\n",
    "\n",
    "poverty_df = pd.concat([\n",
    "    kids_poverty_data_2022_df,\n",
    "    kids_poverty_data_2021_df,\n",
    "    kids_poverty_data_2020_df,\n",
    "    kids_poverty_data_2019_df,\n",
    "    kids_poverty_data_2018_df\n",
    "])\n",
    "\n"
   ]
  },
  {
   "cell_type": "code",
   "execution_count": 159,
   "id": "19a21014",
   "metadata": {},
   "outputs": [
    {
     "data": {
      "text/html": [
       "<div>\n",
       "<style scoped>\n",
       "    .dataframe tbody tr th:only-of-type {\n",
       "        vertical-align: middle;\n",
       "    }\n",
       "\n",
       "    .dataframe tbody tr th {\n",
       "        vertical-align: top;\n",
       "    }\n",
       "\n",
       "    .dataframe thead th {\n",
       "        text-align: right;\n",
       "    }\n",
       "</style>\n",
       "<table border=\"1\" class=\"dataframe\">\n",
       "  <thead>\n",
       "    <tr style=\"text-align: right;\">\n",
       "      <th></th>\n",
       "      <th>DISTRICT</th>\n",
       "      <th>DISTNAME</th>\n",
       "      <th>DPST00FC</th>\n",
       "      <th>DPST00FP</th>\n",
       "      <th>DPST01FC</th>\n",
       "      <th>DPST01FP</th>\n",
       "      <th>DPST06FC</th>\n",
       "      <th>DPST06FP</th>\n",
       "      <th>DPST11FC</th>\n",
       "      <th>DPST11FP</th>\n",
       "      <th>...</th>\n",
       "      <th>DPSTPHFC</th>\n",
       "      <th>DPSTPHFP</th>\n",
       "      <th>DPSTTENA</th>\n",
       "      <th>DPSTURNR</th>\n",
       "      <th>Year</th>\n",
       "      <th>DPST20FC</th>\n",
       "      <th>DPST20FP</th>\n",
       "      <th>a</th>\n",
       "      <th>b</th>\n",
       "      <th>c</th>\n",
       "    </tr>\n",
       "  </thead>\n",
       "  <tbody>\n",
       "    <tr>\n",
       "      <th>0</th>\n",
       "      <td>1902</td>\n",
       "      <td>CAYUGA ISD</td>\n",
       "      <td>0</td>\n",
       "      <td>0</td>\n",
       "      <td>4.8</td>\n",
       "      <td>10.4</td>\n",
       "      <td>7.8</td>\n",
       "      <td>16.6</td>\n",
       "      <td>14.6</td>\n",
       "      <td>31.2</td>\n",
       "      <td>...</td>\n",
       "      <td>0</td>\n",
       "      <td>0</td>\n",
       "      <td>9.9</td>\n",
       "      <td>19.1</td>\n",
       "      <td>2022</td>\n",
       "      <td>NaN</td>\n",
       "      <td>NaN</td>\n",
       "      <td>NaN</td>\n",
       "      <td>NaN</td>\n",
       "      <td>NaN</td>\n",
       "    </tr>\n",
       "    <tr>\n",
       "      <th>1</th>\n",
       "      <td>1903</td>\n",
       "      <td>ELKHART ISD</td>\n",
       "      <td>3</td>\n",
       "      <td>2.9</td>\n",
       "      <td>22</td>\n",
       "      <td>21</td>\n",
       "      <td>17</td>\n",
       "      <td>16.2</td>\n",
       "      <td>39.9</td>\n",
       "      <td>38</td>\n",
       "      <td>...</td>\n",
       "      <td>0</td>\n",
       "      <td>0</td>\n",
       "      <td>7.6</td>\n",
       "      <td>13.9</td>\n",
       "      <td>2022</td>\n",
       "      <td>NaN</td>\n",
       "      <td>NaN</td>\n",
       "      <td>NaN</td>\n",
       "      <td>NaN</td>\n",
       "      <td>NaN</td>\n",
       "    </tr>\n",
       "    <tr>\n",
       "      <th>2</th>\n",
       "      <td>1904</td>\n",
       "      <td>FRANKSTON ISD</td>\n",
       "      <td>2.3</td>\n",
       "      <td>3.1</td>\n",
       "      <td>22</td>\n",
       "      <td>29.5</td>\n",
       "      <td>14</td>\n",
       "      <td>18.8</td>\n",
       "      <td>17.9</td>\n",
       "      <td>24</td>\n",
       "      <td>...</td>\n",
       "      <td>0</td>\n",
       "      <td>0</td>\n",
       "      <td>5.1</td>\n",
       "      <td>21.6</td>\n",
       "      <td>2022</td>\n",
       "      <td>NaN</td>\n",
       "      <td>NaN</td>\n",
       "      <td>NaN</td>\n",
       "      <td>NaN</td>\n",
       "      <td>NaN</td>\n",
       "    </tr>\n",
       "    <tr>\n",
       "      <th>3</th>\n",
       "      <td>1906</td>\n",
       "      <td>NECHES ISD</td>\n",
       "      <td>0</td>\n",
       "      <td>0</td>\n",
       "      <td>2.9</td>\n",
       "      <td>9.7</td>\n",
       "      <td>8.7</td>\n",
       "      <td>28.7</td>\n",
       "      <td>9</td>\n",
       "      <td>29.8</td>\n",
       "      <td>...</td>\n",
       "      <td>0</td>\n",
       "      <td>0</td>\n",
       "      <td>7.8</td>\n",
       "      <td>18.3</td>\n",
       "      <td>2022</td>\n",
       "      <td>NaN</td>\n",
       "      <td>NaN</td>\n",
       "      <td>NaN</td>\n",
       "      <td>NaN</td>\n",
       "      <td>NaN</td>\n",
       "    </tr>\n",
       "    <tr>\n",
       "      <th>4</th>\n",
       "      <td>1907</td>\n",
       "      <td>PALESTINE ISD</td>\n",
       "      <td>21</td>\n",
       "      <td>8.1</td>\n",
       "      <td>67</td>\n",
       "      <td>25.7</td>\n",
       "      <td>46.6</td>\n",
       "      <td>17.9</td>\n",
       "      <td>72.4</td>\n",
       "      <td>27.8</td>\n",
       "      <td>...</td>\n",
       "      <td>0</td>\n",
       "      <td>0</td>\n",
       "      <td>7</td>\n",
       "      <td>17.9</td>\n",
       "      <td>2022</td>\n",
       "      <td>NaN</td>\n",
       "      <td>NaN</td>\n",
       "      <td>NaN</td>\n",
       "      <td>NaN</td>\n",
       "      <td>NaN</td>\n",
       "    </tr>\n",
       "  </tbody>\n",
       "</table>\n",
       "<p>5 rows × 32 columns</p>\n",
       "</div>"
      ],
      "text/plain": [
       "   DISTRICT       DISTNAME DPST00FC DPST00FP DPST01FC DPST01FP DPST06FC  \\\n",
       "0      1902     CAYUGA ISD        0        0      4.8     10.4      7.8   \n",
       "1      1903    ELKHART ISD        3      2.9       22       21       17   \n",
       "2      1904  FRANKSTON ISD      2.3      3.1       22     29.5       14   \n",
       "3      1906     NECHES ISD        0        0      2.9      9.7      8.7   \n",
       "4      1907  PALESTINE ISD       21      8.1       67     25.7     46.6   \n",
       "\n",
       "  DPST06FP DPST11FC DPST11FP  ... DPSTPHFC DPSTPHFP DPSTTENA DPSTURNR  Year  \\\n",
       "0     16.6     14.6     31.2  ...        0        0      9.9     19.1  2022   \n",
       "1     16.2     39.9       38  ...        0        0      7.6     13.9  2022   \n",
       "2     18.8     17.9       24  ...        0        0      5.1     21.6  2022   \n",
       "3     28.7        9     29.8  ...        0        0      7.8     18.3  2022   \n",
       "4     17.9     72.4     27.8  ...        0        0        7     17.9  2022   \n",
       "\n",
       "  DPST20FC DPST20FP   a   b   c  \n",
       "0      NaN      NaN NaN NaN NaN  \n",
       "1      NaN      NaN NaN NaN NaN  \n",
       "2      NaN      NaN NaN NaN NaN  \n",
       "3      NaN      NaN NaN NaN NaN  \n",
       "4      NaN      NaN NaN NaN NaN  \n",
       "\n",
       "[5 rows x 32 columns]"
      ]
     },
     "execution_count": 159,
     "metadata": {},
     "output_type": "execute_result"
    }
   ],
   "source": [
    "teacher_expertise_df.head()"
   ]
  },
  {
   "cell_type": "markdown",
   "id": "b8ca6240",
   "metadata": {},
   "source": [
    "### 1.6.1 4-Yr HS Graduation Rates <a id='4yr_grad_rate'></a>"
   ]
  },
  {
   "cell_type": "markdown",
   "id": "9d8ff2c0",
   "metadata": {},
   "source": [
    "TEA calculates two sets of rates: one for state accountability purposes, and one for federal accountability/reporting purposes. This is reflected in the 'CALC_FOR_STATE_ACCT' column. \n",
    "\n",
    "Since our analysis focuses on the state of Texas, using the high school graduation rate calculated for state accountability purposes would be the most appropriate choice to ensure alignment with the state's educational context and policies. Thus, we'll keep the graduation rates where CALC_FOR_STATE_ACCT = 'Yes', and drop the rows where this is marked 'No'. \n",
    "\n",
    "We'll also want to keep the dropout rate ('DIST_ALLR_DROP'), as well as a few additional columns, such as county and region, in case they prove useful later. \n",
    "\n",
    "'COUNTY': County number. \n",
    "\n",
    "'CNTYNAME': County name. \n",
    "\n",
    "'REGION': Region number. \n",
    "\n",
    "'REGNNAME': Region name. \n",
    "\n",
    "'DIST_ALLR_GRAD': District all students graduation rate. \n",
    "\n",
    "'DIST_ALLR_CONT': District all students continuation rate. \n",
    "\n",
    "'DIST_ALLR_TXCHSE': District all students TxCHSE rate. \n",
    "\n",
    "'DIST_ALLR_DROP': District all students dropout rate. "
   ]
  },
  {
   "cell_type": "code",
   "execution_count": 161,
   "id": "c98a9199",
   "metadata": {},
   "outputs": [
    {
     "name": "stdout",
     "output_type": "stream",
     "text": [
      "  calc_for_state_acct  district_id           district_name  county  \\\n",
      "1                 Yes        22902            Marathon ISD      22   \n",
      "3                 Yes        46802  Trinity Charter School      46   \n",
      "5                 Yes        65902              Hedley ISD      65   \n",
      "7                 Yes       115903           Dell City ISD     115   \n",
      "9                 Yes       122902           Valentine ISD     122   \n",
      "\n",
      "         county_name  region  region_name  dist_allr_grad  dist_allr_cont  \\\n",
      "1    Brewster County      18      Midland            -1.0            -1.0   \n",
      "3       Comal County      20  San Antonio            -1.0            -1.0   \n",
      "5      Donley County      16     Amarillo            -1.0            -1.0   \n",
      "7    Hudspeth County      19      El Paso            -1.0            -1.0   \n",
      "9  Jeff Davis County      18      Midland            -1.0            -1.0   \n",
      "\n",
      "  dist_allr_txchse  dist_allr_drop  Year  \n",
      "1               -1            -1.0  2022  \n",
      "3               -1            -1.0  2022  \n",
      "5               -1            -1.0  2022  \n",
      "7               -1            -1.0  2022  \n",
      "9               -1            -1.0  2022  \n"
     ]
    }
   ],
   "source": [
    "# 4-Yr HS Graduation Rates Clean-Up\n",
    "\n",
    "    \n",
    "# (1) Drop Columns: \n",
    "# Specify the columns to keep:\n",
    "columns_to_keep = ['CALC_FOR_STATE_ACCT', 'DISTRICT', 'DISTNAME', \n",
    "                   'COUNTY', 'CNTYNAME', 'REGION', 'REGNNAME', \n",
    "                   'DIST_ALLR_GRAD', 'DIST_ALLR_CONT', 'DIST_ALLR_TXCHSE', 'DIST_ALLR_DROP', 'Year']\n",
    "# Drop all other columns\n",
    "grad_df = grad_df[columns_to_keep]\n",
    "# Drop rows where CALC_FOR_STATE_ACCT is 'No'\n",
    "grad_df = grad_df[grad_df['CALC_FOR_STATE_ACCT'] != 'No']\n",
    "\n",
    "\n",
    "\n",
    "# (2) Rename Columns for Clarity and Consistency\n",
    "# Create a dictionary of old column names to new standardized ones\n",
    "rename_dict = {\n",
    "    'DISTRICT': 'district_id',  \n",
    "    'DISTNAME': 'district_name', \n",
    "    'CALC_FOR_STATE_ACCT': 'calc_for_state_acct',\n",
    "    'COUNTY': 'county',\n",
    "    'CNTYNAME': 'county_name',\n",
    "    'REGION': 'region',\n",
    "    'REGNNAME': 'region_name',\n",
    "    'DIST_ALLR_GRAD': 'dist_allr_grad',\n",
    "    'DIST_ALLR_CONT': 'dist_allr_cont',\n",
    "    'DIST_ALLR_TXCHSE': 'dist_allr_txchse',\n",
    "    'DIST_ALLR_DROP': 'dist_allr_drop'\n",
    "}\n",
    "# Rename the columns using the dictionary\n",
    "grad_df = grad_df.rename(columns=rename_dict)\n",
    "\n",
    "\n",
    "# (3) Data Type Conversion\n",
    "# Convert columns to appropriate data types\n",
    "grad_df['district_id'] = grad_df['district_id'].astype(int)  # Convert to integer\n",
    "\n",
    "# Display the first few rows of the modified dataframe\n",
    "print(grad_df.head())\n"
   ]
  },
  {
   "cell_type": "code",
   "execution_count": 162,
   "id": "deb0b746",
   "metadata": {},
   "outputs": [
    {
     "data": {
      "image/png": "[encoded data removed]",
      "text/plain": [
       "<Figure size 1000x600 with 1 Axes>"
      ]
     },
     "metadata": {},
     "output_type": "display_data"
    }
   ],
   "source": [
    "# (4) Outliers: Plotting the histogram\n",
    "plt.figure(figsize=(10, 6))\n",
    "plt.hist(grad_df['dist_allr_grad'], bins=20, color='blue', edgecolor='black')\n",
    "plt.title('Histogram of dist_allr_grad')\n",
    "plt.xlabel('Graduation Rate')\n",
    "plt.ylabel('Frequency')\n",
    "plt.grid(True)\n",
    "plt.show()"
   ]
  },
  {
   "cell_type": "markdown",
   "id": "ce73af24",
   "metadata": {},
   "source": [
    "Looks like we have a few outlier graduation rates between 0 and 20. These could be data entry errors or data corruption, or the result of actual variation in the data (i.e., some districts genuinely have very low graduation rates), and thus, they contain valuable information. Though we'll want to take note of this during the modeling stage due to the sensitivity of some models to outliers, we'll want to keep these for now to understand the factors contributing to extremely low graduation rates. "
   ]
  },
  {
   "cell_type": "code",
   "execution_count": 163,
   "id": "8d96b0a7",
   "metadata": {},
   "outputs": [
    {
     "data": {
      "text/plain": [
       "calc_for_state_acct       0\n",
       "district_id               0\n",
       "district_name             0\n",
       "county                    0\n",
       "county_name               0\n",
       "region                    0\n",
       "region_name               0\n",
       "dist_allr_grad            0\n",
       "dist_allr_cont            0\n",
       "dist_allr_txchse       2118\n",
       "dist_allr_drop            0\n",
       "Year                      0\n",
       "dtype: int64"
      ]
     },
     "execution_count": 163,
     "metadata": {},
     "output_type": "execute_result"
    }
   ],
   "source": [
    "# (5) Check for missing values\n",
    "grad_df.isna().sum()"
   ]
  },
  {
   "cell_type": "markdown",
   "id": "a5b81d22",
   "metadata": {},
   "source": [
    "There are no missing values, which is likely the case with most of the features in our other datasets. We'll then check the datatypes and counts of each feature. "
   ]
  },
  {
   "cell_type": "code",
   "execution_count": 164,
   "id": "deaf6642",
   "metadata": {},
   "outputs": [
    {
     "name": "stdout",
     "output_type": "stream",
     "text": [
      "<class 'pandas.core.frame.DataFrame'>\n",
      "Index: 5335 entries, 1 to 2117\n",
      "Data columns (total 12 columns):\n",
      " #   Column               Non-Null Count  Dtype  \n",
      "---  ------               --------------  -----  \n",
      " 0   calc_for_state_acct  5335 non-null   object \n",
      " 1   district_id          5335 non-null   int64  \n",
      " 2   district_name        5335 non-null   object \n",
      " 3   county               5335 non-null   int64  \n",
      " 4   county_name          5335 non-null   object \n",
      " 5   region               5335 non-null   int64  \n",
      " 6   region_name          5335 non-null   object \n",
      " 7   dist_allr_grad       5335 non-null   float64\n",
      " 8   dist_allr_cont       5335 non-null   float64\n",
      " 9   dist_allr_txchse     3217 non-null   object \n",
      " 10  dist_allr_drop       5335 non-null   float64\n",
      " 11  Year                 5335 non-null   int64  \n",
      "dtypes: float64(3), int64(4), object(5)\n",
      "memory usage: 541.8+ KB\n"
     ]
    }
   ],
   "source": [
    "grad_df.info()"
   ]
  },
  {
   "cell_type": "markdown",
   "id": "fb0e28c4",
   "metadata": {},
   "source": [
    "### 1.6.2 SAT-ACT Scores <a id='sat_act_scores'></a>"
   ]
  },
  {
   "cell_type": "markdown",
   "id": "97265911",
   "metadata": {},
   "source": [
    "We don't have data on exact SAT-ACT scores, but we do have two different rates that show a percentage of students meeting certain cutoffs. Here are the column definitions: \n",
    "\n",
    "Part_Rate: Percent of graduates taking the SAT and/or ACT. \n",
    "\n",
    "Above_Crit_Rate: Percent of graduating examinees scoring at or above 1180 (SAT total) or 24 (ACT composite). Both these scores are above the national averages. \n",
    "\n",
    "Above_TSI_Both_Rate: Percent of graduating examinees meeting the college-ready graduates TSI benchmarks for the SAT or the ACT on both reading/language arts and mathematics. \n",
    "\n",
    "We'll examine the difference between the two score rates (Above_Crit_Rate and Above_TSI_Both_Rate) to determine which is optimal for gauging student performance. \n",
    "\n",
    "We'll need to combine the participation rates w/ the test score rates to best reflect each district's educational outcomes. "
   ]
  },
  {
   "cell_type": "code",
   "execution_count": 165,
   "id": "84aa8a4d",
   "metadata": {},
   "outputs": [
    {
     "name": "stdout",
     "output_type": "stream",
     "text": [
      "     district_id  district_name  part_rate  above_crit_rate  \\\n",
      "0           1902     Cayuga ISD       63.0             10.3   \n",
      "57          1903    Elkhart ISD       44.9             12.9   \n",
      "114         1904  Frankston ISD       95.6             11.6   \n",
      "171         1906     Neches ISD       54.2             30.8   \n",
      "228         1907  Palestine ISD       36.5             29.4   \n",
      "\n",
      "     above_tsi_both_rate  Year  \n",
      "0                   27.6  2022  \n",
      "57                  41.9  2022  \n",
      "114                 32.6  2022  \n",
      "171                 61.5  2022  \n",
      "228                 56.5  2022  \n"
     ]
    }
   ],
   "source": [
    "# SAT-ACT Scores Clean-Up\n",
    "\n",
    "\n",
    "# (1) Drop Columns\n",
    "# Drop rows where Group is not 'All Students'\n",
    "sat_act_df = sat_act_df[sat_act_df['Group'] == 'All Students']\n",
    "# Specify the columns to keep:\n",
    "columns_to_keep = ['District', 'DistName',\n",
    "                   'Part_Rate', 'Above_Crit_Rate', 'Above_TSI_Both_Rate', 'Year']\n",
    "# Drop all other columns\n",
    "sat_act_df = sat_act_df[columns_to_keep]\n",
    "\n",
    "\n",
    "# (2) Rename Columns for Clarity and Consistency\n",
    "# Create a dictionary of old column names to new standardized ones\n",
    "rename_dict = {\n",
    "    'District': 'district_id',  \n",
    "    'DistName': 'district_name', \n",
    "    'Part_Rate': 'part_rate',\n",
    "    'Above_Crit_Rate': 'above_crit_rate',\n",
    "    'Above_TSI_Both_Rate': 'above_tsi_both_rate'\n",
    "}\n",
    "# Rename the columns using the dictionary\n",
    "sat_act_df = sat_act_df.rename(columns=rename_dict)\n",
    "\n",
    "\n",
    "# (3) Data Type Conversion\n",
    "# Convert columns to appropriate data types\n",
    "sat_act_df['district_id'] = sat_act_df['district_id'].astype(int)  # Convert to integer\n",
    "\n",
    "\n",
    "\n",
    "# Display the first few rows of the modified dataframe\n",
    "print(sat_act_df.head())"
   ]
  },
  {
   "cell_type": "markdown",
   "id": "7f03742b",
   "metadata": {},
   "source": [
    "Let's examine the two different score rates, and the outliers among both. "
   ]
  },
  {
   "cell_type": "code",
   "execution_count": 166,
   "id": "1afa5684",
   "metadata": {},
   "outputs": [
    {
     "data": {
      "image/png": "[encoded data removed]",
      "text/plain": [
       "<Figure size 1400x600 with 2 Axes>"
      ]
     },
     "metadata": {},
     "output_type": "display_data"
    }
   ],
   "source": [
    "# (4) Outliers: Plotting the histogram\n",
    "\n",
    "# Create a figure with two subplots side by side\n",
    "fig, axes = plt.subplots(nrows=1, ncols=2, figsize=(14, 6))\n",
    "\n",
    "# Plot the histogram for 'above_crit_rate' on the first subplot\n",
    "axes[0].hist(sat_act_df['above_crit_rate'], bins=20, color='red', edgecolor='black')\n",
    "axes[0].set_title('Histogram of above_crit_rate')\n",
    "axes[0].set_xlabel('SAT-ACT Scores Critical Rate')\n",
    "axes[0].set_ylabel('Frequency')\n",
    "\n",
    "# Plot the histogram for 'above_tsi_both_rate' on the second subplot\n",
    "axes[1].hist(sat_act_df['above_tsi_both_rate'], bins=20, color='grey', edgecolor='black')\n",
    "axes[1].set_title('Histogram of above_tsi_both_rate')\n",
    "axes[1].set_xlabel('SAT-ACT Scores TSI Rate')\n",
    "axes[1].set_ylabel('Frequency')\n",
    "\n",
    "# Adjust the layout\n",
    "plt.tight_layout()\n",
    "plt.show()"
   ]
  },
  {
   "cell_type": "markdown",
   "id": "03af4109",
   "metadata": {},
   "source": [
    "The histogram for Above_Crit_Rate shows a bimodal distribution with a significant number of districts at the lower end of the scale and some outliers near 100. This could indicate a split in the performance of districts, with some performing significantly better than others. This variable might be more straightforward for comparison and could be suitable since we're interested in factors that lead to higher-than-average SAT-ACT performance."
   ]
  },
  {
   "cell_type": "markdown",
   "id": "4a0b6589",
   "metadata": {},
   "source": [
    "The histogram for Above_TSI_Both_Rate is more normally distributed with a single peak, showing that performance on the TSI benchmarks is more evenly spread across districts. This target variable includes requirements for both reading/language arts and mathematics, which could provide a more complete view of college readiness. \n",
    "\n",
    "However, from comparing both distributions, the TSI benchmarks appear to be less stringent than the Above_Crit_Rate scores. This indicates they may not be as high as the national average scores used in the Above_Crit_Rate, so it may be less indicative of student success, which is ultimately what we're trying to discern. "
   ]
  },
  {
   "cell_type": "code",
   "execution_count": 167,
   "id": "83f9882a",
   "metadata": {},
   "outputs": [
    {
     "data": {
      "text/plain": [
       "district_id              0\n",
       "district_name            0\n",
       "part_rate               58\n",
       "above_crit_rate        602\n",
       "above_tsi_both_rate    318\n",
       "Year                     0\n",
       "dtype: int64"
      ]
     },
     "execution_count": 167,
     "metadata": {},
     "output_type": "execute_result"
    }
   ],
   "source": [
    "# (5) Check for missing values\n",
    "sat_act_df.isna().sum()"
   ]
  },
  {
   "cell_type": "code",
   "execution_count": 168,
   "id": "2ec222f4",
   "metadata": {},
   "outputs": [
    {
     "name": "stdout",
     "output_type": "stream",
     "text": [
      "<class 'pandas.core.frame.DataFrame'>\n",
      "Index: 5393 entries, 0 to 58698\n",
      "Data columns (total 6 columns):\n",
      " #   Column               Non-Null Count  Dtype  \n",
      "---  ------               --------------  -----  \n",
      " 0   district_id          5393 non-null   int64  \n",
      " 1   district_name        5393 non-null   object \n",
      " 2   part_rate            5335 non-null   float64\n",
      " 3   above_crit_rate      4791 non-null   float64\n",
      " 4   above_tsi_both_rate  5075 non-null   float64\n",
      " 5   Year                 5393 non-null   int64  \n",
      "dtypes: float64(3), int64(2), object(1)\n",
      "memory usage: 294.9+ KB\n"
     ]
    }
   ],
   "source": [
    "# Check for datatypes\n",
    "sat_act_df.info()"
   ]
  },
  {
   "cell_type": "markdown",
   "id": "6ca70d91",
   "metadata": {},
   "source": [
    "**Choice of score rate:** Though there are a bit more missing values, we're going to choose the Above_Crit_Rate since our focus is on high achievement in standardized testing, rather than a less clearly defined college readiness indicator. "
   ]
  },
  {
   "cell_type": "markdown",
   "id": "ec3f6c3e",
   "metadata": {},
   "source": [
    "### 1.6.3 District Funding Totals <a id='district_funding_totals'></a>"
   ]
  },
  {
   "cell_type": "markdown",
   "id": "c7253fde",
   "metadata": {},
   "source": [
    "We'll focus on state, local, and federal funding amounts, as this gives a clear and direct measure of the funds that are most likely to impact day-to-day school operations and educational programs, which are central to student success. These categories are also more standardized in financial reporting compared to other types of disbursements, which is key for comparing across districts."
   ]
  },
  {
   "cell_type": "code",
   "execution_count": 169,
   "id": "9782b63d",
   "metadata": {},
   "outputs": [],
   "source": [
    "# Subset on Years 2018-2022\n",
    "years = [2022, 2021, 2020, 2019, 2018]\n",
    "peims_funding_data_df = peims_funding_data_df[peims_funding_data_df['YEAR'].isin(years)]"
   ]
  },
  {
   "cell_type": "code",
   "execution_count": 170,
   "id": "b2cbf4b1",
   "metadata": {},
   "outputs": [
    {
     "data": {
      "text/html": [
       "<div>\n",
       "<style scoped>\n",
       "    .dataframe tbody tr th:only-of-type {\n",
       "        vertical-align: middle;\n",
       "    }\n",
       "\n",
       "    .dataframe tbody tr th {\n",
       "        vertical-align: top;\n",
       "    }\n",
       "\n",
       "    .dataframe thead th {\n",
       "        text-align: right;\n",
       "    }\n",
       "</style>\n",
       "<table border=\"1\" class=\"dataframe\">\n",
       "  <thead>\n",
       "    <tr style=\"text-align: right;\">\n",
       "      <th></th>\n",
       "      <th>District ID</th>\n",
       "      <th>District Name</th>\n",
       "      <th>YEAR</th>\n",
       "      <th>GEN FUNDS-LOCAL TAX REVENUE FROM M&amp;O</th>\n",
       "      <th>ALL FUNDS-LOCAL TAX REVENUE FROM M&amp;O</th>\n",
       "      <th>GEN FUNDS-STATE REVENUE</th>\n",
       "      <th>ALL FUNDS-STATE REVENUE</th>\n",
       "      <th>GEN FUNDS-FEDERAL REVENUE</th>\n",
       "      <th>ALL FUNDS-FEDERAL REVENUE</th>\n",
       "      <th>GEN FUNDS-OTHER LOCAL &amp; INTERMEDIATE REVENUE</th>\n",
       "      <th>...</th>\n",
       "      <th>ALL FUNDS-TOTAL OTHER USES</th>\n",
       "      <th>GEN FUNDS-INTERGOVERN CHARGES EXPEND</th>\n",
       "      <th>ALL FUNDS-INTERGOVERN CHARGES EXPEND</th>\n",
       "      <th>GEN FUNDS-DEBT SERVICE (OBJECT 6500) FOR TD</th>\n",
       "      <th>ALL FUNDS-DEBT SERVICE (OBJECT 6500) FOR TD</th>\n",
       "      <th>GEN FUNDS-CAPITAL PROJECTS(OBJECT 6600) FOR TD</th>\n",
       "      <th>ALL FUNDS-CAPITAL PROJECTS(OBJECT 6600) FOR TD</th>\n",
       "      <th>GEN FUNDS-TOTAL DISBURSEMENTS</th>\n",
       "      <th>ALL FUNDS-TOTAL DISBURSEMENTS</th>\n",
       "      <th>FALL SURVEY ENROLLMENT</th>\n",
       "    </tr>\n",
       "  </thead>\n",
       "  <tbody>\n",
       "    <tr>\n",
       "      <th>11</th>\n",
       "      <td>1902</td>\n",
       "      <td>CAYUGA ISD</td>\n",
       "      <td>2018</td>\n",
       "      <td>2948406</td>\n",
       "      <td>2948406</td>\n",
       "      <td>2437211</td>\n",
       "      <td>3256405</td>\n",
       "      <td>58608</td>\n",
       "      <td>1613694</td>\n",
       "      <td>144477</td>\n",
       "      <td>...</td>\n",
       "      <td>54833</td>\n",
       "      <td>222620</td>\n",
       "      <td>222620</td>\n",
       "      <td>0</td>\n",
       "      <td>0</td>\n",
       "      <td>91590</td>\n",
       "      <td>142094</td>\n",
       "      <td>5641406</td>\n",
       "      <td>8744613</td>\n",
       "      <td>575</td>\n",
       "    </tr>\n",
       "    <tr>\n",
       "      <th>12</th>\n",
       "      <td>1902</td>\n",
       "      <td>CAYUGA ISD</td>\n",
       "      <td>2019</td>\n",
       "      <td>3312342</td>\n",
       "      <td>3312342</td>\n",
       "      <td>2600715</td>\n",
       "      <td>3466026</td>\n",
       "      <td>61107</td>\n",
       "      <td>1880457</td>\n",
       "      <td>200999</td>\n",
       "      <td>...</td>\n",
       "      <td>48633</td>\n",
       "      <td>220289</td>\n",
       "      <td>220289</td>\n",
       "      <td>0</td>\n",
       "      <td>0</td>\n",
       "      <td>426338</td>\n",
       "      <td>426338</td>\n",
       "      <td>6108358</td>\n",
       "      <td>9254146</td>\n",
       "      <td>564</td>\n",
       "    </tr>\n",
       "    <tr>\n",
       "      <th>13</th>\n",
       "      <td>1902</td>\n",
       "      <td>CAYUGA ISD</td>\n",
       "      <td>2020</td>\n",
       "      <td>3269657</td>\n",
       "      <td>3269657</td>\n",
       "      <td>3657164</td>\n",
       "      <td>4624285</td>\n",
       "      <td>39697</td>\n",
       "      <td>1539484</td>\n",
       "      <td>108704</td>\n",
       "      <td>...</td>\n",
       "      <td>79856</td>\n",
       "      <td>225316</td>\n",
       "      <td>225316</td>\n",
       "      <td>0</td>\n",
       "      <td>0</td>\n",
       "      <td>457640</td>\n",
       "      <td>491482</td>\n",
       "      <td>6649717</td>\n",
       "      <td>9791838</td>\n",
       "      <td>557</td>\n",
       "    </tr>\n",
       "    <tr>\n",
       "      <th>14</th>\n",
       "      <td>1902</td>\n",
       "      <td>CAYUGA ISD</td>\n",
       "      <td>2021</td>\n",
       "      <td>3081356</td>\n",
       "      <td>3081356</td>\n",
       "      <td>3738183</td>\n",
       "      <td>4964406</td>\n",
       "      <td>26642</td>\n",
       "      <td>1939467</td>\n",
       "      <td>112377</td>\n",
       "      <td>...</td>\n",
       "      <td>90616</td>\n",
       "      <td>234695</td>\n",
       "      <td>915408</td>\n",
       "      <td>0</td>\n",
       "      <td>0</td>\n",
       "      <td>302296</td>\n",
       "      <td>333186</td>\n",
       "      <td>6686027</td>\n",
       "      <td>10228548</td>\n",
       "      <td>535</td>\n",
       "    </tr>\n",
       "    <tr>\n",
       "      <th>15</th>\n",
       "      <td>1902</td>\n",
       "      <td>CAYUGA ISD</td>\n",
       "      <td>2022</td>\n",
       "      <td>3094212</td>\n",
       "      <td>3094212</td>\n",
       "      <td>4197261</td>\n",
       "      <td>4204460</td>\n",
       "      <td>91436</td>\n",
       "      <td>2647825</td>\n",
       "      <td>221819</td>\n",
       "      <td>...</td>\n",
       "      <td>0</td>\n",
       "      <td>267140</td>\n",
       "      <td>794807</td>\n",
       "      <td>0</td>\n",
       "      <td>0</td>\n",
       "      <td>312480</td>\n",
       "      <td>312480</td>\n",
       "      <td>6736571</td>\n",
       "      <td>10812870</td>\n",
       "      <td>574</td>\n",
       "    </tr>\n",
       "  </tbody>\n",
       "</table>\n",
       "<p>5 rows × 142 columns</p>\n",
       "</div>"
      ],
      "text/plain": [
       "    District ID District Name  YEAR  GEN FUNDS-LOCAL TAX REVENUE FROM M&O  \\\n",
       "11         1902    CAYUGA ISD  2018                               2948406   \n",
       "12         1902    CAYUGA ISD  2019                               3312342   \n",
       "13         1902    CAYUGA ISD  2020                               3269657   \n",
       "14         1902    CAYUGA ISD  2021                               3081356   \n",
       "15         1902    CAYUGA ISD  2022                               3094212   \n",
       "\n",
       "    ALL FUNDS-LOCAL TAX REVENUE FROM M&O  GEN FUNDS-STATE REVENUE  \\\n",
       "11                               2948406                  2437211   \n",
       "12                               3312342                  2600715   \n",
       "13                               3269657                  3657164   \n",
       "14                               3081356                  3738183   \n",
       "15                               3094212                  4197261   \n",
       "\n",
       "    ALL FUNDS-STATE REVENUE  GEN FUNDS-FEDERAL REVENUE  \\\n",
       "11                  3256405                      58608   \n",
       "12                  3466026                      61107   \n",
       "13                  4624285                      39697   \n",
       "14                  4964406                      26642   \n",
       "15                  4204460                      91436   \n",
       "\n",
       "    ALL FUNDS-FEDERAL REVENUE  GEN FUNDS-OTHER LOCAL & INTERMEDIATE REVENUE  \\\n",
       "11                    1613694                                        144477   \n",
       "12                    1880457                                        200999   \n",
       "13                    1539484                                        108704   \n",
       "14                    1939467                                        112377   \n",
       "15                    2647825                                        221819   \n",
       "\n",
       "    ...  ALL FUNDS-TOTAL OTHER USES  GEN FUNDS-INTERGOVERN CHARGES EXPEND  \\\n",
       "11  ...                       54833                                222620   \n",
       "12  ...                       48633                                220289   \n",
       "13  ...                       79856                                225316   \n",
       "14  ...                       90616                                234695   \n",
       "15  ...                           0                                267140   \n",
       "\n",
       "    ALL FUNDS-INTERGOVERN CHARGES EXPEND  \\\n",
       "11                                222620   \n",
       "12                                220289   \n",
       "13                                225316   \n",
       "14                                915408   \n",
       "15                                794807   \n",
       "\n",
       "    GEN FUNDS-DEBT SERVICE (OBJECT 6500) FOR TD  \\\n",
       "11                                            0   \n",
       "12                                            0   \n",
       "13                                            0   \n",
       "14                                            0   \n",
       "15                                            0   \n",
       "\n",
       "    ALL FUNDS-DEBT SERVICE (OBJECT 6500) FOR TD  \\\n",
       "11                                            0   \n",
       "12                                            0   \n",
       "13                                            0   \n",
       "14                                            0   \n",
       "15                                            0   \n",
       "\n",
       "    GEN FUNDS-CAPITAL PROJECTS(OBJECT 6600) FOR TD  \\\n",
       "11                                           91590   \n",
       "12                                          426338   \n",
       "13                                          457640   \n",
       "14                                          302296   \n",
       "15                                          312480   \n",
       "\n",
       "    ALL FUNDS-CAPITAL PROJECTS(OBJECT 6600) FOR TD  \\\n",
       "11                                          142094   \n",
       "12                                          426338   \n",
       "13                                          491482   \n",
       "14                                          333186   \n",
       "15                                          312480   \n",
       "\n",
       "    GEN FUNDS-TOTAL DISBURSEMENTS  ALL FUNDS-TOTAL DISBURSEMENTS  \\\n",
       "11                        5641406                        8744613   \n",
       "12                        6108358                        9254146   \n",
       "13                        6649717                        9791838   \n",
       "14                        6686027                       10228548   \n",
       "15                        6736571                       10812870   \n",
       "\n",
       "    FALL SURVEY ENROLLMENT  \n",
       "11                     575  \n",
       "12                     564  \n",
       "13                     557  \n",
       "14                     535  \n",
       "15                     574  \n",
       "\n",
       "[5 rows x 142 columns]"
      ]
     },
     "execution_count": 170,
     "metadata": {},
     "output_type": "execute_result"
    }
   ],
   "source": [
    "peims_funding_data_df.head()"
   ]
  },
  {
   "cell_type": "code",
   "execution_count": 171,
   "id": "f4f10cd6",
   "metadata": {},
   "outputs": [
    {
     "name": "stdout",
     "output_type": "stream",
     "text": [
      "    district_id district_name  Year  fall_enrollment  gen_funds_local_tax_mo  \\\n",
      "11         1902    CAYUGA ISD  2018              575                 2948406   \n",
      "12         1902    CAYUGA ISD  2019              564                 3312342   \n",
      "13         1902    CAYUGA ISD  2020              557                 3269657   \n",
      "14         1902    CAYUGA ISD  2021              535                 3081356   \n",
      "15         1902    CAYUGA ISD  2022              574                 3094212   \n",
      "\n",
      "    all_funds_local_tax_mo  gen_funds_other_local_revenue  \\\n",
      "11                 2948406                         144477   \n",
      "12                 3312342                         200999   \n",
      "13                 3269657                         108704   \n",
      "14                 3081356                         112377   \n",
      "15                 3094212                         221819   \n",
      "\n",
      "    all_funds_other_local_revenue  gen_funds_local_tax_is  \\\n",
      "11                         529539                       0   \n",
      "12                         633101                       0   \n",
      "13                         553747                       0   \n",
      "14                         540342                       0   \n",
      "15                        1776451                       0   \n",
      "\n",
      "    all_funds_local_tax_is  gen_funds_state_revenue  all_funds_state_revenue  \\\n",
      "11                       0                  2437211                  3256405   \n",
      "12                       0                  2600715                  3466026   \n",
      "13                       0                  3657164                  4624285   \n",
      "14                       0                  3738183                  4964406   \n",
      "15                       0                  4197261                  4204460   \n",
      "\n",
      "    gen_funds_state_debt  all_funds_state_debt  gen_funds_state_trs_contrib  \\\n",
      "11                     0                     0                       265425   \n",
      "12                     0                     0                       271036   \n",
      "13                     0                     0                       338045   \n",
      "14                     0                     0                       349464   \n",
      "15                     0                     0                       324439   \n",
      "\n",
      "    all_funds_state_trs_contrib  gen_funds_state_comp_ed_expend  \\\n",
      "11                       329301                          145943   \n",
      "12                       337901                           98980   \n",
      "13                       410224                          139945   \n",
      "14                       418062                          165173   \n",
      "15                       376364                          275376   \n",
      "\n",
      "    all_funds_state_comp_ed_expend  gen_funds_federal_revenue  \\\n",
      "11                          258275                      58608   \n",
      "12                          273747                      61107   \n",
      "13                          285475                      39697   \n",
      "14                          519993                      26642   \n",
      "15                          893512                      91436   \n",
      "\n",
      "    all_funds_federal_revenue  \n",
      "11                    1613694  \n",
      "12                    1880457  \n",
      "13                    1539484  \n",
      "14                    1939467  \n",
      "15                    2647825  \n"
     ]
    }
   ],
   "source": [
    "# District Funding Totals Clean-Up\n",
    "\n",
    "funding_df = peims_funding_data_df\n",
    "\n",
    "\n",
    "# (1) Specify the columns to keep:\n",
    "columns_to_keep = ['District ID', 'District Name', 'YEAR',\n",
    "                   # Enrollment Numbers: \n",
    "                   'FALL SURVEY ENROLLMENT',\n",
    "                   # Local Funding Amount Columns: \n",
    "                   'GEN FUNDS-LOCAL TAX REVENUE FROM M&O', 'ALL FUNDS-LOCAL TAX REVENUE FROM M&O',\n",
    "                   'GEN FUNDS-OTHER LOCAL & INTERMEDIATE REVENUE', 'ALL FUNDS-OTHER LOCAL & INTERMEDIATE REVENUE',\n",
    "                   'GEN FUNDS-LOCAL PROPERTY TAXES FROM I&S', 'ALL FUNDS-LOCAL PROPERTY TAXES FROM I&S',\n",
    "                   # State Funding Amount Columns: \n",
    "                   'GEN FUNDS-STATE REVENUE', 'ALL FUNDS-STATE REVENUE', 'GEN FUNDS-STATE DEBT FUNDS', \n",
    "                   'ALL FUNDS-STATE DEBT FUNDS', 'GEN FUNDS-ESTIMATED STATE TRS CONTRIBUTIONS', \n",
    "                   'ALL FUNDS-ESTIMATED STATE TRS CONTRIBUTIONS',\n",
    "                   'GEN FUNDS-STATE COMPENSATORY ED EXPEND--24, 26, 28, 29, 30, 34',\n",
    "                   'ALL FUNDS-STATE COMPENSATORY ED EXPEND--24, 26, 28, 29, 30, 34',\n",
    "                   # Federal Funding Amount Columns:\n",
    "                   'GEN FUNDS-FEDERAL REVENUE', 'ALL FUNDS-FEDERAL REVENUE']\n",
    "# Drop all other columns\n",
    "funding_df = funding_df[columns_to_keep]\n",
    "\n",
    "\n",
    "# (2) Rename Columns for Clarity and Consistency\n",
    "# Create a dictionary of old column names to new standardized ones\n",
    "rename_dict = {\n",
    "    'District ID': 'district_id',  \n",
    "    'District Name': 'district_name', \n",
    "    'YEAR': 'Year',\n",
    "    'FALL SURVEY ENROLLMENT': 'fall_enrollment',\n",
    "    'GEN FUNDS-LOCAL TAX REVENUE FROM M&O': 'gen_funds_local_tax_mo',\n",
    "    'ALL FUNDS-LOCAL TAX REVENUE FROM M&O': 'all_funds_local_tax_mo',\n",
    "    'GEN FUNDS-OTHER LOCAL & INTERMEDIATE REVENUE': 'gen_funds_other_local_revenue',\n",
    "    'ALL FUNDS-OTHER LOCAL & INTERMEDIATE REVENUE': 'all_funds_other_local_revenue',\n",
    "    'GEN FUNDS-LOCAL PROPERTY TAXES FROM I&S': 'gen_funds_local_tax_is',\n",
    "    'ALL FUNDS-LOCAL PROPERTY TAXES FROM I&S': 'all_funds_local_tax_is',\n",
    "    'GEN FUNDS-STATE REVENUE': 'gen_funds_state_revenue',\n",
    "    'ALL FUNDS-STATE REVENUE': 'all_funds_state_revenue',\n",
    "    'GEN FUNDS-STATE DEBT FUNDS': 'gen_funds_state_debt',\n",
    "    'ALL FUNDS-STATE DEBT FUNDS': 'all_funds_state_debt',\n",
    "    'GEN FUNDS-ESTIMATED STATE TRS CONTRIBUTIONS': 'gen_funds_state_trs_contrib',\n",
    "    'ALL FUNDS-ESTIMATED STATE TRS CONTRIBUTIONS': 'all_funds_state_trs_contrib',\n",
    "    'GEN FUNDS-STATE COMPENSATORY ED EXPEND--24, 26, 28, 29, 30, 34': 'gen_funds_state_comp_ed_expend',\n",
    "    'ALL FUNDS-STATE COMPENSATORY ED EXPEND--24, 26, 28, 29, 30, 34': 'all_funds_state_comp_ed_expend',\n",
    "    'GEN FUNDS-FEDERAL REVENUE': 'gen_funds_federal_revenue',\n",
    "    'ALL FUNDS-FEDERAL REVENUE': 'all_funds_federal_revenue'\n",
    "}\n",
    "# Rename the columns using the dictionary\n",
    "funding_df = funding_df.rename(columns=rename_dict)\n",
    "\n",
    "\n",
    "\n",
    "# (3) Data Type Conversion\n",
    "# Convert columns to appropriate data types\n",
    "funding_df['district_id'] = funding_df['district_id'].astype(int)  # Convert to integer\n",
    "\n",
    "\n",
    "# Display the first few rows of the modified dataframe\n",
    "print(funding_df.head())"
   ]
  },
  {
   "cell_type": "markdown",
   "id": "acbb611c",
   "metadata": {},
   "source": [
    "We'll leave funding amounts alone for now, but revisit them later during feature engineering. We can check the distribution of students enrolled to see where the outliers lie. "
   ]
  },
  {
   "cell_type": "code",
   "execution_count": 172,
   "id": "a4b6effd",
   "metadata": {},
   "outputs": [
    {
     "data": {
      "image/png": "[encoded data removed]",
      "text/plain": [
       "<Figure size 1000x600 with 1 Axes>"
      ]
     },
     "metadata": {},
     "output_type": "display_data"
    }
   ],
   "source": [
    "# (4) Outliers: Plotting the histogram\n",
    "plt.figure(figsize=(10, 6))\n",
    "plt.hist(funding_df['fall_enrollment'], bins=20, color='yellow', edgecolor='black')\n",
    "plt.title('Histogram of fall_enrollment')\n",
    "plt.xlabel('Enrolled Students')\n",
    "plt.ylabel('Frequency')\n",
    "plt.grid(True)\n",
    "plt.show()"
   ]
  },
  {
   "cell_type": "markdown",
   "id": "09805a16",
   "metadata": {},
   "source": [
    "Looks like enrollment numbers are extremely right skewed, so we'll examine these outliers. "
   ]
  },
  {
   "cell_type": "code",
   "execution_count": 173,
   "id": "f067e6ac",
   "metadata": {},
   "outputs": [
    {
     "name": "stdout",
     "output_type": "stream",
     "text": [
      "              district_name  fall_enrollment\n",
      "1439          NORTHSIDE ISD           106086\n",
      "1440          NORTHSIDE ISD           105797\n",
      "1441          NORTHSIDE ISD           107135\n",
      "1442          NORTHSIDE ISD           102644\n",
      "1443          NORTHSIDE ISD           101584\n",
      "4585             DALLAS ISD           156726\n",
      "4586             DALLAS ISD           155030\n",
      "4587             DALLAS ISD           153784\n",
      "4588             DALLAS ISD           145105\n",
      "4589             DALLAS ISD           143430\n",
      "8523  CYPRESS-FAIRBANKS ISD           116138\n",
      "8524  CYPRESS-FAIRBANKS ISD           116245\n",
      "8525  CYPRESS-FAIRBANKS ISD           117120\n",
      "8526  CYPRESS-FAIRBANKS ISD           114560\n",
      "8527  CYPRESS-FAIRBANKS ISD           116913\n",
      "8594            HOUSTON ISD           213528\n",
      "8595            HOUSTON ISD           209040\n",
      "8596            HOUSTON ISD           209309\n",
      "8597            HOUSTON ISD           196550\n",
      "8598            HOUSTON ISD           193727\n"
     ]
    }
   ],
   "source": [
    "selected_districts = funding_df.loc[funding_df['fall_enrollment'] > 100000, ['district_name', 'fall_enrollment']]\n",
    "print(selected_districts)"
   ]
  },
  {
   "cell_type": "markdown",
   "id": "3cb68475",
   "metadata": {},
   "source": [
    "Though these districts have much higher enrollment than other districts, these are correct amounts and will be used for multiple engineered features in a later stage, so we don't need to remove them. "
   ]
  },
  {
   "cell_type": "code",
   "execution_count": 174,
   "id": "5dc55e98",
   "metadata": {},
   "outputs": [
    {
     "data": {
      "text/plain": [
       "district_id                       0\n",
       "district_name                     0\n",
       "Year                              0\n",
       "fall_enrollment                   0\n",
       "gen_funds_local_tax_mo            0\n",
       "all_funds_local_tax_mo            0\n",
       "gen_funds_other_local_revenue     0\n",
       "all_funds_other_local_revenue     0\n",
       "gen_funds_local_tax_is            0\n",
       "all_funds_local_tax_is            0\n",
       "gen_funds_state_revenue           0\n",
       "all_funds_state_revenue           0\n",
       "gen_funds_state_debt              0\n",
       "all_funds_state_debt              0\n",
       "gen_funds_state_trs_contrib       0\n",
       "all_funds_state_trs_contrib       0\n",
       "gen_funds_state_comp_ed_expend    0\n",
       "all_funds_state_comp_ed_expend    0\n",
       "gen_funds_federal_revenue         0\n",
       "all_funds_federal_revenue         0\n",
       "dtype: int64"
      ]
     },
     "execution_count": 174,
     "metadata": {},
     "output_type": "execute_result"
    }
   ],
   "source": [
    "# (5) Check for missing values\n",
    "funding_df.isna().sum()"
   ]
  },
  {
   "cell_type": "code",
   "execution_count": 175,
   "id": "134f1314",
   "metadata": {},
   "outputs": [
    {
     "name": "stdout",
     "output_type": "stream",
     "text": [
      "<class 'pandas.core.frame.DataFrame'>\n",
      "Index: 6008 entries, 11 to 19418\n",
      "Data columns (total 20 columns):\n",
      " #   Column                          Non-Null Count  Dtype \n",
      "---  ------                          --------------  ----- \n",
      " 0   district_id                     6008 non-null   int64 \n",
      " 1   district_name                   6008 non-null   object\n",
      " 2   Year                            6008 non-null   int64 \n",
      " 3   fall_enrollment                 6008 non-null   int64 \n",
      " 4   gen_funds_local_tax_mo          6008 non-null   int64 \n",
      " 5   all_funds_local_tax_mo          6008 non-null   int64 \n",
      " 6   gen_funds_other_local_revenue   6008 non-null   int64 \n",
      " 7   all_funds_other_local_revenue   6008 non-null   int64 \n",
      " 8   gen_funds_local_tax_is          6008 non-null   int64 \n",
      " 9   all_funds_local_tax_is          6008 non-null   int64 \n",
      " 10  gen_funds_state_revenue         6008 non-null   int64 \n",
      " 11  all_funds_state_revenue         6008 non-null   int64 \n",
      " 12  gen_funds_state_debt            6008 non-null   int64 \n",
      " 13  all_funds_state_debt            6008 non-null   int64 \n",
      " 14  gen_funds_state_trs_contrib     6008 non-null   int64 \n",
      " 15  all_funds_state_trs_contrib     6008 non-null   int64 \n",
      " 16  gen_funds_state_comp_ed_expend  6008 non-null   int64 \n",
      " 17  all_funds_state_comp_ed_expend  6008 non-null   int64 \n",
      " 18  gen_funds_federal_revenue       6008 non-null   int64 \n",
      " 19  all_funds_federal_revenue       6008 non-null   int64 \n",
      "dtypes: int64(19), object(1)\n",
      "memory usage: 985.7+ KB\n"
     ]
    }
   ],
   "source": [
    "funding_df.info()"
   ]
  },
  {
   "cell_type": "markdown",
   "id": "495c67de",
   "metadata": {},
   "source": [
    "### 1.6.4 District Property Values <a id='district_property_values'></a>"
   ]
  },
  {
   "cell_type": "markdown",
   "id": "a8d8ed4a",
   "metadata": {},
   "source": [
    "We'll focus on total property values per district, and keep the total tax rate just in case.  "
   ]
  },
  {
   "cell_type": "code",
   "execution_count": 176,
   "id": "31e37cd7",
   "metadata": {},
   "outputs": [
    {
     "name": "stdout",
     "output_type": "stream",
     "text": [
      "   district_id  district_name  Year  total_tax_rate  total_property_value\n",
      "0       109901     Abbott ISD  2022          1.2145             115843601\n",
      "1        95901  Abernathy ISD  2022          1.3817             465947826\n",
      "2       221901    Abilene ISD  2022          1.2784            5394710556\n",
      "3        14901    Academy ISD  2022          1.3671             631794068\n",
      "4       180903     Adrian ISD  2022          1.2318              65809401\n"
     ]
    }
   ],
   "source": [
    "# District Property Values Clean-Up\n",
    "\n",
    "# (1) Drop Columns\n",
    "# Specify the columns to keep:\n",
    "columns_to_keep = ['District ID', 'District Name', 'Year',\n",
    "                   'Total Tax Rate ', 'Total Property Value']\n",
    "# Drop all other columns\n",
    "property_values_df = property_values_df[columns_to_keep]\n",
    "\n",
    "\n",
    "# (2) Rename Columns for Clarity and Consistency\n",
    "# Create a dictionary of old column names to new standardized ones\n",
    "rename_dict = {\n",
    "    'District ID': 'district_id',  \n",
    "    'District Name': 'district_name',\n",
    "    'Total Tax Rate ': 'total_tax_rate',\n",
    "    'Total Property Value': 'total_property_value'\n",
    "}\n",
    "# Rename the columns using the dictionary\n",
    "property_values_df = property_values_df.rename(columns=rename_dict)\n",
    "\n",
    "\n",
    "# (3) Data Type Conversion\n",
    "# Convert columns to appropriate data types\n",
    "property_values_df['district_id'] = property_values_df['district_id'].astype(int)  # Convert to integer\n",
    "\n",
    "\n",
    "# Display the first few rows of the modified dataframe\n",
    "print(property_values_df.head())"
   ]
  },
  {
   "cell_type": "code",
   "execution_count": 177,
   "id": "52b308a7",
   "metadata": {},
   "outputs": [
    {
     "data": {
      "image/png": "[encoded data removed]",
      "text/plain": [
       "<Figure size 1000x600 with 1 Axes>"
      ]
     },
     "metadata": {},
     "output_type": "display_data"
    }
   ],
   "source": [
    "# (4) Outliers: Plotting the histogram\n",
    "plt.figure(figsize=(10, 6))\n",
    "plt.hist(property_values_df['total_property_value'], bins=20, color='orange', edgecolor='black')\n",
    "plt.title('Histogram of total_property_value')\n",
    "plt.xlabel('Property Values (B for Billion)')\n",
    "plt.ylabel('Frequency')\n",
    "\n",
    "# Function to format the x-axis labels as billions with a 'B' suffix\n",
    "def billions_formatter(x, pos):\n",
    "    return '%1.1fB' % (x * 1e-9)\n",
    "\n",
    "# Set the formatter for the x-axis\n",
    "plt.gca().xaxis.set_major_formatter(ticker.FuncFormatter(billions_formatter))\n",
    "\n",
    "# Enable grid\n",
    "plt.grid(True)\n",
    "\n",
    "# Show the plot\n",
    "plt.show()"
   ]
  },
  {
   "cell_type": "markdown",
   "id": "707c47f2",
   "metadata": {},
   "source": [
    "Once again, we don't want to remove these outliers yet as they are legitimate property values, but it's helpful to see how extreme some property values become in certain districts. It will be interesting to see if this has any impact on student performance later. "
   ]
  },
  {
   "cell_type": "code",
   "execution_count": 178,
   "id": "f3f2f461",
   "metadata": {},
   "outputs": [
    {
     "data": {
      "text/plain": [
       "district_id             0\n",
       "district_name           0\n",
       "Year                    0\n",
       "total_tax_rate          0\n",
       "total_property_value    0\n",
       "dtype: int64"
      ]
     },
     "execution_count": 178,
     "metadata": {},
     "output_type": "execute_result"
    }
   ],
   "source": [
    "# (5) Check for missing values\n",
    "property_values_df.isna().sum()"
   ]
  },
  {
   "cell_type": "markdown",
   "id": "e8450b47",
   "metadata": {},
   "source": [
    "### 1.6.5 AP-IB Scores & Participation <a id='ap_ib_scores_and_participation'></a>"
   ]
  },
  {
   "cell_type": "markdown",
   "id": "bfaee622",
   "metadata": {},
   "source": [
    "We'll need both the percentages of students scoring well on AP/IB exams, and the corresponding participation rates. \n",
    "\n",
    "Exnees_Above_Crit_Rate: \"Percent of examinees in Grades 11 and 12 scoring at or above 3 (AP) or 4 (IB) on at least one exam.\" \n",
    "\n",
    "Part_Rate: \"Percent of students in Grades 11 and 12 taking at least one AP or IB exam.\" \n",
    "\n",
    "We'll want to keep the two variables as separate features in our analysis, since our hypothesis is not just that students scoring well on these exams are more likely to succeed, but also simply having the option to participate leads to better educational outcomes. "
   ]
  },
  {
   "cell_type": "code",
   "execution_count": 179,
   "id": "0b39fffe",
   "metadata": {},
   "outputs": [
    {
     "name": "stdout",
     "output_type": "stream",
     "text": [
      "     district_id    district_name  part_rate  exnees_above_crit_rate\n",
      "0          14909       Temple ISD       18.2                    50.5\n",
      "57         15907  San Antonio ISD       24.2                    29.8\n",
      "114        15916       Judson ISD       10.3                    51.3\n",
      "171        21902        Bryan ISD       19.5                    48.1\n",
      "228        31916  South Texas ISD       73.1                    44.2\n"
     ]
    }
   ],
   "source": [
    "# AP-IB Scores & Participation Clean-Up\n",
    "\n",
    "\n",
    "# (1) Drop Columns\n",
    "# Drop rows where Group is not 'All Students'\n",
    "ap_ib_scores_df = ap_ib_scores_df[ap_ib_scores_df['Group'] == 'All Students']\n",
    "# Specify the columns to keep:\n",
    "columns_to_keep = ['District ID', 'District Name',\n",
    "                   'Part_Rate', 'Exnees_Above_Crit_Rate']\n",
    "# Drop all other columns\n",
    "ap_ib_scores_df = ap_ib_scores_df[columns_to_keep]\n",
    "\n",
    "\n",
    "# (2) Rename Columns for Clarity and Consistency\n",
    "# Create a dictionary of old column names to new standardized ones\n",
    "rename_dict = {\n",
    "    'District ID': 'district_id',  \n",
    "    'District Name': 'district_name', \n",
    "    'Part_Rate': 'part_rate',\n",
    "    'Exnees_Above_Crit_Rate': 'exnees_above_crit_rate'\n",
    "}\n",
    "# Rename the columns using the dictionary\n",
    "ap_ib_scores_df = ap_ib_scores_df.rename(columns=rename_dict)\n",
    "\n",
    "\n",
    "# (3) Data Type Conversion\n",
    "# Convert columns to appropriate data types\n",
    "ap_ib_scores_df['district_id'] = ap_ib_scores_df['district_id'].astype(int)  # Convert to integer\n",
    "\n",
    "\n",
    "\n",
    "# Display the first few rows of the modified dataframe\n",
    "print(ap_ib_scores_df.head())"
   ]
  },
  {
   "cell_type": "code",
   "execution_count": 180,
   "id": "d152db05",
   "metadata": {},
   "outputs": [
    {
     "data": {
      "image/png": "[encoded data removed]",
      "text/plain": [
       "<Figure size 1400x600 with 2 Axes>"
      ]
     },
     "metadata": {},
     "output_type": "display_data"
    }
   ],
   "source": [
    "# (4) Outliers: Plotting the histograms\n",
    "# Create a figure with two subplots side by side\n",
    "fig, axes = plt.subplots(nrows=1, ncols=2, figsize=(14, 6))\n",
    "\n",
    "# Plot the histogram for 'part_rate' on the first subplot\n",
    "axes[0].hist(ap_ib_scores_df['part_rate'], bins=20, color='skyblue', edgecolor='black')\n",
    "axes[0].set_title('Histogram of Part Rate')\n",
    "axes[0].set_xlabel('Participation Rate')\n",
    "axes[0].set_ylabel('Frequency')\n",
    "\n",
    "# Plot the histogram for 'exnees_above_crit_rate' on the second subplot\n",
    "axes[1].hist(ap_ib_scores_df['exnees_above_crit_rate'], bins=20, color='salmon', edgecolor='black')\n",
    "axes[1].set_title('Histogram of Examinees Above Crit Rate')\n",
    "axes[1].set_xlabel('Examinees Above Critical Rate')\n",
    "axes[1].set_ylabel('Frequency')\n",
    "\n",
    "# Adjust the layout\n",
    "plt.tight_layout()\n",
    "plt.show()"
   ]
  },
  {
   "cell_type": "markdown",
   "id": "7e7cf99f",
   "metadata": {},
   "source": [
    "The multimodal nature of both distributions implies that there is no single typical value for either participation rate or critical score rate across districts; instead, there are a spread of districts across different rate intervals. \n",
    "Both histograms suggest that higher rates of participation and examinees scoring above the critical threshold are less frequent."
   ]
  },
  {
   "cell_type": "code",
   "execution_count": 181,
   "id": "5fc7f630",
   "metadata": {},
   "outputs": [
    {
     "data": {
      "text/plain": [
       "district_id               0\n",
       "district_name             0\n",
       "part_rate                 0\n",
       "exnees_above_crit_rate    0\n",
       "dtype: int64"
      ]
     },
     "execution_count": 181,
     "metadata": {},
     "output_type": "execute_result"
    }
   ],
   "source": [
    "# (5) Check for missing values\n",
    "ap_ib_scores_df.isna().sum()"
   ]
  },
  {
   "cell_type": "markdown",
   "id": "6399d477",
   "metadata": {},
   "source": [
    "### 1.6.6 Teacher Count and Avg Salary <a id='teacher_count_avg_salary'></a>"
   ]
  },
  {
   "cell_type": "markdown",
   "id": "a516b088",
   "metadata": {},
   "source": [
    "This has data on all staff types aside from teaching, such as admin, support, and others. We're focused on number of teachers and student-teacher ratios, so we'll exclude all but the teaching staff. "
   ]
  },
  {
   "cell_type": "code",
   "execution_count": 182,
   "id": "59e038a3",
   "metadata": {},
   "outputs": [
    {
     "name": "stdout",
     "output_type": "stream",
     "text": [
      "     district_id                 district_name  Year fte_count total_base_pay  \\\n",
      "15         57816  A W BROWN LEADERSHIP ACADEMY  2022     70.87      3678934.0   \n",
      "60         57829                    A+ ACADEMY  2022     82.37      5146393.0   \n",
      "109       101871        A+ UNLIMITED POTENTIAL  2022      8.88       568678.0   \n",
      "137       109901                    ABBOTT ISD  2022     23.56      1275795.0   \n",
      "169        95901                 ABERNATHY ISD  2022     71.96      3703323.0   \n",
      "\n",
      "    avg_base_pay  \n",
      "15       51912.0  \n",
      "60       62482.0  \n",
      "109      64047.0  \n",
      "137      54155.0  \n",
      "169      51462.0  \n"
     ]
    }
   ],
   "source": [
    "# Teacher Count and Avg Salary Clean-Up\n",
    "\n",
    "\n",
    "# Drop rows where Staff is not 'TOTAL TEACHING STAFF'\n",
    "teacher_df = teacher_df[teacher_df['Staff'] == 'TOTAL TEACHING STAFF']\n",
    "\n",
    "# Specify the columns to keep:\n",
    "columns_to_keep = ['District ID', 'District Name', 'Year', \n",
    "                   'FTE Count', 'Total Base Pay', 'Average Base Pay']\n",
    "\n",
    "# Drop all other columns\n",
    "teacher_df = teacher_df[columns_to_keep]\n",
    "\n",
    "\n",
    "# (2) Rename Columns for Clarity and Consistency\n",
    "# Create a dictionary of old column names to new standardized ones\n",
    "rename_dict = {\n",
    "    'District ID': 'district_id',  \n",
    "    'District Name': 'district_name', \n",
    "    'FTE Count': 'fte_count',\n",
    "    'Total Base Pay': 'total_base_pay', \n",
    "    'Average Base Pay': 'avg_base_pay'\n",
    "}\n",
    "# Rename the columns using the dictionary\n",
    "teacher_df = teacher_df.rename(columns=rename_dict)\n",
    "\n",
    "\n",
    "# (3) Data Type Conversion\n",
    "# Convert columns to appropriate data types\n",
    "teacher_df['district_id'] = teacher_df['district_id'].astype(int)  # Convert to integer\n",
    "\n",
    "\n",
    "\n",
    "# Display the first few rows of the modified dataframe\n",
    "print(teacher_df.head())"
   ]
  },
  {
   "cell_type": "code",
   "execution_count": 183,
   "id": "39ac7daa",
   "metadata": {},
   "outputs": [
    {
     "data": {
      "image/png": "[encoded data removed]",
      "text/plain": [
       "<Figure size 1800x500 with 3 Axes>"
      ]
     },
     "metadata": {},
     "output_type": "display_data"
    }
   ],
   "source": [
    "# (4) Outliers: Plotting the histograms\n",
    "\n",
    "fig, axes = plt.subplots(1, 3, figsize=(18, 5), sharey=True)\n",
    "\n",
    "# Histogram for 'fte_count'\n",
    "axes[0].hist(teacher_df['fte_count'], bins=20, color='skyblue', edgecolor='black')\n",
    "axes[0].set_title('Histogram of FTE Count', fontweight='bold')\n",
    "axes[0].set_xlabel('Full-Time Employed Teachers Count', fontweight='bold')\n",
    "axes[0].set_ylabel('Frequency', fontweight='bold')\n",
    "\n",
    "# Histogram for 'total_base_pay'\n",
    "axes[1].hist(teacher_df['total_base_pay'], bins=20, color='salmon', edgecolor='black')\n",
    "axes[1].set_title('Histogram of Total Base Pay', fontweight='bold')\n",
    "axes[1].set_xlabel('Total Base Pay (M for Million)', fontweight='bold')\n",
    "# Function to format the x-axis labels as millions with an 'M' suffix\n",
    "def millions_formatter(x, pos):\n",
    "    return '%1.1fM' % (x * 1e-6)\n",
    "# Set the formatter for the x-axis\n",
    "plt.gca().xaxis.set_major_formatter(ticker.FuncFormatter(millions_formatter))\n",
    "\n",
    "# Histogram for 'avg_base_pay'\n",
    "axes[2].hist(teacher_df['avg_base_pay'], bins=20, color='lightgreen', edgecolor='black')\n",
    "axes[2].set_title('Histogram of Avg Base Pay', fontweight='bold')\n",
    "axes[2].set_xlabel('Average Base Pay (in Tens of Thousands)', fontweight='bold')\n",
    "# Function to format the x-axis labels as tens of thousands\n",
    "def tens_of_thousands(x, pos):\n",
    "    'The two args are the value and tick position'\n",
    "    return '%1.0fK' % (x * 1e-3)\n",
    "# Set the formatter for the x-axis\n",
    "plt.gca().xaxis.set_major_formatter(ticker.FuncFormatter(tens_of_thousands))\n",
    "\n",
    "# Set the fontweight of the axis labels to bold\n",
    "plt.tick_params(axis='both', which='major', labelsize=10)\n",
    "\n",
    "\n",
    "# Display the histograms\n",
    "plt.tight_layout()\n",
    "plt.show()"
   ]
  },
  {
   "cell_type": "markdown",
   "id": "44fffa94",
   "metadata": {},
   "source": [
    "The first two histograms are nearly identical, showing the vast majority of districts have a small number of full-time employed teachers and low total base pay. The Average Base Pay is more normally distributed with much less variance. We'll want to use total teachers count in feature engineering later to get a more meaningful stat per student count. "
   ]
  },
  {
   "cell_type": "code",
   "execution_count": 184,
   "id": "7c8d029f",
   "metadata": {},
   "outputs": [
    {
     "data": {
      "text/plain": [
       "district_id       0\n",
       "district_name     0\n",
       "Year              0\n",
       "fte_count         0\n",
       "total_base_pay    0\n",
       "avg_base_pay      0\n",
       "dtype: int64"
      ]
     },
     "execution_count": 184,
     "metadata": {},
     "output_type": "execute_result"
    }
   ],
   "source": [
    "# (5) Check for missing values\n",
    "teacher_df.isna().sum()"
   ]
  },
  {
   "cell_type": "markdown",
   "id": "48314f37",
   "metadata": {},
   "source": [
    "### 1.6.7 Average Daily Attendance (ADA) <a id='ada'></a>"
   ]
  },
  {
   "cell_type": "code",
   "execution_count": 193,
   "id": "b35846ea",
   "metadata": {},
   "outputs": [
    {
     "data": {
      "text/plain": [
       "Index(['County', 'County Name', 'District ID', 'District Name',\n",
       "       ' 2004-2005 ADA', ' 2005-2006 ADA', ' 2006-2007 ADA', '2007-2008 ADA',\n",
       "       '2008-2009 ADA', ' 2009-2010 ADA', '2010-2011 ADA', ' 2011-2012 ADA',\n",
       "       ' 2012-2013 ADA', ' 2013-2014 ADA', ' 2014-2015 ADA', ' 2015-2016 ADA',\n",
       "       ' 2016-2017 ADA', ' 2017-2018 ADA', ' 2018-2019 ADA', ' 2019-2020 ADA',\n",
       "       ' 2020-2021 ADA', '2021-2022 ADA', '2022-2023 ADA'],\n",
       "      dtype='object')"
      ]
     },
     "execution_count": 193,
     "metadata": {},
     "output_type": "execute_result"
    }
   ],
   "source": [
    "ada_data_df.columns"
   ]
  },
  {
   "cell_type": "code",
   "execution_count": 194,
   "id": "610de54a",
   "metadata": {},
   "outputs": [
    {
     "name": "stdout",
     "output_type": "stream",
     "text": [
      "   district_id                       district_name  2021-2022_ada  \\\n",
      "0       178806  21ST CENTURY ACADEMY OF SCIENCE AN          0.000   \n",
      "1        57816        A W BROWN LEADERSHIP ACADEMY        880.776   \n",
      "2        57829                          A+ ACADEMY       1388.241   \n",
      "3       101871              A+ UNLIMITED POTENTIAL        132.817   \n",
      "4       109901                          ABBOTT ISD        263.757   \n",
      "\n",
      "   2020-2021_ada  2019-2020_ada  2018-2019_ada  2017-2018_ada  \n",
      "0          0.000          0.000          0.000          0.000  \n",
      "1       1026.444       1324.525       1585.182       1731.535  \n",
      "2       1285.841       1222.064       1300.150       1245.197  \n",
      "3        139.889        114.897        156.672        146.944  \n",
      "4        258.498        262.820        256.554        267.767  \n"
     ]
    }
   ],
   "source": [
    "# Average Daily Attendance (ADA) Clean-Up\n",
    "\n",
    "ada_df = ada_data_df\n",
    "\n",
    "# Specify the columns to keep:\n",
    "columns_to_keep = ['District ID', 'District Name', '2021-2022 ADA', ' 2020-2021 ADA', \n",
    "                   ' 2019-2020 ADA', ' 2018-2019 ADA', ' 2017-2018 ADA']\n",
    "\n",
    "# Drop all other columns\n",
    "ada_df = ada_df[columns_to_keep]\n",
    "\n",
    "\n",
    "# (2) Rename Columns for Clarity and Consistency\n",
    "# Create a dictionary of old column names to new standardized ones\n",
    "rename_dict = {\n",
    "    'District ID': 'district_id',  \n",
    "    'District Name': 'district_name', \n",
    "    '2021-2022 ADA': '2021-2022_ada',\n",
    "    ' 2020-2021 ADA': '2020-2021_ada', \n",
    "    ' 2019-2020 ADA': '2019-2020_ada', \n",
    "    ' 2018-2019 ADA': '2018-2019_ada', \n",
    "    ' 2017-2018 ADA': '2017-2018_ada'\n",
    "}\n",
    "# Rename the columns using the dictionary\n",
    "ada_df = ada_df.rename(columns=rename_dict)\n",
    "\n",
    "\n",
    "# (3) Data Type Conversion\n",
    "# Convert columns to appropriate data types\n",
    "ada_df['district_id'] = ada_df['district_id'].astype(int)  # Convert to integer\n",
    "\n",
    "\n",
    "\n",
    "# Display the first few rows of the modified dataframe\n",
    "print(ada_df.head())"
   ]
  },
  {
   "cell_type": "code",
   "execution_count": 195,
   "id": "ba58945b",
   "metadata": {},
   "outputs": [
    {
     "data": {
      "text/html": [
       "<div>\n",
       "<style scoped>\n",
       "    .dataframe tbody tr th:only-of-type {\n",
       "        vertical-align: middle;\n",
       "    }\n",
       "\n",
       "    .dataframe tbody tr th {\n",
       "        vertical-align: top;\n",
       "    }\n",
       "\n",
       "    .dataframe thead th {\n",
       "        text-align: right;\n",
       "    }\n",
       "</style>\n",
       "<table border=\"1\" class=\"dataframe\">\n",
       "  <thead>\n",
       "    <tr style=\"text-align: right;\">\n",
       "      <th></th>\n",
       "      <th>district_id</th>\n",
       "      <th>district_name</th>\n",
       "      <th>Year</th>\n",
       "      <th>ADA</th>\n",
       "    </tr>\n",
       "  </thead>\n",
       "  <tbody>\n",
       "    <tr>\n",
       "      <th>0</th>\n",
       "      <td>178806</td>\n",
       "      <td>21ST CENTURY ACADEMY OF SCIENCE AN</td>\n",
       "      <td>2021-2022_ada</td>\n",
       "      <td>0.000</td>\n",
       "    </tr>\n",
       "    <tr>\n",
       "      <th>1</th>\n",
       "      <td>57816</td>\n",
       "      <td>A W BROWN LEADERSHIP ACADEMY</td>\n",
       "      <td>2021-2022_ada</td>\n",
       "      <td>880.776</td>\n",
       "    </tr>\n",
       "    <tr>\n",
       "      <th>2</th>\n",
       "      <td>57829</td>\n",
       "      <td>A+ ACADEMY</td>\n",
       "      <td>2021-2022_ada</td>\n",
       "      <td>1388.241</td>\n",
       "    </tr>\n",
       "    <tr>\n",
       "      <th>3</th>\n",
       "      <td>101871</td>\n",
       "      <td>A+ UNLIMITED POTENTIAL</td>\n",
       "      <td>2021-2022_ada</td>\n",
       "      <td>132.817</td>\n",
       "    </tr>\n",
       "    <tr>\n",
       "      <th>4</th>\n",
       "      <td>109901</td>\n",
       "      <td>ABBOTT ISD</td>\n",
       "      <td>2021-2022_ada</td>\n",
       "      <td>263.757</td>\n",
       "    </tr>\n",
       "  </tbody>\n",
       "</table>\n",
       "</div>"
      ],
      "text/plain": [
       "   district_id                       district_name           Year       ADA\n",
       "0       178806  21ST CENTURY ACADEMY OF SCIENCE AN  2021-2022_ada     0.000\n",
       "1        57816        A W BROWN LEADERSHIP ACADEMY  2021-2022_ada   880.776\n",
       "2        57829                          A+ ACADEMY  2021-2022_ada  1388.241\n",
       "3       101871              A+ UNLIMITED POTENTIAL  2021-2022_ada   132.817\n",
       "4       109901                          ABBOTT ISD  2021-2022_ada   263.757"
      ]
     },
     "execution_count": 195,
     "metadata": {},
     "output_type": "execute_result"
    }
   ],
   "source": [
    "# (4) Melt the Dataframe (switch Years from columns to rows within one column)\n",
    "ada_df = pd.melt(ada_df, \n",
    "                    id_vars=['district_id', 'district_name'], \n",
    "                    value_vars=['2021-2022_ada', '2020-2021_ada', '2019-2020_ada', '2018-2019_ada', '2017-2018_ada'],\n",
    "                    var_name='Year', \n",
    "                    value_name='ADA')\n",
    "\n",
    "ada_df.head()"
   ]
  },
  {
   "cell_type": "code",
   "execution_count": 196,
   "id": "f70bca57",
   "metadata": {},
   "outputs": [
    {
     "data": {
      "text/html": [
       "<div>\n",
       "<style scoped>\n",
       "    .dataframe tbody tr th:only-of-type {\n",
       "        vertical-align: middle;\n",
       "    }\n",
       "\n",
       "    .dataframe tbody tr th {\n",
       "        vertical-align: top;\n",
       "    }\n",
       "\n",
       "    .dataframe thead th {\n",
       "        text-align: right;\n",
       "    }\n",
       "</style>\n",
       "<table border=\"1\" class=\"dataframe\">\n",
       "  <thead>\n",
       "    <tr style=\"text-align: right;\">\n",
       "      <th></th>\n",
       "      <th>district_id</th>\n",
       "      <th>district_name</th>\n",
       "      <th>Year</th>\n",
       "      <th>ADA</th>\n",
       "    </tr>\n",
       "  </thead>\n",
       "  <tbody>\n",
       "    <tr>\n",
       "      <th>0</th>\n",
       "      <td>178806</td>\n",
       "      <td>21ST CENTURY ACADEMY OF SCIENCE AN</td>\n",
       "      <td>2022</td>\n",
       "      <td>0.000</td>\n",
       "    </tr>\n",
       "    <tr>\n",
       "      <th>1</th>\n",
       "      <td>57816</td>\n",
       "      <td>A W BROWN LEADERSHIP ACADEMY</td>\n",
       "      <td>2022</td>\n",
       "      <td>880.776</td>\n",
       "    </tr>\n",
       "    <tr>\n",
       "      <th>2</th>\n",
       "      <td>57829</td>\n",
       "      <td>A+ ACADEMY</td>\n",
       "      <td>2022</td>\n",
       "      <td>1388.241</td>\n",
       "    </tr>\n",
       "    <tr>\n",
       "      <th>3</th>\n",
       "      <td>101871</td>\n",
       "      <td>A+ UNLIMITED POTENTIAL</td>\n",
       "      <td>2022</td>\n",
       "      <td>132.817</td>\n",
       "    </tr>\n",
       "    <tr>\n",
       "      <th>4</th>\n",
       "      <td>109901</td>\n",
       "      <td>ABBOTT ISD</td>\n",
       "      <td>2022</td>\n",
       "      <td>263.757</td>\n",
       "    </tr>\n",
       "  </tbody>\n",
       "</table>\n",
       "</div>"
      ],
      "text/plain": [
       "   district_id                       district_name  Year       ADA\n",
       "0       178806  21ST CENTURY ACADEMY OF SCIENCE AN  2022     0.000\n",
       "1        57816        A W BROWN LEADERSHIP ACADEMY  2022   880.776\n",
       "2        57829                          A+ ACADEMY  2022  1388.241\n",
       "3       101871              A+ UNLIMITED POTENTIAL  2022   132.817\n",
       "4       109901                          ABBOTT ISD  2022   263.757"
      ]
     },
     "execution_count": 196,
     "metadata": {},
     "output_type": "execute_result"
    }
   ],
   "source": [
    "# (5) Rename Year Column values for consistency across datasets\n",
    "ada_df['Year'] = ada_df['Year'].str.replace(r'.*-(\\d{4}).*_ada', r'\\1', regex=True)\n",
    "ada_df.head()"
   ]
  },
  {
   "cell_type": "code",
   "execution_count": 197,
   "id": "013e898b",
   "metadata": {},
   "outputs": [
    {
     "data": {
      "image/png": "[encoded data removed]",
      "text/plain": [
       "<Figure size 1000x600 with 1 Axes>"
      ]
     },
     "metadata": {},
     "output_type": "display_data"
    }
   ],
   "source": [
    "# (6) Outliers: Plotting the histogram\n",
    "plt.figure(figsize=(10, 6))\n",
    "plt.hist(ada_df['ADA'], bins=20, color='purple', edgecolor='black')\n",
    "plt.title('Histogram of ADA')\n",
    "plt.xlabel('Average Daily Attendance')\n",
    "plt.ylabel('Frequency')\n",
    "plt.grid(True)\n",
    "plt.show()"
   ]
  },
  {
   "cell_type": "markdown",
   "id": "7106b14e",
   "metadata": {},
   "source": [
    "Just like many of the other features, ADA is heavily skewed to the right, indicating there are huge districts with many more students than the other districts (as we've analyzed with the total enrolled metric). "
   ]
  },
  {
   "cell_type": "code",
   "execution_count": 189,
   "id": "fa2a8443",
   "metadata": {},
   "outputs": [
    {
     "data": {
      "text/plain": [
       "district_id      0\n",
       "district_name    0\n",
       "Year             0\n",
       "ADA              0\n",
       "dtype: int64"
      ]
     },
     "execution_count": 189,
     "metadata": {},
     "output_type": "execute_result"
    }
   ],
   "source": [
    "# (7) Check for missing values\n",
    "ada_df.isna().sum()"
   ]
  },
  {
   "cell_type": "markdown",
   "id": "1aea5767",
   "metadata": {},
   "source": [
    "### 1.6.8 Teacher Expertise <a id='teacher_expertise'></a>"
   ]
  },
  {
   "cell_type": "code",
   "execution_count": 199,
   "id": "026cb73b",
   "metadata": {},
   "outputs": [
    {
     "data": {
      "text/plain": [
       "Index(['DISTRICT', 'DISTNAME', 'DPST00FC', 'DPST00FP', 'DPST01FC', 'DPST01FP',\n",
       "       'DPST06FC', 'DPST06FP', 'DPST11FC', 'DPST11FP', 'DPST21FC', 'DPST21FP',\n",
       "       'DPST30FC', 'DPST30FP', 'DPSTBAFC', 'DPSTBAFP', 'DPSTEXPA', 'DPSTKIDR',\n",
       "       'DPSTMSFC', 'DPSTMSFP', 'DPSTNOFC', 'DPSTNOFP', 'DPSTPHFC', 'DPSTPHFP',\n",
       "       'DPSTTENA', 'DPSTURNR', 'Year', 'DPST20FC', 'DPST20FP', 'a', 'b', 'c'],\n",
       "      dtype='object')"
      ]
     },
     "execution_count": 199,
     "metadata": {},
     "output_type": "execute_result"
    }
   ],
   "source": [
    "teacher_expertise_df.columns"
   ]
  },
  {
   "cell_type": "markdown",
   "id": "db57f827",
   "metadata": {},
   "source": [
    "We'll need seven key variables in addition to district ID and Year from this dataset, and we'll need to rename all of these for clarity. These will be crucial for gauging teacher expertise as measured by years of experience and degrees attained. \n",
    "\n",
    "DPSTEXPA: Teacher Avg Years Experience\n",
    "DPSTTENA: Teacher Avg Tenure (Years)\n",
    "DPSTURNR: Teacher Turnover Ratio\n",
    "DPSTMSFP: Teacher Masters (Ms) Degree Full Time Equivalent Percent\n",
    "DPSTNOFP: Teacher No Degree Full Time Equivalent Percent\n",
    "DPSTPHFP: Teacher PhD Degree Full Time Equivalent Percent\n",
    "DPSTKIDR: Student-Teacher Ratio"
   ]
  },
  {
   "cell_type": "code",
   "execution_count": 200,
   "id": "9ec78e53",
   "metadata": {},
   "outputs": [
    {
     "name": "stdout",
     "output_type": "stream",
     "text": [
      "   district_id  Year teacher_avg_yrs_experience student_teacher_ratio  \\\n",
      "0         1902  2022                       16.7                  12.3   \n",
      "1         1903  2022                       13.5                    11   \n",
      "2         1904  2022                       12.8                  10.8   \n",
      "3         1906  2022                       14.8                  11.3   \n",
      "4         1907  2022                       12.7                  12.9   \n",
      "\n",
      "  teacher_ms_degree_percent teacher_no_degree_percent  \\\n",
      "0                      14.8                         0   \n",
      "1                        19                       1.9   \n",
      "2                      30.7                       1.3   \n",
      "3                       9.6                         0   \n",
      "4                      15.4                       1.2   \n",
      "\n",
      "  teacher_phd_degree_percent teacher_avg_tenure_yrs teacher_turnover_ratio  \n",
      "0                          0                    9.9                   19.1  \n",
      "1                          0                    7.6                   13.9  \n",
      "2                          0                    5.1                   21.6  \n",
      "3                          0                    7.8                   18.3  \n",
      "4                          0                      7                   17.9  \n"
     ]
    }
   ],
   "source": [
    "# Teacher Expertise Clean-Up\n",
    "\n",
    "# Specify the columns to keep:\n",
    "columns_to_keep = ['DISTRICT', 'Year', 'DPSTEXPA', 'DPSTKIDR', 'DPSTMSFP', \n",
    "                   'DPSTNOFP', 'DPSTPHFP', 'DPSTTENA', 'DPSTURNR'\n",
    "                   ]\n",
    "\n",
    "# Drop all other columns\n",
    "teacher_expertise_df = teacher_expertise_df[columns_to_keep]\n",
    "\n",
    "\n",
    "# (2) Rename Columns for Clarity and Consistency\n",
    "# Create a dictionary of old column names to new standardized ones\n",
    "rename_dict = {\n",
    "    'DISTRICT': 'district_id',  \n",
    "    'DPSTEXPA': 'teacher_avg_yrs_experience',\n",
    "    'DPSTKIDR': 'student_teacher_ratio', \n",
    "    'DPSTMSFP': 'teacher_ms_degree_percent', \n",
    "    'DPSTNOFP': 'teacher_no_degree_percent', \n",
    "    'DPSTPHFP': 'teacher_phd_degree_percent', \n",
    "    'DPSTTENA': 'teacher_avg_tenure_yrs',\n",
    "    'DPSTURNR': 'teacher_turnover_ratio'\n",
    "    \n",
    "}\n",
    "# Rename the columns using the dictionary\n",
    "teacher_expertise_df = teacher_expertise_df.rename(columns=rename_dict)\n",
    "\n",
    "\n",
    "# (3) Data Type Conversion\n",
    "# Convert columns to appropriate data types\n",
    "teacher_expertise_df['district_id'] = teacher_expertise_df['district_id'].astype(int)  # Convert to integer\n",
    "# Convert rest of columns to float\n",
    "\n",
    "\n",
    "\n",
    "# Display the first few rows of the modified dataframe\n",
    "print(teacher_expertise_df.head())"
   ]
  },
  {
   "cell_type": "code",
   "execution_count": 204,
   "id": "c5adee1d",
   "metadata": {},
   "outputs": [
    {
     "data": {
      "text/plain": [
       "district_id                    int64\n",
       "Year                           int64\n",
       "teacher_avg_yrs_experience    object\n",
       "student_teacher_ratio         object\n",
       "teacher_ms_degree_percent     object\n",
       "teacher_no_degree_percent     object\n",
       "teacher_phd_degree_percent    object\n",
       "teacher_avg_tenure_yrs        object\n",
       "teacher_turnover_ratio        object\n",
       "dtype: object"
      ]
     },
     "execution_count": 204,
     "metadata": {},
     "output_type": "execute_result"
    }
   ],
   "source": [
    "teacher_expertise_df.dtypes"
   ]
  },
  {
   "cell_type": "code",
   "execution_count": 205,
   "id": "a8d6621b",
   "metadata": {},
   "outputs": [
    {
     "data": {
      "image/png": "[encoded data removed]",
      "text/plain": [
       "<Figure size 2000x1000 with 7 Axes>"
      ]
     },
     "metadata": {},
     "output_type": "display_data"
    }
   ],
   "source": [
    "# (4) Outliers: Plotting the histograms\n",
    "\n",
    "# Convert objects to floats\n",
    "for column in [\n",
    "    'teacher_avg_yrs_experience', \n",
    "    'student_teacher_ratio', \n",
    "    'teacher_ms_degree_percent', \n",
    "    'teacher_no_degree_percent', \n",
    "    'teacher_phd_degree_percent', \n",
    "    'teacher_avg_tenure_yrs', \n",
    "    'teacher_turnover_ratio'\n",
    "]:\n",
    "    teacher_expertise_df[column] = pd.to_numeric(teacher_expertise_df[column], errors='coerce')\n",
    "\n",
    "# Select columns\n",
    "columns_to_plot = [\n",
    "                'teacher_avg_yrs_experience', 'student_teacher_ratio', 'teacher_ms_degree_percent', \n",
    "                'teacher_no_degree_percent', 'teacher_phd_degree_percent', 'teacher_avg_tenure_yrs',\n",
    "                'teacher_turnover_ratio'\n",
    "]\n",
    "\n",
    "# Set up the matplotlib figure size for clarity\n",
    "plt.figure(figsize=(20, 10))\n",
    "\n",
    "# Iterate over the list of columns, creating a histogram for each\n",
    "for index, column in enumerate(columns_to_plot, start=1):\n",
    "    plt.subplot(2, 4, index) # Adjust the grid size based on your preferences\n",
    "    teacher_expertise_df[column].hist()\n",
    "    plt.title(column.replace('_', ' ').capitalize())\n",
    "    plt.xlabel('Value')\n",
    "    plt.ylabel('Frequency')\n",
    "\n",
    "# Adjust layout for better spacing between plots\n",
    "plt.tight_layout()\n",
    "plt.show()"
   ]
  },
  {
   "cell_type": "markdown",
   "id": "0bccb919",
   "metadata": {},
   "source": [
    "We can see a number of normal distributions here. \n",
    "- Most teachers have between 8-16 years of experience. \n",
    "- Most school districts have student-teacher ratio between 10-20, with a long tail extending towards higher ratios.\n",
    "- Most districts have around 10-30% of teachers with masters degrees. \n",
    "- Almost all districts have only a very small percent of teachers with no degree, which is encouraging since it shows almost all teachers have some form of higher education. \n",
    "- Very few districts have teachers with PhDs, as the frequency is near 0%. \n",
    "- Avg tenure in years for teachers is most commonly between about 4 and 9 years, indicating most teachers stay in their districts for a moderate amount of time, with fewer staying for longer periods. \n",
    "- Teacher turnover ratio is right skewed, showing most districts have a turnover ratio of less than 20%, but a few districts have higher turnover. "
   ]
  },
  {
   "cell_type": "code",
   "execution_count": 206,
   "id": "efb6248d",
   "metadata": {},
   "outputs": [
    {
     "data": {
      "text/plain": [
       "district_id                    0\n",
       "Year                           0\n",
       "teacher_avg_yrs_experience     8\n",
       "student_teacher_ratio          8\n",
       "teacher_ms_degree_percent      8\n",
       "teacher_no_degree_percent      8\n",
       "teacher_phd_degree_percent     8\n",
       "teacher_avg_tenure_yrs         8\n",
       "teacher_turnover_ratio        39\n",
       "dtype: int64"
      ]
     },
     "execution_count": 206,
     "metadata": {},
     "output_type": "execute_result"
    }
   ],
   "source": [
    "# (5) Check for missing values\n",
    "teacher_expertise_df.isna().sum()"
   ]
  },
  {
   "cell_type": "markdown",
   "id": "58964782",
   "metadata": {},
   "source": [
    "### 1.6.9 Kids in Poverty <a id='kids_in_poverty'></a>"
   ]
  },
  {
   "cell_type": "markdown",
   "id": "45b5c321",
   "metadata": {},
   "source": [
    "We'll need all but two columns in this dataset. Potential for feature engineering later. "
   ]
  },
  {
   "cell_type": "code",
   "execution_count": 207,
   "id": "1ba4e33d",
   "metadata": {},
   "outputs": [
    {
     "name": "stdout",
     "output_type": "stream",
     "text": [
      "   district_id  district_name  Year  estimated_total_population  \\\n",
      "0       109901     Abbott ISD  2022                        1082   \n",
      "1        95901  Abernathy ISD  2022                        3476   \n",
      "2       221901    Abilene ISD  2022                      105506   \n",
      "3        14901    Academy ISD  2022                        9120   \n",
      "4       180903     Adrian ISD  2022                         251   \n",
      "\n",
      "   estimated_population_5_17  estimated_children_in_poverty_5_17  \n",
      "0                        185                                  18  \n",
      "1                        774                                 147  \n",
      "2                      17290                                3505  \n",
      "3                       2076                                 216  \n",
      "4                         31                                   9  \n"
     ]
    }
   ],
   "source": [
    "# Kids in Poverty Clean-Up\n",
    "\n",
    "# Specify the columns to keep:\n",
    "columns_to_keep = ['District ID', 'District Name', 'Year', \n",
    "                   'Estimated Total Population', 'Estimated Population 5-17', \n",
    "'Estimated number of relevant children 5 to 17 years old in poverty who are related to the householder']\n",
    "\n",
    "# Drop all other columns\n",
    "poverty_df = poverty_df[columns_to_keep]\n",
    "\n",
    "\n",
    "# (2) Rename Columns for Clarity and Consistency\n",
    "# Create a dictionary of old column names to new standardized ones\n",
    "rename_dict = {\n",
    "    'District ID': 'district_id',  \n",
    "    'District Name': 'district_name', \n",
    "    'Estimated Total Population': 'estimated_total_population',\n",
    "    'Estimated Population 5-17': 'estimated_population_5_17',\n",
    "    'Estimated number of relevant children 5 to 17 years old in poverty who are related to the householder': \n",
    "    'estimated_children_in_poverty_5_17'\n",
    "}\n",
    "# Rename the columns using the dictionary\n",
    "poverty_df = poverty_df.rename(columns=rename_dict)\n",
    "\n",
    "poverty_df.dropna(subset=['district_id'], inplace=True)\n",
    "\n",
    "# (3) Data Type Conversion\n",
    "# Convert columns to appropriate data types\n",
    "poverty_df['district_id'] = poverty_df['district_id'].astype(int)  # Convert to integer\n",
    "\n",
    "\n",
    "\n",
    "# Display the first few rows of the modified dataframe\n",
    "print(poverty_df.head())"
   ]
  },
  {
   "cell_type": "code",
   "execution_count": 208,
   "id": "83430f9d",
   "metadata": {},
   "outputs": [
    {
     "data": {
      "image/png": "[encoded data removed]",
      "text/plain": [
       "<Figure size 1000x600 with 1 Axes>"
      ]
     },
     "metadata": {},
     "output_type": "display_data"
    }
   ],
   "source": [
    "# (4) Outliers: Plotting the histogram\n",
    "plt.figure(figsize=(10, 6))\n",
    "plt.hist(poverty_df['estimated_children_in_poverty_5_17'], bins=20, color='green', edgecolor='black')\n",
    "plt.title('Histogram of estimated_children_in_poverty_5_17')\n",
    "plt.xlabel('Estimated Children in Poverty Ages 5-17')\n",
    "plt.ylabel('Frequency')\n",
    "plt.grid(True)\n",
    "plt.show()"
   ]
  },
  {
   "cell_type": "markdown",
   "id": "6f60b13d",
   "metadata": {},
   "source": [
    "The histogram is heavily right skewed, indicating there are a small minority of districts with disproportionate amounts of children experiencing poverty. We'll want to explore the effects of this on student performance later. "
   ]
  },
  {
   "cell_type": "code",
   "execution_count": 209,
   "id": "735837c9",
   "metadata": {},
   "outputs": [
    {
     "data": {
      "text/plain": [
       "district_id                           0\n",
       "district_name                         0\n",
       "Year                                  0\n",
       "estimated_total_population            0\n",
       "estimated_population_5_17             0\n",
       "estimated_children_in_poverty_5_17    0\n",
       "dtype: int64"
      ]
     },
     "execution_count": 209,
     "metadata": {},
     "output_type": "execute_result"
    }
   ],
   "source": [
    "# (5) Check for missing values\n",
    "poverty_df.isna().sum()"
   ]
  },
  {
   "cell_type": "markdown",
   "id": "3fc029dd",
   "metadata": {},
   "source": [
    "### 1.6.10 Median Incomes <a id='median_incomes'></a>"
   ]
  },
  {
   "cell_type": "markdown",
   "id": "62ec56a0",
   "metadata": {},
   "source": [
    "All we need are median Incomes by District, but the Score column could be interesting as it ranks the most equitable to least equitable school districts, so we'll include this as well. \n",
    "\n",
    "The dataset has a column for 'Expenditures for Public Elementary and Secondary Schools per Pupil', but we'll exclude this since we don't know how exactly it has been calculated, and we'll feature engineer this with our other data later. "
   ]
  },
  {
   "cell_type": "code",
   "execution_count": 210,
   "id": "46702670",
   "metadata": {},
   "outputs": [
    {
     "name": "stdout",
     "output_type": "stream",
     "text": [
      "   district_id   district_name  Year  inequality_score  income_by_district\n",
      "0       207901  Schleicher ISD  2023              0.06               61094\n",
      "1       143906      Ezzell ISD  2023              0.07               62833\n",
      "2        91901       Bells ISD  2023              0.08               73388\n",
      "3        70901      Avalon ISD  2023              0.10               67250\n",
      "4       184908     Peaster ISD  2023              0.17               72349\n"
     ]
    }
   ],
   "source": [
    "# Median Incomes Clean-Up\n",
    "\n",
    "income_df = income_data_df\n",
    "\n",
    "# Specify the columns to keep:\n",
    "columns_to_keep = ['District ID', 'District Name', 'Year', \n",
    "                  'Score', 'Income by School District']\n",
    "\n",
    "# Drop all other columns\n",
    "income_df = income_df[columns_to_keep]\n",
    "\n",
    "\n",
    "# (2) Rename Columns for Clarity and Consistency\n",
    "# Create a dictionary of old column names to new standardized ones\n",
    "rename_dict = {\n",
    "    'District ID': 'district_id',  \n",
    "    'District Name': 'district_name', \n",
    "    'Score': 'inequality_score', \n",
    "    'Income by School District': 'income_by_district'\n",
    "}\n",
    "# Rename the columns using the dictionary\n",
    "income_df = income_df.rename(columns=rename_dict)\n",
    "\n",
    "\n",
    "# (3) Data Type Conversion\n",
    "# Convert columns to appropriate data types\n",
    "income_df['district_id'] = income_df['district_id'].astype(int)  # Convert to integer\n",
    "\n",
    "\n",
    "\n",
    "# Display the first few rows of the modified dataframe\n",
    "print(income_df.head())\n",
    "\n"
   ]
  },
  {
   "cell_type": "markdown",
   "id": "973c3d07",
   "metadata": {},
   "source": [
    "We likely won't use their inequality score since the methodology for calculating is unclear, but we'll keep this feature for now to use as a potential new feature to be engineered later. "
   ]
  },
  {
   "cell_type": "code",
   "execution_count": 211,
   "id": "4ab29753",
   "metadata": {},
   "outputs": [
    {
     "data": {
      "image/png": "[encoded data removed]",
      "text/plain": [
       "<Figure size 1000x600 with 1 Axes>"
      ]
     },
     "metadata": {},
     "output_type": "display_data"
    }
   ],
   "source": [
    "# (4) Outliers: Plotting the histogram\n",
    "plt.figure(figsize=(10, 6))\n",
    "plt.hist(income_df['income_by_district'], bins=20, color='lime', edgecolor='black')\n",
    "plt.title('Histogram of income_by_district')\n",
    "plt.xlabel('Median District Incomes')\n",
    "plt.ylabel('Frequency')\n",
    "plt.grid(True)\n",
    "plt.show()"
   ]
  },
  {
   "cell_type": "markdown",
   "id": "756202ac",
   "metadata": {},
   "source": [
    "This shows a more normal distribution than most of the other features, with some outliers on the right. We'll explore whether kids in poverty or income "
   ]
  },
  {
   "cell_type": "code",
   "execution_count": 212,
   "id": "1217455a",
   "metadata": {},
   "outputs": [
    {
     "data": {
      "text/plain": [
       "district_id           0\n",
       "district_name         0\n",
       "Year                  0\n",
       "inequality_score      0\n",
       "income_by_district    0\n",
       "dtype: int64"
      ]
     },
     "execution_count": 212,
     "metadata": {},
     "output_type": "execute_result"
    }
   ],
   "source": [
    "# (5) Check for missing values\n",
    "income_df.isna().sum()"
   ]
  },
  {
   "cell_type": "markdown",
   "id": "87e5acff",
   "metadata": {},
   "source": [
    "We'll count the distinct district_id values for each dataset to gauge how many observations we'll end up with after joining the datasets. "
   ]
  },
  {
   "cell_type": "code",
   "execution_count": 214,
   "id": "b766066a",
   "metadata": {},
   "outputs": [
    {
     "name": "stdout",
     "output_type": "stream",
     "text": [
      "Distinct 'district_id' count in grad_df: 1080\n",
      "Distinct 'district_id' count in sat_act_df: 1112\n",
      "Distinct 'district_id' count in funding_df: 1216\n",
      "Distinct 'district_id' count in property_values_df: 1018\n",
      "Distinct 'district_id' count in ap_ib_scores_df: 51\n",
      "Distinct 'district_id' count in teacher_df: 1215\n",
      "Distinct 'district_id' count in ada_df: 1416\n",
      "Distinct 'district_id' count in teacher_expertise_df: 1218\n",
      "Distinct 'district_id' count in poverty_df: 1018\n",
      "Distinct 'district_id' count in income_df: 1013\n"
     ]
    }
   ],
   "source": [
    "# Function to count distinct 'district_id' values in each dataframe\n",
    "def count_distinct_ids(dataframes_info):\n",
    "    counts = {}\n",
    "    for df, name in dataframes_info:\n",
    "        # Count distinct 'district_id' values\n",
    "        unique_count = df['district_id'].nunique()\n",
    "        counts[name] = unique_count\n",
    "    return counts\n",
    "\n",
    "# List of tuples (dataframe, name)\n",
    "dataframes_info = [\n",
    "    (grad_df, 'grad_df'),\n",
    "    (sat_act_df, 'sat_act_df'),\n",
    "    (funding_df, 'funding_df'),\n",
    "    (property_values_df, 'property_values_df'),\n",
    "    (ap_ib_scores_df, 'ap_ib_scores_df'),\n",
    "    (teacher_df, 'teacher_df'),\n",
    "    (ada_df, 'ada_df'),\n",
    "    (teacher_expertise_df, 'teacher_expertise_df'), \n",
    "    (poverty_df, 'poverty_df'),\n",
    "    (income_df, 'income_df')\n",
    "]\n",
    "\n",
    "# Call the function and print the results\n",
    "distinct_id_counts = count_distinct_ids(dataframes_info)\n",
    "for name, count in distinct_id_counts.items():\n",
    "    print(f\"Distinct 'district_id' count in {name}: {count}\")"
   ]
  },
  {
   "cell_type": "markdown",
   "id": "13198736",
   "metadata": {},
   "source": [
    "The ap_ib_scores_df dataset appears to have an extremely low number of districts, let's see which districts are present. "
   ]
  },
  {
   "cell_type": "code",
   "execution_count": 215,
   "id": "118c977d",
   "metadata": {},
   "outputs": [
    {
     "data": {
      "text/plain": [
       "0                     Temple ISD\n",
       "57               San Antonio ISD\n",
       "114                   Judson ISD\n",
       "171                    Bryan ISD\n",
       "228              South Texas ISD\n",
       "                  ...           \n",
       "2106    Hurst-Euless-Bedford ISD\n",
       "2160                  Austin ISD\n",
       "2214           Wichita Falls ISD\n",
       "2268              Round Rock ISD\n",
       "2322                 Leander ISD\n",
       "Name: district_name, Length: 213, dtype: object"
      ]
     },
     "execution_count": 215,
     "metadata": {},
     "output_type": "execute_result"
    }
   ],
   "source": [
    "ap_ib_scores_df['district_name']"
   ]
  },
  {
   "cell_type": "markdown",
   "id": "b6744479",
   "metadata": {},
   "source": [
    "Though it would be beneficial to see how participation in advanced courses and testing correlates to student success, the number of observations are far too low for our analysis, so we'll exclude this dataset in our join. "
   ]
  },
  {
   "cell_type": "markdown",
   "id": "f4f166ba",
   "metadata": {},
   "source": [
    "## 1.7 Ensure Consistency of district_id Column Values <a id='ensure_consistency'></a>"
   ]
  },
  {
   "cell_type": "markdown",
   "id": "9dc01ede",
   "metadata": {},
   "source": [
    "We've also verified that each dataset contains the necessary key column for joining (district_id), and we've converted these to integers, but let's ensure consistency among the column values across datasets. "
   ]
  },
  {
   "cell_type": "code",
   "execution_count": 217,
   "id": "32c80902",
   "metadata": {},
   "outputs": [
    {
     "name": "stdout",
     "output_type": "stream",
     "text": [
      "Total consistent district_id values: 964\n",
      "Total inconsistent district_id values: 1630\n"
     ]
    }
   ],
   "source": [
    "def find_id_consistency(*dataframes):\n",
    "    # Create a set with all unique district_ids from the first dataframe\n",
    "    common_ids = set(dataframes[0]['district_id'].unique())\n",
    "    \n",
    "    # Intersect this set with sets of unique district_ids from all other dataframes\n",
    "    for df in dataframes[1:]:\n",
    "        common_ids &= set(df['district_id'].unique())\n",
    "    \n",
    "    # Now common_ids contains only the district_ids that are present in every dataframe\n",
    "    # The inconsistent ids are those that are not in the intersection\n",
    "    total_consistent = len(common_ids)\n",
    "    total_inconsistent = sum(len(set(df['district_id'].unique())) for df in dataframes) - total_consistent * 9\n",
    "    \n",
    "    return total_consistent, total_inconsistent\n",
    "\n",
    "# List of your dataframes\n",
    "dataframes = [grad_df, sat_act_df, funding_df, property_values_df, \n",
    "              teacher_df, ada_df, teacher_expertise_df, poverty_df, income_df]\n",
    "\n",
    "# Calculate the consistent and inconsistent district_id values\n",
    "total_consistent, total_inconsistent = find_id_consistency(*dataframes)\n",
    "\n",
    "print(f\"Total consistent district_id values: {total_consistent}\")\n",
    "print(f\"Total inconsistent district_id values: {total_inconsistent}\")"
   ]
  },
  {
   "cell_type": "markdown",
   "id": "bc1a879c",
   "metadata": {},
   "source": [
    "We have 964 unique districts consistent across all datasets, which isn't too far removed from the roughly 1,200 total districts. However, we'll want to see how this performs in the modeling stage, as the data quantity may be insufficient for predictive purposes. "
   ]
  },
  {
   "cell_type": "markdown",
   "id": "8eb1c3c5",
   "metadata": {},
   "source": [
    "## 1.8 Join All Datasets <a id='join_all_datasets'></a>"
   ]
  },
  {
   "cell_type": "markdown",
   "id": "9520562c",
   "metadata": {},
   "source": [
    "Now we'll merge all eight datasets together on district_id column and Year (again we're excluding ap_ib_scores_df due to too few observations). "
   ]
  },
  {
   "cell_type": "code",
   "execution_count": 220,
   "id": "74b70483",
   "metadata": {},
   "outputs": [
    {
     "name": "stdout",
     "output_type": "stream",
     "text": [
      "  calc_for_state_acct district_id           district_name  county  \\\n",
      "0                 Yes       22902            Marathon ISD    22.0   \n",
      "1                 Yes       46802  Trinity Charter School    46.0   \n",
      "2                 Yes       65902              Hedley ISD    65.0   \n",
      "3                 Yes      115903           Dell City ISD   115.0   \n",
      "4                 Yes      122902           Valentine ISD   122.0   \n",
      "\n",
      "         county_name  region  region_name  dist_allr_grad  dist_allr_cont  \\\n",
      "0    Brewster County    18.0      Midland            -1.0            -1.0   \n",
      "1       Comal County    20.0  San Antonio            -1.0            -1.0   \n",
      "2      Donley County    16.0     Amarillo            -1.0            -1.0   \n",
      "3    Hudspeth County    19.0      El Paso            -1.0            -1.0   \n",
      "4  Jeff Davis County    18.0      Midland            -1.0            -1.0   \n",
      "\n",
      "  dist_allr_txchse  ...  teacher_phd_degree_percent teacher_avg_tenure_yrs  \\\n",
      "0               -1  ...                         1.0                    4.1   \n",
      "1               -1  ...                         0.0                    3.9   \n",
      "2               -1  ...                         0.0                   11.5   \n",
      "3               -1  ...                         0.0                    2.9   \n",
      "4               -1  ...                         0.0                    1.3   \n",
      "\n",
      "  teacher_turnover_ratio  district_name_right  estimated_total_population  \\\n",
      "0                   18.9         Marathon ISD                       483.0   \n",
      "1                   30.3                  NaN                         NaN   \n",
      "2                   10.8           Hedley ISD                       465.0   \n",
      "3                   34.1        Dell City ISD                       472.0   \n",
      "4                   20.5        Valentine ISD                       260.0   \n",
      "\n",
      "   estimated_population_5_17 estimated_children_in_poverty_5_17  \\\n",
      "0                       60.0                               11.0   \n",
      "1                        NaN                                NaN   \n",
      "2                       65.0                               17.0   \n",
      "3                       49.0                               20.0   \n",
      "4                        6.0                                5.0   \n",
      "\n",
      "   district_name_right  inequality_score  income_by_district  \n",
      "0                  NaN               NaN                 NaN  \n",
      "1                  NaN               NaN                 NaN  \n",
      "2                  NaN               NaN                 NaN  \n",
      "3                  NaN               NaN                 NaN  \n",
      "4                  NaN               NaN                 NaN  \n",
      "\n",
      "[5 rows x 57 columns]\n"
     ]
    }
   ],
   "source": [
    "from functools import reduce\n",
    "import pandas as pd\n",
    "\n",
    "\n",
    "\n",
    "def merge_dataframes_on_columns(dataframes, merge_on_columns, how='outer'):\n",
    "    # Make sure the merge_on_columns is a list\n",
    "    if not isinstance(merge_on_columns, list):\n",
    "        merge_on_columns = [merge_on_columns]\n",
    "\n",
    "    # Convert the merge columns to the same data type (string is generally the most flexible)\n",
    "    for df in dataframes:\n",
    "        for column in merge_on_columns:\n",
    "            df[column] = df[column].astype(str)\n",
    "\n",
    "    # Initialize the merged DataFrame with the first DataFrame in the list\n",
    "    merged_df = dataframes[0]\n",
    "\n",
    "    # Use reduce to merge all DataFrames on the specified columns\n",
    "    for df in dataframes[1:]:\n",
    "        merged_df = pd.merge(merged_df, df, on=merge_on_columns, how=how, suffixes=('', '_right'))\n",
    "\n",
    "    return merged_df\n",
    "\n",
    "# List of your DataFrames\n",
    "dfs = [grad_df, sat_act_df, funding_df, property_values_df, teacher_df, ada_df, teacher_expertise_df,\n",
    "       poverty_df, income_df]\n",
    "\n",
    "# ['district_id', 'Year'] are the columns you want to merge on\n",
    "merged_df = merge_dataframes_on_columns(dfs, ['district_id', 'Year'])\n",
    "\n",
    "print(merged_df.head())"
   ]
  },
  {
   "cell_type": "code",
   "execution_count": 221,
   "id": "82fb98fa",
   "metadata": {},
   "outputs": [
    {
     "name": "stdout",
     "output_type": "stream",
     "text": [
      "<class 'pandas.core.frame.DataFrame'>\n",
      "RangeIndex: 8137 entries, 0 to 8136\n",
      "Data columns (total 57 columns):\n",
      " #   Column                              Non-Null Count  Dtype  \n",
      "---  ------                              --------------  -----  \n",
      " 0   calc_for_state_acct                 5374 non-null   object \n",
      " 1   district_id                         8137 non-null   object \n",
      " 2   district_name                       5374 non-null   object \n",
      " 3   county                              5374 non-null   float64\n",
      " 4   county_name                         5374 non-null   object \n",
      " 5   region                              5374 non-null   float64\n",
      " 6   region_name                         5374 non-null   object \n",
      " 7   dist_allr_grad                      5374 non-null   float64\n",
      " 8   dist_allr_cont                      5374 non-null   float64\n",
      " 9   dist_allr_txchse                    3237 non-null   object \n",
      " 10  dist_allr_drop                      5374 non-null   float64\n",
      " 11  Year                                8137 non-null   object \n",
      " 12  district_name_right                 5433 non-null   object \n",
      " 13  part_rate                           5375 non-null   float64\n",
      " 14  above_crit_rate                     4825 non-null   float64\n",
      " 15  above_tsi_both_rate                 5110 non-null   float64\n",
      " 16  district_name_right                 6052 non-null   object \n",
      " 17  fall_enrollment                     6052 non-null   float64\n",
      " 18  gen_funds_local_tax_mo              6052 non-null   float64\n",
      " 19  all_funds_local_tax_mo              6052 non-null   float64\n",
      " 20  gen_funds_other_local_revenue       6052 non-null   float64\n",
      " 21  all_funds_other_local_revenue       6052 non-null   float64\n",
      " 22  gen_funds_local_tax_is              6052 non-null   float64\n",
      " 23  all_funds_local_tax_is              6052 non-null   float64\n",
      " 24  gen_funds_state_revenue             6052 non-null   float64\n",
      " 25  all_funds_state_revenue             6052 non-null   float64\n",
      " 26  gen_funds_state_debt                6052 non-null   float64\n",
      " 27  all_funds_state_debt                6052 non-null   float64\n",
      " 28  gen_funds_state_trs_contrib         6052 non-null   float64\n",
      " 29  all_funds_state_trs_contrib         6052 non-null   float64\n",
      " 30  gen_funds_state_comp_ed_expend      6052 non-null   float64\n",
      " 31  all_funds_state_comp_ed_expend      6052 non-null   float64\n",
      " 32  gen_funds_federal_revenue           6052 non-null   float64\n",
      " 33  all_funds_federal_revenue           6052 non-null   float64\n",
      " 34  district_name_right                 5117 non-null   object \n",
      " 35  total_tax_rate                      5117 non-null   float64\n",
      " 36  total_property_value                5117 non-null   float64\n",
      " 37  district_name_right                 6041 non-null   object \n",
      " 38  fte_count                           6041 non-null   object \n",
      " 39  total_base_pay                      6041 non-null   object \n",
      " 40  avg_base_pay                        6041 non-null   object \n",
      " 41  district_name_right                 7124 non-null   object \n",
      " 42  ADA                                 7124 non-null   float64\n",
      " 43  teacher_avg_yrs_experience          6050 non-null   float64\n",
      " 44  student_teacher_ratio               6050 non-null   float64\n",
      " 45  teacher_ms_degree_percent           6050 non-null   float64\n",
      " 46  teacher_no_degree_percent           6050 non-null   float64\n",
      " 47  teacher_phd_degree_percent          6050 non-null   float64\n",
      " 48  teacher_avg_tenure_yrs              6050 non-null   float64\n",
      " 49  teacher_turnover_ratio              6019 non-null   float64\n",
      " 50  district_name_right                 5064 non-null   object \n",
      " 51  estimated_total_population          5064 non-null   float64\n",
      " 52  estimated_population_5_17           5064 non-null   float64\n",
      " 53  estimated_children_in_poverty_5_17  5064 non-null   float64\n",
      " 54  district_name_right                 1013 non-null   object \n",
      " 55  inequality_score                    1013 non-null   float64\n",
      " 56  income_by_district                  1013 non-null   float64\n",
      "dtypes: float64(40), object(17)\n",
      "memory usage: 3.5+ MB\n"
     ]
    }
   ],
   "source": [
    "merged_df.info()"
   ]
  },
  {
   "cell_type": "markdown",
   "id": "af8c850f",
   "metadata": {},
   "source": [
    "## 1.9 Save Data <a id='save_data'></a>"
   ]
  },
  {
   "cell_type": "code",
   "execution_count": 222,
   "id": "8e0361a8",
   "metadata": {},
   "outputs": [],
   "source": [
    "# Save the data \n",
    "output_file_path = '/Users/joshuabe/Desktop/DataScienceGuidedCapstone/Notebooks/student_success_all_data_merged.csv'\n",
    "merged_df.to_csv(output_file_path, index=False)"
   ]
  }
 ],
 "metadata": {
  "kernelspec": {
   "display_name": "Python 3 (ipykernel)",
   "language": "python",
   "name": "python3"
  },
  "language_info": {
   "codemirror_mode": {
    "name": "ipython",
    "version": 3
   },
   "file_extension": ".py",
   "mimetype": "text/x-python",
   "name": "python",
   "nbconvert_exporter": "python",
   "pygments_lexer": "ipython3",
   "version": "3.11.5"
  }
 },
 "nbformat": 4,
 "nbformat_minor": 5
}
