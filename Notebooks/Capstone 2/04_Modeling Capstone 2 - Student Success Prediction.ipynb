{
 "cells": [
  {
   "cell_type": "markdown",
   "id": "9b457a8e",
   "metadata": {},
   "source": [
    "# 4 Modeling <a id=\"modeling\"></a>"
   ]
  },
  {
   "cell_type": "markdown",
   "id": "f582285d",
   "metadata": {},
   "source": [
    "## 4.1 Contents <a id=\"contents\"></a>"
   ]
  },
  {
   "cell_type": "markdown",
   "id": "24e7a274",
   "metadata": {},
   "source": [
    "- [4 Modeling](#modeling)\n",
    "  - [4.1 Contents](#contents)\n",
    "  - [4.2 Introduction](#introduction)\n",
    "      - [4.2.1 Objective](#objective)\n",
    "  - [4.3 Imports](#imports)\n",
    "  - [4.4 Load the Data](#dataload)\n",
    "  - [4.5 Initial Average Model](#initial)\n",
    "  - [4.6 Metrics](#metrics)\n",
    "  - [4.7 Models](#models)\n",
    "     - [4.7.1 Linear Model](#linear)\n",
    "     - [4.7.2 Random Forest](#randomforest)\n",
    "     - [4.7.3 Gradient Boosting](#gbm)\n",
    "     - [4.7.4 Decision Trees](#trees)\n",
    "   - [4.8 Hyperparameter Tuning](#hyperparameter)\n",
    "       - [4.8.1 Random Forest Model Hyperparameter Tuning](#rf_model_hyperparameter)\n",
    "       - [4.8.2 Features Amount Experiments](#features_experiments)\n",
    "       - [4.8.3 Retune Hyperparameters with Reduced Feature Set](#hyperparameter_reduced_features)\n",
    "   - [4.9 Best Model](#bestmodel)\n",
    "   - [4.10 Summary](#summary)"
   ]
  },
  {
   "cell_type": "markdown",
   "id": "252351c1",
   "metadata": {},
   "source": [
    "## 4.2 Introduction <a id=\"introduction\"></a>"
   ]
  },
  {
   "cell_type": "markdown",
   "id": "7fa67969",
   "metadata": {},
   "source": [
    "In this fourth stage, we'll take our preprocessed data from our preprocessing notebook (stage 3) and try different models to see which model yields the best performance, and tune our hyperparameters for maximizing these results. "
   ]
  },
  {
   "cell_type": "markdown",
   "id": "f7194086",
   "metadata": {},
   "source": [
    "### 4.2.1 Objective <a id=\"objective\"></a>"
   ]
  },
  {
   "cell_type": "markdown",
   "id": "df5cbf5d",
   "metadata": {},
   "source": [
    "Our goal is to create and identify the optimal model that most accurately predicts test scores on a per-school district basis for the state of Texas. We've previously conducted a thorough cleaning of our initial datasets gleaned primarily from the Texas Education Agency website, explored and visualized our data, and then did some preprocessing and training for establishing a dataset ready for our models to train on. "
   ]
  },
  {
   "cell_type": "markdown",
   "id": "5c1f94db",
   "metadata": {},
   "source": [
    "## 4.3 Imports <a id=\"imports\"></a>"
   ]
  },
  {
   "cell_type": "code",
   "execution_count": 2,
   "id": "8ba50710",
   "metadata": {},
   "outputs": [
    {
     "name": "stdout",
     "output_type": "stream",
     "text": [
      "Requirement already satisfied: xgboost in /Users/joshuabe/anaconda3/lib/python3.11/site-packages (2.0.3)\n",
      "Requirement already satisfied: numpy in /Users/joshuabe/anaconda3/lib/python3.11/site-packages (from xgboost) (1.26.4)\n",
      "Requirement already satisfied: scipy in /Users/joshuabe/anaconda3/lib/python3.11/site-packages (from xgboost) (1.11.1)\n",
      "Note: you may need to restart the kernel to use updated packages.\n"
     ]
    }
   ],
   "source": [
    "pip install xgboost"
   ]
  },
  {
   "cell_type": "code",
   "execution_count": 3,
   "id": "05be3671",
   "metadata": {},
   "outputs": [
    {
     "name": "stdout",
     "output_type": "stream",
     "text": [
      "Requirement already satisfied: featuretools in /Users/joshuabe/anaconda3/lib/python3.11/site-packages (1.30.0)\n",
      "Requirement already satisfied: cloudpickle>=1.5.0 in /Users/joshuabe/anaconda3/lib/python3.11/site-packages (from featuretools) (2.2.1)\n",
      "Requirement already satisfied: holidays>=0.17 in /Users/joshuabe/anaconda3/lib/python3.11/site-packages (from featuretools) (0.47)\n",
      "Requirement already satisfied: numpy>=1.25.0 in /Users/joshuabe/anaconda3/lib/python3.11/site-packages (from featuretools) (1.26.4)\n",
      "Requirement already satisfied: packaging>=20.0 in /Users/joshuabe/anaconda3/lib/python3.11/site-packages (from featuretools) (23.1)\n",
      "Requirement already satisfied: pandas>=2.0.0 in /Users/joshuabe/anaconda3/lib/python3.11/site-packages (from featuretools) (2.0.3)\n",
      "Requirement already satisfied: psutil>=5.7.0 in /Users/joshuabe/anaconda3/lib/python3.11/site-packages (from featuretools) (5.9.0)\n",
      "Requirement already satisfied: scipy>=1.10.0 in /Users/joshuabe/anaconda3/lib/python3.11/site-packages (from featuretools) (1.11.1)\n",
      "Requirement already satisfied: tqdm>=4.32.0 in /Users/joshuabe/anaconda3/lib/python3.11/site-packages (from featuretools) (4.65.0)\n",
      "Requirement already satisfied: woodwork>=0.28.0 in /Users/joshuabe/anaconda3/lib/python3.11/site-packages (from featuretools) (0.30.0)\n",
      "Requirement already satisfied: python-dateutil in /Users/joshuabe/anaconda3/lib/python3.11/site-packages (from holidays>=0.17->featuretools) (2.8.2)\n",
      "Requirement already satisfied: pytz>=2020.1 in /Users/joshuabe/anaconda3/lib/python3.11/site-packages (from pandas>=2.0.0->featuretools) (2023.3.post1)\n",
      "Requirement already satisfied: tzdata>=2022.1 in /Users/joshuabe/anaconda3/lib/python3.11/site-packages (from pandas>=2.0.0->featuretools) (2023.3)\n",
      "Requirement already satisfied: scikit-learn>=1.1.0 in /Users/joshuabe/anaconda3/lib/python3.11/site-packages (from woodwork>=0.28.0->featuretools) (1.3.0)\n",
      "Requirement already satisfied: importlib-resources>=5.10.0 in /Users/joshuabe/anaconda3/lib/python3.11/site-packages (from woodwork>=0.28.0->featuretools) (6.4.0)\n",
      "Requirement already satisfied: six>=1.5 in /Users/joshuabe/anaconda3/lib/python3.11/site-packages (from python-dateutil->holidays>=0.17->featuretools) (1.16.0)\n",
      "Requirement already satisfied: joblib>=1.1.1 in /Users/joshuabe/anaconda3/lib/python3.11/site-packages (from scikit-learn>=1.1.0->woodwork>=0.28.0->featuretools) (1.2.0)\n",
      "Requirement already satisfied: threadpoolctl>=2.0.0 in /Users/joshuabe/anaconda3/lib/python3.11/site-packages (from scikit-learn>=1.1.0->woodwork>=0.28.0->featuretools) (2.2.0)\n",
      "Note: you may need to restart the kernel to use updated packages.\n"
     ]
    }
   ],
   "source": [
    "pip install featuretools"
   ]
  },
  {
   "cell_type": "code",
   "execution_count": 22,
   "id": "7f25fd0d",
   "metadata": {},
   "outputs": [],
   "source": [
    "import warnings\n",
    "warnings.filterwarnings('ignore')\n",
    "import numpy as np \n",
    "import pandas as pd \n",
    "import matplotlib.pyplot as plt\n",
    "import os\n",
    "import seaborn as sns\n",
    "import scipy.stats as stats\n",
    "import matplotlib.ticker as tick\n",
    "import sklearn.model_selection\n",
    "\n",
    "from operator import itemgetter\n",
    "from sklearn.experimental import enable_iterative_imputer \n",
    "from sklearn.impute import IterativeImputer\n",
    "from sklearn.preprocessing import OrdinalEncoder\n",
    "from sklearn.ensemble import (GradientBoostingRegressor, GradientBoostingClassifier)\n",
    "from sklearn.ensemble import RandomForestRegressor\n",
    "from sklearn.tree import DecisionTreeRegressor\n",
    "import xgboost as xgb\n",
    "\n",
    "import featuretools as ft\n",
    "from sklearn import neighbors, datasets, preprocessing\n",
    "from sklearn.decomposition import PCA\n",
    "from sklearn.metrics import accuracy_score\n",
    "from sklearn.preprocessing import StandardScaler\n",
    "from sklearn.preprocessing import Normalizer\n",
    "from sklearn.metrics import accuracy_score\n",
    "from sklearn.metrics import classification_report\n",
    "from sklearn.metrics import r2_score as r2\n",
    "from sklearn.metrics import mean_absolute_error as mae\n",
    "from sklearn.metrics import mean_squared_error as mse\n",
    "from sklearn.metrics import mean_squared_log_error as msle\n",
    "from sklearn.pipeline import make_pipeline\n",
    "from sklearn.impute import SimpleImputer\n",
    "from sklearn.feature_selection import SelectKBest, f_regression\n",
    "from sklearn.model_selection import train_test_split, cross_validate, GridSearchCV, learning_curve\n",
    "\n",
    "class style:\n",
    "   BOLD = '\\033[1m'\n",
    "   END = '\\033[0m'"
   ]
  },
  {
   "cell_type": "markdown",
   "id": "923d4124",
   "metadata": {},
   "source": [
    "## 4.4 Load the Data <a id=\"dataload\"></a>"
   ]
  },
  {
   "cell_type": "code",
   "execution_count": 23,
   "id": "b2e7e9c7",
   "metadata": {},
   "outputs": [],
   "source": [
    "X_train = pd.read_csv('/Users/joshuabe/Downloads/Capstone 2 - Student Success Prediction/X_train.csv')\n",
    "X_test = pd.read_csv('/Users/joshuabe/Downloads/Capstone 2 - Student Success Prediction/X_test.csv')\n",
    "y_train = pd.read_csv('/Users/joshuabe/Downloads/Capstone 2 - Student Success Prediction/y_train.csv')\n",
    "y_test = pd.read_csv('/Users/joshuabe/Downloads/Capstone 2 - Student Success Prediction/y_test.csv')"
   ]
  },
  {
   "cell_type": "code",
   "execution_count": 24,
   "id": "d12ac3d3",
   "metadata": {},
   "outputs": [
    {
     "name": "stdout",
     "output_type": "stream",
     "text": [
      "   district_id  estimated_children_in_poverty_5_17  estimated_population_5_17  \\\n",
      "0    -1.641873                           -0.198844                  -0.254862   \n",
      "1     0.736031                           -0.213093                  -0.218736   \n",
      "2    -1.102715                            0.223940                   1.045989   \n",
      "3    -1.158030                           -0.237753                  -0.304382   \n",
      "4     0.390427                           -0.275291                  -0.335225   \n",
      "\n",
      "   property_value_per_attended_student  property_value_per_enrolled_student  \\\n",
      "0                            -0.362515                            -0.367949   \n",
      "1                            -0.116232                            -0.120252   \n",
      "2                            -0.022461                            -0.009145   \n",
      "3                            -0.354641                            -0.358926   \n",
      "4                             0.000256                            -0.006346   \n",
      "\n",
      "   dist_allr_grad  dist_allr_drop  part_rate  avg_base_pay  fte_count  ...  \\\n",
      "0       -0.320618        0.935582  -1.414207      0.768292  -0.262903  ...   \n",
      "1        0.346767       -0.351521  -0.978479     -0.339898  -0.198317  ...   \n",
      "2        0.152113       -0.176007   1.436562      0.412866   1.179595  ...   \n",
      "3       -1.279983        2.251937   1.404114     -1.901064  -0.314394  ...   \n",
      "4        0.263344       -0.000493  -0.269264     -1.348708  -0.367765  ...   \n",
      "\n",
      "   local_funding_per_enrolled_student  state_funding_per_enrolled_student  \\\n",
      "0                           -0.738732                            0.832555   \n",
      "1                           -0.064318                           -0.546986   \n",
      "2                            0.302276                           -1.826706   \n",
      "3                           -0.714337                            0.865174   \n",
      "4                            0.295602                           -0.475511   \n",
      "\n",
      "   federal_funding_per_enrolled_student  total_funding_per_enrolled_student  \\\n",
      "0                             -0.368850                           -0.271987   \n",
      "1                             -0.444676                           -0.465605   \n",
      "2                             -0.946306                           -0.962908   \n",
      "3                              0.935384                           -0.056244   \n",
      "4                             -0.866128                           -0.113004   \n",
      "\n",
      "   absenteeism_rate  child_poverty_rate  teacher_quality_composite  \\\n",
      "0          0.802544            0.245687                   0.288668   \n",
      "1          0.245703           -0.702586                  -0.438681   \n",
      "2         -0.670045           -1.309595                   0.672918   \n",
      "3          0.606790            0.668808                  -0.339268   \n",
      "4          0.315603            0.237017                  -1.962514   \n",
      "\n",
      "   texas_median_income  texas_percentage_change  median_income  \n",
      "0             0.188622                -0.706703       0.630097  \n",
      "1             0.188622                -0.706703      -0.173108  \n",
      "2            -1.624826                -1.774088       0.976840  \n",
      "3            -0.013363                -0.553358      -0.934317  \n",
      "4            -1.624826                -0.979267      -0.149765  \n",
      "\n",
      "[5 rows x 33 columns]\n",
      "   above_tsi_both_rate\n",
      "0                 25.0\n",
      "1                 16.9\n",
      "2                 45.2\n",
      "3                 24.5\n",
      "4                 33.3\n"
     ]
    }
   ],
   "source": [
    "# Confirm correct loading\n",
    "print(X_train.head())\n",
    "print(y_train.head())"
   ]
  },
  {
   "cell_type": "markdown",
   "id": "0f4b2c0d",
   "metadata": {},
   "source": [
    "## 4.5 Initial Average Model <a id=\"initial\"></a>"
   ]
  },
  {
   "cell_type": "code",
   "execution_count": 25,
   "id": "06a99b18",
   "metadata": {},
   "outputs": [
    {
     "name": "stdout",
     "output_type": "stream",
     "text": [
      "Baseline Model MSE: 250.7151736340615\n",
      "Baseline Model R^2: -0.0009366522863121229\n"
     ]
    }
   ],
   "source": [
    "# Calculate the mean of y_train\n",
    "y_train_mean = y_train['above_tsi_both_rate'].mean()\n",
    "\n",
    "# Predict the same mean for all test instances\n",
    "y_pred_baseline = np.full(shape=y_test.shape, fill_value=y_train_mean)\n",
    "\n",
    "# Compute baseline model performance\n",
    "baseline_mse = mse(y_test, y_pred_baseline)\n",
    "baseline_r2 = r2(y_test, y_pred_baseline)\n",
    "\n",
    "print(f'Baseline Model MSE: {baseline_mse}')\n",
    "print(f'Baseline Model R^2: {baseline_r2}')"
   ]
  },
  {
   "cell_type": "markdown",
   "id": "a511832e",
   "metadata": {},
   "source": [
    "## 4.6 Metrics <a id=\"metrics\"></a>"
   ]
  },
  {
   "cell_type": "markdown",
   "id": "f966af4d",
   "metadata": {},
   "source": [
    "- Our metrics will be: \n",
    "     - **R-Squared (R²)**: Higher values are better. Indicates a model's ability to explain the variability of the target variable.\n",
    "     - **Mean Absolute Error (MAE)**: Lower values are better. Average of the absolute differences between predictions and actual observations. It gives an idea of how wrong the predictions were, without considering direction. \n",
    "     - **Mean Squared Error (MSE)**: Lower values are better. Measures the average squared difference between the estimated values and the actual value. \n",
    "     - **Root Mean Squared Error (RMSE)** Lower values are better. The square root of the MSE. Measures the average magnitude of the error. Especially useful when large errors are particularly undesirable. The square root allows for interpreting the errors in the same units as the response variable. \n",
    "     - **Mean Absolute Percentage Error (MAPE)**: Lower values are better. Expresses accuracy as a percentage; calculated as the average of the absolute percentage errors. Provides a perspective of error relative to the size of the numbers involved. "
   ]
  },
  {
   "cell_type": "markdown",
   "id": "ba39ad81",
   "metadata": {},
   "source": [
    "These metrics will help us determine not only how close the predictions are to the actual data in terms of error magnitude, but also in terms of the proportion of variance explained by the model. "
   ]
  },
  {
   "cell_type": "markdown",
   "id": "0dac3e89",
   "metadata": {},
   "source": [
    "In addition, during our cross-validation step for each model, we'll use **Cross-Validation Mean MSE (CV Mean MSE)**: Lower values are better, as they indicate better model performance across different subsets of the training data, suggesting better generalization."
   ]
  },
  {
   "cell_type": "markdown",
   "id": "9ef8f04e",
   "metadata": {},
   "source": [
    "## 4.7 Models <a id=\"models\"></a>"
   ]
  },
  {
   "cell_type": "markdown",
   "id": "d9e0ca70",
   "metadata": {},
   "source": [
    "We'll try four different models and evaluate the performance of each to find the best one. We'll also perform cross-validation to evaluate how well a model is likely to perform on unseen data by using different subsets of the training data for both training and validation. "
   ]
  },
  {
   "cell_type": "markdown",
   "id": "7c6e8116",
   "metadata": {},
   "source": [
    "### 4.7.1 Linear Model <a id=\"linear\"></a>"
   ]
  },
  {
   "cell_type": "markdown",
   "id": "8e78b2af",
   "metadata": {},
   "source": [
    "Linear regression is ideal for our initial attempt due to its simplicity and efficiency. We'll then compare the performance of simpler vs more complex models incrementally. "
   ]
  },
  {
   "cell_type": "code",
   "execution_count": 26,
   "id": "1db223b2",
   "metadata": {},
   "outputs": [
    {
     "name": "stdout",
     "output_type": "stream",
     "text": [
      "CV Mean MSE for Linear Regression: 158.42613284442564\n"
     ]
    }
   ],
   "source": [
    "from sklearn.linear_model import LinearRegression\n",
    "from sklearn.model_selection import cross_val_score, KFold\n",
    "\n",
    "# Initialize the Linear Regression model\n",
    "linear_model = LinearRegression()\n",
    "\n",
    "# Setup for cross-validation\n",
    "cv = KFold(n_splits=5, shuffle=True, random_state=42)  \n",
    "\n",
    "# Perform cross-validation and calculate the negative MSE\n",
    "cv_scores = cross_val_score(linear_model, X_train, y_train, cv=cv, scoring='neg_mean_squared_error')\n",
    "\n",
    "# Convert the scores to positive and calculate the mean\n",
    "cv_mean_mse = -cv_scores.mean()\n",
    "print(f'CV Mean MSE for Linear Regression: {cv_mean_mse}')\n",
    "\n",
    "# Fit the model on training data\n",
    "linear_model.fit(X_train, y_train)\n",
    "\n",
    "# Predict on test data\n",
    "y_pred_linear = linear_model.predict(X_test)"
   ]
  },
  {
   "cell_type": "code",
   "execution_count": 27,
   "id": "0d7b1052",
   "metadata": {},
   "outputs": [
    {
     "name": "stdout",
     "output_type": "stream",
     "text": [
      "Linear Model MSE: 137.9798021257943\n",
      "Linear Model R^2: 0.4491396782210665\n",
      "Linear Model RMSE: 11.746480414396233\n",
      "Linear Model MAE: 9.195957007069907\n",
      "Linear Model MAPE: 48.57929966181877%\n"
     ]
    }
   ],
   "source": [
    "# Evaluate the model\n",
    "mse_linear = mse(y_test, y_pred_linear)\n",
    "r2_linear = r2(y_test, y_pred_linear)\n",
    "rmse_linear = np.sqrt(mse_linear)\n",
    "mae_linear = mae(y_test, y_pred_linear)\n",
    "mape_linear = np.mean(np.abs((y_test - y_pred_linear) / y_test)) * 100\n",
    "\n",
    "print(f'Linear Model MSE: {mse_linear}')\n",
    "print(f'Linear Model R^2: {r2_linear}')\n",
    "print(f'Linear Model RMSE: {rmse_linear}')\n",
    "print(f'Linear Model MAE: {mae_linear}')\n",
    "print(f'Linear Model MAPE: {mape_linear}%')"
   ]
  },
  {
   "cell_type": "markdown",
   "id": "6e9b013a",
   "metadata": {},
   "source": [
    "### 4.7.2 Random Forest <a id=\"randomforest\"></a>"
   ]
  },
  {
   "cell_type": "markdown",
   "id": "c445a960",
   "metadata": {},
   "source": [
    "Next, we'll try a Random Forest model, which is an ensemble method that can handle both non-linear relationships and interactions between features. "
   ]
  },
  {
   "cell_type": "code",
   "execution_count": 28,
   "id": "4bace8bc",
   "metadata": {},
   "outputs": [
    {
     "name": "stdout",
     "output_type": "stream",
     "text": [
      "CV Mean MSE for Random Forest: 134.0907203643448\n"
     ]
    }
   ],
   "source": [
    "from sklearn.ensemble import RandomForestRegressor\n",
    "from sklearn.model_selection import cross_val_score, KFold\n",
    "\n",
    "# Initialize the Random Forest model\n",
    "random_forest_model = RandomForestRegressor(n_estimators=100, random_state=42)\n",
    "\n",
    "# Setup for cross-validation\n",
    "cv = KFold(n_splits=5, shuffle=True, random_state=42)\n",
    "\n",
    "# Perform cross-validation and print the mean results\n",
    "cv_scores = cross_val_score(random_forest_model, X_train, y_train, cv=cv, scoring='neg_mean_squared_error')\n",
    "\n",
    "# Convert the scores to positive and calculate the mean\n",
    "cv_mean_mse = -cv_scores.mean()\n",
    "print(f'CV Mean MSE for Random Forest: {cv_mean_mse}')\n",
    "\n",
    "# Fit the model on training data\n",
    "random_forest_model.fit(X_train, y_train)\n",
    "\n",
    "# Predict on test data\n",
    "y_pred_rf = random_forest_model.predict(X_test)\n",
    "\n",
    "# Select the first column as a Series, effectively making it one-dimensional to match y_pred_rf\n",
    "y_test = y_test.iloc[:, 0]"
   ]
  },
  {
   "cell_type": "code",
   "execution_count": 29,
   "id": "fa874da8",
   "metadata": {},
   "outputs": [
    {
     "name": "stdout",
     "output_type": "stream",
     "text": [
      "Random Forest MSE: 115.33459556777777\n",
      "Random Forest R^2: 0.5395467202599201\n",
      "Random Forest RMSE: 10.739394562440555\n",
      "Random Forest MAE: 8.42035\n",
      "Random Forest MAPE: 43.987194524892374%\n"
     ]
    }
   ],
   "source": [
    "# Evaluate the model\n",
    "mse_rf = mse(y_test, y_pred_rf)\n",
    "r2_rf = r2(y_test, y_pred_rf)\n",
    "rmse_rf = np.sqrt(mse_rf)\n",
    "mae_rf = mae(y_test, y_pred_rf)\n",
    "mape_rf = np.mean(np.abs((y_test - y_pred_rf) / y_test)) * 100\n",
    "\n",
    "print(f'Random Forest MSE: {mse_rf}')\n",
    "print(f'Random Forest R^2: {r2_rf}')\n",
    "print(f'Random Forest RMSE: {rmse_rf}')\n",
    "print(f'Random Forest MAE: {mae_rf}')\n",
    "print(f'Random Forest MAPE: {mape_rf}%')"
   ]
  },
  {
   "cell_type": "markdown",
   "id": "930d8361",
   "metadata": {},
   "source": [
    "### 4.7.3 Gradient Boosting <a id=\"gbm\"></a>"
   ]
  },
  {
   "cell_type": "markdown",
   "id": "2573ead5",
   "metadata": {},
   "source": [
    "Gradient Boosting is a powerful ensemble technique that builds models sequentially, each new model correcting errors made by the previous ones. "
   ]
  },
  {
   "cell_type": "code",
   "execution_count": 30,
   "id": "3b72366d",
   "metadata": {},
   "outputs": [
    {
     "name": "stdout",
     "output_type": "stream",
     "text": [
      "CV Mean MSE for Gradient Boosting: 135.2166897145964\n"
     ]
    }
   ],
   "source": [
    "from sklearn.ensemble import GradientBoostingRegressor\n",
    "\n",
    "# Initialize the Gradient Boosting Regressor\n",
    "gradient_boosting_model = GradientBoostingRegressor(n_estimators=100, learning_rate=0.1, max_depth=3, random_state=42)\n",
    "\n",
    "# Setup for cross-validation\n",
    "cv = KFold(n_splits=5, shuffle=True, random_state=42)\n",
    "\n",
    "# Perform cross-validation and print the mean results\n",
    "cv_scores = cross_val_score(gradient_boosting_model, X_train, y_train, cv=cv, scoring='neg_mean_squared_error')\n",
    "\n",
    "# Convert the scores to positive and calculate the mean\n",
    "cv_mean_mse = -cv_scores.mean()\n",
    "print(f'CV Mean MSE for Gradient Boosting: {cv_mean_mse}')\n",
    "\n",
    "# Fit the model on the training data\n",
    "gradient_boosting_model.fit(X_train, y_train)\n",
    "\n",
    "# Predict on test data\n",
    "y_pred_gb = gradient_boosting_model.predict(X_test)"
   ]
  },
  {
   "cell_type": "code",
   "execution_count": 31,
   "id": "047e2662",
   "metadata": {},
   "outputs": [
    {
     "name": "stdout",
     "output_type": "stream",
     "text": [
      "Gradient Boosting MSE: 115.10302510296961\n",
      "Gradient Boosting R^2: 0.5404712249975223\n",
      "Gradient Boosting RMSE: 10.728607789595518\n",
      "Gradient Boosting MAE: 8.521839739681484\n",
      "Gradient Boosting MAPE: 44.19977856235523%\n"
     ]
    }
   ],
   "source": [
    "# Evaluate the model\n",
    "mse_gb = mse(y_test, y_pred_gb)\n",
    "r2_gb = r2(y_test, y_pred_gb)\n",
    "rmse_gb = np.sqrt(mse_gb)\n",
    "mae_gb = mae(y_test, y_pred_gb)\n",
    "mape_gb = np.mean(np.abs((y_test - y_pred_gb) / y_test)) * 100\n",
    "\n",
    "print(f'Gradient Boosting MSE: {mse_gb}')\n",
    "print(f'Gradient Boosting R^2: {r2_gb}')\n",
    "print(f'Gradient Boosting RMSE: {rmse_gb}')\n",
    "print(f'Gradient Boosting MAE: {mae_gb}')\n",
    "print(f'Gradient Boosting MAPE: {mape_gb}%')"
   ]
  },
  {
   "cell_type": "markdown",
   "id": "830e3bc4",
   "metadata": {},
   "source": [
    "### 4.7.4 Decision Trees <a id=\"trees\"></a>"
   ]
  },
  {
   "cell_type": "markdown",
   "id": "afc63a34",
   "metadata": {},
   "source": [
    "Decision Trees are simpler than the previous models but can be very effective, particularly if the relationship between the features and the target is non-linear and complex. "
   ]
  },
  {
   "cell_type": "code",
   "execution_count": 32,
   "id": "bf205171",
   "metadata": {},
   "outputs": [
    {
     "name": "stdout",
     "output_type": "stream",
     "text": [
      "CV Mean MSE for Decision Tree: 179.21133415850537\n"
     ]
    }
   ],
   "source": [
    "from sklearn.tree import DecisionTreeRegressor\n",
    "\n",
    "# Initialize the Decision Tree Regressor\n",
    "decision_tree_model = DecisionTreeRegressor(max_depth=5, random_state=42)  \n",
    "\n",
    "# Setup for cross-validation\n",
    "cv = KFold(n_splits=5, shuffle=True, random_state=42)\n",
    "\n",
    "# Perform cross-validation and print the mean results\n",
    "cv_scores = cross_val_score(decision_tree_model, X_train, y_train, cv=cv, scoring='neg_mean_squared_error')\n",
    "\n",
    "# Convert the scores to positive and calculate the mean\n",
    "cv_mean_mse = -cv_scores.mean()\n",
    "print(f'CV Mean MSE for Decision Tree: {cv_mean_mse}')\n",
    "\n",
    "# Fit the model on the training data\n",
    "decision_tree_model.fit(X_train, y_train)\n",
    "\n",
    "# Predict on test data\n",
    "y_pred_dt = decision_tree_model.predict(X_test)"
   ]
  },
  {
   "cell_type": "code",
   "execution_count": 33,
   "id": "77c4bc6d",
   "metadata": {},
   "outputs": [
    {
     "name": "stdout",
     "output_type": "stream",
     "text": [
      "Decision Tree MSE: 156.86250355797927\n",
      "Decision Tree R^2: 0.37375378241070845\n",
      "Decision Tree RMSE: 12.524476178985662\n",
      "Decision Tree MAE: 9.998448860563231\n",
      "Decision Tree MAPE: 53.28319690533226%\n"
     ]
    }
   ],
   "source": [
    "# Evaluate the model\n",
    "mse_dt = mse(y_test, y_pred_dt)\n",
    "r2_dt = r2(y_test, y_pred_dt)\n",
    "rmse_dt = np.sqrt(mse_dt)\n",
    "mae_dt = mae(y_test, y_pred_dt)\n",
    "mape_dt = np.mean(np.abs((y_test - y_pred_dt) / y_test)) * 100\n",
    "\n",
    "print(f'Decision Tree MSE: {mse_dt}')\n",
    "print(f'Decision Tree R^2: {r2_dt}')\n",
    "print(f'Decision Tree RMSE: {rmse_dt}')\n",
    "print(f'Decision Tree MAE: {mae_dt}')\n",
    "print(f'Decision Tree MAPE: {mape_dt}%')"
   ]
  },
  {
   "cell_type": "markdown",
   "id": "b7404014",
   "metadata": {},
   "source": [
    "Looking at all the models, **Random Forest and Gradient Boosting are the top performers based on the metrics**. Both models have similar performance metrics, with **Gradient Boosting slightly edging out in terms of a lower Test MSE and RMSE, and a slightly higher R²**. Their MAE and MAPE are also comparable, and both models demonstrate better generalization ability (lower CV Mean MSE) compared to Linear Regression and Decision Tree."
   ]
  },
  {
   "cell_type": "markdown",
   "id": "9c510b0d",
   "metadata": {},
   "source": [
    "While Gradient Boosting slightly outperforms Random Forest in some metrics, the differences are not substantial enough to clearly favor one over the other based on performance alone. **Compared to Gradient Boosting, Random Forest is**: \n",
    "- **More interpretable**: feature importances are more easily gleaned\n",
    "- **Less sensitive to overfitting**: this is from the averaging of multiple decision trees \n",
    "- **Easier to tune**: this is due to having fewer hyperparameters that critically affect performance\n",
    "\n",
    "**To balance the need for a high-performing model with the practical considerations of explainability, we'll opt for the Random Forest model** as our best model to use. "
   ]
  },
  {
   "cell_type": "markdown",
   "id": "fa851243",
   "metadata": {},
   "source": [
    "## 4.8 Hyperparameter Tuning <a id=\"hyperparameter\"></a>"
   ]
  },
  {
   "cell_type": "markdown",
   "id": "a8b98a60",
   "metadata": {},
   "source": [
    "We'll now proceed with hyperparameter tuning of our Random Forest model. "
   ]
  },
  {
   "cell_type": "markdown",
   "id": "ef9f539d",
   "metadata": {},
   "source": [
    "### 4.8.1 Random Forest Model Hyperparameter Tuning <a id=\"rf_model_hyperparameter\"></a>"
   ]
  },
  {
   "cell_type": "markdown",
   "id": "fe87c099",
   "metadata": {},
   "source": [
    "#### **Step 1: Hyperparameter Tuning with GridSearchCV**\n",
    "\n",
    "First, let's fine-tune the Random Forest model using GridSearchCV to explore a range of parameter values. "
   ]
  },
  {
   "cell_type": "code",
   "execution_count": 34,
   "id": "09064c7f",
   "metadata": {},
   "outputs": [
    {
     "name": "stdout",
     "output_type": "stream",
     "text": [
      "Best parameters found: {'max_depth': None, 'n_estimators': 300}\n"
     ]
    }
   ],
   "source": [
    "from sklearn.ensemble import RandomForestRegressor\n",
    "from sklearn.model_selection import GridSearchCV\n",
    "from sklearn.metrics import make_scorer, mean_squared_error\n",
    "\n",
    "# Initialize the model\n",
    "rf = RandomForestRegressor(random_state=42)\n",
    "\n",
    "# Create a parameter grid\n",
    "param_grid = {\n",
    "    'n_estimators': [100, 200, 300],\n",
    "    'max_depth': [10, 20, 30, None]\n",
    "}\n",
    "\n",
    "# Define a scoring function\n",
    "scorer = make_scorer(mean_squared_error, greater_is_better=False)\n",
    "\n",
    "# Setup GridSearchCV\n",
    "grid_search = GridSearchCV(estimator=rf, param_grid=param_grid, scoring=scorer, cv=5)\n",
    "\n",
    "# Fit GridSearchCV\n",
    "grid_search.fit(X_train, y_train)\n",
    "\n",
    "# Best model\n",
    "best_rf = grid_search.best_estimator_\n",
    "print(f'Best parameters found: {grid_search.best_params_}')"
   ]
  },
  {
   "cell_type": "markdown",
   "id": "98d53b2e",
   "metadata": {},
   "source": [
    "#### **Step 2: Evaluating the Tuned Model**\n",
    "\n",
    "Now that we've identified the best parameters, we'll evaluate the tuned model on the test data. "
   ]
  },
  {
   "cell_type": "code",
   "execution_count": 35,
   "id": "403bdc54",
   "metadata": {},
   "outputs": [
    {
     "name": "stdout",
     "output_type": "stream",
     "text": [
      "Mean Squared Error: 113.72227194111112\n",
      "Mean Absolute Error: 8.396278148148149\n"
     ]
    }
   ],
   "source": [
    "from sklearn.metrics import mean_squared_error, mean_absolute_error\n",
    "\n",
    "# Predict on the test data\n",
    "y_pred = best_rf.predict(X_test)\n",
    "\n",
    "# Calculate MSE and MAE\n",
    "mse = mean_squared_error(y_test, y_pred)\n",
    "mae = mean_absolute_error(y_test, y_pred)\n",
    "\n",
    "print(f'Mean Squared Error: {mse}')\n",
    "print(f'Mean Absolute Error: {mae}')"
   ]
  },
  {
   "cell_type": "markdown",
   "id": "5b0d4a4c",
   "metadata": {},
   "source": [
    "These metrics are just slightly lower than the MSE and MAE of our initial Random Forest model prior to tuning (115.34752229777779 and 8.420846666666668), which indicates tuning the hyperparameters improved the model by a small margin. "
   ]
  },
  {
   "cell_type": "markdown",
   "id": "78bf8ef0",
   "metadata": {},
   "source": [
    "#### **Step 3: Visualizing Feature Importances**\n",
    "\n",
    "Now, let's create a bar graph to visualize the feature importances of the tuned Random Forest model. This will provide insights into which features are most influential in predicting the output."
   ]
  },
  {
   "cell_type": "code",
   "execution_count": 36,
   "id": "80ecb607",
   "metadata": {},
   "outputs": [
    {
     "data": {
      "image/png": "[encoded data removed]",
      "text/plain": [
       "<Figure size 1000x800 with 1 Axes>"
      ]
     },
     "metadata": {},
     "output_type": "display_data"
    }
   ],
   "source": [
    "import matplotlib.pyplot as plt\n",
    "import numpy as np\n",
    "\n",
    "# Get feature importances\n",
    "importances = best_rf.feature_importances_\n",
    "\n",
    "# Sort the feature importances in descending order\n",
    "indices = np.argsort(importances)[::-1]\n",
    "\n",
    "# Rearrange the feature names so they match the sorted feature importances\n",
    "names = [X_train.columns[i] for i in indices]\n",
    "\n",
    "# Create a bar plot\n",
    "plt.figure(figsize=(10, 8))\n",
    "plt.title(\"Feature Importances\")\n",
    "plt.barh(range(X_train.shape[1]), importances[indices], align='center')\n",
    "plt.yticks(range(X_train.shape[1]), names)\n",
    "plt.gca().invert_yaxis()  # Invert the y-axis to have the highest importance at the top\n",
    "plt.xlabel('Importance')\n",
    "plt.ylabel('Features')\n",
    "plt.show()"
   ]
  },
  {
   "cell_type": "markdown",
   "id": "4e8cc6c6",
   "metadata": {},
   "source": [
    "**The graph shows Child Poverty Rate as by far the most important feature for predicting test scores with our model**. There are lots of features here (33 to be exact), and most don't seem to have much relative importance to model predictive accuracy. Let's try experimenting with different feature reductions to see if we can simplify our model without losing too much predictive power. "
   ]
  },
  {
   "cell_type": "markdown",
   "id": "29fdc2e1",
   "metadata": {},
   "source": [
    "### 4.8.2 Features Amount Experiments <a id=\"features_experiments\"></a>"
   ]
  },
  {
   "cell_type": "code",
   "execution_count": 37,
   "id": "dda76bc4",
   "metadata": {},
   "outputs": [
    {
     "name": "stdout",
     "output_type": "stream",
     "text": [
      "113.79725743617286\n"
     ]
    }
   ],
   "source": [
    "# Experiment 1: 15 Features\n",
    "\n",
    "from sklearn.feature_selection import RFE\n",
    "\n",
    "# Initialize the RFE object, using your RF model as the estimator\n",
    "selector = RFE(estimator=best_rf, n_features_to_select=15, step=1)\n",
    "selector = selector.fit(X_train, y_train)\n",
    "\n",
    "# Transform training and test data\n",
    "X_train_reduced = selector.transform(X_train)\n",
    "X_test_reduced = selector.transform(X_test)\n",
    "\n",
    "# Re-fit the model on reduced data and evaluate it\n",
    "best_rf.fit(X_train_reduced, y_train)\n",
    "y_pred_reduced = best_rf.predict(X_test_reduced)\n",
    "print(mean_squared_error(y_test, y_pred_reduced))"
   ]
  },
  {
   "cell_type": "code",
   "execution_count": 38,
   "id": "b30f3533",
   "metadata": {},
   "outputs": [
    {
     "name": "stdout",
     "output_type": "stream",
     "text": [
      "117.88159495185187\n"
     ]
    }
   ],
   "source": [
    "# Experiment 2: 12 Features\n",
    "\n",
    "from sklearn.feature_selection import RFE\n",
    "\n",
    "# Initialize the RFE object, using your RF model as the estimator\n",
    "selector = RFE(estimator=best_rf, n_features_to_select=12, step=1)\n",
    "selector = selector.fit(X_train, y_train)\n",
    "\n",
    "# Transform training and test data\n",
    "X_train_reduced = selector.transform(X_train)\n",
    "X_test_reduced = selector.transform(X_test)\n",
    "\n",
    "# Re-fit the model on reduced data and evaluate it\n",
    "best_rf.fit(X_train_reduced, y_train)\n",
    "y_pred_reduced = best_rf.predict(X_test_reduced)\n",
    "print(mean_squared_error(y_test, y_pred_reduced))"
   ]
  },
  {
   "cell_type": "code",
   "execution_count": 39,
   "id": "72085deb",
   "metadata": {},
   "outputs": [
    {
     "name": "stdout",
     "output_type": "stream",
     "text": [
      "117.02633929518517\n"
     ]
    }
   ],
   "source": [
    "# Experiment 3: 10 Features\n",
    "\n",
    "from sklearn.feature_selection import RFE\n",
    "\n",
    "# Initialize the RFE object, using your RF model as the estimator\n",
    "selector = RFE(estimator=best_rf, n_features_to_select=10, step=1)\n",
    "selector = selector.fit(X_train, y_train)\n",
    "\n",
    "# Transform training and test data\n",
    "X_train_reduced = selector.transform(X_train)\n",
    "X_test_reduced = selector.transform(X_test)\n",
    "\n",
    "# Re-fit the model on reduced data and evaluate it\n",
    "best_rf.fit(X_train_reduced, y_train)\n",
    "y_pred_reduced = best_rf.predict(X_test_reduced)\n",
    "print(mean_squared_error(y_test, y_pred_reduced))"
   ]
  },
  {
   "cell_type": "markdown",
   "id": "e96657ce",
   "metadata": {},
   "source": [
    "12 features shows the worst MSE of the three experiments. 15 features shows the lowest MSE which is also the same MSE to our original 33 feature model, but using 10 features might be preferable to this if the practical difference between these two model options is negligible.  "
   ]
  },
  {
   "cell_type": "code",
   "execution_count": 40,
   "id": "ad8097a1",
   "metadata": {},
   "outputs": [
    {
     "name": "stdout",
     "output_type": "stream",
     "text": [
      "Original RMSE: 10.66798028041547\n",
      "Updated RMSE: 10.8202377364574\n",
      "Difference in RMSE: 0.15225745604193008\n"
     ]
    }
   ],
   "source": [
    "original_rmse = np.sqrt(113.80580326333335) # 15 Features Option (same MSE as original 33 features model)\n",
    "updated_rmse = np.sqrt(117.07754467345679) # 10 Features Option\n",
    "difference_in_rmse = updated_rmse - original_rmse\n",
    "\n",
    "print(\"Original RMSE:\", original_rmse)\n",
    "print(\"Updated RMSE:\", updated_rmse)\n",
    "print(\"Difference in RMSE:\", difference_in_rmse)"
   ]
  },
  {
   "cell_type": "markdown",
   "id": "3dd936be",
   "metadata": {},
   "source": [
    "A difference of 0.15 in the RMSE, which translates to approximately 0.15 point less accuracy per student, is negligible, especially in the context of educational testing where the scores range from 0 to 100. **This slight increase in RMSE suggests that the predictive accuracy of our model has been minimally impacted by the reduction of features.**"
   ]
  },
  {
   "cell_type": "markdown",
   "id": "63dc9d2d",
   "metadata": {},
   "source": [
    "Let's revisit the hyperparameter tuning steps with our now reduced set of 10 features. This will ensure that the model is finely tuned to the selected subset of features, potentially yielding different optimal hyperparameter settings than those determined with the full feature set. "
   ]
  },
  {
   "cell_type": "markdown",
   "id": "8f6dc121",
   "metadata": {},
   "source": [
    "### 4.8.3 Retune Hyperparameters with Reduced Feature Set <a id=\"hyperparameter_reduced_features\"></a>"
   ]
  },
  {
   "cell_type": "markdown",
   "id": "c34e6ddc",
   "metadata": {},
   "source": [
    "#### **Step 1: Hyperparameter Tuning with GridSearchCV**"
   ]
  },
  {
   "cell_type": "code",
   "execution_count": 41,
   "id": "84482c22",
   "metadata": {},
   "outputs": [
    {
     "name": "stdout",
     "output_type": "stream",
     "text": [
      "Fitting 5 folds for each of 108 candidates, totalling 540 fits\n",
      "Best parameters found: {'max_depth': 30, 'min_samples_leaf': 1, 'min_samples_split': 2, 'n_estimators': 300}\n",
      "Best CV score: 135.88744837021227\n"
     ]
    }
   ],
   "source": [
    "from sklearn.ensemble import RandomForestRegressor\n",
    "from sklearn.model_selection import GridSearchCV\n",
    "\n",
    "# Initialize the model\n",
    "rf = RandomForestRegressor(random_state=42)\n",
    "\n",
    "# Create a parameter grid\n",
    "param_grid = {\n",
    "    'n_estimators': [100, 200, 300],  \n",
    "    'max_depth': [None, 10, 20, 30],\n",
    "    'min_samples_split': [2, 5, 10],\n",
    "    'min_samples_leaf': [1, 2, 4]\n",
    "}\n",
    "\n",
    "# Setup GridSearchCV\n",
    "grid_search = GridSearchCV(estimator=rf, param_grid=param_grid, cv=5, scoring='neg_mean_squared_error', verbose=1)\n",
    "\n",
    "# Fit GridSearchCV\n",
    "grid_search.fit(X_train_reduced, y_train)\n",
    "\n",
    "# Print the best parameters and best score\n",
    "print(f'Best parameters found: {grid_search.best_params_}')\n",
    "print(f'Best CV score: {-grid_search.best_score_}')"
   ]
  },
  {
   "cell_type": "markdown",
   "id": "1bfa4541",
   "metadata": {},
   "source": [
    "#### **Step 2: Evaluating the Tuned Model**"
   ]
  },
  {
   "cell_type": "code",
   "execution_count": 53,
   "id": "828046e0",
   "metadata": {},
   "outputs": [
    {
     "name": "stdout",
     "output_type": "stream",
     "text": [
      "MSE: 116.90479197315888\n",
      "MAE: 8.50256817651733\n",
      "R^2: 0.5332779846638522\n",
      "RMSE: 10.812251938109789\n"
     ]
    }
   ],
   "source": [
    "# Use the best estimator to make predictions\n",
    "y_pred = grid_search.best_estimator_.predict(X_test_reduced)\n",
    "\n",
    "# Calculate performance metrics\n",
    "from sklearn.metrics import r2_score as r2\n",
    "from sklearn.metrics import mean_absolute_error as mae\n",
    "from sklearn.metrics import mean_squared_error as mse\n",
    "import math\n",
    "\n",
    "rmse = math.sqrt(mse(y_test, y_pred))\n",
    "\n",
    "print(f'MSE: {mse(y_test, y_pred)}')\n",
    "print(f'MAE: {mae(y_test, y_pred)}')\n",
    "print(f'R^2: {r2(y_test, y_pred)}')\n",
    "print(f'RMSE: {rmse}')"
   ]
  },
  {
   "cell_type": "markdown",
   "id": "9b6fe645",
   "metadata": {},
   "source": [
    "#### **Step 3: Visualizing Feature Importances**"
   ]
  },
  {
   "cell_type": "code",
   "execution_count": 43,
   "id": "2e400690",
   "metadata": {},
   "outputs": [
    {
     "data": {
      "image/png": "[encoded data removed]",
      "text/plain": [
       "<Figure size 1000x600 with 1 Axes>"
      ]
     },
     "metadata": {},
     "output_type": "display_data"
    }
   ],
   "source": [
    "import matplotlib.pyplot as plt\n",
    "import numpy as np\n",
    "\n",
    "\n",
    "feature_importances = grid_search.best_estimator_.feature_importances_\n",
    "# Get the indices of the features that were selected\n",
    "selected_indices = selector.get_support(indices=True)\n",
    "# Get the names of the features that were selected\n",
    "selected_feature_names = X_train.columns[selected_indices]\n",
    "\n",
    "# Sort the feature importances in descending order and adjust the indices\n",
    "sorted_indices = np.argsort(feature_importances)[::-1]\n",
    "\n",
    "# Plot\n",
    "plt.figure(figsize=(10, 6))\n",
    "plt.title('Feature Importances')\n",
    "plt.barh(range(len(sorted_indices)), feature_importances[sorted_indices], align='center')\n",
    "plt.yticks(range(len(sorted_indices)), selected_feature_names[sorted_indices])\n",
    "plt.gca().invert_yaxis()  # This inverts the plot so the most important are at the top\n",
    "plt.xlabel('Importance')\n",
    "plt.ylabel('Features')\n",
    "plt.show()"
   ]
  },
  {
   "cell_type": "markdown",
   "id": "3378da37",
   "metadata": {},
   "source": [
    "## 4.9 Best Model <a id=\"bestmodel\"></a>"
   ]
  },
  {
   "cell_type": "code",
   "execution_count": 44,
   "id": "4e30e8d8",
   "metadata": {},
   "outputs": [
    {
     "data": {
      "text/plain": [
       "['optimized_random_forest.joblib']"
      ]
     },
     "execution_count": 44,
     "metadata": {},
     "output_type": "execute_result"
    }
   ],
   "source": [
    "from joblib import dump\n",
    "\n",
    "\n",
    "# grid_search is the GridSearchCV object\n",
    "best_rf = grid_search.best_estimator_\n",
    "\n",
    "# Save the optimized and trained Random Forest model\n",
    "dump(best_rf, 'optimized_random_forest.joblib')"
   ]
  },
  {
   "cell_type": "markdown",
   "id": "efdcace5",
   "metadata": {},
   "source": [
    "**Our best model was achieved with Random Forest**. We started with tuning hyperparameters on the full 33 features, then narrowed this down to 10 features and re-tuned our hyperparameters using GridSearchCV. Our best parameters that lowered our MSE were: \n",
    "\n",
    "- max_depth: 30\n",
    "- min_samples_leaf: 1\n",
    "- min_samples_split: 2 \n",
    "- n_estimators: 300"
   ]
  },
  {
   "cell_type": "markdown",
   "id": "1f544f65",
   "metadata": {},
   "source": [
    "## 4.10 Summary <a id=\"summary\"></a>"
   ]
  },
  {
   "cell_type": "markdown",
   "id": "434143fe",
   "metadata": {},
   "source": [
    "This project involved developing a predictive model for high school standardized test scores on a school district level. We began with our training and testing data from our prior notebook and then evaluated multiple models including Linear Regression, Random Forest, Gradient Boosting, and Decision Tree to determine which yielded the highest performance. \n",
    "\n",
    "The **Random Forest model was identified as the best model** through comprehensive evaluation, including cross-validation and hyperparameter tuning. It achieved an MSE of 115.35 on the test set, with a minimal decrease in RMSE (0.15 points) when reduced from the full set of features to the top 10 most important features. After hyperparameter tuning on the reduced feature set, the model achieved an MSE of 116.9, an MAE of 8.5, an R-Squared 0.53, and an RMSE of 10.8. \n",
    "\n",
    "The feature importance analysis revealed that **variables such as Child Poverty Rate, Federal Funding Per Attended Student, and Participation Rate (rate of participating in taking standardized tests) are crucial in predicting test scores, emphasizing the impact of socioeconomic factors and resource allocation on educational outcomes**. Teacher Quality and Median Income also showed among the most important predictive variables. \n",
    "\n",
    "The final Random Forest model strikes a balance between predictive accuracy and model simplicity, making it suitable for use by both technical and non-technical stakeholders."
   ]
  }
 ],
 "metadata": {
  "kernelspec": {
   "display_name": "Python 3 (ipykernel)",
   "language": "python",
   "name": "python3"
  },
  "language_info": {
   "codemirror_mode": {
    "name": "ipython",
    "version": 3
   },
   "file_extension": ".py",
   "mimetype": "text/x-python",
   "name": "python",
   "nbconvert_exporter": "python",
   "pygments_lexer": "ipython3",
   "version": "3.11.5"
  }
 },
 "nbformat": 4,
 "nbformat_minor": 5
}
