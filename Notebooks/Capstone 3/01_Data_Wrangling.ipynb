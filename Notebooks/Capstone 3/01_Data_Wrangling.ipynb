{
 "cells": [
  {
   "cell_type": "markdown",
   "id": "7357d71e",
   "metadata": {},
   "source": [
    "# 1 Data Wrangling <a id=\"data_wrangling\"></a>"
   ]
  },
  {
   "cell_type": "markdown",
   "id": "c562af52",
   "metadata": {},
   "source": [
    "## Table of Contents  <a id=\"contents\"></a>"
   ]
  },
  {
   "cell_type": "markdown",
   "id": "0f40c9f9",
   "metadata": {},
   "source": [
    "<a id=\"contents\"></a>\n",
    "## 1.1 Table of Contents"
   ]
  },
  {
   "cell_type": "markdown",
   "id": "e6028e67",
   "metadata": {},
   "source": [
    "- [1 Data Wrangling](#data_wrangling)\n",
    "  - [1.1 Contents](#contents)\n",
    "  - [1.2 Introduction](#introduction)\n",
    "  - [1.3 Imports](#imports)\n",
    "  - [1.4 Load the Data](#dataload)\n",
    "  - [1.5 Dataset Cleaning](#dataset_cleaning)\n",
    "      - [1.5.1 Timestamp Conversion & Feature Extraction](#timestamp)\n",
    "      - [1.5.2 Categorical Data Check](#categorical)\n",
    "      - [1.5.3 Data Integrity Check](#data_integrity)\n",
    "  - [1.6 Distributions](#distributions)\n",
    "  - [1.7 Save Data](#save_data)"
   ]
  },
  {
   "cell_type": "markdown",
   "id": "cd4e24fa",
   "metadata": {},
   "source": [
    "\n",
    "## 1.2 Introduction<a id=\"introduction\"></a>"
   ]
  },
  {
   "cell_type": "markdown",
   "id": "6ac234ae",
   "metadata": {},
   "source": [
    "### Problem:"
   ]
  },
  {
   "cell_type": "markdown",
   "id": "92f92e04",
   "metadata": {},
   "source": [
    "With the rapid growth of the Metaverse, financial transactions in virtual environments have increased significantly. However, this also introduces new avenues for fraudulent transactions. Unlike traditional banking systems, transactions in the Metaverse lack stringent regulatory frameworks, making them prone to fraud. This project aims to develop a predictive model that identifies and flags potential fraudulent transactions within the Metaverse."
   ]
  },
  {
   "cell_type": "markdown",
   "id": "4fb1c86c",
   "metadata": {},
   "source": [
    "### Project: "
   ]
  },
  {
   "cell_type": "markdown",
   "id": "8d87f852",
   "metadata": {},
   "source": [
    "The solution will focus on building a machine learning model that uses pattern recognition and anomaly detection techniques to identify irregular transaction behaviors that deviate from the norm.\n",
    "\n",
    "The success of the project will be measured by the model’s accuracy in identifying fraudulent transactions, the reduction in false positives, and its adaptability to new, unknown types of fraud that may evolve as the Metaverse grows."
   ]
  },
  {
   "cell_type": "markdown",
   "id": "c319228e",
   "metadata": {},
   "source": [
    "### Clients: "
   ]
  },
  {
   "cell_type": "markdown",
   "id": "6aa32e02",
   "metadata": {},
   "source": [
    "The primary stakeholders are financial regulators within the Metaverse, virtual asset service providers, and end-users who engage in transactions within the Metaverse. Secondary stakeholders include researchers and developers working on digital security solutions."
   ]
  },
  {
   "cell_type": "markdown",
   "id": "8c0035d2",
   "metadata": {},
   "source": [
    "### Data: "
   ]
  },
  {
   "cell_type": "markdown",
   "id": "2cbd197c",
   "metadata": {},
   "source": [
    "Data will be sourced from Metaverse platforms that record transaction details such as user IDs, transaction amounts, timestamps, and asset types. This data will be accessed through a Kaggle Dataset called \"Metaverse Financial Transactions Dataset\": https://www.kaggle.com/datasets/faizaniftikharjanjua/metaverse-financial-transactions-dataset \n",
    "\n"
   ]
  },
  {
   "cell_type": "markdown",
   "id": "9c05b39f",
   "metadata": {},
   "source": [
    "## 1.3 Imports <a id=\"imports\"></a>"
   ]
  },
  {
   "cell_type": "code",
   "execution_count": 31,
   "id": "eb40c197",
   "metadata": {},
   "outputs": [],
   "source": [
    "import pandas as pd\n",
    "import numpy as np\n",
    "import os\n",
    "import pickle\n",
    "import matplotlib.pyplot as plt\n",
    "import matplotlib.ticker as ticker\n",
    "import seaborn as sns"
   ]
  },
  {
   "cell_type": "markdown",
   "id": "e9ae70af",
   "metadata": {},
   "source": [
    "## 1.4 Load the Data <a id='dataload'></a>"
   ]
  },
  {
   "cell_type": "code",
   "execution_count": 32,
   "id": "68fa8c3f",
   "metadata": {},
   "outputs": [],
   "source": [
    "df = pd.read_csv('/Users/joshuabe/Downloads/Capstone 3 - Metaverse Fraud Prediction/metaverse_transactions_dataset.csv')"
   ]
  },
  {
   "cell_type": "code",
   "execution_count": 33,
   "id": "00ec1ee0",
   "metadata": {},
   "outputs": [
    {
     "data": {
      "text/html": [
       "<div>\n",
       "<style scoped>\n",
       "    .dataframe tbody tr th:only-of-type {\n",
       "        vertical-align: middle;\n",
       "    }\n",
       "\n",
       "    .dataframe tbody tr th {\n",
       "        vertical-align: top;\n",
       "    }\n",
       "\n",
       "    .dataframe thead th {\n",
       "        text-align: right;\n",
       "    }\n",
       "</style>\n",
       "<table border=\"1\" class=\"dataframe\">\n",
       "  <thead>\n",
       "    <tr style=\"text-align: right;\">\n",
       "      <th></th>\n",
       "      <th>timestamp</th>\n",
       "      <th>hour_of_day</th>\n",
       "      <th>sending_address</th>\n",
       "      <th>receiving_address</th>\n",
       "      <th>amount</th>\n",
       "      <th>transaction_type</th>\n",
       "      <th>location_region</th>\n",
       "      <th>ip_prefix</th>\n",
       "      <th>login_frequency</th>\n",
       "      <th>session_duration</th>\n",
       "      <th>purchase_pattern</th>\n",
       "      <th>age_group</th>\n",
       "      <th>risk_score</th>\n",
       "      <th>anomaly</th>\n",
       "    </tr>\n",
       "  </thead>\n",
       "  <tbody>\n",
       "    <tr>\n",
       "      <th>0</th>\n",
       "      <td>2022-04-11 12:47:27</td>\n",
       "      <td>12</td>\n",
       "      <td>0x9d32d0bf2c00f41ce7ca01b66e174cc4dcb0c1da</td>\n",
       "      <td>0x39f82e1c09bc6d7baccc1e79e5621ff812f50572</td>\n",
       "      <td>796.949206</td>\n",
       "      <td>transfer</td>\n",
       "      <td>Europe</td>\n",
       "      <td>192.000</td>\n",
       "      <td>3</td>\n",
       "      <td>48</td>\n",
       "      <td>focused</td>\n",
       "      <td>established</td>\n",
       "      <td>18.75</td>\n",
       "      <td>low_risk</td>\n",
       "    </tr>\n",
       "    <tr>\n",
       "      <th>1</th>\n",
       "      <td>2022-06-14 19:12:46</td>\n",
       "      <td>19</td>\n",
       "      <td>0xd6e251c23cbf52dbd472f079147873e655d8096f</td>\n",
       "      <td>0x51e8fbe24f124e0e30a614e14401b9bbfed5384c</td>\n",
       "      <td>0.010000</td>\n",
       "      <td>purchase</td>\n",
       "      <td>South America</td>\n",
       "      <td>172.000</td>\n",
       "      <td>5</td>\n",
       "      <td>61</td>\n",
       "      <td>focused</td>\n",
       "      <td>established</td>\n",
       "      <td>25.00</td>\n",
       "      <td>low_risk</td>\n",
       "    </tr>\n",
       "    <tr>\n",
       "      <th>2</th>\n",
       "      <td>2022-01-18 16:26:59</td>\n",
       "      <td>16</td>\n",
       "      <td>0x2e0925b922fed01f6a85d213ae2718f54b8ca305</td>\n",
       "      <td>0x52c7911879f783d590af45bda0c0ef2b8536706f</td>\n",
       "      <td>778.197390</td>\n",
       "      <td>purchase</td>\n",
       "      <td>Asia</td>\n",
       "      <td>192.168</td>\n",
       "      <td>3</td>\n",
       "      <td>74</td>\n",
       "      <td>focused</td>\n",
       "      <td>established</td>\n",
       "      <td>31.25</td>\n",
       "      <td>low_risk</td>\n",
       "    </tr>\n",
       "    <tr>\n",
       "      <th>3</th>\n",
       "      <td>2022-06-15 09:20:04</td>\n",
       "      <td>9</td>\n",
       "      <td>0x93efefc25fcaf31d7695f28018d7a11ece55457f</td>\n",
       "      <td>0x8ac3b7bd531b3a833032f07d4e47c7af6ea7bace</td>\n",
       "      <td>300.838358</td>\n",
       "      <td>transfer</td>\n",
       "      <td>South America</td>\n",
       "      <td>172.000</td>\n",
       "      <td>8</td>\n",
       "      <td>111</td>\n",
       "      <td>high_value</td>\n",
       "      <td>veteran</td>\n",
       "      <td>36.75</td>\n",
       "      <td>low_risk</td>\n",
       "    </tr>\n",
       "    <tr>\n",
       "      <th>4</th>\n",
       "      <td>2022-02-18 14:35:30</td>\n",
       "      <td>14</td>\n",
       "      <td>0xad3b8de45d63f5cce28aef9a82cf30c397c6ceb9</td>\n",
       "      <td>0x6fdc047c2391615b3facd79b4588c7e9106e49f2</td>\n",
       "      <td>775.569344</td>\n",
       "      <td>sale</td>\n",
       "      <td>Africa</td>\n",
       "      <td>172.160</td>\n",
       "      <td>6</td>\n",
       "      <td>100</td>\n",
       "      <td>high_value</td>\n",
       "      <td>veteran</td>\n",
       "      <td>62.50</td>\n",
       "      <td>moderate_risk</td>\n",
       "    </tr>\n",
       "  </tbody>\n",
       "</table>\n",
       "</div>"
      ],
      "text/plain": [
       "             timestamp  hour_of_day  \\\n",
       "0  2022-04-11 12:47:27           12   \n",
       "1  2022-06-14 19:12:46           19   \n",
       "2  2022-01-18 16:26:59           16   \n",
       "3  2022-06-15 09:20:04            9   \n",
       "4  2022-02-18 14:35:30           14   \n",
       "\n",
       "                              sending_address  \\\n",
       "0  0x9d32d0bf2c00f41ce7ca01b66e174cc4dcb0c1da   \n",
       "1  0xd6e251c23cbf52dbd472f079147873e655d8096f   \n",
       "2  0x2e0925b922fed01f6a85d213ae2718f54b8ca305   \n",
       "3  0x93efefc25fcaf31d7695f28018d7a11ece55457f   \n",
       "4  0xad3b8de45d63f5cce28aef9a82cf30c397c6ceb9   \n",
       "\n",
       "                            receiving_address      amount transaction_type  \\\n",
       "0  0x39f82e1c09bc6d7baccc1e79e5621ff812f50572  796.949206         transfer   \n",
       "1  0x51e8fbe24f124e0e30a614e14401b9bbfed5384c    0.010000         purchase   \n",
       "2  0x52c7911879f783d590af45bda0c0ef2b8536706f  778.197390         purchase   \n",
       "3  0x8ac3b7bd531b3a833032f07d4e47c7af6ea7bace  300.838358         transfer   \n",
       "4  0x6fdc047c2391615b3facd79b4588c7e9106e49f2  775.569344             sale   \n",
       "\n",
       "  location_region  ip_prefix  login_frequency  session_duration  \\\n",
       "0          Europe    192.000                3                48   \n",
       "1   South America    172.000                5                61   \n",
       "2            Asia    192.168                3                74   \n",
       "3   South America    172.000                8               111   \n",
       "4          Africa    172.160                6               100   \n",
       "\n",
       "  purchase_pattern    age_group  risk_score        anomaly  \n",
       "0          focused  established       18.75       low_risk  \n",
       "1          focused  established       25.00       low_risk  \n",
       "2          focused  established       31.25       low_risk  \n",
       "3       high_value      veteran       36.75       low_risk  \n",
       "4       high_value      veteran       62.50  moderate_risk  "
      ]
     },
     "execution_count": 33,
     "metadata": {},
     "output_type": "execute_result"
    }
   ],
   "source": [
    "df.head()"
   ]
  },
  {
   "cell_type": "markdown",
   "id": "3ec0503f",
   "metadata": {},
   "source": [
    "## 1.5 Dataset Cleaning <a id='dataset_cleaning'></a>"
   ]
  },
  {
   "cell_type": "code",
   "execution_count": 34,
   "id": "c9f5c3bd",
   "metadata": {},
   "outputs": [
    {
     "name": "stdout",
     "output_type": "stream",
     "text": [
      "<class 'pandas.core.frame.DataFrame'>\n",
      "RangeIndex: 78600 entries, 0 to 78599\n",
      "Data columns (total 14 columns):\n",
      " #   Column             Non-Null Count  Dtype  \n",
      "---  ------             --------------  -----  \n",
      " 0   timestamp          78600 non-null  object \n",
      " 1   hour_of_day        78600 non-null  int64  \n",
      " 2   sending_address    78600 non-null  object \n",
      " 3   receiving_address  78600 non-null  object \n",
      " 4   amount             78600 non-null  float64\n",
      " 5   transaction_type   78600 non-null  object \n",
      " 6   location_region    78600 non-null  object \n",
      " 7   ip_prefix          78600 non-null  float64\n",
      " 8   login_frequency    78600 non-null  int64  \n",
      " 9   session_duration   78600 non-null  int64  \n",
      " 10  purchase_pattern   78600 non-null  object \n",
      " 11  age_group          78600 non-null  object \n",
      " 12  risk_score         78600 non-null  float64\n",
      " 13  anomaly            78600 non-null  object \n",
      "dtypes: float64(3), int64(3), object(8)\n",
      "memory usage: 8.4+ MB\n"
     ]
    }
   ],
   "source": [
    "# Check the total number of rows, datatypes of each column, and non-null counts per column\n",
    "df.info()"
   ]
  },
  {
   "cell_type": "markdown",
   "id": "fc9f2bf4",
   "metadata": {},
   "source": [
    "We have a dataset with 14 columns and 78,600 rows with a mix of datatypes. This should be more than enough data to derive meaningful insights and feed into a built model later. "
   ]
  },
  {
   "cell_type": "code",
   "execution_count": 35,
   "id": "5791c756",
   "metadata": {},
   "outputs": [
    {
     "data": {
      "text/plain": [
       "timestamp            0\n",
       "hour_of_day          0\n",
       "sending_address      0\n",
       "receiving_address    0\n",
       "amount               0\n",
       "transaction_type     0\n",
       "location_region      0\n",
       "ip_prefix            0\n",
       "login_frequency      0\n",
       "session_duration     0\n",
       "purchase_pattern     0\n",
       "age_group            0\n",
       "risk_score           0\n",
       "anomaly              0\n",
       "dtype: int64"
      ]
     },
     "execution_count": 35,
     "metadata": {},
     "output_type": "execute_result"
    }
   ],
   "source": [
    "# Check for any missing values across the dataset\n",
    "df.isna().sum()"
   ]
  },
  {
   "cell_type": "markdown",
   "id": "44bf5b63",
   "metadata": {},
   "source": [
    "There are no missing values across any of the features, which is good to see. "
   ]
  },
  {
   "cell_type": "markdown",
   "id": "b7587dfc",
   "metadata": {},
   "source": [
    "### 1.5.1 Timestamp Conversion & Feature Extraction <a id='timestamp'></a>"
   ]
  },
  {
   "cell_type": "markdown",
   "id": "25c104c8",
   "metadata": {},
   "source": [
    "Let's now convert the timestamp field to datetime and extract additional time-related features. "
   ]
  },
  {
   "cell_type": "code",
   "execution_count": 36,
   "id": "72655685",
   "metadata": {},
   "outputs": [],
   "source": [
    "# Convert 'timestamp' from object type to datetime type\n",
    "df['timestamp'] = pd.to_datetime(df['timestamp'])\n",
    "\n",
    "# Generate additional time-related features: day of week and month from the timestamp\n",
    "df['day_of_week'] = df['timestamp'].dt.dayofweek\n",
    "df['month'] = df['timestamp'].dt.month"
   ]
  },
  {
   "cell_type": "markdown",
   "id": "541553b0",
   "metadata": {},
   "source": [
    "The timestamp column has been successfully converted to a datetime format. Additional time-related features like the day of the week and month have been extracted."
   ]
  },
  {
   "cell_type": "markdown",
   "id": "9d5f5959",
   "metadata": {},
   "source": [
    "### 1.5.2 Categorical Data Check <a id='categorical'></a>"
   ]
  },
  {
   "cell_type": "code",
   "execution_count": 37,
   "id": "1050b4c0",
   "metadata": {},
   "outputs": [
    {
     "data": {
      "text/plain": [
       "(array(['transfer', 'purchase', 'sale', 'phishing', 'scam'], dtype=object),\n",
       " array(['Europe', 'South America', 'Asia', 'Africa', 'North America'],\n",
       "       dtype=object),\n",
       " array(['focused', 'high_value', 'random'], dtype=object),\n",
       " array(['established', 'veteran', 'new'], dtype=object),\n",
       " array(['low_risk', 'moderate_risk', 'high_risk'], dtype=object))"
      ]
     },
     "execution_count": 37,
     "metadata": {},
     "output_type": "execute_result"
    }
   ],
   "source": [
    "# Check unique values in categorical fields to identify any placeholders that might indicate missing data\n",
    "unique_transaction_types = df['transaction_type'].unique()\n",
    "unique_locations = df['location_region'].unique()\n",
    "unique_patterns = df['purchase_pattern'].unique()\n",
    "unique_age_groups = df['age_group'].unique()\n",
    "unique_anomalies = df['anomaly'].unique()\n",
    "\n",
    "unique_transaction_types, unique_locations, unique_patterns, unique_age_groups, unique_anomalies"
   ]
  },
  {
   "cell_type": "markdown",
   "id": "e4e4c3f9",
   "metadata": {},
   "source": [
    "**Categorical Data Overview**:\n",
    "\n",
    "- **Transaction Types**: Includes 'transfer', 'purchase', 'sale', 'phishing', and 'scam'.\n",
    "- **Location Regions**: Contains 'Europe', 'South America', 'Asia', 'Africa', and 'North America'.\n",
    "- **Purchase Patterns**: Comprises 'focused', 'high_value', and 'random'.\n",
    "- **Age Groups**: Encompasses 'established', 'veteran', and 'new'.\n",
    "- **Anomaly Levels**: Features 'low_risk', 'moderate_risk', and 'high_risk'."
   ]
  },
  {
   "cell_type": "markdown",
   "id": "3b4e0e76",
   "metadata": {},
   "source": [
    "Now let's check for imbalanced data classes, which can be particularly common in fraud detection datasets. "
   ]
  },
  {
   "cell_type": "code",
   "execution_count": 38,
   "id": "2064a71f",
   "metadata": {},
   "outputs": [
    {
     "name": "stdout",
     "output_type": "stream",
     "text": [
      "Counts for transaction_type:\n",
      "transaction_type\n",
      "sale        25040\n",
      "purchase    24940\n",
      "transfer    22125\n",
      "scam         3949\n",
      "phishing     2546\n",
      "Name: count, dtype: int64\n",
      "\n",
      "Counts for location_region:\n",
      "location_region\n",
      "North America    15840\n",
      "Europe           15807\n",
      "Asia             15731\n",
      "South America    15669\n",
      "Africa           15553\n",
      "Name: count, dtype: int64\n",
      "\n",
      "Counts for purchase_pattern:\n",
      "purchase_pattern\n",
      "high_value    26422\n",
      "random        26145\n",
      "focused       26033\n",
      "Name: count, dtype: int64\n",
      "\n",
      "Counts for age_group:\n",
      "age_group\n",
      "veteran        26422\n",
      "new            26145\n",
      "established    26033\n",
      "Name: count, dtype: int64\n",
      "\n",
      "Counts for anomaly:\n",
      "anomaly\n",
      "low_risk         63494\n",
      "moderate_risk     8611\n",
      "high_risk         6495\n",
      "Name: count, dtype: int64\n",
      "\n"
     ]
    }
   ],
   "source": [
    "# Counting the number of times each category appears in specified columns\n",
    "category_counts = {\n",
    "    \"transaction_type\": df['transaction_type'].value_counts(),\n",
    "    \"location_region\": df['location_region'].value_counts(),\n",
    "    \"purchase_pattern\": df['purchase_pattern'].value_counts(),\n",
    "    \"age_group\": df['age_group'].value_counts(),\n",
    "    \"anomaly\": df['anomaly'].value_counts()\n",
    "}\n",
    "\n",
    "# Printing the results for each category\n",
    "for category, counts in category_counts.items():\n",
    "    print(f\"Counts for {category}:\\n{counts}\\n\")"
   ]
  },
  {
   "cell_type": "markdown",
   "id": "5fd778ec",
   "metadata": {},
   "source": [
    "Many of these categories appear to be balanced and representative of real-world fraud applications. \n",
    "\n",
    "- **For Transaction Types**, we have just 5% of the total showing as scams, amd 3% showing as phishing, which is representative of real-world data. The remaining 92% of transaction types are legitimate (sales, purchases, and transfers). \n",
    "- **For Purchase Patterns**, these are incredibly balanced, with roughly 26k values showing for high_value, random, and focused. \n",
    "- **For Age Groups**, these are also well balanced, with roughly 26k values showing for new, established, and veteran. \n",
    "- **For Anomaly**, 81% of values represent low risk, 11% of the values represent transactions with moderate risk, and just 8% of values represent high risk. These numbers seem representative of real-world fraud data risk classifications, where the large majority of transactions fall into the low risk category and only a minority falling into the moderate or high risk bucket. "
   ]
  },
  {
   "cell_type": "markdown",
   "id": "23c431f7",
   "metadata": {},
   "source": [
    "### 1.5.3 Data Integrity Check <a id='data_integrity'></a>"
   ]
  },
  {
   "cell_type": "code",
   "execution_count": 39,
   "id": "3b6cbd05",
   "metadata": {},
   "outputs": [
    {
     "name": "stdout",
     "output_type": "stream",
     "text": [
      "The maximum timestamp is: 2022-12-31 23:47:40\n",
      "The maximum transaction amount is: 1557.150905156049\n",
      "The maximum login frequency is: 8\n",
      "The maximum session duration is: 159\n",
      "\n",
      "The minimum timestamp is: 2022-01-01 00:00:45\n",
      "The minimum transaction amount is: 0.01\n",
      "The minimum login frequency is: 1\n",
      "The minimum session duration is: 20\n"
     ]
    }
   ],
   "source": [
    "# Data Integrity Checks: \n",
    "max_timestamp = df['timestamp'].max()\n",
    "max_amount = df['amount'].max()\n",
    "max_login_frequency = df['login_frequency'].max()\n",
    "max_session_duration = df['session_duration'].max()\n",
    "\n",
    "min_timestamp = df['timestamp'].min()\n",
    "min_amount = df['amount'].min()\n",
    "min_login_frequency = df['login_frequency'].min()\n",
    "min_session_duration = df['session_duration'].min()\n",
    "\n",
    "\n",
    "print(\"The maximum timestamp is:\", max_timestamp)\n",
    "print(\"The maximum transaction amount is:\", max_amount)\n",
    "print(\"The maximum login frequency is:\", max_login_frequency)\n",
    "print(\"The maximum session duration is:\", max_session_duration)\n",
    "\n",
    "print(\"\\nThe minimum timestamp is:\", min_timestamp)\n",
    "print(\"The minimum transaction amount is:\", min_amount)\n",
    "print(\"The minimum login frequency is:\", min_login_frequency)\n",
    "print(\"The minimum session duration is:\", min_session_duration)"
   ]
  },
  {
   "cell_type": "markdown",
   "id": "b9da46b1",
   "metadata": {},
   "source": [
    "The data integrity seems to check out. The min and max timestamps indicate we have Metaverse transaction data for the full year 2022. The transaction amounts indicate a range from 0.01 up to over $1,500. The login frequencies range from one time to eight times. The session duration range from 20 min to 159 min. "
   ]
  },
  {
   "cell_type": "markdown",
   "id": "8094ea69",
   "metadata": {},
   "source": [
    "## 1.6 Distributions <a id=\"distributions\"></a>"
   ]
  },
  {
   "cell_type": "markdown",
   "id": "c9573027",
   "metadata": {},
   "source": [
    "Let's look at the distributions of the various numerical features to find out whether there are any outliers. "
   ]
  },
  {
   "cell_type": "code",
   "execution_count": 40,
   "id": "1a0728f9",
   "metadata": {},
   "outputs": [
    {
     "data": {
      "image/png": "[encoded data removed]",
      "text/plain": [
       "<Figure size 1500x1000 with 5 Axes>"
      ]
     },
     "metadata": {},
     "output_type": "display_data"
    }
   ],
   "source": [
    "# Histograms of Numerical Features: \n",
    "\n",
    "# Selecting the numerical features for histograms\n",
    "features = ['hour_of_day', 'amount', 'login_frequency', 'session_duration', 'risk_score']\n",
    "\n",
    "# Creating histograms for selected features\n",
    "plt.figure(figsize=(15, 10))\n",
    "\n",
    "for i, feature in enumerate(features):\n",
    "    plt.subplot(3, 2, i + 1)  # Create subplots in a 3x2 layout\n",
    "    plt.hist(df[feature], bins=30, alpha=0.7, color='blue')\n",
    "    plt.title(feature)\n",
    "    plt.grid(True)\n",
    "\n",
    "plt.tight_layout()\n",
    "plt.show()"
   ]
  },
  {
   "cell_type": "markdown",
   "id": "009d8040",
   "metadata": {},
   "source": [
    "- **Hour of Day**: This histogram shows a fairly uniform distribution across all hours of the day, suggesting that transaction activity is relatively constant throughout.\n",
    "- **Amount**: The distribution of the transaction amounts is roughly bell-shaped, indicating a normal distribution with most transactions clustering around a central value. There's a peak around 600 units of the simulated currency, and the frequency of transactions gradually decreases as the amount increases from this peak.\n",
    "- **Login Frequency**: This histogram indicates that lower login frequencies (1-2 times) are more common than higher frequencies. The frequency of logins drops significantly as the frequency value increases, suggesting that most users log in a few times rather than very frequently.\n",
    "- **Session Duration**: The distribution of session durations is right-skewed, meaning most transaction sessions are short, with durations clustering at the lower end of the scale. Longer sessions are less common, as indicated by the gradual decrease in frequency as session duration increases.\n",
    "- **Risk Score**: The risk score histogram shows multiple peaks, suggesting that it might be categorized or binned into specific ranges. Lower scores are more common, with notable peaks around 25 to 35. There's a significant drop in frequency as the risk score increases, indicating fewer transactions are categorized at higher risk levels.\n",
    "\n",
    "These patterns can be used later to identify anomalies or unusual patterns that might indicate fraudulent activity. "
   ]
  },
  {
   "cell_type": "markdown",
   "id": "8cd65749",
   "metadata": {},
   "source": [
    "## 1.7 Save Data <a id=\"savve_data\"></a>"
   ]
  },
  {
   "cell_type": "code",
   "execution_count": 41,
   "id": "3033fc00",
   "metadata": {},
   "outputs": [],
   "source": [
    "# Save the DataFrame to a CSV file\n",
    "df.to_csv('/Users/joshuabe/Downloads/Capstone 3 - Metaverse Fraud Prediction/metaverse_transactions_dataset_cleaned.csv', index=False)"
   ]
  }
 ],
 "metadata": {
  "kernelspec": {
   "display_name": "Python 3 (ipykernel)",
   "language": "python",
   "name": "python3"
  },
  "language_info": {
   "codemirror_mode": {
    "name": "ipython",
    "version": 3
   },
   "file_extension": ".py",
   "mimetype": "text/x-python",
   "name": "python",
   "nbconvert_exporter": "python",
   "pygments_lexer": "ipython3",
   "version": "3.11.5"
  }
 },
 "nbformat": 4,
 "nbformat_minor": 5
}
