{
 "cells": [
  {
   "cell_type": "markdown",
   "id": "5d741fbb",
   "metadata": {},
   "source": [
    "# 4 Modeling"
   ]
  },
  {
   "cell_type": "markdown",
   "id": "a99a76f1",
   "metadata": {},
   "source": [
    "## 4.1 Contents"
   ]
  },
  {
   "cell_type": "markdown",
   "id": "8d6ad9a5",
   "metadata": {},
   "source": [
    "- [4 Modeling](#modeling)\n",
    "  - [4.1 Contents](#contents)\n",
    "  - [4.2 Introduction](#introduction)\n",
    "      - [4.2.1 Objective](#objective)\n",
    "  - [4.3 Imports](#imports)\n",
    "  - [4.4 Load the Data](#dataload)\n",
    "  - [4.5 Metrics](#metrics)\n",
    "  - [4.6 Models](#models)\n",
    "     - [4.6.1 Logistic Regression](#logistic)\n",
    "     - [4.6.2 Random Forest](#randomforest)\n",
    "     - [4.6.3 Gradient Boosting](#gbm)\n",
    "     - [4.6.4 Support Vector Machines](#svm)\n",
    "   - [4.7 Hyperparameter Tuning](#hyperparameter)\n",
    "       - [4.7.1 Hyperparameter Tuning with GridSearchCV](#gridsearchcv)\n",
    "       - [4.7.2 Evaluating the Tuned Model](#tuned_eval)\n",
    "       - [4.7.3 Implementing SMOTE for Oversampling the Minority Class](#SMOTE)\n",
    "       - [4.7.4 Using Cost-Sensitive Learning](#cost_sensitive_learning)\n",
    "       - [4.7.5 Adjusting the Classification Threshold](#classification_threshold)\n",
    "       - [4.7.6 Visualizing Feature Importances](#feature_importances)\n",
    "   - [4.8 Hyperparameter Tuning on Reduced Feature Set](#tuning_reduced_feature_set)\n",
    "       - [4.8.1  Reduced Feature Set](#reduced_features)\n",
    "       - [4.8.2 Implementing SMOTE](#smote_reduced)\n",
    "       - [4.8.3 Parameter Tuning](#tuning_reduced)\n",
    "       - [4.8.4 Train Model with Best Parameters](#train_model_best_parameters)\n",
    "       - [4.8.5 Prediction and Threshold Adjustment](#threshold_adjustment)\n",
    "       - [4.8.6 Visualizing Reduced Feature Importances](#reduced_feature_importances)\n",
    "   - [4.9 Best Model](#bestmodel)\n",
    "   - [4.10 Summary](#summary)\n",
    "   - [4.11 Recommendations](#recommendations)\n",
    "   - [4.12 Further Research](#research)"
   ]
  },
  {
   "cell_type": "markdown",
   "id": "417df8ea",
   "metadata": {},
   "source": [
    "## 4.2 Introduction <a id=\"introduction\"></a>"
   ]
  },
  {
   "cell_type": "markdown",
   "id": "3155898d",
   "metadata": {},
   "source": [
    "In this fourth stage, we'll take our preprocessed data from our preprocessing notebook (stage 3) and try different models to see which model yields the best performance, and tune our hyperparameters for maximizing these results. "
   ]
  },
  {
   "cell_type": "markdown",
   "id": "6ae0023b",
   "metadata": {},
   "source": [
    "### 4.2.1 Objective <a id=\"objective\"></a>"
   ]
  },
  {
   "cell_type": "markdown",
   "id": "45146508",
   "metadata": {},
   "source": [
    "Our goal is to create and identify the optimal model that most accurately predicts fraudulent transactions in the Metaverse. We've previously conducted a thorough cleaning of our initial dataset gleaned Kaggle, explored and visualized our data, and then did some preprocessing and training for establishing a dataset ready for our models to train on. "
   ]
  },
  {
   "cell_type": "markdown",
   "id": "1a02d21f",
   "metadata": {},
   "source": [
    "## 4.3 Imports <a id=\"imports\"></a>"
   ]
  },
  {
   "cell_type": "code",
   "execution_count": 1,
   "id": "f6dba925",
   "metadata": {},
   "outputs": [
    {
     "name": "stdout",
     "output_type": "stream",
     "text": [
      "Requirement already satisfied: xgboost in /Users/joshuabe/anaconda3/lib/python3.11/site-packages (2.0.3)\n",
      "Requirement already satisfied: numpy in /Users/joshuabe/anaconda3/lib/python3.11/site-packages (from xgboost) (1.26.4)\n",
      "Requirement already satisfied: scipy in /Users/joshuabe/anaconda3/lib/python3.11/site-packages (from xgboost) (1.11.1)\n",
      "\n",
      "\u001b[1m[\u001b[0m\u001b[34;49mnotice\u001b[0m\u001b[1;39;49m]\u001b[0m\u001b[39;49m A new release of pip is available: \u001b[0m\u001b[31;49m24.0\u001b[0m\u001b[39;49m -> \u001b[0m\u001b[32;49m24.1.2\u001b[0m\n",
      "\u001b[1m[\u001b[0m\u001b[34;49mnotice\u001b[0m\u001b[1;39;49m]\u001b[0m\u001b[39;49m To update, run: \u001b[0m\u001b[32;49mpip install --upgrade pip\u001b[0m\n",
      "Note: you may need to restart the kernel to use updated packages.\n"
     ]
    }
   ],
   "source": [
    "pip install xgboost"
   ]
  },
  {
   "cell_type": "code",
   "execution_count": 2,
   "id": "d0087df4",
   "metadata": {},
   "outputs": [
    {
     "name": "stdout",
     "output_type": "stream",
     "text": [
      "Requirement already satisfied: featuretools in /Users/joshuabe/anaconda3/lib/python3.11/site-packages (1.30.0)\n",
      "Requirement already satisfied: cloudpickle>=1.5.0 in /Users/joshuabe/anaconda3/lib/python3.11/site-packages (from featuretools) (2.2.1)\n",
      "Requirement already satisfied: holidays>=0.17 in /Users/joshuabe/anaconda3/lib/python3.11/site-packages (from featuretools) (0.47)\n",
      "Requirement already satisfied: numpy>=1.25.0 in /Users/joshuabe/anaconda3/lib/python3.11/site-packages (from featuretools) (1.26.4)\n",
      "Requirement already satisfied: packaging>=20.0 in /Users/joshuabe/anaconda3/lib/python3.11/site-packages (from featuretools) (23.1)\n",
      "Requirement already satisfied: pandas>=2.0.0 in /Users/joshuabe/anaconda3/lib/python3.11/site-packages (from featuretools) (2.0.3)\n",
      "Requirement already satisfied: psutil>=5.7.0 in /Users/joshuabe/anaconda3/lib/python3.11/site-packages (from featuretools) (5.9.0)\n",
      "Requirement already satisfied: scipy>=1.10.0 in /Users/joshuabe/anaconda3/lib/python3.11/site-packages (from featuretools) (1.11.1)\n",
      "Requirement already satisfied: tqdm>=4.32.0 in /Users/joshuabe/anaconda3/lib/python3.11/site-packages (from featuretools) (4.65.0)\n",
      "Requirement already satisfied: woodwork>=0.28.0 in /Users/joshuabe/anaconda3/lib/python3.11/site-packages (from featuretools) (0.30.0)\n",
      "Requirement already satisfied: python-dateutil in /Users/joshuabe/anaconda3/lib/python3.11/site-packages (from holidays>=0.17->featuretools) (2.8.2)\n",
      "Requirement already satisfied: pytz>=2020.1 in /Users/joshuabe/anaconda3/lib/python3.11/site-packages (from pandas>=2.0.0->featuretools) (2023.3.post1)\n",
      "Requirement already satisfied: tzdata>=2022.1 in /Users/joshuabe/anaconda3/lib/python3.11/site-packages (from pandas>=2.0.0->featuretools) (2023.3)\n",
      "Requirement already satisfied: scikit-learn>=1.1.0 in /Users/joshuabe/anaconda3/lib/python3.11/site-packages (from woodwork>=0.28.0->featuretools) (1.3.0)\n",
      "Requirement already satisfied: importlib-resources>=5.10.0 in /Users/joshuabe/anaconda3/lib/python3.11/site-packages (from woodwork>=0.28.0->featuretools) (6.4.0)\n",
      "Requirement already satisfied: six>=1.5 in /Users/joshuabe/anaconda3/lib/python3.11/site-packages (from python-dateutil->holidays>=0.17->featuretools) (1.16.0)\n",
      "Requirement already satisfied: joblib>=1.1.1 in /Users/joshuabe/anaconda3/lib/python3.11/site-packages (from scikit-learn>=1.1.0->woodwork>=0.28.0->featuretools) (1.2.0)\n",
      "Requirement already satisfied: threadpoolctl>=2.0.0 in /Users/joshuabe/anaconda3/lib/python3.11/site-packages (from scikit-learn>=1.1.0->woodwork>=0.28.0->featuretools) (2.2.0)\n",
      "\n",
      "\u001b[1m[\u001b[0m\u001b[34;49mnotice\u001b[0m\u001b[1;39;49m]\u001b[0m\u001b[39;49m A new release of pip is available: \u001b[0m\u001b[31;49m24.0\u001b[0m\u001b[39;49m -> \u001b[0m\u001b[32;49m24.1.2\u001b[0m\n",
      "\u001b[1m[\u001b[0m\u001b[34;49mnotice\u001b[0m\u001b[1;39;49m]\u001b[0m\u001b[39;49m To update, run: \u001b[0m\u001b[32;49mpip install --upgrade pip\u001b[0m\n",
      "Note: you may need to restart the kernel to use updated packages.\n"
     ]
    }
   ],
   "source": [
    "pip install featuretools"
   ]
  },
  {
   "cell_type": "code",
   "execution_count": 54,
   "id": "088c27b2",
   "metadata": {},
   "outputs": [],
   "source": [
    "import warnings\n",
    "warnings.filterwarnings('ignore')\n",
    "import numpy as np \n",
    "import pandas as pd \n",
    "import matplotlib.pyplot as plt\n",
    "import os\n",
    "import seaborn as sns\n",
    "import scipy.stats as stats\n",
    "import matplotlib.ticker as tick\n",
    "import sklearn.model_selection\n",
    "\n",
    "from operator import itemgetter\n",
    "from sklearn.experimental import enable_iterative_imputer \n",
    "from sklearn.impute import IterativeImputer\n",
    "from sklearn.preprocessing import OrdinalEncoder\n",
    "from sklearn.linear_model import LogisticRegression\n",
    "from sklearn.ensemble import (GradientBoostingRegressor, GradientBoostingClassifier)\n",
    "from sklearn.ensemble import (RandomForestRegressor, RandomForestClassifier) \n",
    "from sklearn.svm import SVC\n",
    "from sklearn.tree import DecisionTreeRegressor\n",
    "import xgboost as xgb\n",
    "\n",
    "import featuretools as ft\n",
    "from sklearn import neighbors, datasets, preprocessing\n",
    "from sklearn.decomposition import PCA\n",
    "from sklearn.metrics import accuracy_score, confusion_matrix, roc_auc_score, recall_score, precision_score, f1_score\n",
    "from sklearn.preprocessing import StandardScaler\n",
    "from sklearn.preprocessing import Normalizer\n",
    "from sklearn.metrics import classification_report\n",
    "from sklearn.pipeline import make_pipeline\n",
    "from sklearn.impute import SimpleImputer\n",
    "from sklearn.feature_selection import SelectKBest, f_regression\n",
    "from sklearn.model_selection import train_test_split, cross_validate, GridSearchCV, learning_curve\n",
    "\n",
    "class style:\n",
    "   BOLD = '\\033[1m'\n",
    "   END = '\\033[0m'"
   ]
  },
  {
   "cell_type": "markdown",
   "id": "553f030c",
   "metadata": {},
   "source": [
    "## 4.4 Load the Data <a id=\"dataload\"></a>"
   ]
  },
  {
   "cell_type": "code",
   "execution_count": 55,
   "id": "b2b78237",
   "metadata": {},
   "outputs": [],
   "source": [
    "X_train = pd.read_csv('/Users/joshuabe/Downloads/Capstone 3 - Metaverse Fraud Prediction/X_train.csv')\n",
    "X_test = pd.read_csv('/Users/joshuabe/Downloads/Capstone 3 - Metaverse Fraud Prediction/X_test.csv')\n",
    "y_train = pd.read_csv('/Users/joshuabe/Downloads/Capstone 3 - Metaverse Fraud Prediction/y_train.csv')\n",
    "y_test = pd.read_csv('/Users/joshuabe/Downloads/Capstone 3 - Metaverse Fraud Prediction/y_test.csv')"
   ]
  },
  {
   "cell_type": "code",
   "execution_count": 56,
   "id": "c3569d55",
   "metadata": {},
   "outputs": [
    {
     "name": "stdout",
     "output_type": "stream",
     "text": [
      "     amount  login_frequency  session_duration  amount_per_login  \\\n",
      "0  0.294497         1.193056          0.304079         -0.575935   \n",
      "1  2.358713         1.193056          1.978468         -0.200140   \n",
      "2  0.277894        -1.339842         -1.074830          1.957815   \n",
      "3 -1.853762         0.770907          0.870416         -0.961243   \n",
      "4  0.008534         1.193056          1.412131         -0.627995   \n",
      "\n",
      "   duration_per_login  location_region_Africa  location_region_Asia  \\\n",
      "0           -0.988592                     0.0                   0.0   \n",
      "1            0.467238                     1.0                   0.0   \n",
      "2            1.152334                     0.0                   0.0   \n",
      "3           -0.121517                     0.0                   0.0   \n",
      "4           -0.025175                     0.0                   0.0   \n",
      "\n",
      "   location_region_Europe  location_region_North America  \\\n",
      "0                     1.0                            0.0   \n",
      "1                     0.0                            0.0   \n",
      "2                     0.0                            0.0   \n",
      "3                     1.0                            0.0   \n",
      "4                     0.0                            0.0   \n",
      "\n",
      "   location_region_South America  ...  month_11  month_12  is_weekend_0  \\\n",
      "0                            0.0  ...       0.0       0.0           1.0   \n",
      "1                            0.0  ...       0.0       0.0           1.0   \n",
      "2                            1.0  ...       0.0       0.0           1.0   \n",
      "3                            0.0  ...       0.0       0.0           1.0   \n",
      "4                            1.0  ...       0.0       0.0           1.0   \n",
      "\n",
      "   is_weekend_1  time_of_day_afternoon  time_of_day_evening  \\\n",
      "0           0.0                    0.0                  0.0   \n",
      "1           0.0                    0.0                  0.0   \n",
      "2           0.0                    1.0                  0.0   \n",
      "3           0.0                    0.0                  0.0   \n",
      "4           0.0                    0.0                  0.0   \n",
      "\n",
      "   time_of_day_morning  time_of_day_night  same_address_flag_0  \\\n",
      "0                  1.0                0.0                  1.0   \n",
      "1                  0.0                1.0                  1.0   \n",
      "2                  0.0                0.0                  1.0   \n",
      "3                  1.0                0.0                  1.0   \n",
      "4                  1.0                0.0                  1.0   \n",
      "\n",
      "   same_address_flag_1  \n",
      "0                  0.0  \n",
      "1                  0.0  \n",
      "2                  0.0  \n",
      "3                  0.0  \n",
      "4                  0.0  \n",
      "\n",
      "[5 rows x 48 columns]\n",
      "   fraud\n",
      "0  False\n",
      "1  False\n",
      "2  False\n",
      "3  False\n",
      "4  False\n"
     ]
    }
   ],
   "source": [
    "# Confirm correct loading\n",
    "print(X_train.head())\n",
    "print(y_train.head())"
   ]
  },
  {
   "cell_type": "markdown",
   "id": "aaacbd9e",
   "metadata": {},
   "source": [
    "## 4.5 Metrics <a id=\"metrics\"></a>"
   ]
  },
  {
   "cell_type": "markdown",
   "id": "7bdaa79e",
   "metadata": {},
   "source": [
    "Metrics Considerations: \n",
    "\n",
    "- If your system can handle a higher number of false positives (which means more transactions flagged for manual review), focusing on Recall might be more beneficial to ensure no fraudulent transactions slip through.\n",
    "- If your goal is to maintain a balance between catching frauds and not overwhelming the manual review team or system with false alerts, ROC-AUC might be more appropriate. It helps you understand at which threshold the model performs best overall, considering both false positives and false negatives."
   ]
  },
  {
   "cell_type": "markdown",
   "id": "ff0448a9",
   "metadata": {},
   "source": [
    "Our metrics will be: \n",
    "- **Accuracy**: Measures the overall correctness of the model but can be misleading if the data is imbalanced.\n",
    "- **Precision and Recall**: Especially important in fraud detection to minimize false positives (precision) and false negatives (recall). We might prioritize recall to capture as many fraudulent transactions as possible, even if it means enduring more false positives.\n",
    "- **F1 Score**: Harmonic mean of precision and recall. It's a balanced metric that is useful when you need a trade-off between precision and recall.\n",
    "- **ROC-AUC**: Measures the ability of your model to discriminate between classes. A higher AUC value indicates a better performing model.\n",
    "- **Confusion Matrix**: Provides a summary of prediction results on a classification problem. Great for visualizing the performance of an algorithm.\n",
    "     "
   ]
  },
  {
   "cell_type": "markdown",
   "id": "b22eebcb",
   "metadata": {},
   "source": [
    "These metrics will provide a comprehensive view of the model's performance, considering both the accuracy and the robustness in handling class imbalance, which is typical in fraud detection scenarios."
   ]
  },
  {
   "cell_type": "markdown",
   "id": "1a8326e6",
   "metadata": {},
   "source": [
    "## 4.6 Models <a id=\"models\"></a>"
   ]
  },
  {
   "cell_type": "markdown",
   "id": "90b391a5",
   "metadata": {},
   "source": [
    "We'll try four different models and evaluate the performance of each to find the best one. We'll also perform cross-validation to evaluate how well a model is likely to perform on unseen data by using different subsets of the training data for both training and validation. "
   ]
  },
  {
   "cell_type": "markdown",
   "id": "5362aa24",
   "metadata": {},
   "source": [
    "### 4.6.1 Logistic Regression <a id=\"logistic\"></a>"
   ]
  },
  {
   "cell_type": "markdown",
   "id": "27b05ee8",
   "metadata": {},
   "source": [
    "Logistic regression is ideal for our initial attempt due to its simplicity and efficiency. We'll then compare the performance of simpler vs more complex models incrementally. "
   ]
  },
  {
   "cell_type": "code",
   "execution_count": 39,
   "id": "c58a4c76",
   "metadata": {},
   "outputs": [
    {
     "name": "stdout",
     "output_type": "stream",
     "text": [
      "Logistic Regression Accuracy: 0.9202290076335878\n",
      "Recall: 0.0\n",
      "Confusion Matrix:\n",
      " [[14466     3]\n",
      " [ 1251     0]]\n",
      "ROC-AUC: 0.8687001880975005\n"
     ]
    }
   ],
   "source": [
    "# Initialize the Logistic Regression model\n",
    "log_reg = LogisticRegression(random_state=42)\n",
    "\n",
    "# Fit the model on the training data\n",
    "log_reg.fit(X_train, y_train.values.ravel())\n",
    "\n",
    "# Predict on the test data\n",
    "y_pred_log_reg = log_reg.predict(X_test)\n",
    "\n",
    "# Evaluate the model\n",
    "log_reg_accuracy = accuracy_score(y_test, y_pred_log_reg)\n",
    "log_reg_conf_matrix = confusion_matrix(y_test, y_pred_log_reg)\n",
    "log_reg_roc_auc = roc_auc_score(y_test, log_reg.predict_proba(X_test)[:, 1])\n",
    "log_recall = recall_score(y_test, y_pred_log_reg)\n",
    "\n",
    "print(\"Logistic Regression Accuracy:\", log_reg_accuracy)\n",
    "print(\"Recall:\", log_recall)\n",
    "print(\"Confusion Matrix:\\n\", log_reg_conf_matrix)\n",
    "print(\"ROC-AUC:\", log_reg_roc_auc)"
   ]
  },
  {
   "cell_type": "markdown",
   "id": "d0a9e67d",
   "metadata": {},
   "source": [
    "The logistic regression model achieved high accuracy of roughly 92%, with a good ROC-AUC value, but the confusion matrix indicates a failure to identify any fraudulent transactions (0 true positives). "
   ]
  },
  {
   "cell_type": "markdown",
   "id": "19233fd6",
   "metadata": {},
   "source": [
    "### 4.6.2 Random Forest <a id=\"randomforest\"></a>"
   ]
  },
  {
   "cell_type": "code",
   "execution_count": 57,
   "id": "06013e04",
   "metadata": {},
   "outputs": [
    {
     "name": "stdout",
     "output_type": "stream",
     "text": [
      "Random Forest Accuracy: 0.9179389312977099\n",
      "Recall: 0.008792965627498001\n",
      "Confusion Matrix:\n",
      " [[14419    50]\n",
      " [ 1240    11]]\n",
      "ROC-AUC: 0.8653108475967171\n"
     ]
    }
   ],
   "source": [
    "# Initialize the Random Forest model\n",
    "random_forest = RandomForestClassifier(random_state=42, n_estimators=100)\n",
    "\n",
    "# Fit the model on the training data\n",
    "random_forest.fit(X_train, y_train.values.ravel())\n",
    "\n",
    "# Predict on the test data\n",
    "y_pred_rf = random_forest.predict(X_test)\n",
    "\n",
    "# Evaluate the model\n",
    "rf_accuracy = accuracy_score(y_test, y_pred_rf)\n",
    "rf_conf_matrix = confusion_matrix(y_test, y_pred_rf)\n",
    "rf_roc_auc = roc_auc_score(y_test, random_forest.predict_proba(X_test)[:, 1])\n",
    "rf_recall = recall_score(y_test, y_pred_rf)\n",
    "\n",
    "print(\"Random Forest Accuracy:\", rf_accuracy)\n",
    "print(\"Recall:\", rf_recall)\n",
    "print(\"Confusion Matrix:\\n\", rf_conf_matrix)\n",
    "print(\"ROC-AUC:\", rf_roc_auc)"
   ]
  },
  {
   "cell_type": "markdown",
   "id": "44f8bbc2",
   "metadata": {},
   "source": [
    "The Random Forest model achieved high accuracy of close to 92%, with another solid ROC-AUC value, and is most effective thus far at capturing fraudulent cases (11 true positives). "
   ]
  },
  {
   "cell_type": "markdown",
   "id": "8281e11f",
   "metadata": {},
   "source": [
    "### 4.6.3 Gradient Boosting <a id=\"gbm\"></a>"
   ]
  },
  {
   "cell_type": "code",
   "execution_count": 41,
   "id": "4e0a9227",
   "metadata": {},
   "outputs": [
    {
     "name": "stdout",
     "output_type": "stream",
     "text": [
      "Gradient Boosting Accuracy: 0.9204198473282442\n",
      "Recall: 0.0015987210231814548\n",
      "Confusion Matrix:\n",
      " [[14467     2]\n",
      " [ 1249     2]]\n",
      "ROC-AUC: 0.8689436038424772\n"
     ]
    }
   ],
   "source": [
    "# Initialize the Gradient Boosting model\n",
    "gradient_boosting = GradientBoostingClassifier(random_state=42, n_estimators=100)\n",
    "\n",
    "# Fit the model on the training data\n",
    "gradient_boosting.fit(X_train, y_train.values.ravel())\n",
    "\n",
    "# Predict on the test data\n",
    "y_pred_gb = gradient_boosting.predict(X_test)\n",
    "\n",
    "# Evaluate the model\n",
    "gb_accuracy = accuracy_score(y_test, y_pred_gb)\n",
    "gb_conf_matrix = confusion_matrix(y_test, y_pred_gb)\n",
    "gb_roc_auc = roc_auc_score(y_test, gradient_boosting.predict_proba(X_test)[:, 1])\n",
    "gb_recall = recall_score(y_test, y_pred_gb)\n",
    "\n",
    "print(\"Gradient Boosting Accuracy:\", gb_accuracy)\n",
    "print(\"Recall:\", gb_recall)\n",
    "print(\"Confusion Matrix:\\n\", gb_conf_matrix)\n",
    "print(\"ROC-AUC:\", gb_roc_auc)"
   ]
  },
  {
   "cell_type": "markdown",
   "id": "cc56b4ea",
   "metadata": {},
   "source": [
    "Gradient Boosting has high accuracy and ROC-AUC value as well, but only identified 2 fraudulent cases (2 true positives). "
   ]
  },
  {
   "cell_type": "markdown",
   "id": "6b48f9fa",
   "metadata": {},
   "source": [
    "### 4.6.4 Support Vector Machines <a id=\"svm\"></a>"
   ]
  },
  {
   "cell_type": "code",
   "execution_count": 42,
   "id": "d2def1a1",
   "metadata": {},
   "outputs": [
    {
     "name": "stdout",
     "output_type": "stream",
     "text": [
      "SVM Accuracy: 0.9204198473282442\n",
      "Recall: 0.0\n",
      "Confusion Matrix:\n",
      " [[14469     0]\n",
      " [ 1251     0]]\n",
      "ROC-AUC: 0.8668866137306479\n"
     ]
    }
   ],
   "source": [
    "# Initialize the Support Vector Machine model\n",
    "svm = SVC(kernel='linear', probability=True, random_state=42)\n",
    "\n",
    "# Fit the model on the training data\n",
    "svm.fit(X_train, y_train.values.ravel())\n",
    "\n",
    "# Predict on the test data\n",
    "y_pred_svm = svm.predict(X_test)\n",
    "\n",
    "# Evaluate the model\n",
    "svm_accuracy = accuracy_score(y_test, y_pred_svm)\n",
    "svm_conf_matrix = confusion_matrix(y_test, y_pred_svm)\n",
    "svm_roc_auc = roc_auc_score(y_test, svm.predict_proba(X_test)[:, 1])\n",
    "svm_recall = recall_score(y_test, y_pred_svm)\n",
    "\n",
    "print(\"SVM Accuracy:\", svm_accuracy)\n",
    "print(\"Recall:\", svm_recall)\n",
    "print(\"Confusion Matrix:\\n\", svm_conf_matrix)\n",
    "print(\"ROC-AUC:\", svm_roc_auc)"
   ]
  },
  {
   "cell_type": "markdown",
   "id": "12534745",
   "metadata": {},
   "source": [
    "Similar accuracy and ROC-AUC values as the other four models, and it failed to identify any fraudulent cases (0 true positives), just like Logistic Regression. "
   ]
  },
  {
   "cell_type": "markdown",
   "id": "e42bb891",
   "metadata": {},
   "source": [
    "**Analysis:** \n",
    "\n",
    "- **Overall Accuracy**: All models show similar accuracy scores around 0.92. This suggests that they are equally capable of correctly classifying the non-fraudulent transactions.\n",
    "- **ROC-AUC**: All models also have similar ROC-AUC values, which measure the trade-off between sensitivity (true positive rate) and specificity (false positive rate). The highest is seen in Gradient Boosting at 0.8689, but the difference is marginal.\n",
    "- **Sensitivity and Specificity**: Random Forest and Gradient Boosting models managed to correctly identify some fraudulent transactions (true positives), unlike Logistic Regression and SVM, which failed to identify any fraudulent cases (0 true positives). This might indicate that ensemble methods are capturing some patterns missed by Logistic Regression and SVM."
   ]
  },
  {
   "cell_type": "markdown",
   "id": "bea62537",
   "metadata": {},
   "source": [
    "**Choosing the Best Model**: \n",
    "\n",
    "- **Random Forest seems much more effective in capturing fraudulent transactions** (11 true positives) compared to Gradient Boosting (2 true positives) and Logistic Regression or SVM (0 true positives).\n",
    "- While Random Forest shows a higher true positive rate, it also has a much higher number of false positives (50 false positives) compared to Gradient Boosting (2 false positives) and SVM or Logistic Regression (0 false positives). However, capturing more true positives in a fraud detection scenario might be more valuable than avoiding a relatively small number of false positives."
   ]
  },
  {
   "cell_type": "markdown",
   "id": "0cceac08",
   "metadata": {},
   "source": [
    "**Random Forest stands out as the best option** among the four given its balanced performance in accuracy, its ability to capture more true positives (an essential factor in fraud detection), and its competitive ROC-AUC score. It strikes a reasonable balance between sensitivity and specificity, making it particularly useful for practical applications in fraud detection where missing actual fraud cases (false negatives) can be very costly."
   ]
  },
  {
   "cell_type": "markdown",
   "id": "1e1b7508",
   "metadata": {},
   "source": [
    "## 4.7 Hyperparameter Tuning <a id=\"hyperparameter\"></a>"
   ]
  },
  {
   "cell_type": "markdown",
   "id": "27dfd527",
   "metadata": {},
   "source": [
    "We'll now proceed with hyperparameter tuning of our Random Forest model. "
   ]
  },
  {
   "cell_type": "markdown",
   "id": "b62d3088",
   "metadata": {},
   "source": [
    "### 4.7.1 Hyperparameter Tuning with GridSearchCV <a id=\"gridsearchcv\"></a>"
   ]
  },
  {
   "cell_type": "markdown",
   "id": "2e485856",
   "metadata": {},
   "source": [
    "First, let's fine-tune the Random Forest model using GridSearchCV to explore a range of parameter values. \n",
    "\n",
    "**We'll use Recall as our scoring metric** for grid search, since it focuses on the model's ability to correctly identify all positive instances (true positives). **For fraud detection, a high recall means catching more actual frauds**, even if it leads to more false positives (non-fraud transactions incorrectly labeled as fraud).\n",
    "\n",
    "This is ideal because in most fraud detection instances, the cost of missing a fraud (false negative) is much higher than the cost of flagging a legitimate transaction as fraudulent (false positive)."
   ]
  },
  {
   "cell_type": "code",
   "execution_count": 58,
   "id": "a8c712ee",
   "metadata": {
    "scrolled": true
   },
   "outputs": [
    {
     "name": "stdout",
     "output_type": "stream",
     "text": [
      "Fitting 3 folds for each of 108 candidates, totalling 324 fits\n",
      "[CV] END max_depth=None, min_samples_leaf=1, min_samples_split=5, n_estimators=100; total time=   2.0s\n",
      "[CV] END max_depth=None, min_samples_leaf=1, min_samples_split=5, n_estimators=300; total time=   5.5s\n",
      "[CV] END max_depth=None, min_samples_leaf=2, min_samples_split=2, n_estimators=200; total time=   3.5s\n",
      "[CV] END max_depth=None, min_samples_leaf=2, min_samples_split=5, n_estimators=300; total time=   5.2s\n",
      "[CV] END max_depth=None, min_samples_leaf=4, min_samples_split=2, n_estimators=200; total time=   3.6s\n",
      "[CV] END max_depth=None, min_samples_leaf=4, min_samples_split=5, n_estimators=300; total time=   5.2s\n",
      "[CV] END max_depth=10, min_samples_leaf=1, min_samples_split=2, n_estimators=300; total time=   4.1s\n",
      "[CV] END max_depth=10, min_samples_leaf=1, min_samples_split=10, n_estimators=200; total time=   2.8s\n",
      "[CV] END max_depth=10, min_samples_leaf=2, min_samples_split=5, n_estimators=100; total time=   1.4s\n",
      "[CV] END max_depth=10, min_samples_leaf=2, min_samples_split=5, n_estimators=200; total time=   2.7s\n",
      "[CV] END max_depth=10, min_samples_leaf=4, min_samples_split=2, n_estimators=100; total time=   1.4s\n",
      "[CV] END max_depth=10, min_samples_leaf=4, min_samples_split=2, n_estimators=200; total time=   2.6s\n",
      "[CV] END max_depth=10, min_samples_leaf=4, min_samples_split=10, n_estimators=100; total time=   1.4s\n",
      "[CV] END max_depth=10, min_samples_leaf=4, min_samples_split=10, n_estimators=200; total time=   2.7s\n",
      "[CV] END max_depth=20, min_samples_leaf=1, min_samples_split=2, n_estimators=300; total time=   6.0s\n",
      "[CV] END max_depth=20, min_samples_leaf=2, min_samples_split=2, n_estimators=100; total time=   1.9s\n",
      "[CV] END max_depth=20, min_samples_leaf=2, min_samples_split=2, n_estimators=300; total time=   5.7s\n",
      "[CV] END max_depth=20, min_samples_leaf=2, min_samples_split=10, n_estimators=300; total time=   5.4s\n",
      "[CV] END max_depth=20, min_samples_leaf=4, min_samples_split=5, n_estimators=300; total time=   5.3s\n",
      "[CV] END max_depth=30, min_samples_leaf=1, min_samples_split=2, n_estimators=300; total time=   6.7s\n",
      "[CV] END max_depth=30, min_samples_leaf=1, min_samples_split=10, n_estimators=300; total time=   5.8s\n",
      "Best parameters: {'max_depth': 30, 'min_samples_leaf': 1, 'min_samples_split': 2, 'n_estimators': 100}\n",
      "Best cross-validation score: 0.01\n"
     ]
    }
   ],
   "source": [
    "# Define the parameter grid\n",
    "param_grid = {\n",
    "    'n_estimators': [100, 200, 300],  # Number of trees in the forest\n",
    "    'max_depth': [None, 10, 20, 30],   # Maximum depth of the tree\n",
    "    'min_samples_split': [2, 5, 10],   # Minimum number of samples required to split an internal node\n",
    "    'min_samples_leaf': [1, 2, 4]      # Minimum number of samples required to be at a leaf node\n",
    "}\n",
    "\n",
    "# Initialize the GridSearchCV object\n",
    "grid_search = GridSearchCV(estimator=RandomForestClassifier(random_state=42), \n",
    "                           param_grid=param_grid, cv=3, scoring='recall', verbose=2, n_jobs=-1)\n",
    "\n",
    "# Fit the grid search to the data\n",
    "grid_search.fit(X_train, y_train.values.ravel())\n",
    "\n",
    "# Print the best parameters and best score\n",
    "print(\"Best parameters:\", grid_search.best_params_)\n",
    "print(\"Best cross-validation score: {:.2f}\".format(grid_search.best_score_))"
   ]
  },
  {
   "cell_type": "markdown",
   "id": "903b9b7e",
   "metadata": {},
   "source": [
    "### 4.7.2 Evaluating the Tuned Model <a id=\"tuned_eval\"></a>"
   ]
  },
  {
   "cell_type": "markdown",
   "id": "c5343e5e",
   "metadata": {},
   "source": [
    "Now that we've identified the best parameters, we'll evaluate the tuned model on the test data. "
   ]
  },
  {
   "cell_type": "markdown",
   "id": "294e10ea",
   "metadata": {},
   "source": [
    "**Refresher of Key Metrics:** \n",
    "\n",
    "- **Accuracy**: Total percentage of correctly predicted instances (both true positives and true negatives).\n",
    "- **Confusion Matrix**: Provides a visual understanding of the model performance beyond just the metrics, showing the actual numbers for true positives, true negatives, false positives, and false negatives.\n",
    "- **ROC-AUC**: How well the model distinguishes between classes; a higher AUC indicates a better performing model across all classification thresholds.\n",
    "- **Recall (Sensitivity)**: Proportion of actual positives (fraud cases) that were correctly identified, crucial for fraud detection.\n",
    "- **Precision**: Proportion of positive identifications that were actually correct, indicating the quality of positive predictions.\n",
    "- **F1 Score**: Harmonic mean of recall and precision. "
   ]
  },
  {
   "cell_type": "code",
   "execution_count": 59,
   "id": "e77f01b0",
   "metadata": {},
   "outputs": [
    {
     "name": "stdout",
     "output_type": "stream",
     "text": [
      "Confusion Matrix:\n",
      " [[14424    45]\n",
      " [ 1241    10]]\n",
      "              precision    recall  f1-score   support\n",
      "\n",
      "       False       0.92      1.00      0.96     14469\n",
      "        True       0.18      0.01      0.02      1251\n",
      "\n",
      "    accuracy                           0.92     15720\n",
      "   macro avg       0.55      0.50      0.49     15720\n",
      "weighted avg       0.86      0.92      0.88     15720\n",
      "\n",
      "Best Random Forest Accuracy: 0.9181933842239186\n",
      "Confusion Matrix:\n",
      " [[14424    45]\n",
      " [ 1241    10]]\n",
      "ROC-AUC: 0.8663399503632977\n",
      "Recall: 0.007993605115907274\n",
      "Precision: 0.18181818181818182\n",
      "F1 Score: 0.015313935681470138\n"
     ]
    }
   ],
   "source": [
    "from sklearn.metrics import confusion_matrix, classification_report\n",
    "\n",
    "# Retrieve the best model from grid search\n",
    "best_rf = grid_search.best_estimator_\n",
    "\n",
    "# Predictions\n",
    "y_pred_best_rf = best_rf.predict(X_test)\n",
    "\n",
    "# Evaluate the model\n",
    "best_rf_accuracy = accuracy_score(y_test, y_pred_best_rf)\n",
    "best_rf_conf_matrix = confusion_matrix(y_test, y_pred_best_rf)\n",
    "best_rf_roc_auc = roc_auc_score(y_test, best_rf.predict_proba(X_test)[:, 1])\n",
    "best_rf_recall = recall_score(y_test, y_pred_best_rf)\n",
    "best_rf_precision = precision_score(y_test, y_pred_best_rf)\n",
    "best_rf_f1_score = f1_score(y_test, y_pred_best_rf)\n",
    "\n",
    "# Generate the confusion matrix and classification report\n",
    "print(\"Confusion Matrix:\\n\", (confusion_matrix(y_test, y_pred_best_rf)))\n",
    "print(classification_report(y_test, y_pred_best_rf))\n",
    "\n",
    "# Print the results\n",
    "print(\"Best Random Forest Accuracy:\", best_rf_accuracy)\n",
    "print(\"Confusion Matrix:\\n\", best_rf_conf_matrix)\n",
    "print(\"ROC-AUC:\", best_rf_roc_auc)\n",
    "print(\"Recall:\", best_rf_recall)\n",
    "print(\"Precision:\", best_rf_precision)\n",
    "print(\"F1 Score:\", best_rf_f1_score)"
   ]
  },
  {
   "cell_type": "markdown",
   "id": "0a1cc9c4",
   "metadata": {},
   "source": [
    "The tuned model results in a high accuracy of nearly 92% with a strong ROC-AUC value of 0.86. Crucially, the Confusion Matrix also shows 45 true positives and just 10 false positives. This indicates the tuned model is capable of identifying fraudulent transactions. \n",
    "\n",
    "However, **the extremely low recall indicates that the model fails to identify the majority of fraudulent transactions, capturing only about 0.8% of fraud. This is a significant concern as it implies the model is not effective at detecting fraud.** In addition, Precision assesses the accuracy of the positive predictions. The Precision of 18% means that out of all transactions predicted as fraud, only about 18% actually were fraudulent. This suggests that when the model predicts fraud, it is relatively unreliable. \n",
    "\n",
    "To create a model more effective at fraud identification, I'll adjust the classification threshold, use cost-sensitive learning, and implement SMOTE technique for oversampling the minority class. "
   ]
  },
  {
   "cell_type": "markdown",
   "id": "a04fee8f",
   "metadata": {},
   "source": [
    "### 4.7.3 Implementing SMOTE for Oversampling the Minority Class <a id=\"SMOTE\"></a>"
   ]
  },
  {
   "cell_type": "markdown",
   "id": "10bbf739",
   "metadata": {},
   "source": [
    "SMOTE (Synthetic Minority Over-sampling Technique) is a technique that generates synthetic samples from the minority class. This approach helps balance the class distribution, which can improve the performance of classification algorithms."
   ]
  },
  {
   "cell_type": "code",
   "execution_count": 60,
   "id": "92758926",
   "metadata": {},
   "outputs": [
    {
     "name": "stdout",
     "output_type": "stream",
     "text": [
      "Requirement already satisfied: scikit-learn in /Users/joshuabe/anaconda3/lib/python3.11/site-packages (1.5.1)\n",
      "Requirement already satisfied: imbalanced-learn in /Users/joshuabe/anaconda3/lib/python3.11/site-packages (0.12.3)\n",
      "Requirement already satisfied: numpy>=1.19.5 in /Users/joshuabe/anaconda3/lib/python3.11/site-packages (from scikit-learn) (1.26.4)\n",
      "Requirement already satisfied: scipy>=1.6.0 in /Users/joshuabe/anaconda3/lib/python3.11/site-packages (from scikit-learn) (1.11.1)\n",
      "Requirement already satisfied: joblib>=1.2.0 in /Users/joshuabe/anaconda3/lib/python3.11/site-packages (from scikit-learn) (1.2.0)\n",
      "Requirement already satisfied: threadpoolctl>=3.1.0 in /Users/joshuabe/anaconda3/lib/python3.11/site-packages (from scikit-learn) (3.5.0)\n",
      "\n",
      "\u001b[1m[\u001b[0m\u001b[34;49mnotice\u001b[0m\u001b[1;39;49m]\u001b[0m\u001b[39;49m A new release of pip is available: \u001b[0m\u001b[31;49m24.0\u001b[0m\u001b[39;49m -> \u001b[0m\u001b[32;49m24.1.2\u001b[0m\n",
      "\u001b[1m[\u001b[0m\u001b[34;49mnotice\u001b[0m\u001b[1;39;49m]\u001b[0m\u001b[39;49m To update, run: \u001b[0m\u001b[32;49mpip install --upgrade pip\u001b[0m\n",
      "Note: you may need to restart the kernel to use updated packages.\n"
     ]
    }
   ],
   "source": [
    "pip install --upgrade scikit-learn imbalanced-learn"
   ]
  },
  {
   "cell_type": "code",
   "execution_count": 61,
   "id": "47bdd2b8",
   "metadata": {},
   "outputs": [],
   "source": [
    "from imblearn.over_sampling import SMOTE\n",
    "from sklearn.model_selection import train_test_split\n",
    "\n",
    "# Apply SMOTE to the training data\n",
    "smote = SMOTE(random_state=42)\n",
    "X_train_smote, y_train_smote = smote.fit_resample(X_train, y_train)\n",
    "\n",
    "# Now X_train_smote and y_train_smote are the oversampled data"
   ]
  },
  {
   "cell_type": "markdown",
   "id": "f73508d2",
   "metadata": {},
   "source": [
    "### 4.7.4 Using Cost-Sensitive Learning <a id=\"cost_sensitive_learning\"></a>"
   ]
  },
  {
   "cell_type": "markdown",
   "id": "4b78a981",
   "metadata": {},
   "source": [
    "Cost-sensitive learning adjusts the model to give more importance to certain classes during the training phase. For many classifiers, you can adjust the class_weight parameter to make the model more sensitive to the minority class."
   ]
  },
  {
   "cell_type": "code",
   "execution_count": 62,
   "id": "41353f8a",
   "metadata": {},
   "outputs": [
    {
     "data": {
      "text/html": [
       "<style>#sk-container-id-4 {\n",
       "  /* Definition of color scheme common for light and dark mode */\n",
       "  --sklearn-color-text: black;\n",
       "  --sklearn-color-line: gray;\n",
       "  /* Definition of color scheme for unfitted estimators */\n",
       "  --sklearn-color-unfitted-level-0: #fff5e6;\n",
       "  --sklearn-color-unfitted-level-1: #f6e4d2;\n",
       "  --sklearn-color-unfitted-level-2: #ffe0b3;\n",
       "  --sklearn-color-unfitted-level-3: chocolate;\n",
       "  /* Definition of color scheme for fitted estimators */\n",
       "  --sklearn-color-fitted-level-0: #f0f8ff;\n",
       "  --sklearn-color-fitted-level-1: #d4ebff;\n",
       "  --sklearn-color-fitted-level-2: #b3dbfd;\n",
       "  --sklearn-color-fitted-level-3: cornflowerblue;\n",
       "\n",
       "  /* Specific color for light theme */\n",
       "  --sklearn-color-text-on-default-background: var(--sg-text-color, var(--theme-code-foreground, var(--jp-content-font-color1, black)));\n",
       "  --sklearn-color-background: var(--sg-background-color, var(--theme-background, var(--jp-layout-color0, white)));\n",
       "  --sklearn-color-border-box: var(--sg-text-color, var(--theme-code-foreground, var(--jp-content-font-color1, black)));\n",
       "  --sklearn-color-icon: #696969;\n",
       "\n",
       "  @media (prefers-color-scheme: dark) {\n",
       "    /* Redefinition of color scheme for dark theme */\n",
       "    --sklearn-color-text-on-default-background: var(--sg-text-color, var(--theme-code-foreground, var(--jp-content-font-color1, white)));\n",
       "    --sklearn-color-background: var(--sg-background-color, var(--theme-background, var(--jp-layout-color0, #111)));\n",
       "    --sklearn-color-border-box: var(--sg-text-color, var(--theme-code-foreground, var(--jp-content-font-color1, white)));\n",
       "    --sklearn-color-icon: #878787;\n",
       "  }\n",
       "}\n",
       "\n",
       "#sk-container-id-4 {\n",
       "  color: var(--sklearn-color-text);\n",
       "}\n",
       "\n",
       "#sk-container-id-4 pre {\n",
       "  padding: 0;\n",
       "}\n",
       "\n",
       "#sk-container-id-4 input.sk-hidden--visually {\n",
       "  border: 0;\n",
       "  clip: rect(1px 1px 1px 1px);\n",
       "  clip: rect(1px, 1px, 1px, 1px);\n",
       "  height: 1px;\n",
       "  margin: -1px;\n",
       "  overflow: hidden;\n",
       "  padding: 0;\n",
       "  position: absolute;\n",
       "  width: 1px;\n",
       "}\n",
       "\n",
       "#sk-container-id-4 div.sk-dashed-wrapped {\n",
       "  border: 1px dashed var(--sklearn-color-line);\n",
       "  margin: 0 0.4em 0.5em 0.4em;\n",
       "  box-sizing: border-box;\n",
       "  padding-bottom: 0.4em;\n",
       "  background-color: var(--sklearn-color-background);\n",
       "}\n",
       "\n",
       "#sk-container-id-4 div.sk-container {\n",
       "  /* jupyter's `normalize.less` sets `[hidden] { display: none; }`\n",
       "     but bootstrap.min.css set `[hidden] { display: none !important; }`\n",
       "     so we also need the `!important` here to be able to override the\n",
       "     default hidden behavior on the sphinx rendered scikit-learn.org.\n",
       "     See: https://github.com/scikit-learn/scikit-learn/issues/21755 */\n",
       "  display: inline-block !important;\n",
       "  position: relative;\n",
       "}\n",
       "\n",
       "#sk-container-id-4 div.sk-text-repr-fallback {\n",
       "  display: none;\n",
       "}\n",
       "\n",
       "div.sk-parallel-item,\n",
       "div.sk-serial,\n",
       "div.sk-item {\n",
       "  /* draw centered vertical line to link estimators */\n",
       "  background-image: linear-gradient(var(--sklearn-color-text-on-default-background), var(--sklearn-color-text-on-default-background));\n",
       "  background-size: 2px 100%;\n",
       "  background-repeat: no-repeat;\n",
       "  background-position: center center;\n",
       "}\n",
       "\n",
       "/* Parallel-specific style estimator block */\n",
       "\n",
       "#sk-container-id-4 div.sk-parallel-item::after {\n",
       "  content: \"\";\n",
       "  width: 100%;\n",
       "  border-bottom: 2px solid var(--sklearn-color-text-on-default-background);\n",
       "  flex-grow: 1;\n",
       "}\n",
       "\n",
       "#sk-container-id-4 div.sk-parallel {\n",
       "  display: flex;\n",
       "  align-items: stretch;\n",
       "  justify-content: center;\n",
       "  background-color: var(--sklearn-color-background);\n",
       "  position: relative;\n",
       "}\n",
       "\n",
       "#sk-container-id-4 div.sk-parallel-item {\n",
       "  display: flex;\n",
       "  flex-direction: column;\n",
       "}\n",
       "\n",
       "#sk-container-id-4 div.sk-parallel-item:first-child::after {\n",
       "  align-self: flex-end;\n",
       "  width: 50%;\n",
       "}\n",
       "\n",
       "#sk-container-id-4 div.sk-parallel-item:last-child::after {\n",
       "  align-self: flex-start;\n",
       "  width: 50%;\n",
       "}\n",
       "\n",
       "#sk-container-id-4 div.sk-parallel-item:only-child::after {\n",
       "  width: 0;\n",
       "}\n",
       "\n",
       "/* Serial-specific style estimator block */\n",
       "\n",
       "#sk-container-id-4 div.sk-serial {\n",
       "  display: flex;\n",
       "  flex-direction: column;\n",
       "  align-items: center;\n",
       "  background-color: var(--sklearn-color-background);\n",
       "  padding-right: 1em;\n",
       "  padding-left: 1em;\n",
       "}\n",
       "\n",
       "\n",
       "/* Toggleable style: style used for estimator/Pipeline/ColumnTransformer box that is\n",
       "clickable and can be expanded/collapsed.\n",
       "- Pipeline and ColumnTransformer use this feature and define the default style\n",
       "- Estimators will overwrite some part of the style using the `sk-estimator` class\n",
       "*/\n",
       "\n",
       "/* Pipeline and ColumnTransformer style (default) */\n",
       "\n",
       "#sk-container-id-4 div.sk-toggleable {\n",
       "  /* Default theme specific background. It is overwritten whether we have a\n",
       "  specific estimator or a Pipeline/ColumnTransformer */\n",
       "  background-color: var(--sklearn-color-background);\n",
       "}\n",
       "\n",
       "/* Toggleable label */\n",
       "#sk-container-id-4 label.sk-toggleable__label {\n",
       "  cursor: pointer;\n",
       "  display: block;\n",
       "  width: 100%;\n",
       "  margin-bottom: 0;\n",
       "  padding: 0.5em;\n",
       "  box-sizing: border-box;\n",
       "  text-align: center;\n",
       "}\n",
       "\n",
       "#sk-container-id-4 label.sk-toggleable__label-arrow:before {\n",
       "  /* Arrow on the left of the label */\n",
       "  content: \"▸\";\n",
       "  float: left;\n",
       "  margin-right: 0.25em;\n",
       "  color: var(--sklearn-color-icon);\n",
       "}\n",
       "\n",
       "#sk-container-id-4 label.sk-toggleable__label-arrow:hover:before {\n",
       "  color: var(--sklearn-color-text);\n",
       "}\n",
       "\n",
       "/* Toggleable content - dropdown */\n",
       "\n",
       "#sk-container-id-4 div.sk-toggleable__content {\n",
       "  max-height: 0;\n",
       "  max-width: 0;\n",
       "  overflow: hidden;\n",
       "  text-align: left;\n",
       "  /* unfitted */\n",
       "  background-color: var(--sklearn-color-unfitted-level-0);\n",
       "}\n",
       "\n",
       "#sk-container-id-4 div.sk-toggleable__content.fitted {\n",
       "  /* fitted */\n",
       "  background-color: var(--sklearn-color-fitted-level-0);\n",
       "}\n",
       "\n",
       "#sk-container-id-4 div.sk-toggleable__content pre {\n",
       "  margin: 0.2em;\n",
       "  border-radius: 0.25em;\n",
       "  color: var(--sklearn-color-text);\n",
       "  /* unfitted */\n",
       "  background-color: var(--sklearn-color-unfitted-level-0);\n",
       "}\n",
       "\n",
       "#sk-container-id-4 div.sk-toggleable__content.fitted pre {\n",
       "  /* unfitted */\n",
       "  background-color: var(--sklearn-color-fitted-level-0);\n",
       "}\n",
       "\n",
       "#sk-container-id-4 input.sk-toggleable__control:checked~div.sk-toggleable__content {\n",
       "  /* Expand drop-down */\n",
       "  max-height: 200px;\n",
       "  max-width: 100%;\n",
       "  overflow: auto;\n",
       "}\n",
       "\n",
       "#sk-container-id-4 input.sk-toggleable__control:checked~label.sk-toggleable__label-arrow:before {\n",
       "  content: \"▾\";\n",
       "}\n",
       "\n",
       "/* Pipeline/ColumnTransformer-specific style */\n",
       "\n",
       "#sk-container-id-4 div.sk-label input.sk-toggleable__control:checked~label.sk-toggleable__label {\n",
       "  color: var(--sklearn-color-text);\n",
       "  background-color: var(--sklearn-color-unfitted-level-2);\n",
       "}\n",
       "\n",
       "#sk-container-id-4 div.sk-label.fitted input.sk-toggleable__control:checked~label.sk-toggleable__label {\n",
       "  background-color: var(--sklearn-color-fitted-level-2);\n",
       "}\n",
       "\n",
       "/* Estimator-specific style */\n",
       "\n",
       "/* Colorize estimator box */\n",
       "#sk-container-id-4 div.sk-estimator input.sk-toggleable__control:checked~label.sk-toggleable__label {\n",
       "  /* unfitted */\n",
       "  background-color: var(--sklearn-color-unfitted-level-2);\n",
       "}\n",
       "\n",
       "#sk-container-id-4 div.sk-estimator.fitted input.sk-toggleable__control:checked~label.sk-toggleable__label {\n",
       "  /* fitted */\n",
       "  background-color: var(--sklearn-color-fitted-level-2);\n",
       "}\n",
       "\n",
       "#sk-container-id-4 div.sk-label label.sk-toggleable__label,\n",
       "#sk-container-id-4 div.sk-label label {\n",
       "  /* The background is the default theme color */\n",
       "  color: var(--sklearn-color-text-on-default-background);\n",
       "}\n",
       "\n",
       "/* On hover, darken the color of the background */\n",
       "#sk-container-id-4 div.sk-label:hover label.sk-toggleable__label {\n",
       "  color: var(--sklearn-color-text);\n",
       "  background-color: var(--sklearn-color-unfitted-level-2);\n",
       "}\n",
       "\n",
       "/* Label box, darken color on hover, fitted */\n",
       "#sk-container-id-4 div.sk-label.fitted:hover label.sk-toggleable__label.fitted {\n",
       "  color: var(--sklearn-color-text);\n",
       "  background-color: var(--sklearn-color-fitted-level-2);\n",
       "}\n",
       "\n",
       "/* Estimator label */\n",
       "\n",
       "#sk-container-id-4 div.sk-label label {\n",
       "  font-family: monospace;\n",
       "  font-weight: bold;\n",
       "  display: inline-block;\n",
       "  line-height: 1.2em;\n",
       "}\n",
       "\n",
       "#sk-container-id-4 div.sk-label-container {\n",
       "  text-align: center;\n",
       "}\n",
       "\n",
       "/* Estimator-specific */\n",
       "#sk-container-id-4 div.sk-estimator {\n",
       "  font-family: monospace;\n",
       "  border: 1px dotted var(--sklearn-color-border-box);\n",
       "  border-radius: 0.25em;\n",
       "  box-sizing: border-box;\n",
       "  margin-bottom: 0.5em;\n",
       "  /* unfitted */\n",
       "  background-color: var(--sklearn-color-unfitted-level-0);\n",
       "}\n",
       "\n",
       "#sk-container-id-4 div.sk-estimator.fitted {\n",
       "  /* fitted */\n",
       "  background-color: var(--sklearn-color-fitted-level-0);\n",
       "}\n",
       "\n",
       "/* on hover */\n",
       "#sk-container-id-4 div.sk-estimator:hover {\n",
       "  /* unfitted */\n",
       "  background-color: var(--sklearn-color-unfitted-level-2);\n",
       "}\n",
       "\n",
       "#sk-container-id-4 div.sk-estimator.fitted:hover {\n",
       "  /* fitted */\n",
       "  background-color: var(--sklearn-color-fitted-level-2);\n",
       "}\n",
       "\n",
       "/* Specification for estimator info (e.g. \"i\" and \"?\") */\n",
       "\n",
       "/* Common style for \"i\" and \"?\" */\n",
       "\n",
       ".sk-estimator-doc-link,\n",
       "a:link.sk-estimator-doc-link,\n",
       "a:visited.sk-estimator-doc-link {\n",
       "  float: right;\n",
       "  font-size: smaller;\n",
       "  line-height: 1em;\n",
       "  font-family: monospace;\n",
       "  background-color: var(--sklearn-color-background);\n",
       "  border-radius: 1em;\n",
       "  height: 1em;\n",
       "  width: 1em;\n",
       "  text-decoration: none !important;\n",
       "  margin-left: 1ex;\n",
       "  /* unfitted */\n",
       "  border: var(--sklearn-color-unfitted-level-1) 1pt solid;\n",
       "  color: var(--sklearn-color-unfitted-level-1);\n",
       "}\n",
       "\n",
       ".sk-estimator-doc-link.fitted,\n",
       "a:link.sk-estimator-doc-link.fitted,\n",
       "a:visited.sk-estimator-doc-link.fitted {\n",
       "  /* fitted */\n",
       "  border: var(--sklearn-color-fitted-level-1) 1pt solid;\n",
       "  color: var(--sklearn-color-fitted-level-1);\n",
       "}\n",
       "\n",
       "/* On hover */\n",
       "div.sk-estimator:hover .sk-estimator-doc-link:hover,\n",
       ".sk-estimator-doc-link:hover,\n",
       "div.sk-label-container:hover .sk-estimator-doc-link:hover,\n",
       ".sk-estimator-doc-link:hover {\n",
       "  /* unfitted */\n",
       "  background-color: var(--sklearn-color-unfitted-level-3);\n",
       "  color: var(--sklearn-color-background);\n",
       "  text-decoration: none;\n",
       "}\n",
       "\n",
       "div.sk-estimator.fitted:hover .sk-estimator-doc-link.fitted:hover,\n",
       ".sk-estimator-doc-link.fitted:hover,\n",
       "div.sk-label-container:hover .sk-estimator-doc-link.fitted:hover,\n",
       ".sk-estimator-doc-link.fitted:hover {\n",
       "  /* fitted */\n",
       "  background-color: var(--sklearn-color-fitted-level-3);\n",
       "  color: var(--sklearn-color-background);\n",
       "  text-decoration: none;\n",
       "}\n",
       "\n",
       "/* Span, style for the box shown on hovering the info icon */\n",
       ".sk-estimator-doc-link span {\n",
       "  display: none;\n",
       "  z-index: 9999;\n",
       "  position: relative;\n",
       "  font-weight: normal;\n",
       "  right: .2ex;\n",
       "  padding: .5ex;\n",
       "  margin: .5ex;\n",
       "  width: min-content;\n",
       "  min-width: 20ex;\n",
       "  max-width: 50ex;\n",
       "  color: var(--sklearn-color-text);\n",
       "  box-shadow: 2pt 2pt 4pt #999;\n",
       "  /* unfitted */\n",
       "  background: var(--sklearn-color-unfitted-level-0);\n",
       "  border: .5pt solid var(--sklearn-color-unfitted-level-3);\n",
       "}\n",
       "\n",
       ".sk-estimator-doc-link.fitted span {\n",
       "  /* fitted */\n",
       "  background: var(--sklearn-color-fitted-level-0);\n",
       "  border: var(--sklearn-color-fitted-level-3);\n",
       "}\n",
       "\n",
       ".sk-estimator-doc-link:hover span {\n",
       "  display: block;\n",
       "}\n",
       "\n",
       "/* \"?\"-specific style due to the `<a>` HTML tag */\n",
       "\n",
       "#sk-container-id-4 a.estimator_doc_link {\n",
       "  float: right;\n",
       "  font-size: 1rem;\n",
       "  line-height: 1em;\n",
       "  font-family: monospace;\n",
       "  background-color: var(--sklearn-color-background);\n",
       "  border-radius: 1rem;\n",
       "  height: 1rem;\n",
       "  width: 1rem;\n",
       "  text-decoration: none;\n",
       "  /* unfitted */\n",
       "  color: var(--sklearn-color-unfitted-level-1);\n",
       "  border: var(--sklearn-color-unfitted-level-1) 1pt solid;\n",
       "}\n",
       "\n",
       "#sk-container-id-4 a.estimator_doc_link.fitted {\n",
       "  /* fitted */\n",
       "  border: var(--sklearn-color-fitted-level-1) 1pt solid;\n",
       "  color: var(--sklearn-color-fitted-level-1);\n",
       "}\n",
       "\n",
       "/* On hover */\n",
       "#sk-container-id-4 a.estimator_doc_link:hover {\n",
       "  /* unfitted */\n",
       "  background-color: var(--sklearn-color-unfitted-level-3);\n",
       "  color: var(--sklearn-color-background);\n",
       "  text-decoration: none;\n",
       "}\n",
       "\n",
       "#sk-container-id-4 a.estimator_doc_link.fitted:hover {\n",
       "  /* fitted */\n",
       "  background-color: var(--sklearn-color-fitted-level-3);\n",
       "}\n",
       "</style><div id=\"sk-container-id-4\" class=\"sk-top-container\"><div class=\"sk-text-repr-fallback\"><pre>RandomForestClassifier(class_weight=&#x27;balanced&#x27;, random_state=42)</pre><b>In a Jupyter environment, please rerun this cell to show the HTML representation or trust the notebook. <br />On GitHub, the HTML representation is unable to render, please try loading this page with nbviewer.org.</b></div><div class=\"sk-container\" hidden><div class=\"sk-item\"><div class=\"sk-estimator fitted sk-toggleable\"><input class=\"sk-toggleable__control sk-hidden--visually\" id=\"sk-estimator-id-11\" type=\"checkbox\" checked><label for=\"sk-estimator-id-11\" class=\"sk-toggleable__label fitted sk-toggleable__label-arrow fitted\">&nbsp;&nbsp;RandomForestClassifier<a class=\"sk-estimator-doc-link fitted\" rel=\"noreferrer\" target=\"_blank\" href=\"https://scikit-learn.org/1.5/modules/generated/sklearn.ensemble.RandomForestClassifier.html\">?<span>Documentation for RandomForestClassifier</span></a><span class=\"sk-estimator-doc-link fitted\">i<span>Fitted</span></span></label><div class=\"sk-toggleable__content fitted\"><pre>RandomForestClassifier(class_weight=&#x27;balanced&#x27;, random_state=42)</pre></div> </div></div></div></div>"
      ],
      "text/plain": [
       "RandomForestClassifier(class_weight='balanced', random_state=42)"
      ]
     },
     "execution_count": 62,
     "metadata": {},
     "output_type": "execute_result"
    }
   ],
   "source": [
    "# TRAIN THE MODEL: \n",
    "\n",
    "# Initialize the classifier with class_weight set to 'balanced'\n",
    "rf = RandomForestClassifier(random_state=42, class_weight='balanced')\n",
    "\n",
    "# Fit the model on the SMOTE-augmented training data\n",
    "rf.fit(X_train_smote, y_train_smote)"
   ]
  },
  {
   "cell_type": "markdown",
   "id": "d2140582",
   "metadata": {},
   "source": [
    "### 4.7.5 Adjusting the Classification Threshold <a id=\"classification_threshold\"></a>"
   ]
  },
  {
   "cell_type": "markdown",
   "id": "aaa62ed9",
   "metadata": {},
   "source": [
    "After training the model, instead of using the default threshold of 0.5 to classify observations as positive or negative, you adjust the threshold to improve recall, perhaps at the expense of precision or vice versa, depending on the business cost of false negatives versus false positives."
   ]
  },
  {
   "cell_type": "code",
   "execution_count": 63,
   "id": "cb40a793",
   "metadata": {},
   "outputs": [
    {
     "name": "stdout",
     "output_type": "stream",
     "text": [
      "Adjusted Confusion Matrix:\n",
      " [[10605  3864]\n",
      " [    0  1251]]\n",
      "Adjusted Recall: 1.0\n",
      "Adjusted Precision: 0.24457478005865102\n",
      "Adjusted F1 Score: 0.3930254476908577\n"
     ]
    }
   ],
   "source": [
    "import numpy as np\n",
    "from sklearn.metrics import roc_curve\n",
    "\n",
    "# Predict probabilities for the test data\n",
    "probabilities = rf.predict_proba(X_test)[:, 1]\n",
    "\n",
    "# Determine the ROC curve\n",
    "fpr, tpr, thresholds = roc_curve(y_test, probabilities)\n",
    "\n",
    "# Find the optimal threshold, this is an example to maximize tpr (recall) and minimize fpr\n",
    "optimal_idx = np.argmax(tpr - fpr)\n",
    "optimal_threshold = thresholds[optimal_idx]\n",
    "\n",
    "# Use this threshold to adjust predictions\n",
    "y_pred_adjusted = (probabilities >= optimal_threshold).astype(int)\n",
    "\n",
    "# Evaluate performance\n",
    "from sklearn.metrics import confusion_matrix, recall_score, precision_score\n",
    "print(\"Adjusted Confusion Matrix:\\n\", confusion_matrix(y_test, y_pred_adjusted))\n",
    "print(\"Adjusted Recall:\", recall_score(y_test, y_pred_adjusted))\n",
    "print(\"Adjusted Precision:\", precision_score(y_test, y_pred_adjusted))\n",
    "print(\"Adjusted F1 Score:\", f1_score(y_test, y_pred_adjusted))"
   ]
  },
  {
   "cell_type": "markdown",
   "id": "922be3f3",
   "metadata": {},
   "source": [
    "### 4.7.6  Visualizing Feature Importances <a id=\"feature_importances\"></a>"
   ]
  },
  {
   "cell_type": "markdown",
   "id": "9abc1220",
   "metadata": {},
   "source": [
    "Now, let's create a bar graph to visualize the feature importances of the tuned Random Forest model. This will provide insights into which features are most influential in predicting the output."
   ]
  },
  {
   "cell_type": "code",
   "execution_count": 64,
   "id": "99286f5f",
   "metadata": {},
   "outputs": [
    {
     "data": {
      "image/png": "[encoded data removed]",
      "text/plain": [
       "<Figure size 1200x800 with 1 Axes>"
      ]
     },
     "metadata": {},
     "output_type": "display_data"
    }
   ],
   "source": [
    "importances = rf.feature_importances_\n",
    "indices = np.argsort(importances)[::-1]\n",
    "plt.figure(figsize=(12, 8))\n",
    "plt.title('Feature Importances in Random Forest Model')\n",
    "plt.barh(range(X_train.shape[1]), importances[indices], align='center')\n",
    "plt.yticks(range(X_train.shape[1]), X_train.columns[indices])\n",
    "plt.ylabel('Feature')\n",
    "plt.xlabel('Importance')\n",
    "plt.gca().invert_yaxis()  # This inverts the y-axis so the highest values are at the top\n",
    "plt.show()"
   ]
  },
  {
   "cell_type": "markdown",
   "id": "203b9751",
   "metadata": {},
   "source": [
    "We've used the full set of 48 features for this model, but let's try reducing the feature set to only the top 10 most important features to see if performance improves. "
   ]
  },
  {
   "cell_type": "markdown",
   "id": "6f95064d",
   "metadata": {},
   "source": [
    "## 4.8 Hyperparameter Tuning on Reduced Feature Set <a id=\"tuning_reduced_feature_set\"></a>"
   ]
  },
  {
   "cell_type": "markdown",
   "id": "c562b966",
   "metadata": {},
   "source": [
    "### 4.8.1  Reduced Feature Set <a id=\"reduced_features\"></a>"
   ]
  },
  {
   "cell_type": "code",
   "execution_count": 66,
   "id": "0c042e9b",
   "metadata": {},
   "outputs": [],
   "source": [
    "# Get the indices of the top 10 features\n",
    "indices = np.argsort(importances)[::-1][:10]\n",
    "\n",
    "# Select the top 10 most important feature names\n",
    "top_features = X_train.columns[indices]\n",
    "\n",
    "# Reduce the feature set\n",
    "X_train_reduced_smote = X_train[top_features]\n",
    "X_test_reduced_smote = X_test[top_features]"
   ]
  },
  {
   "cell_type": "markdown",
   "id": "2a66d35e",
   "metadata": {},
   "source": [
    "### 4.8.2  Apply SMOTE <a id=\"smote_reduced\"></a>"
   ]
  },
  {
   "cell_type": "code",
   "execution_count": 67,
   "id": "dc7257bc",
   "metadata": {},
   "outputs": [],
   "source": [
    "# Apply SMOTE\n",
    "smote = SMOTE(random_state=42)\n",
    "X_train_reduced_smote, y_train_reduced_smote = smote.fit_resample(X_train_reduced, y_train)"
   ]
  },
  {
   "cell_type": "markdown",
   "id": "a0692fc3",
   "metadata": {},
   "source": [
    "### 4.8.3  Parameter Tuning <a id=\"tuning_reduced\"></a>"
   ]
  },
  {
   "cell_type": "code",
   "execution_count": 71,
   "id": "ba599297",
   "metadata": {},
   "outputs": [
    {
     "name": "stdout",
     "output_type": "stream",
     "text": [
      "Fitting 5 folds for each of 324 candidates, totalling 1620 fits\n",
      "Best parameters: {'max_depth': 10, 'max_features': 'sqrt', 'min_samples_leaf': 4, 'min_samples_split': 10, 'n_estimators': 300}\n",
      "Best score: 0.9985078586575271\n"
     ]
    }
   ],
   "source": [
    "# Define the parameter grid\n",
    "param_grid = {\n",
    "    'n_estimators': [100, 200, 300],\n",
    "    'max_depth': [10, 20, 30, None],\n",
    "    'min_samples_split': [2, 5, 10],\n",
    "    'min_samples_leaf': [1, 2, 4],\n",
    "    'max_features': ['auto', 'sqrt', 'log2']\n",
    "}\n",
    "\n",
    "# Initialize the GridSearchCV object\n",
    "grid_search = GridSearchCV(estimator=RandomForestClassifier(random_state=42, class_weight='balanced'),\n",
    "                           param_grid=param_grid, cv=5, verbose=1, n_jobs=-1, scoring='recall')\n",
    "\n",
    "# Fit GridSearchCV to the reduced feature set, ensuring y_train is properly formatted as a 1D array\n",
    "grid_search.fit(X_train_reduced_smote, y_train_reduced_smote.values.ravel())\n",
    "\n",
    "# Print the best parameters and the best score\n",
    "print(\"Best parameters:\", grid_search.best_params_)\n",
    "print(\"Best score:\", grid_search.best_score_)"
   ]
  },
  {
   "cell_type": "markdown",
   "id": "5bddbab0",
   "metadata": {},
   "source": [
    "### 4.8.4 Train Model with Best Parameters <a id=\"train_model_best_parameters\"></a>"
   ]
  },
  {
   "cell_type": "code",
   "execution_count": 72,
   "id": "869ab9b8",
   "metadata": {},
   "outputs": [
    {
     "data": {
      "text/html": [
       "<style>#sk-container-id-6 {\n",
       "  /* Definition of color scheme common for light and dark mode */\n",
       "  --sklearn-color-text: black;\n",
       "  --sklearn-color-line: gray;\n",
       "  /* Definition of color scheme for unfitted estimators */\n",
       "  --sklearn-color-unfitted-level-0: #fff5e6;\n",
       "  --sklearn-color-unfitted-level-1: #f6e4d2;\n",
       "  --sklearn-color-unfitted-level-2: #ffe0b3;\n",
       "  --sklearn-color-unfitted-level-3: chocolate;\n",
       "  /* Definition of color scheme for fitted estimators */\n",
       "  --sklearn-color-fitted-level-0: #f0f8ff;\n",
       "  --sklearn-color-fitted-level-1: #d4ebff;\n",
       "  --sklearn-color-fitted-level-2: #b3dbfd;\n",
       "  --sklearn-color-fitted-level-3: cornflowerblue;\n",
       "\n",
       "  /* Specific color for light theme */\n",
       "  --sklearn-color-text-on-default-background: var(--sg-text-color, var(--theme-code-foreground, var(--jp-content-font-color1, black)));\n",
       "  --sklearn-color-background: var(--sg-background-color, var(--theme-background, var(--jp-layout-color0, white)));\n",
       "  --sklearn-color-border-box: var(--sg-text-color, var(--theme-code-foreground, var(--jp-content-font-color1, black)));\n",
       "  --sklearn-color-icon: #696969;\n",
       "\n",
       "  @media (prefers-color-scheme: dark) {\n",
       "    /* Redefinition of color scheme for dark theme */\n",
       "    --sklearn-color-text-on-default-background: var(--sg-text-color, var(--theme-code-foreground, var(--jp-content-font-color1, white)));\n",
       "    --sklearn-color-background: var(--sg-background-color, var(--theme-background, var(--jp-layout-color0, #111)));\n",
       "    --sklearn-color-border-box: var(--sg-text-color, var(--theme-code-foreground, var(--jp-content-font-color1, white)));\n",
       "    --sklearn-color-icon: #878787;\n",
       "  }\n",
       "}\n",
       "\n",
       "#sk-container-id-6 {\n",
       "  color: var(--sklearn-color-text);\n",
       "}\n",
       "\n",
       "#sk-container-id-6 pre {\n",
       "  padding: 0;\n",
       "}\n",
       "\n",
       "#sk-container-id-6 input.sk-hidden--visually {\n",
       "  border: 0;\n",
       "  clip: rect(1px 1px 1px 1px);\n",
       "  clip: rect(1px, 1px, 1px, 1px);\n",
       "  height: 1px;\n",
       "  margin: -1px;\n",
       "  overflow: hidden;\n",
       "  padding: 0;\n",
       "  position: absolute;\n",
       "  width: 1px;\n",
       "}\n",
       "\n",
       "#sk-container-id-6 div.sk-dashed-wrapped {\n",
       "  border: 1px dashed var(--sklearn-color-line);\n",
       "  margin: 0 0.4em 0.5em 0.4em;\n",
       "  box-sizing: border-box;\n",
       "  padding-bottom: 0.4em;\n",
       "  background-color: var(--sklearn-color-background);\n",
       "}\n",
       "\n",
       "#sk-container-id-6 div.sk-container {\n",
       "  /* jupyter's `normalize.less` sets `[hidden] { display: none; }`\n",
       "     but bootstrap.min.css set `[hidden] { display: none !important; }`\n",
       "     so we also need the `!important` here to be able to override the\n",
       "     default hidden behavior on the sphinx rendered scikit-learn.org.\n",
       "     See: https://github.com/scikit-learn/scikit-learn/issues/21755 */\n",
       "  display: inline-block !important;\n",
       "  position: relative;\n",
       "}\n",
       "\n",
       "#sk-container-id-6 div.sk-text-repr-fallback {\n",
       "  display: none;\n",
       "}\n",
       "\n",
       "div.sk-parallel-item,\n",
       "div.sk-serial,\n",
       "div.sk-item {\n",
       "  /* draw centered vertical line to link estimators */\n",
       "  background-image: linear-gradient(var(--sklearn-color-text-on-default-background), var(--sklearn-color-text-on-default-background));\n",
       "  background-size: 2px 100%;\n",
       "  background-repeat: no-repeat;\n",
       "  background-position: center center;\n",
       "}\n",
       "\n",
       "/* Parallel-specific style estimator block */\n",
       "\n",
       "#sk-container-id-6 div.sk-parallel-item::after {\n",
       "  content: \"\";\n",
       "  width: 100%;\n",
       "  border-bottom: 2px solid var(--sklearn-color-text-on-default-background);\n",
       "  flex-grow: 1;\n",
       "}\n",
       "\n",
       "#sk-container-id-6 div.sk-parallel {\n",
       "  display: flex;\n",
       "  align-items: stretch;\n",
       "  justify-content: center;\n",
       "  background-color: var(--sklearn-color-background);\n",
       "  position: relative;\n",
       "}\n",
       "\n",
       "#sk-container-id-6 div.sk-parallel-item {\n",
       "  display: flex;\n",
       "  flex-direction: column;\n",
       "}\n",
       "\n",
       "#sk-container-id-6 div.sk-parallel-item:first-child::after {\n",
       "  align-self: flex-end;\n",
       "  width: 50%;\n",
       "}\n",
       "\n",
       "#sk-container-id-6 div.sk-parallel-item:last-child::after {\n",
       "  align-self: flex-start;\n",
       "  width: 50%;\n",
       "}\n",
       "\n",
       "#sk-container-id-6 div.sk-parallel-item:only-child::after {\n",
       "  width: 0;\n",
       "}\n",
       "\n",
       "/* Serial-specific style estimator block */\n",
       "\n",
       "#sk-container-id-6 div.sk-serial {\n",
       "  display: flex;\n",
       "  flex-direction: column;\n",
       "  align-items: center;\n",
       "  background-color: var(--sklearn-color-background);\n",
       "  padding-right: 1em;\n",
       "  padding-left: 1em;\n",
       "}\n",
       "\n",
       "\n",
       "/* Toggleable style: style used for estimator/Pipeline/ColumnTransformer box that is\n",
       "clickable and can be expanded/collapsed.\n",
       "- Pipeline and ColumnTransformer use this feature and define the default style\n",
       "- Estimators will overwrite some part of the style using the `sk-estimator` class\n",
       "*/\n",
       "\n",
       "/* Pipeline and ColumnTransformer style (default) */\n",
       "\n",
       "#sk-container-id-6 div.sk-toggleable {\n",
       "  /* Default theme specific background. It is overwritten whether we have a\n",
       "  specific estimator or a Pipeline/ColumnTransformer */\n",
       "  background-color: var(--sklearn-color-background);\n",
       "}\n",
       "\n",
       "/* Toggleable label */\n",
       "#sk-container-id-6 label.sk-toggleable__label {\n",
       "  cursor: pointer;\n",
       "  display: block;\n",
       "  width: 100%;\n",
       "  margin-bottom: 0;\n",
       "  padding: 0.5em;\n",
       "  box-sizing: border-box;\n",
       "  text-align: center;\n",
       "}\n",
       "\n",
       "#sk-container-id-6 label.sk-toggleable__label-arrow:before {\n",
       "  /* Arrow on the left of the label */\n",
       "  content: \"▸\";\n",
       "  float: left;\n",
       "  margin-right: 0.25em;\n",
       "  color: var(--sklearn-color-icon);\n",
       "}\n",
       "\n",
       "#sk-container-id-6 label.sk-toggleable__label-arrow:hover:before {\n",
       "  color: var(--sklearn-color-text);\n",
       "}\n",
       "\n",
       "/* Toggleable content - dropdown */\n",
       "\n",
       "#sk-container-id-6 div.sk-toggleable__content {\n",
       "  max-height: 0;\n",
       "  max-width: 0;\n",
       "  overflow: hidden;\n",
       "  text-align: left;\n",
       "  /* unfitted */\n",
       "  background-color: var(--sklearn-color-unfitted-level-0);\n",
       "}\n",
       "\n",
       "#sk-container-id-6 div.sk-toggleable__content.fitted {\n",
       "  /* fitted */\n",
       "  background-color: var(--sklearn-color-fitted-level-0);\n",
       "}\n",
       "\n",
       "#sk-container-id-6 div.sk-toggleable__content pre {\n",
       "  margin: 0.2em;\n",
       "  border-radius: 0.25em;\n",
       "  color: var(--sklearn-color-text);\n",
       "  /* unfitted */\n",
       "  background-color: var(--sklearn-color-unfitted-level-0);\n",
       "}\n",
       "\n",
       "#sk-container-id-6 div.sk-toggleable__content.fitted pre {\n",
       "  /* unfitted */\n",
       "  background-color: var(--sklearn-color-fitted-level-0);\n",
       "}\n",
       "\n",
       "#sk-container-id-6 input.sk-toggleable__control:checked~div.sk-toggleable__content {\n",
       "  /* Expand drop-down */\n",
       "  max-height: 200px;\n",
       "  max-width: 100%;\n",
       "  overflow: auto;\n",
       "}\n",
       "\n",
       "#sk-container-id-6 input.sk-toggleable__control:checked~label.sk-toggleable__label-arrow:before {\n",
       "  content: \"▾\";\n",
       "}\n",
       "\n",
       "/* Pipeline/ColumnTransformer-specific style */\n",
       "\n",
       "#sk-container-id-6 div.sk-label input.sk-toggleable__control:checked~label.sk-toggleable__label {\n",
       "  color: var(--sklearn-color-text);\n",
       "  background-color: var(--sklearn-color-unfitted-level-2);\n",
       "}\n",
       "\n",
       "#sk-container-id-6 div.sk-label.fitted input.sk-toggleable__control:checked~label.sk-toggleable__label {\n",
       "  background-color: var(--sklearn-color-fitted-level-2);\n",
       "}\n",
       "\n",
       "/* Estimator-specific style */\n",
       "\n",
       "/* Colorize estimator box */\n",
       "#sk-container-id-6 div.sk-estimator input.sk-toggleable__control:checked~label.sk-toggleable__label {\n",
       "  /* unfitted */\n",
       "  background-color: var(--sklearn-color-unfitted-level-2);\n",
       "}\n",
       "\n",
       "#sk-container-id-6 div.sk-estimator.fitted input.sk-toggleable__control:checked~label.sk-toggleable__label {\n",
       "  /* fitted */\n",
       "  background-color: var(--sklearn-color-fitted-level-2);\n",
       "}\n",
       "\n",
       "#sk-container-id-6 div.sk-label label.sk-toggleable__label,\n",
       "#sk-container-id-6 div.sk-label label {\n",
       "  /* The background is the default theme color */\n",
       "  color: var(--sklearn-color-text-on-default-background);\n",
       "}\n",
       "\n",
       "/* On hover, darken the color of the background */\n",
       "#sk-container-id-6 div.sk-label:hover label.sk-toggleable__label {\n",
       "  color: var(--sklearn-color-text);\n",
       "  background-color: var(--sklearn-color-unfitted-level-2);\n",
       "}\n",
       "\n",
       "/* Label box, darken color on hover, fitted */\n",
       "#sk-container-id-6 div.sk-label.fitted:hover label.sk-toggleable__label.fitted {\n",
       "  color: var(--sklearn-color-text);\n",
       "  background-color: var(--sklearn-color-fitted-level-2);\n",
       "}\n",
       "\n",
       "/* Estimator label */\n",
       "\n",
       "#sk-container-id-6 div.sk-label label {\n",
       "  font-family: monospace;\n",
       "  font-weight: bold;\n",
       "  display: inline-block;\n",
       "  line-height: 1.2em;\n",
       "}\n",
       "\n",
       "#sk-container-id-6 div.sk-label-container {\n",
       "  text-align: center;\n",
       "}\n",
       "\n",
       "/* Estimator-specific */\n",
       "#sk-container-id-6 div.sk-estimator {\n",
       "  font-family: monospace;\n",
       "  border: 1px dotted var(--sklearn-color-border-box);\n",
       "  border-radius: 0.25em;\n",
       "  box-sizing: border-box;\n",
       "  margin-bottom: 0.5em;\n",
       "  /* unfitted */\n",
       "  background-color: var(--sklearn-color-unfitted-level-0);\n",
       "}\n",
       "\n",
       "#sk-container-id-6 div.sk-estimator.fitted {\n",
       "  /* fitted */\n",
       "  background-color: var(--sklearn-color-fitted-level-0);\n",
       "}\n",
       "\n",
       "/* on hover */\n",
       "#sk-container-id-6 div.sk-estimator:hover {\n",
       "  /* unfitted */\n",
       "  background-color: var(--sklearn-color-unfitted-level-2);\n",
       "}\n",
       "\n",
       "#sk-container-id-6 div.sk-estimator.fitted:hover {\n",
       "  /* fitted */\n",
       "  background-color: var(--sklearn-color-fitted-level-2);\n",
       "}\n",
       "\n",
       "/* Specification for estimator info (e.g. \"i\" and \"?\") */\n",
       "\n",
       "/* Common style for \"i\" and \"?\" */\n",
       "\n",
       ".sk-estimator-doc-link,\n",
       "a:link.sk-estimator-doc-link,\n",
       "a:visited.sk-estimator-doc-link {\n",
       "  float: right;\n",
       "  font-size: smaller;\n",
       "  line-height: 1em;\n",
       "  font-family: monospace;\n",
       "  background-color: var(--sklearn-color-background);\n",
       "  border-radius: 1em;\n",
       "  height: 1em;\n",
       "  width: 1em;\n",
       "  text-decoration: none !important;\n",
       "  margin-left: 1ex;\n",
       "  /* unfitted */\n",
       "  border: var(--sklearn-color-unfitted-level-1) 1pt solid;\n",
       "  color: var(--sklearn-color-unfitted-level-1);\n",
       "}\n",
       "\n",
       ".sk-estimator-doc-link.fitted,\n",
       "a:link.sk-estimator-doc-link.fitted,\n",
       "a:visited.sk-estimator-doc-link.fitted {\n",
       "  /* fitted */\n",
       "  border: var(--sklearn-color-fitted-level-1) 1pt solid;\n",
       "  color: var(--sklearn-color-fitted-level-1);\n",
       "}\n",
       "\n",
       "/* On hover */\n",
       "div.sk-estimator:hover .sk-estimator-doc-link:hover,\n",
       ".sk-estimator-doc-link:hover,\n",
       "div.sk-label-container:hover .sk-estimator-doc-link:hover,\n",
       ".sk-estimator-doc-link:hover {\n",
       "  /* unfitted */\n",
       "  background-color: var(--sklearn-color-unfitted-level-3);\n",
       "  color: var(--sklearn-color-background);\n",
       "  text-decoration: none;\n",
       "}\n",
       "\n",
       "div.sk-estimator.fitted:hover .sk-estimator-doc-link.fitted:hover,\n",
       ".sk-estimator-doc-link.fitted:hover,\n",
       "div.sk-label-container:hover .sk-estimator-doc-link.fitted:hover,\n",
       ".sk-estimator-doc-link.fitted:hover {\n",
       "  /* fitted */\n",
       "  background-color: var(--sklearn-color-fitted-level-3);\n",
       "  color: var(--sklearn-color-background);\n",
       "  text-decoration: none;\n",
       "}\n",
       "\n",
       "/* Span, style for the box shown on hovering the info icon */\n",
       ".sk-estimator-doc-link span {\n",
       "  display: none;\n",
       "  z-index: 9999;\n",
       "  position: relative;\n",
       "  font-weight: normal;\n",
       "  right: .2ex;\n",
       "  padding: .5ex;\n",
       "  margin: .5ex;\n",
       "  width: min-content;\n",
       "  min-width: 20ex;\n",
       "  max-width: 50ex;\n",
       "  color: var(--sklearn-color-text);\n",
       "  box-shadow: 2pt 2pt 4pt #999;\n",
       "  /* unfitted */\n",
       "  background: var(--sklearn-color-unfitted-level-0);\n",
       "  border: .5pt solid var(--sklearn-color-unfitted-level-3);\n",
       "}\n",
       "\n",
       ".sk-estimator-doc-link.fitted span {\n",
       "  /* fitted */\n",
       "  background: var(--sklearn-color-fitted-level-0);\n",
       "  border: var(--sklearn-color-fitted-level-3);\n",
       "}\n",
       "\n",
       ".sk-estimator-doc-link:hover span {\n",
       "  display: block;\n",
       "}\n",
       "\n",
       "/* \"?\"-specific style due to the `<a>` HTML tag */\n",
       "\n",
       "#sk-container-id-6 a.estimator_doc_link {\n",
       "  float: right;\n",
       "  font-size: 1rem;\n",
       "  line-height: 1em;\n",
       "  font-family: monospace;\n",
       "  background-color: var(--sklearn-color-background);\n",
       "  border-radius: 1rem;\n",
       "  height: 1rem;\n",
       "  width: 1rem;\n",
       "  text-decoration: none;\n",
       "  /* unfitted */\n",
       "  color: var(--sklearn-color-unfitted-level-1);\n",
       "  border: var(--sklearn-color-unfitted-level-1) 1pt solid;\n",
       "}\n",
       "\n",
       "#sk-container-id-6 a.estimator_doc_link.fitted {\n",
       "  /* fitted */\n",
       "  border: var(--sklearn-color-fitted-level-1) 1pt solid;\n",
       "  color: var(--sklearn-color-fitted-level-1);\n",
       "}\n",
       "\n",
       "/* On hover */\n",
       "#sk-container-id-6 a.estimator_doc_link:hover {\n",
       "  /* unfitted */\n",
       "  background-color: var(--sklearn-color-unfitted-level-3);\n",
       "  color: var(--sklearn-color-background);\n",
       "  text-decoration: none;\n",
       "}\n",
       "\n",
       "#sk-container-id-6 a.estimator_doc_link.fitted:hover {\n",
       "  /* fitted */\n",
       "  background-color: var(--sklearn-color-fitted-level-3);\n",
       "}\n",
       "</style><div id=\"sk-container-id-6\" class=\"sk-top-container\"><div class=\"sk-text-repr-fallback\"><pre>RandomForestClassifier(max_depth=10, min_samples_leaf=4, min_samples_split=10,\n",
       "                       n_estimators=300, random_state=42)</pre><b>In a Jupyter environment, please rerun this cell to show the HTML representation or trust the notebook. <br />On GitHub, the HTML representation is unable to render, please try loading this page with nbviewer.org.</b></div><div class=\"sk-container\" hidden><div class=\"sk-item\"><div class=\"sk-estimator fitted sk-toggleable\"><input class=\"sk-toggleable__control sk-hidden--visually\" id=\"sk-estimator-id-13\" type=\"checkbox\" checked><label for=\"sk-estimator-id-13\" class=\"sk-toggleable__label fitted sk-toggleable__label-arrow fitted\">&nbsp;&nbsp;RandomForestClassifier<a class=\"sk-estimator-doc-link fitted\" rel=\"noreferrer\" target=\"_blank\" href=\"https://scikit-learn.org/1.5/modules/generated/sklearn.ensemble.RandomForestClassifier.html\">?<span>Documentation for RandomForestClassifier</span></a><span class=\"sk-estimator-doc-link fitted\">i<span>Fitted</span></span></label><div class=\"sk-toggleable__content fitted\"><pre>RandomForestClassifier(max_depth=10, min_samples_leaf=4, min_samples_split=10,\n",
       "                       n_estimators=300, random_state=42)</pre></div> </div></div></div></div>"
      ],
      "text/plain": [
       "RandomForestClassifier(max_depth=10, min_samples_leaf=4, min_samples_split=10,\n",
       "                       n_estimators=300, random_state=42)"
      ]
     },
     "execution_count": 72,
     "metadata": {},
     "output_type": "execute_result"
    }
   ],
   "source": [
    "# Train the model with cost-sensitive learning using best parameters\n",
    "model_reduced = RandomForestClassifier(**grid_search.best_params_, random_state=42)\n",
    "model_reduced.fit(X_train_reduced_smote, y_train_reduced_smote)"
   ]
  },
  {
   "cell_type": "markdown",
   "id": "9dde4b1e",
   "metadata": {},
   "source": [
    "### 4.8.5 Prediction and Threshold Adjustment <a id=\"threshold_adjustment\"></a>"
   ]
  },
  {
   "cell_type": "code",
   "execution_count": 78,
   "id": "e60774da",
   "metadata": {},
   "outputs": [
    {
     "name": "stdout",
     "output_type": "stream",
     "text": [
      "Confusion Matrix:\n",
      " [[10621  3848]\n",
      " [    2  1249]]\n",
      "Classification Report:\n",
      "               precision    recall  f1-score   support\n",
      "\n",
      "       False       1.00      0.73      0.85     14469\n",
      "        True       0.25      1.00      0.39      1251\n",
      "\n",
      "    accuracy                           0.76     15720\n",
      "   macro avg       0.62      0.87      0.62     15720\n",
      "weighted avg       0.94      0.76      0.81     15720\n",
      "\n"
     ]
    }
   ],
   "source": [
    "# Predict probabilities and adjust the threshold\n",
    "probabilities = model_reduced.predict_proba(X_test_reduced)[:, 1]\n",
    "precision, recall, thresholds = precision_recall_curve(y_test, probabilities)\n",
    "optimal_idx = np.argmax(precision * recall)  # Find the optimal trade-off point\n",
    "optimal_threshold = thresholds[optimal_idx]\n",
    "\n",
    "# Apply the optimal threshold to make final predictions\n",
    "y_pred_reduced_optimal = (probabilities >= optimal_threshold).astype(int)\n",
    "\n",
    "# Evaluate the model\n",
    "print(\"Confusion Matrix:\\n\", confusion_matrix(y_test, y_pred_reduced_optimal))\n",
    "print(\"Classification Report:\\n\", classification_report(y_test, y_pred_reduced_optimal))"
   ]
  },
  {
   "cell_type": "markdown",
   "id": "48dd69ad",
   "metadata": {},
   "source": [
    "The metrics are virtually identical to the full 48 feature set model; 25% precision, ~100% recall, and a 39% F1 Score. "
   ]
  },
  {
   "cell_type": "markdown",
   "id": "3f971a96",
   "metadata": {},
   "source": [
    "### 4.8.6  Visualizing Reduced Feature Importances <a id=\"reduced_feature_importances\"></a>"
   ]
  },
  {
   "cell_type": "code",
   "execution_count": 75,
   "id": "3d44e5d8",
   "metadata": {},
   "outputs": [
    {
     "data": {
      "image/png": "[encoded data removed]",
      "text/plain": [
       "<Figure size 1000x600 with 1 Axes>"
      ]
     },
     "metadata": {},
     "output_type": "display_data"
    }
   ],
   "source": [
    "# Visualize Feature Importances\n",
    "\n",
    "# Recalculate importances for the reduced model\n",
    "reduced_importances = model_reduced.feature_importances_\n",
    "\n",
    "# Create a DataFrame to hold feature names and their importances\n",
    "features_df = pd.DataFrame({'Features': top_features, 'Importance': reduced_importances})\n",
    "\n",
    "# Sort the DataFrame by importance in descending order\n",
    "features_df = features_df.sort_values(by='Importance', ascending=False)\n",
    "\n",
    "# Create a bar chart\n",
    "plt.figure(figsize=(10, 6))\n",
    "sns.barplot(x='Importance', y='Features', data=features_df, orient='h')\n",
    "plt.title('Top 10 Feature Importances in the Reduced Model')\n",
    "plt.xlabel('Importance')\n",
    "plt.ylabel('Features')\n",
    "plt.show()"
   ]
  },
  {
   "cell_type": "markdown",
   "id": "281d759c",
   "metadata": {},
   "source": [
    "The feature importance analysis revealed that **the five most important features for the model, by a wide margin, are: duration_per_login, amount_per_login, login_frequency, amount, and session_duration**. \n",
    "\n",
    "\n",
    "This yields a few insights: \n",
    "- **Duration Per Login**: this is of prime importance since there tends to be a slightly higher duration per login for fraudulent transactions, indicating fraudsters take their time for enacting their criminal activities. \n",
    "- **Session Duration and Login Frequency**: It's unsurprising that both are among the top five most important features, since we discovered during EDA that both display moderate negative correlations with fraud. This implies that lower login frequencies as well as lower total session durations are associated with fraud. So fraudsters login less frequently, and thus their cumulative session durations are lower than average, but they have longer session times per each individual login (hence the importance of duration per login). \n",
    "- **Amount Per Login**: We discovered during our EDA section that Amount Per Login shows a moderate positive correlation with fraud, and we now see it as among the top two most important features. This indicates that larger but less frequent transactions are associated with fraudulent behavior. "
   ]
  },
  {
   "cell_type": "markdown",
   "id": "df7a5394",
   "metadata": {},
   "source": [
    "## 4.9 Best Model <a id=\"bestmodel\"></a>"
   ]
  },
  {
   "cell_type": "markdown",
   "id": "d8048a30",
   "metadata": {},
   "source": [
    "After evaluating various models, including Logistic Regression, Random Forest, Gradient Boosting, Support Vector Machines, the model that best balances precision and recall while minimizing false negatives is the **Random Forest classifier with class weighting set to 'balanced' (10 feature set)**. Minimizing false negatives is essential in fraud prediction to ensure no fraudulent transactions slip through, and this model did the best job of this. \n",
    "\n",
    "While there were 2 false negatives that slipped through on the reduced feature set model compared to 0 false negatives for the full 48 features model, the feature-reduced model is much more interpretable than the full-featured model while having almost exactly identical metrics, so we'll opt for the reduced model. This model integrates the strengths of RandomForest and SVC with Logistic Regression as the final estimator, providing a robust solution by capturing just about all fraud cases with a reasonable rate of false positives. \n",
    "\n",
    "- **Model**: `RandomForestClassifier(class_weight='balanced', random_state=42)`\n",
    "- **Precision**: 25%\n",
    "- **Recall**: 100% (1.0)\n",
    "- **F1-Score**: 39% \n",
    "- **Confusion Matrix**:\n",
    "  - True Negatives: 10,621\n",
    "  - False Positives: 3,848\n",
    "  - False Negatives: 2\n",
    "  - True Positives: 1249\n",
    "\n",
    "This model was specifically effective due to its ability to adapt to the class imbalance inherent in the dataset, significantly improving the recall to ensure almost no fraudulent transaction is missed, which is crucial for fraud prevention systems. \n",
    "\n",
    "*However, the obvious limitation to this model is its relatively low precision, which indicates that while the model is highly effective in identifying fraudulent transactions (high recall), it also incorrectly classifies a significant number of legitimate transactions as fraudulent (high false positives). This can lead to increased operational costs and potential customer dissatisfaction due to potentially unnecessary fraud investigations.*"
   ]
  },
  {
   "cell_type": "code",
   "execution_count": 82,
   "id": "fd949e8d",
   "metadata": {},
   "outputs": [],
   "source": [
    "# Save the Best Model: \n",
    "\n",
    "import pickle\n",
    "\n",
    "model = RandomForestClassifier(class_weight='balanced', random_state=42)\n",
    "model.fit(X_train_reduced_smote, y_train_reduced_smote) \n",
    "\n",
    "# Save the model to a binary file\n",
    "with open('best_random_forest_model.pkl', 'wb') as file:\n",
    "    pickle.dump(model, file)"
   ]
  },
  {
   "cell_type": "markdown",
   "id": "05bea308",
   "metadata": {},
   "source": [
    "## 4.10 Summary <a id=\"summary\"></a>"
   ]
  },
  {
   "cell_type": "markdown",
   "id": "0343c193",
   "metadata": {},
   "source": [
    "This project set out to address the challenge of fraud detection within a highly imbalanced dataset typical of financial transaction data. Throughout the project, various machine learning techniques were employed and evaluated based on their ability to identify fraudulent transactions accurately:\n",
    "\n",
    "- **Data Preprocessing**: Included handling missing values, encoding categorical variables, and scaling numeric features.\n",
    "- **Model Evaluation**: Involved adjusting classification thresholds, applying SMOTE for dealing with class imbalance, and experimenting with both single models and advanced ensemble techniques.\n",
    "- **Performance Metrics**: Focus was given to precision, recall, and the F1-score to ensure a balanced evaluation of model performance.\n",
    "\n",
    "Despite challenges, particularly in achieving high recall without sacrificing precision, the project demonstrated comprehensive data science capabilities in tackling a complex real-world problem."
   ]
  },
  {
   "cell_type": "markdown",
   "id": "696a1d74",
   "metadata": {},
   "source": [
    "## 4.11 Recommendations <a id=\"recommendations\"></a>"
   ]
  },
  {
   "cell_type": "markdown",
   "id": "d736e213",
   "metadata": {},
   "source": [
    "Based on the modeling results and overall analysis, here are three concrete recommendations: \n",
    "\n",
    "1. **Implement Real-Time Monitoring**: Integrate the fraud prediction model into your transaction processing system to enable real-time fraud detection, allowing for immediate action on suspicious transactions, thereby reducing potential losses from delayed fraud identification.\n",
    "\n",
    "2. **Continuous Model Updates**: Regularly update the fraud prediction model with new transaction data to adapt to evolving fraud patterns and techniques, ensuring that the model remains effective over time and reduces the incidence of both false positives and missed fraud cases.\n",
    "\n",
    "3. **Enhanced Customer Verification Measures**: Based on insights from the model, especially from features heavily influencing fraud predictions, implement stronger verification processes for transactions identified as high-risk, such as two-factor authentication or manual reviews, to further safeguard against fraud."
   ]
  },
  {
   "cell_type": "markdown",
   "id": "19fd927b",
   "metadata": {},
   "source": [
    "## 4.12 Further Research <a id=\"research\"></a>"
   ]
  },
  {
   "cell_type": "markdown",
   "id": "0d7a908e",
   "metadata": {},
   "source": [
    "For future work on this project or similar projects, the following recommendations are made to enhance model performance and operational effectiveness:\n",
    "\n",
    "1. **Feature Engineering**: Explore additional features or interactions that may improve the model's ability to discriminate between classes, which would ideally increase our currently low precision to allow for a greater balance between this and recall. \n",
    "2. **Alternative Algorithms**: Investigate other algorithms known for handling imbalanced data well, such as XGBoost or LightGBM, which might offer improvements in precision.\n",
    "3. **Incremental Learning**: Consider models that support incremental learning, allowing the system to evolve as new data becomes available.\n",
    "4. **Deployment Strategy**: Develop a deployment strategy that includes real-time analysis and the ability to retrain the model periodically with new transaction data.\n",
    "5. **Cost-Benefit Analysis**: Perform a detailed cost-benefit analysis to better understand the implications of false positives versus false negatives, potentially adjusting the class weights or threshold accordingly.\n",
    "\n",
    "By following these recommendations, the fraud detection system can be further refined and better integrated into operational frameworks to reduce both the incidence and impact of financial fraud."
   ]
  }
 ],
 "metadata": {
  "kernelspec": {
   "display_name": "Python 3 (ipykernel)",
   "language": "python",
   "name": "python3"
  },
  "language_info": {
   "codemirror_mode": {
    "name": "ipython",
    "version": 3
   },
   "file_extension": ".py",
   "mimetype": "text/x-python",
   "name": "python",
   "nbconvert_exporter": "python",
   "pygments_lexer": "ipython3",
   "version": "3.11.5"
  }
 },
 "nbformat": 4,
 "nbformat_minor": 5
}
